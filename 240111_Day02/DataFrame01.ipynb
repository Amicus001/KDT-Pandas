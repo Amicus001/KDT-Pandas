{
 "cells": [
  {
   "cell_type": "markdown",
   "id": "dd47f449-4f28-4031-8c16-078042d57092",
   "metadata": {},
   "source": [
    "# [DataFrame 살펴보기]\n",
    "* 데이터를 테이블(표) 형태로 저장하는 자료구조\n",
    "* 구성 : 행 + 열\n",
    "* 생성 : pandas.Dataframe() 생성자 메서드."
   ]
  },
  {
   "cell_type": "markdown",
   "id": "20893e7a-0e52-4ad5-b0c0-7a6af6450713",
   "metadata": {},
   "source": [
    "(1) Load Module---------------------------------------------------"
   ]
  },
  {
   "cell_type": "code",
   "execution_count": 129,
   "id": "8965bae7-858c-4a73-910b-66d6dabe9c4d",
   "metadata": {},
   "outputs": [],
   "source": [
    "from pandas import DataFrame"
   ]
  },
  {
   "cell_type": "markdown",
   "id": "57e0a4d2-3ef2-4743-b374-47085d3e6e8c",
   "metadata": {},
   "source": [
    "(2) preparing data-------------------------------------"
   ]
  },
  {
   "cell_type": "code",
   "execution_count": 130,
   "id": "3357d41f-b810-4b06-90d9-357b13f31b8a",
   "metadata": {},
   "outputs": [],
   "source": [
    "data = [[11,22,33],[44,55,66]]"
   ]
  },
  {
   "cell_type": "markdown",
   "id": "64cb1cce-6efa-48a9-b9f5-1eb25ce07b13",
   "metadata": {},
   "source": [
    "(3) save as DataFrame(creating DataFrame Object)-----------------------------------"
   ]
  },
  {
   "cell_type": "code",
   "execution_count": 131,
   "id": "3f3aeaae-21b6-4d56-b551-0dd7f5dc0d4d",
   "metadata": {},
   "outputs": [
    {
     "data": {
      "text/html": [
       "<div>\n",
       "<style scoped>\n",
       "    .dataframe tbody tr th:only-of-type {\n",
       "        vertical-align: middle;\n",
       "    }\n",
       "\n",
       "    .dataframe tbody tr th {\n",
       "        vertical-align: top;\n",
       "    }\n",
       "\n",
       "    .dataframe thead th {\n",
       "        text-align: right;\n",
       "    }\n",
       "</style>\n",
       "<table border=\"1\" class=\"dataframe\">\n",
       "  <thead>\n",
       "    <tr style=\"text-align: right;\">\n",
       "      <th></th>\n",
       "      <th>0</th>\n",
       "      <th>1</th>\n",
       "      <th>2</th>\n",
       "    </tr>\n",
       "  </thead>\n",
       "  <tbody>\n",
       "    <tr>\n",
       "      <th>0</th>\n",
       "      <td>11</td>\n",
       "      <td>22</td>\n",
       "      <td>33</td>\n",
       "    </tr>\n",
       "    <tr>\n",
       "      <th>1</th>\n",
       "      <td>44</td>\n",
       "      <td>55</td>\n",
       "      <td>66</td>\n",
       "    </tr>\n",
       "  </tbody>\n",
       "</table>\n",
       "</div>"
      ],
      "text/plain": [
       "    0   1   2\n",
       "0  11  22  33\n",
       "1  44  55  66"
      ]
     },
     "execution_count": 131,
     "metadata": {},
     "output_type": "execute_result"
    }
   ],
   "source": [
    "df1 = DataFrame(data)\n",
    "df1"
   ]
  },
  {
   "cell_type": "markdown",
   "id": "3f50a3e3-3eb4-4d8d-ab0f-369f609fc24b",
   "metadata": {},
   "source": [
    "(4)reading conditions of DataFrame -> objectVariable.condition"
   ]
  },
  {
   "cell_type": "code",
   "execution_count": 132,
   "id": "0955c19b-ead4-4519-9bdf-fad75e790aa9",
   "metadata": {},
   "outputs": [
    {
     "data": {
      "text/plain": [
       "RangeIndex(start=0, stop=2, step=1)"
      ]
     },
     "execution_count": 132,
     "metadata": {},
     "output_type": "execute_result"
    }
   ],
   "source": [
    "df1.index"
   ]
  },
  {
   "cell_type": "code",
   "execution_count": 133,
   "id": "bdb0b6c6-521d-47e6-b8c7-d526c55975c2",
   "metadata": {},
   "outputs": [
    {
     "data": {
      "text/plain": [
       "RangeIndex(start=0, stop=3, step=1)"
      ]
     },
     "execution_count": 133,
     "metadata": {},
     "output_type": "execute_result"
    }
   ],
   "source": [
    "df1.columns"
   ]
  },
  {
   "cell_type": "code",
   "execution_count": 134,
   "id": "f5a6c219-7917-4aa7-b1ea-9a3ebf414e86",
   "metadata": {},
   "outputs": [
    {
     "data": {
      "text/plain": [
       "array([[11, 22, 33],\n",
       "       [44, 55, 66]], dtype=int64)"
      ]
     },
     "execution_count": 134,
     "metadata": {},
     "output_type": "execute_result"
    }
   ],
   "source": [
    "df1.values"
   ]
  },
  {
   "cell_type": "code",
   "execution_count": 135,
   "id": "9f9e2ccf-8f4f-47ce-8a56-804a1b6524c8",
   "metadata": {},
   "outputs": [
    {
     "data": {
      "text/plain": [
       "(2, 3)"
      ]
     },
     "execution_count": 135,
     "metadata": {},
     "output_type": "execute_result"
    }
   ],
   "source": [
    "df1.shape#(row, column)형, 데이터가 저장된 표 형태"
   ]
  },
  {
   "cell_type": "code",
   "execution_count": 136,
   "id": "7c70a641-fa30-4a9e-9944-db89d3185425",
   "metadata": {},
   "outputs": [
    {
     "data": {
      "text/plain": [
       "2"
      ]
     },
     "execution_count": 136,
     "metadata": {},
     "output_type": "execute_result"
    }
   ],
   "source": [
    "#데이터의 차원정보: n-dimention\n",
    "df1.ndim"
   ]
  },
  {
   "cell_type": "code",
   "execution_count": 137,
   "id": "38ab4d72-be81-470e-b7ff-7bb106629416",
   "metadata": {
    "scrolled": true
   },
   "outputs": [
    {
     "data": {
      "text/plain": [
       "0    int64\n",
       "1    int64\n",
       "2    int64\n",
       "dtype: object"
      ]
     },
     "execution_count": 137,
     "metadata": {},
     "output_type": "execute_result"
    }
   ],
   "source": [
    "df1.dtypes"
   ]
  },
  {
   "cell_type": "code",
   "execution_count": 138,
   "id": "5c2e2fa0-41d7-452e-89d0-3cec5e23d08a",
   "metadata": {},
   "outputs": [
    {
     "data": {
      "text/plain": [
       "0    int64\n",
       "1    int64\n",
       "2    int64\n",
       "dtype: object"
      ]
     },
     "execution_count": 138,
     "metadata": {},
     "output_type": "execute_result"
    }
   ],
   "source": [
    "df1.dtypes"
   ]
  },
  {
   "cell_type": "markdown",
   "id": "a4451507-8e15-4574-b8c2-15564712e535",
   "metadata": {},
   "source": [
    "(5)원소 읽기--->행과 열 지정=> 1개 원소---------------------------------------------------------------"
   ]
  },
  {
   "cell_type": "markdown",
   "id": "492f0e85-0366-4600-b289-783054705197",
   "metadata": {},
   "source": [
    "-열(column)읽기: 객체변수명(indexnumber)"
   ]
  },
  {
   "cell_type": "code",
   "execution_count": 139,
   "id": "c7353fd5-b2e4-42a2-90b3-8b2fbdb52e4c",
   "metadata": {},
   "outputs": [
    {
     "data": {
      "text/plain": [
       "0    11\n",
       "1    44\n",
       "Name: 0, dtype: int64"
      ]
     },
     "execution_count": 139,
     "metadata": {},
     "output_type": "execute_result"
    }
   ],
   "source": [
    "df1[0]"
   ]
  },
  {
   "cell_type": "markdown",
   "id": "039c58a3-8621-427e-abc9-b5020150fef2",
   "metadata": {},
   "source": [
    "change columns"
   ]
  },
  {
   "cell_type": "code",
   "execution_count": 140,
   "id": "bd6ea363-b3a3-43d8-a9dc-ba81533c0fb9",
   "metadata": {
    "scrolled": true
   },
   "outputs": [
    {
     "data": {
      "text/html": [
       "<div>\n",
       "<style scoped>\n",
       "    .dataframe tbody tr th:only-of-type {\n",
       "        vertical-align: middle;\n",
       "    }\n",
       "\n",
       "    .dataframe tbody tr th {\n",
       "        vertical-align: top;\n",
       "    }\n",
       "\n",
       "    .dataframe thead th {\n",
       "        text-align: right;\n",
       "    }\n",
       "</style>\n",
       "<table border=\"1\" class=\"dataframe\">\n",
       "  <thead>\n",
       "    <tr style=\"text-align: right;\">\n",
       "      <th></th>\n",
       "      <th>A</th>\n",
       "      <th>B</th>\n",
       "      <th>C</th>\n",
       "    </tr>\n",
       "  </thead>\n",
       "  <tbody>\n",
       "    <tr>\n",
       "      <th>0</th>\n",
       "      <td>11</td>\n",
       "      <td>22</td>\n",
       "      <td>33</td>\n",
       "    </tr>\n",
       "    <tr>\n",
       "      <th>1</th>\n",
       "      <td>44</td>\n",
       "      <td>55</td>\n",
       "      <td>66</td>\n",
       "    </tr>\n",
       "  </tbody>\n",
       "</table>\n",
       "</div>"
      ],
      "text/plain": [
       "    A   B   C\n",
       "0  11  22  33\n",
       "1  44  55  66"
      ]
     },
     "execution_count": 140,
     "metadata": {},
     "output_type": "execute_result"
    }
   ],
   "source": [
    "df1.columns = ['A','B','C']\n",
    "df1"
   ]
  },
  {
   "cell_type": "code",
   "execution_count": 141,
   "id": "8fb8935b-a5c1-4ab5-b8a6-d541a35d8cd4",
   "metadata": {
    "scrolled": true
   },
   "outputs": [
    {
     "data": {
      "text/plain": [
       "0    11\n",
       "1    44\n",
       "Name: A, dtype: int64"
      ]
     },
     "execution_count": 141,
     "metadata": {},
     "output_type": "execute_result"
    }
   ],
   "source": [
    "df1.A"
   ]
  },
  {
   "cell_type": "markdown",
   "id": "3647d166-368a-425c-8c19-295ac60b23b6",
   "metadata": {},
   "source": [
    "#df1.columns = [0] #ERROR, Columns에서는 적용할 수 없음"
   ]
  },
  {
   "cell_type": "code",
   "execution_count": 142,
   "id": "ecef8c74-9555-4cca-9cc7-71bff970a932",
   "metadata": {},
   "outputs": [],
   "source": [
    "#df1.0 #Column Lable을 바꿨을 때에는 번호(정수) 레이블은 호출할 수 없음"
   ]
  },
  {
   "cell_type": "markdown",
   "id": "5caefab0-cdc4-4258-944c-2e869a72624b",
   "metadata": {},
   "source": [
    "- row(행) 읽기 :\n",
    "\n",
    "* 위치 인덱스로 읽기: 객체변수명.iloc[index]\n",
    "* lable인덱스로 읽기: 객체변수명.loc[index]"
   ]
  },
  {
   "cell_type": "code",
   "execution_count": 143,
   "id": "4f7ac1e3-55bf-4ba2-98ab-0d75875d43a8",
   "metadata": {},
   "outputs": [
    {
     "ename": "ValueError",
     "evalue": "Length mismatch: Expected axis has 2 elements, new values have 3 elements",
     "output_type": "error",
     "traceback": [
      "\u001b[1;31m---------------------------------------------------------------------------\u001b[0m",
      "\u001b[1;31mValueError\u001b[0m                                Traceback (most recent call last)",
      "Cell \u001b[1;32mIn[143], line 1\u001b[0m\n\u001b[1;32m----> 1\u001b[0m df1\u001b[38;5;241m.\u001b[39mindex \u001b[38;5;241m=\u001b[39m [\u001b[38;5;124m'\u001b[39m\u001b[38;5;124mone\u001b[39m\u001b[38;5;124m'\u001b[39m, \u001b[38;5;124m'\u001b[39m\u001b[38;5;124mtwo\u001b[39m\u001b[38;5;124m'\u001b[39m, \u001b[38;5;124m'\u001b[39m\u001b[38;5;124mthree\u001b[39m\u001b[38;5;124m'\u001b[39m]\n",
      "File \u001b[1;32m~\\anaconda3\\envs\\My_38\\lib\\site-packages\\pandas\\core\\generic.py:6002\u001b[0m, in \u001b[0;36mNDFrame.__setattr__\u001b[1;34m(self, name, value)\u001b[0m\n\u001b[0;32m   6000\u001b[0m \u001b[38;5;28;01mtry\u001b[39;00m:\n\u001b[0;32m   6001\u001b[0m     \u001b[38;5;28mobject\u001b[39m\u001b[38;5;241m.\u001b[39m\u001b[38;5;21m__getattribute__\u001b[39m(\u001b[38;5;28mself\u001b[39m, name)\n\u001b[1;32m-> 6002\u001b[0m     \u001b[38;5;28;01mreturn\u001b[39;00m \u001b[38;5;28;43mobject\u001b[39;49m\u001b[38;5;241;43m.\u001b[39;49m\u001b[38;5;21;43m__setattr__\u001b[39;49m\u001b[43m(\u001b[49m\u001b[38;5;28;43mself\u001b[39;49m\u001b[43m,\u001b[49m\u001b[43m \u001b[49m\u001b[43mname\u001b[49m\u001b[43m,\u001b[49m\u001b[43m \u001b[49m\u001b[43mvalue\u001b[49m\u001b[43m)\u001b[49m\n\u001b[0;32m   6003\u001b[0m \u001b[38;5;28;01mexcept\u001b[39;00m \u001b[38;5;167;01mAttributeError\u001b[39;00m:\n\u001b[0;32m   6004\u001b[0m     \u001b[38;5;28;01mpass\u001b[39;00m\n",
      "File \u001b[1;32m~\\anaconda3\\envs\\My_38\\lib\\site-packages\\pandas\\_libs\\properties.pyx:69\u001b[0m, in \u001b[0;36mpandas._libs.properties.AxisProperty.__set__\u001b[1;34m()\u001b[0m\n",
      "File \u001b[1;32m~\\anaconda3\\envs\\My_38\\lib\\site-packages\\pandas\\core\\generic.py:730\u001b[0m, in \u001b[0;36mNDFrame._set_axis\u001b[1;34m(self, axis, labels)\u001b[0m\n\u001b[0;32m    725\u001b[0m \u001b[38;5;250m\u001b[39m\u001b[38;5;124;03m\"\"\"\u001b[39;00m\n\u001b[0;32m    726\u001b[0m \u001b[38;5;124;03mThis is called from the cython code when we set the `index` attribute\u001b[39;00m\n\u001b[0;32m    727\u001b[0m \u001b[38;5;124;03mdirectly, e.g. `series.index = [1, 2, 3]`.\u001b[39;00m\n\u001b[0;32m    728\u001b[0m \u001b[38;5;124;03m\"\"\"\u001b[39;00m\n\u001b[0;32m    729\u001b[0m labels \u001b[38;5;241m=\u001b[39m ensure_index(labels)\n\u001b[1;32m--> 730\u001b[0m \u001b[38;5;28;43mself\u001b[39;49m\u001b[38;5;241;43m.\u001b[39;49m\u001b[43m_mgr\u001b[49m\u001b[38;5;241;43m.\u001b[39;49m\u001b[43mset_axis\u001b[49m\u001b[43m(\u001b[49m\u001b[43maxis\u001b[49m\u001b[43m,\u001b[49m\u001b[43m \u001b[49m\u001b[43mlabels\u001b[49m\u001b[43m)\u001b[49m\n\u001b[0;32m    731\u001b[0m \u001b[38;5;28mself\u001b[39m\u001b[38;5;241m.\u001b[39m_clear_item_cache()\n",
      "File \u001b[1;32m~\\anaconda3\\envs\\My_38\\lib\\site-packages\\pandas\\core\\internals\\managers.py:225\u001b[0m, in \u001b[0;36mBaseBlockManager.set_axis\u001b[1;34m(self, axis, new_labels)\u001b[0m\n\u001b[0;32m    223\u001b[0m \u001b[38;5;28;01mdef\u001b[39;00m \u001b[38;5;21mset_axis\u001b[39m(\u001b[38;5;28mself\u001b[39m, axis: AxisInt, new_labels: Index) \u001b[38;5;241m-\u001b[39m\u001b[38;5;241m>\u001b[39m \u001b[38;5;28;01mNone\u001b[39;00m:\n\u001b[0;32m    224\u001b[0m     \u001b[38;5;66;03m# Caller is responsible for ensuring we have an Index object.\u001b[39;00m\n\u001b[1;32m--> 225\u001b[0m     \u001b[38;5;28;43mself\u001b[39;49m\u001b[38;5;241;43m.\u001b[39;49m\u001b[43m_validate_set_axis\u001b[49m\u001b[43m(\u001b[49m\u001b[43maxis\u001b[49m\u001b[43m,\u001b[49m\u001b[43m \u001b[49m\u001b[43mnew_labels\u001b[49m\u001b[43m)\u001b[49m\n\u001b[0;32m    226\u001b[0m     \u001b[38;5;28mself\u001b[39m\u001b[38;5;241m.\u001b[39maxes[axis] \u001b[38;5;241m=\u001b[39m new_labels\n",
      "File \u001b[1;32m~\\anaconda3\\envs\\My_38\\lib\\site-packages\\pandas\\core\\internals\\base.py:70\u001b[0m, in \u001b[0;36mDataManager._validate_set_axis\u001b[1;34m(self, axis, new_labels)\u001b[0m\n\u001b[0;32m     67\u001b[0m     \u001b[38;5;28;01mpass\u001b[39;00m\n\u001b[0;32m     69\u001b[0m \u001b[38;5;28;01melif\u001b[39;00m new_len \u001b[38;5;241m!=\u001b[39m old_len:\n\u001b[1;32m---> 70\u001b[0m     \u001b[38;5;28;01mraise\u001b[39;00m \u001b[38;5;167;01mValueError\u001b[39;00m(\n\u001b[0;32m     71\u001b[0m         \u001b[38;5;124mf\u001b[39m\u001b[38;5;124m\"\u001b[39m\u001b[38;5;124mLength mismatch: Expected axis has \u001b[39m\u001b[38;5;132;01m{\u001b[39;00mold_len\u001b[38;5;132;01m}\u001b[39;00m\u001b[38;5;124m elements, new \u001b[39m\u001b[38;5;124m\"\u001b[39m\n\u001b[0;32m     72\u001b[0m         \u001b[38;5;124mf\u001b[39m\u001b[38;5;124m\"\u001b[39m\u001b[38;5;124mvalues have \u001b[39m\u001b[38;5;132;01m{\u001b[39;00mnew_len\u001b[38;5;132;01m}\u001b[39;00m\u001b[38;5;124m elements\u001b[39m\u001b[38;5;124m\"\u001b[39m\n\u001b[0;32m     73\u001b[0m     )\n",
      "\u001b[1;31mValueError\u001b[0m: Length mismatch: Expected axis has 2 elements, new values have 3 elements"
     ]
    }
   ],
   "source": [
    "df1.index = ['one', 'two', 'three']"
   ]
  },
  {
   "cell_type": "code",
   "execution_count": null,
   "id": "b826bb0d-a791-478e-9870-f00db6a9e0a7",
   "metadata": {},
   "outputs": [],
   "source": [
    "df1"
   ]
  },
  {
   "cell_type": "code",
   "execution_count": null,
   "id": "275ee8f3-0210-496f-9c62-983e2392df9b",
   "metadata": {},
   "outputs": [],
   "source": [
    "df1.loc['one' ] "
   ]
  },
  {
   "cell_type": "code",
   "execution_count": null,
   "id": "ad58ae1f-24e9-4b16-a9f7-2dd2e6b119b7",
   "metadata": {},
   "outputs": [],
   "source": [
    "df1.iloc[0]"
   ]
  },
  {
   "cell_type": "markdown",
   "id": "67fc3303-b3b1-4dbd-8645-ac9ea02ab98d",
   "metadata": {},
   "source": [
    "(6) 모든 원소를 한 번에 한 개씩만 출력하기"
   ]
  },
  {
   "cell_type": "markdown",
   "id": "4497bbb6-0107-4071-bac6-02e7ec842b37",
   "metadata": {},
   "source": [
    "*객체변수명.iloc[행 인덱스, 열 인덱스]/객체변수명.loc[행레이블, 열인덱스/열레이블]"
   ]
  },
  {
   "cell_type": "code",
   "execution_count": null,
   "id": "4d5e4278-8583-4122-93aa-784e3753d708",
   "metadata": {},
   "outputs": [],
   "source": [
    "df1.iloc[0,0], df1.iloc[0,2], df1.iloc[1,0], df1.iloc[1,2]"
   ]
  },
  {
   "cell_type": "code",
   "execution_count": null,
   "id": "2a2d7964-385c-4825-a9ee-da3f9d8fbfee",
   "metadata": {},
   "outputs": [],
   "source": []
  },
  {
   "cell_type": "code",
   "execution_count": null,
   "id": "09d5d0fc-5ec4-4c6c-bd51-b2f324b23b46",
   "metadata": {},
   "outputs": [],
   "source": [
    "#컬럼 이름 변경 = 객체변수명.columns = new colomn name\n",
    "df1.columns = ['A', 'B', 'C']\n",
    "df1"
   ]
  },
  {
   "cell_type": "code",
   "execution_count": null,
   "id": "260e84a2-a674-4f40-a34e-149b9695e1f9",
   "metadata": {},
   "outputs": [],
   "source": [
    "df1. loc['one','B'], df1.loc['two','C']"
   ]
  },
  {
   "cell_type": "code",
   "execution_count": null,
   "id": "ee51227a-2195-45e3-98d3-e7240904a5ac",
   "metadata": {},
   "outputs": [],
   "source": [
    "df1.iloc[0,1], df1.iloc[1,2]"
   ]
  },
  {
   "cell_type": "code",
   "execution_count": null,
   "id": "86260240-6a3c-4a0c-8f61-c4545a8073d9",
   "metadata": {},
   "outputs": [],
   "source": [
    "zero = df1.iloc[0]\n",
    "zero"
   ]
  },
  {
   "cell_type": "code",
   "execution_count": null,
   "id": "5d48498b-15ce-4433-9bcb-daf3be880107",
   "metadata": {},
   "outputs": [],
   "source": [
    "b = df1['B']\n",
    "b"
   ]
  },
  {
   "cell_type": "code",
   "execution_count": null,
   "id": "58cc585d-2236-4c7a-9f9f-7e9e36547a58",
   "metadata": {},
   "outputs": [],
   "source": [
    "df1.index, df1.columns"
   ]
  },
  {
   "cell_type": "code",
   "execution_count": null,
   "id": "e027a847-e3b6-41a0-bc5d-11e04e4704ba",
   "metadata": {},
   "outputs": [],
   "source": [
    "df1.shape  #얘 어떻게 생김? 몇 열 몇 행임?"
   ]
  },
  {
   "cell_type": "markdown",
   "id": "cf108446-5696-4f72-b4a5-81e1111f31af",
   "metadata": {},
   "source": [
    "- iloc를 이용한 모든 원소 출력-> 행, 열의 번호"
   ]
  },
  {
   "cell_type": "code",
   "execution_count": null,
   "id": "cd259705-e689-42ba-9c9d-4785710967b1",
   "metadata": {},
   "outputs": [],
   "source": [
    "for row in range(df1.shape[0]):\n",
    "    print(row)\n",
    "    for col in range(df1.shape[1]):\n",
    "        print(row, col, df1.iloc[row,col])"
   ]
  },
  {
   "cell_type": "markdown",
   "id": "fcf552d4-7cb7-486f-b4c3-49f071433b3b",
   "metadata": {},
   "source": [
    "- loc를 활용한 모든 원소 출력-> 행 레이블, 열 레이블(이름)"
   ]
  },
  {
   "cell_type": "code",
   "execution_count": null,
   "id": "c5b503eb-b50f-4d1f-9baf-40d9831fe00e",
   "metadata": {},
   "outputs": [],
   "source": [
    "df1.index,df1.columns"
   ]
  },
  {
   "cell_type": "code",
   "execution_count": null,
   "id": "d4375d66-bf1e-48ed-bb31-c613f45ec136",
   "metadata": {},
   "outputs": [],
   "source": [
    "for row in df1.index:\n",
    "    print(row)\n",
    "    for col in df1.columns:\n",
    "        print('----', col, df1.loc[row,col])"
   ]
  },
  {
   "cell_type": "code",
   "execution_count": null,
   "id": "0630443c-7c7d-454c-8e20-af278aaa3602",
   "metadata": {},
   "outputs": [],
   "source": []
  },
  {
   "cell_type": "markdown",
   "id": "8c1f08eb-fa07-448e-b4c5-aaecbf44973b",
   "metadata": {},
   "source": [
    "###[문제] one, three 행 선택 후 저장"
   ]
  },
  {
   "cell_type": "code",
   "execution_count": null,
   "id": "67ae827f-5b38-454f-b38c-f339f14ffdc0",
   "metadata": {},
   "outputs": [],
   "source": [
    "one= df1.index[1]\n",
    "one"
   ]
  },
  {
   "cell_type": "code",
   "execution_count": null,
   "id": "c782b658-d110-489f-9051-5b0bba8ad029",
   "metadata": {},
   "outputs": [],
   "source": [
    "dataFrame13 = df1.loc[['one',['three']]"
   ]
  },
  {
   "cell_type": "code",
   "execution_count": null,
   "id": "7be4a8ee-9428-44f3-b7a4-8ec8155b24ff",
   "metadata": {},
   "outputs": [],
   "source": []
  }
 ],
 "metadata": {
  "kernelspec": {
   "display_name": "Python 3 (ipykernel)",
   "language": "python",
   "name": "python3"
  },
  "language_info": {
   "codemirror_mode": {
    "name": "ipython",
    "version": 3
   },
   "file_extension": ".py",
   "mimetype": "text/x-python",
   "name": "python",
   "nbconvert_exporter": "python",
   "pygments_lexer": "ipython3",
   "version": "3.8.18"
  }
 },
 "nbformat": 4,
 "nbformat_minor": 5
}
