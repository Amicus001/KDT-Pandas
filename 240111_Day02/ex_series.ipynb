{
 "cells": [
  {
   "cell_type": "markdown",
   "id": "6dc40433-e798-4be6-9ba1-242061dfcda8",
   "metadata": {},
   "source": [
    "# /h1시리즈 살펴보기/h1 \n",
    "\n",
    "# -판다스에서 데이터를 저장하는 자료 구조 중 하나\n",
    "# -동일한 타입의 데이터를 연속된 메모리공간에 저장함\n",
    "# -index + data 형\n",
    "# -생성: Series()생성자 메소드\n",
    "\n",
    "# #1모듈 로딩\n",
    "\n",
    "import pandas as pd:\n",
    "\n",
    "###2 시리즈 객체 생성\n",
    "#객체 생성에 사용되는 메서드 ; 생성자(constructor)\n",
    "#데이터타입과 동일한 이름의 메서드 -> Series()\n",
    "\n",
    "sr = pd.Series([11,22,33])"
   ]
  },
  {
   "cell_type": "markdown",
   "id": "2fccf887-0c77-4dcc-affc-c29ffac0bd2f",
   "metadata": {},
   "source": [
    "시리즈 객체의 속성(attributes)/필드(field) 살펴보기\n",
    "*기본: data, index, dtype\n",
    "*읽기: 개체변수명.속성명\n",
    "*쓰기: 객체변수명.속성명 = 새로운 데이터(모든 속성이 가능하지는 않음!!!!!)"
   ]
  },
  {
   "cell_type": "code",
   "execution_count": 15,
   "id": "b2842cea-e81d-48ec-947c-ccee2497925f",
   "metadata": {},
   "outputs": [
    {
     "ename": "SyntaxError",
     "evalue": "invalid syntax (1798628253.py, line 2)",
     "output_type": "error",
     "traceback": [
      "\u001b[1;36m  Cell \u001b[1;32mIn[15], line 2\u001b[1;36m\u001b[0m\n\u001b[1;33m    import pandas as pd:\u001b[0m\n\u001b[1;37m                       ^\u001b[0m\n\u001b[1;31mSyntaxError\u001b[0m\u001b[1;31m:\u001b[0m invalid syntax\n"
     ]
    }
   ],
   "source": [
    "#현재 시리즈 객체에 저장된 인덱스 속성 확인\n",
    "import pandas as pd:\n",
    "sr = pd.Series()\n",
    "sr.index"
   ]
  },
  {
   "cell_type": "code",
   "execution_count": 3,
   "id": "da353829-c0dd-49dc-a28c-59f4257c319e",
   "metadata": {},
   "outputs": [
    {
     "ename": "NameError",
     "evalue": "name 'sr' is not defined",
     "output_type": "error",
     "traceback": [
      "\u001b[1;31m---------------------------------------------------------------------------\u001b[0m",
      "\u001b[1;31mNameError\u001b[0m                                 Traceback (most recent call last)",
      "Cell \u001b[1;32mIn[3], line 1\u001b[0m\n\u001b[1;32m----> 1\u001b[0m \u001b[43msr\u001b[49m\u001b[38;5;241m.\u001b[39mvalues\n",
      "\u001b[1;31mNameError\u001b[0m: name 'sr' is not defined"
     ]
    }
   ],
   "source": [
    "sr.values\n",
    "#현재 시리즈 객체에 저장된 데이터(값) 확인\n"
   ]
  },
  {
   "cell_type": "code",
   "execution_count": 4,
   "id": "891191ef-5123-439a-b1be-9d2b5daa6ddf",
   "metadata": {},
   "outputs": [
    {
     "ename": "NameError",
     "evalue": "name 'sr' is not defined",
     "output_type": "error",
     "traceback": [
      "\u001b[1;31m---------------------------------------------------------------------------\u001b[0m",
      "\u001b[1;31mNameError\u001b[0m                                 Traceback (most recent call last)",
      "Cell \u001b[1;32mIn[4], line 2\u001b[0m\n\u001b[0;32m      1\u001b[0m \u001b[38;5;66;03m#시리즈 객체의 인덱스 변경\u001b[39;00m\n\u001b[1;32m----> 2\u001b[0m \u001b[43msr\u001b[49m\u001b[38;5;241m.\u001b[39mindex\u001b[38;5;241m=\u001b[39m[\u001b[38;5;241m100\u001b[39m,\u001b[38;5;241m200\u001b[39m,\u001b[38;5;241m300\u001b[39m]\n",
      "\u001b[1;31mNameError\u001b[0m: name 'sr' is not defined"
     ]
    }
   ],
   "source": [
    "#시리즈 객체의 인덱스 변경\n",
    "sr.index=[100,200,300]  \n"
   ]
  },
  {
   "cell_type": "code",
   "execution_count": 12,
   "id": "d3ae4fe7-d140-419e-b3ae-daa71904d2e6",
   "metadata": {},
   "outputs": [
    {
     "ename": "NameError",
     "evalue": "name 'sr' is not defined",
     "output_type": "error",
     "traceback": [
      "\u001b[1;31m---------------------------------------------------------------------------\u001b[0m",
      "\u001b[1;31mNameError\u001b[0m                                 Traceback (most recent call last)",
      "Cell \u001b[1;32mIn[12], line 1\u001b[0m\n\u001b[1;32m----> 1\u001b[0m \u001b[38;5;28;01mfor\u001b[39;00m idx \u001b[38;5;129;01min\u001b[39;00m \u001b[43msr\u001b[49m\u001b[38;5;241m.\u001b[39mindex:\n\u001b[0;32m      2\u001b[0m     \u001b[38;5;28mprint\u001b[39m(idx,sr[idx])\n",
      "\u001b[1;31mNameError\u001b[0m: name 'sr' is not defined"
     ]
    }
   ],
   "source": [
    "for idx in sr.index:\n",
    "    print(idx,sr[idx])"
   ]
  },
  {
   "cell_type": "code",
   "execution_count": null,
   "id": "36ed7965-4fc1-403b-8bd8-d67d230b245f",
   "metadata": {},
   "outputs": [],
   "source": []
  },
  {
   "cell_type": "code",
   "execution_count": 13,
   "id": "3156732c-c226-4c8f-b137-e75911362e6f",
   "metadata": {},
   "outputs": [
    {
     "ename": "NameError",
     "evalue": "name 'sr' is not defined",
     "output_type": "error",
     "traceback": [
      "\u001b[1;31m---------------------------------------------------------------------------\u001b[0m",
      "\u001b[1;31mNameError\u001b[0m                                 Traceback (most recent call last)",
      "Cell \u001b[1;32mIn[13], line 1\u001b[0m\n\u001b[1;32m----> 1\u001b[0m \u001b[43msr\u001b[49m\u001b[38;5;241m.\u001b[39mindex \u001b[38;5;241m=\u001b[39m [\u001b[38;5;124m'\u001b[39m\u001b[38;5;124m1\u001b[39m\u001b[38;5;124m'\u001b[39m, \u001b[38;5;124m'\u001b[39m\u001b[38;5;124m2\u001b[39m\u001b[38;5;124m'\u001b[39m, \u001b[38;5;124m'\u001b[39m\u001b[38;5;124m3\u001b[39m\u001b[38;5;124m'\u001b[39m]\n\u001b[0;32m      2\u001b[0m sr\n",
      "\u001b[1;31mNameError\u001b[0m: name 'sr' is not defined"
     ]
    }
   ],
   "source": [
    "sr.index = ['1', '2', '3']\n",
    "sr"
   ]
  },
  {
   "cell_type": "markdown",
   "id": "78ca9f5e-d2f9-46c8-b47e-83a888c2b715",
   "metadata": {},
   "source": [
    "values 속성은 속성방식으로 변경이 불가함\n",
    "\n",
    "4. 시리즈 객체의 요소 데이터/값 제어\n",
    "    *읽기: 객체 변수명[인덱스]\n",
    "   "
   ]
  },
  {
   "cell_type": "code",
   "execution_count": null,
   "id": "0ede0f7a-5b86-4bd4-a889-bfe1ddfbd7af",
   "metadata": {},
   "outputs": [],
   "source": [
    "sr['1'], sr[0]"
   ]
  }
 ],
 "metadata": {
  "kernelspec": {
   "display_name": "Python 3 (ipykernel)",
   "language": "python",
   "name": "python3"
  },
  "language_info": {
   "codemirror_mode": {
    "name": "ipython",
    "version": 3
   },
   "file_extension": ".py",
   "mimetype": "text/x-python",
   "name": "python",
   "nbconvert_exporter": "python",
   "pygments_lexer": "ipython3",
   "version": "3.8.18"
  }
 },
 "nbformat": 4,
 "nbformat_minor": 5
}
