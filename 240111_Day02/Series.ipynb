{
 "cells": [
  {
   "cell_type": "markdown",
   "id": "ae9764be-8385-4fde-a93b-00566357e6d8",
   "metadata": {},
   "source": [
    "###Series 객체 원소 인덱싱 & 슬라이싱"
   ]
  },
  {
   "cell_type": "markdown",
   "id": "ae0e4aca-94e1-46ce-8b39-5f4fdcb2843e",
   "metadata": {},
   "source": [
    "(1) - load module-----------------------------------------"
   ]
  },
  {
   "cell_type": "code",
   "execution_count": 1,
   "id": "80ad1df0-1b5d-40cc-b032-4939924d9615",
   "metadata": {},
   "outputs": [],
   "source": [
    "from pandas import Series"
   ]
  },
  {
   "cell_type": "markdown",
   "id": "4085bb5f-564d-4304-b483-4ecadc7403bd",
   "metadata": {},
   "source": [
    "(2) - Data ready------------------------------"
   ]
  },
  {
   "cell_type": "code",
   "execution_count": 2,
   "id": "148da503-a6f9-49f4-8c08-a60c89674bfe",
   "metadata": {},
   "outputs": [],
   "source": [
    "datas = {'name' : 'hong', 'age':12, 'job':'thief'}"
   ]
  },
  {
   "cell_type": "markdown",
   "id": "b4e30414-5b27-4bae-8cb9-0e272bbabb09",
   "metadata": {},
   "source": [
    "(3) -Series Object Create---------------"
   ]
  },
  {
   "cell_type": "code",
   "execution_count": 3,
   "id": "38dac4e2-eaae-41f7-8d8f-b6bbd6d8f596",
   "metadata": {},
   "outputs": [],
   "source": [
    "sr1 = Series(datas)"
   ]
  },
  {
   "cell_type": "code",
   "execution_count": 4,
   "id": "8bdd45bc-d1a8-4ddc-8a3a-37c6f7ee2c86",
   "metadata": {},
   "outputs": [
    {
     "data": {
      "text/plain": [
       "12"
      ]
     },
     "execution_count": 4,
     "metadata": {},
     "output_type": "execute_result"
    }
   ],
   "source": [
    "sr1['age']"
   ]
  },
  {
   "cell_type": "markdown",
   "id": "2ce135fb-88b1-4887-83e3-8549791185f8",
   "metadata": {},
   "source": [
    "(3) read element by indexing------------------------"
   ]
  },
  {
   "cell_type": "code",
   "execution_count": 5,
   "id": "b66a8aca-0e54-4f40-b2e2-b1627e7a007f",
   "metadata": {},
   "outputs": [
    {
     "data": {
      "text/plain": [
       "(12, 12, Index(['name', 'age', 'job'], dtype='object'))"
      ]
     },
     "execution_count": 5,
     "metadata": {},
     "output_type": "execute_result"
    }
   ],
   "source": [
    "sr1['age'], sr1[1], sr1.index"
   ]
  },
  {
   "cell_type": "markdown",
   "id": "7cb44227-c374-4b33-b2ba-9b416c5965f7",
   "metadata": {},
   "source": [
    "read 2 elements"
   ]
  },
  {
   "cell_type": "code",
   "execution_count": null,
   "id": "038860f1-eed7-44b0-b78e-711a2910566c",
   "metadata": {},
   "outputs": [],
   "source": []
  },
  {
   "cell_type": "code",
   "execution_count": 10,
   "id": "6a0d2635-4d3b-412b-bc3e-428d014ad081",
   "metadata": {},
   "outputs": [
    {
     "ename": "SyntaxError",
     "evalue": "invalid syntax (3778473741.py, line 2)",
     "output_type": "error",
     "traceback": [
      "\u001b[1;36m  Cell \u001b[1;32mIn[10], line 2\u001b[1;36m\u001b[0m\n\u001b[1;33m    sr1['name'], sr1['job'] sr1[0], sr1[2], type(sr1[0])\u001b[0m\n\u001b[1;37m                            ^\u001b[0m\n\u001b[1;31mSyntaxError\u001b[0m\u001b[1;31m:\u001b[0m invalid syntax\n"
     ]
    }
   ],
   "source": [
    "#read name, job->as elements\n",
    "sr1['name'], sr1['job'] sr1[0], sr1[2], type(sr1[0])"
   ]
  },
  {
   "cell_type": "code",
   "execution_count": 12,
   "id": "ffd68210-b4a4-44cb-8942-a0927bcbedfa",
   "metadata": {},
   "outputs": [
    {
     "data": {
      "text/plain": [
       "(pandas.core.series.Series,\n",
       " name     hong\n",
       " job     thief\n",
       " dtype: object)"
      ]
     },
     "execution_count": 12,
     "metadata": {},
     "output_type": "execute_result"
    }
   ],
   "source": [
    "#read name, job data ->as list\n",
    "\n",
    "ret=sr1[['name','job']]\n",
    "ret2 =sr1[[0,2]]\n",
    "type(ret),ret"
   ]
  },
  {
   "cell_type": "code",
   "execution_count": 14,
   "id": "2fede11d-a772-452f-ac7c-8349d82eb763",
   "metadata": {},
   "outputs": [
    {
     "data": {
      "text/plain": [
       "name    hong\n",
       "age       12\n",
       "dtype: object"
      ]
     },
     "execution_count": 14,
     "metadata": {},
     "output_type": "execute_result"
    }
   ],
   "source": [
    "#read elements by slicing (By location index)\n",
    "sr1 [:2]"
   ]
  },
  {
   "cell_type": "code",
   "execution_count": 15,
   "id": "493f8be9-a054-4e84-9dbc-02084cd530fc",
   "metadata": {},
   "outputs": [],
   "source": [
    "#slicing by lable index\n",
    "\n",
    "sr1['name']"
   ]
  },
  {
   "cell_type": "code",
   "execution_count": null,
   "id": "b2005eba-90ca-4d84-9f67-00433b69a20c",
   "metadata": {},
   "outputs": [],
   "source": []
  }
 ],
 "metadata": {
  "kernelspec": {
   "display_name": "Python 3 (ipykernel)",
   "language": "python",
   "name": "python3"
  },
  "language_info": {
   "codemirror_mode": {
    "name": "ipython",
    "version": 3
   },
   "file_extension": ".py",
   "mimetype": "text/x-python",
   "name": "python",
   "nbconvert_exporter": "python",
   "pygments_lexer": "ipython3",
   "version": "3.8.18"
  }
 },
 "nbformat": 4,
 "nbformat_minor": 5
}
