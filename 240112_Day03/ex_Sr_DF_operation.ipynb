{
 "cells": [
  {
   "cell_type": "markdown",
   "id": "49657b78-3bc7-48e5-8f5c-a3907f1cfe7d",
   "metadata": {},
   "source": [
    "## [Series Data Operation]"
   ]
  },
  {
   "cell_type": "markdown",
   "id": "e259c9c4-d18c-43db-8cc5-6cc17f3d2092",
   "metadata": {},
   "source": [
    "- (1). Load Module"
   ]
  },
  {
   "cell_type": "code",
   "execution_count": 2,
   "id": "6756ed9d-e8b5-4ebf-abe0-715dbefd9a1b",
   "metadata": {},
   "outputs": [],
   "source": [
    "import pandas as pd\n",
    "import numpy as np"
   ]
  },
  {
   "cell_type": "markdown",
   "id": "2ccefe35-e00c-4503-a3fc-9657d472c06a",
   "metadata": {},
   "source": [
    "- (2). Prepare Data"
   ]
  },
  {
   "cell_type": "code",
   "execution_count": 3,
   "id": "90c98cbc-ae62-4d73-a8e2-6d773093517c",
   "metadata": {},
   "outputs": [],
   "source": [
    "data = [5, 7, np.nan, 9, 11]"
   ]
  },
  {
   "cell_type": "markdown",
   "id": "8b7d5487-e781-4bd9-81e9-93e58553e453",
   "metadata": {},
   "source": [
    "- (3). Save Data: 1차원 데이터로 Series에 저장\n"
   ]
  },
  {
   "cell_type": "code",
   "execution_count": 4,
   "id": "d39f483b-6ebf-4cad-8ddc-e3771a63dc9f",
   "metadata": {},
   "outputs": [],
   "source": [
    "sr = pd.Series(data)"
   ]
  },
  {
   "cell_type": "markdown",
   "id": "0133b933-423a-425d-be46-c18c5f6405a0",
   "metadata": {},
   "source": [
    "- (4) Check Data"
   ]
  },
  {
   "cell_type": "code",
   "execution_count": 5,
   "id": "dcb135a4-c0a1-4a0a-833e-b3ac7d203830",
   "metadata": {},
   "outputs": [
    {
     "data": {
      "text/plain": [
       "(RangeIndex(start=0, stop=5, step=1), (5,), 1, dtype('float64'))"
      ]
     },
     "execution_count": 5,
     "metadata": {},
     "output_type": "execute_result"
    }
   ],
   "source": [
    "sr.index, sr.shape, sr.ndim, sr.dtype"
   ]
  },
  {
   "cell_type": "code",
   "execution_count": 6,
   "id": "71e8f5d6-853a-45d9-a24f-5ac9c8063016",
   "metadata": {},
   "outputs": [
    {
     "data": {
      "text/plain": [
       "array([ 5.,  7., nan,  9., 11.])"
      ]
     },
     "execution_count": 6,
     "metadata": {},
     "output_type": "execute_result"
    }
   ],
   "source": [
    "sr.values"
   ]
  },
  {
   "cell_type": "markdown",
   "id": "69b52711-6f17-4930-b27d-ef32622d47fa",
   "metadata": {},
   "source": [
    "(5) 연산 수행: Series 객체  -  연산자 - 숫자"
   ]
  },
  {
   "cell_type": "raw",
   "id": "900ec263-779d-4b16-a8f1-e6d4b8db8c0e",
   "metadata": {},
   "source": []
  },
  {
   "cell_type": "code",
   "execution_count": 7,
   "id": "2302b290-4c7d-4a4e-9147-dad0e69cea95",
   "metadata": {},
   "outputs": [
    {
     "data": {
      "text/plain": [
       "0    10.0\n",
       "1    12.0\n",
       "2     NaN\n",
       "3    14.0\n",
       "4    16.0\n",
       "dtype: float64"
      ]
     },
     "execution_count": 7,
     "metadata": {},
     "output_type": "execute_result"
    }
   ],
   "source": [
    "sr + 5"
   ]
  },
  {
   "cell_type": "code",
   "execution_count": 8,
   "id": "6e8553d8-feb7-4068-a793-667f76d28b6e",
   "metadata": {},
   "outputs": [
    {
     "data": {
      "text/plain": [
       "0    0.0\n",
       "1    2.0\n",
       "2    NaN\n",
       "3    4.0\n",
       "4    6.0\n",
       "dtype: float64"
      ]
     },
     "execution_count": 8,
     "metadata": {},
     "output_type": "execute_result"
    }
   ],
   "source": [
    "sr - 5"
   ]
  },
  {
   "cell_type": "code",
   "execution_count": 9,
   "id": "f1226d94-ab07-4a02-8dc9-fd78fd935c7c",
   "metadata": {},
   "outputs": [
    {
     "data": {
      "text/plain": [
       "0    25.0\n",
       "1    35.0\n",
       "2     NaN\n",
       "3    45.0\n",
       "4    55.0\n",
       "dtype: float64"
      ]
     },
     "execution_count": 9,
     "metadata": {},
     "output_type": "execute_result"
    }
   ],
   "source": [
    "sr * 5"
   ]
  },
  {
   "cell_type": "code",
   "execution_count": 10,
   "id": "8fcf5214-b959-451e-82d7-57d6daca9c39",
   "metadata": {},
   "outputs": [
    {
     "data": {
      "text/plain": [
       "0    1.0\n",
       "1    1.4\n",
       "2    NaN\n",
       "3    1.8\n",
       "4    2.2\n",
       "dtype: float64"
      ]
     },
     "execution_count": 10,
     "metadata": {},
     "output_type": "execute_result"
    }
   ],
   "source": [
    "sr / 5"
   ]
  },
  {
   "cell_type": "code",
   "execution_count": 11,
   "id": "971c2afe-d0c1-4401-8152-ab7b9e323af1",
   "metadata": {},
   "outputs": [
    {
     "data": {
      "text/plain": [
       "0    1.0\n",
       "1    1.0\n",
       "2    NaN\n",
       "3    1.0\n",
       "4    2.0\n",
       "dtype: float64"
      ]
     },
     "execution_count": 11,
     "metadata": {},
     "output_type": "execute_result"
    }
   ],
   "source": [
    "sr // 5"
   ]
  },
  {
   "cell_type": "code",
   "execution_count": 12,
   "id": "bb0836f7-1d0f-4aae-9a67-c870dd2cb3c0",
   "metadata": {},
   "outputs": [
    {
     "data": {
      "text/plain": [
       "0    0.0\n",
       "1    2.0\n",
       "2    NaN\n",
       "3    4.0\n",
       "4    1.0\n",
       "dtype: float64"
      ]
     },
     "execution_count": 12,
     "metadata": {},
     "output_type": "execute_result"
    }
   ],
   "source": [
    "sr%5"
   ]
  },
  {
   "cell_type": "code",
   "execution_count": 13,
   "id": "3dfca7be-0347-418b-b102-f1321175978a",
   "metadata": {},
   "outputs": [
    {
     "data": {
      "text/plain": [
       "0    False\n",
       "1     True\n",
       "2    False\n",
       "3     True\n",
       "4     True\n",
       "dtype: bool"
      ]
     },
     "execution_count": 13,
     "metadata": {},
     "output_type": "execute_result"
    }
   ],
   "source": [
    "sr > 5"
   ]
  },
  {
   "cell_type": "code",
   "execution_count": 20,
   "id": "295e023f-e0be-47fc-9f79-f47a485d8d18",
   "metadata": {},
   "outputs": [
    {
     "data": {
      "text/plain": [
       "0     True\n",
       "1     True\n",
       "2    False\n",
       "3     True\n",
       "4    False\n",
       "dtype: bool"
      ]
     },
     "execution_count": 20,
     "metadata": {},
     "output_type": "execute_result"
    }
   ],
   "source": [
    "sr<10"
   ]
  },
  {
   "cell_type": "markdown",
   "id": "b303440e-53b4-4281-9a9b-6ee8f4170313",
   "metadata": {},
   "source": [
    "- 논리 연산=> &: and연산, |: or 연산, ~: not 연산"
   ]
  },
  {
   "cell_type": "code",
   "execution_count": 21,
   "id": "4a3cba33-1402-4fd6-9d5b-279ef380043b",
   "metadata": {},
   "outputs": [
    {
     "data": {
      "text/plain": [
       "0    False\n",
       "1     True\n",
       "2    False\n",
       "3     True\n",
       "4    False\n",
       "dtype: bool"
      ]
     },
     "execution_count": 21,
     "metadata": {},
     "output_type": "execute_result"
    }
   ],
   "source": [
    "(sr>5) & (sr<10)"
   ]
  },
  {
   "cell_type": "code",
   "execution_count": 22,
   "id": "4c958e07-3bf7-4fd6-abce-6e8fe063e946",
   "metadata": {},
   "outputs": [
    {
     "data": {
      "text/plain": [
       "0     True\n",
       "1     True\n",
       "2    False\n",
       "3     True\n",
       "4     True\n",
       "dtype: bool"
      ]
     },
     "execution_count": 22,
     "metadata": {},
     "output_type": "execute_result"
    }
   ],
   "source": [
    "(sr>5)|(sr<10)"
   ]
  },
  {
   "cell_type": "code",
   "execution_count": 24,
   "id": "89988c0b-c4ab-4c8e-bb27-c34a9944f008",
   "metadata": {},
   "outputs": [
    {
     "name": "stdout",
     "output_type": "stream",
     "text": [
      "0     True\n",
      "1    False\n",
      "2     True\n",
      "3    False\n",
      "4    False\n",
      "dtype: bool\n",
      "\n",
      "0    False\n",
      "1     True\n",
      "2    False\n",
      "3     True\n",
      "4     True\n",
      "dtype: bool\n"
     ]
    }
   ],
   "source": [
    "print(~(sr>5), sr>5, sep='\\n\\n')"
   ]
  },
  {
   "cell_type": "markdown",
   "id": "3062b35b-390d-4f95-91dd-6c1b5b26386a",
   "metadata": {},
   "source": [
    "- (5) 연산 수행: Series object + Series object"
   ]
  },
  {
   "cell_type": "code",
   "execution_count": 26,
   "id": "b57c6726-c522-4570-97a9-4e68da8664af",
   "metadata": {},
   "outputs": [],
   "source": [
    "data2 = [2,4,6,8,9]\n",
    "\n",
    "sr2 = pd.Series(data2)"
   ]
  },
  {
   "cell_type": "code",
   "execution_count": 27,
   "id": "e4d5dfe6-f002-4f93-90af-499e916f2229",
   "metadata": {},
   "outputs": [
    {
     "data": {
      "text/plain": [
       "0     7.0\n",
       "1    11.0\n",
       "2     NaN\n",
       "3    17.0\n",
       "4    20.0\n",
       "dtype: float64"
      ]
     },
     "execution_count": 27,
     "metadata": {},
     "output_type": "execute_result"
    }
   ],
   "source": [
    "sr+sr2"
   ]
  },
  {
   "cell_type": "code",
   "execution_count": 28,
   "id": "66dd74dd-63f8-4c0f-9d4f-989dc7b41946",
   "metadata": {},
   "outputs": [
    {
     "name": "stdout",
     "output_type": "stream",
     "text": [
      "0     7.0\n",
      "1    11.0\n",
      "2     NaN\n",
      "3    17.0\n",
      "4    20.0\n",
      "dtype: float64\n",
      "\n",
      "0    3.0\n",
      "1    3.0\n",
      "2    NaN\n",
      "3    1.0\n",
      "4    2.0\n",
      "dtype: float64\n",
      "\n",
      "0    10.0\n",
      "1    28.0\n",
      "2     NaN\n",
      "3    72.0\n",
      "4    99.0\n",
      "dtype: float64\n",
      "\n",
      "0    2.500000\n",
      "1    1.750000\n",
      "2         NaN\n",
      "3    1.125000\n",
      "4    1.222222\n",
      "dtype: float64\n"
     ]
    }
   ],
   "source": [
    "print(sr+sr2, sr-sr2, sr*sr2, sr/sr2, sep=\"\\n\\n\")"
   ]
  },
  {
   "cell_type": "code",
   "execution_count": 29,
   "id": "60225419-2679-490e-b82c-4f3a6ad422c2",
   "metadata": {},
   "outputs": [
    {
     "name": "stdout",
     "output_type": "stream",
     "text": [
      "0     True\n",
      "1     True\n",
      "2    False\n",
      "3     True\n",
      "4     True\n",
      "dtype: bool\n",
      "\n",
      "0    False\n",
      "1    False\n",
      "2    False\n",
      "3    False\n",
      "4    False\n",
      "dtype: bool\n"
     ]
    }
   ],
   "source": [
    "print(sr>sr2, sr<sr2, sep='\\n\\n')"
   ]
  },
  {
   "cell_type": "code",
   "execution_count": 30,
   "id": "516116a4-5221-4380-bcb8-2afc43413cda",
   "metadata": {},
   "outputs": [
    {
     "data": {
      "text/plain": [
       "2    2\n",
       "3    4\n",
       "4    6\n",
       "5    8\n",
       "6    9\n",
       "dtype: int64"
      ]
     },
     "execution_count": 30,
     "metadata": {},
     "output_type": "execute_result"
    }
   ],
   "source": [
    "sr2.index=[2,3,4,5,6]\n",
    "sr2"
   ]
  },
  {
   "cell_type": "code",
   "execution_count": 31,
   "id": "bafc19b3-f55e-4bd8-b964-6a602da45d7a",
   "metadata": {},
   "outputs": [
    {
     "name": "stdout",
     "output_type": "stream",
     "text": [
      "0     NaN\n",
      "1     NaN\n",
      "2     NaN\n",
      "3    13.0\n",
      "4    17.0\n",
      "5     NaN\n",
      "6     NaN\n",
      "dtype: float64\n",
      "\n",
      "0    NaN\n",
      "1    NaN\n",
      "2    NaN\n",
      "3    5.0\n",
      "4    5.0\n",
      "5    NaN\n",
      "6    NaN\n",
      "dtype: float64\n",
      "\n",
      "0     NaN\n",
      "1     NaN\n",
      "2     NaN\n",
      "3    36.0\n",
      "4    66.0\n",
      "5     NaN\n",
      "6     NaN\n",
      "dtype: float64\n",
      "\n",
      "0         NaN\n",
      "1         NaN\n",
      "2         NaN\n",
      "3    2.250000\n",
      "4    1.833333\n",
      "5         NaN\n",
      "6         NaN\n",
      "dtype: float64\n"
     ]
    }
   ],
   "source": [
    "print(sr+sr2, sr-sr2, sr*sr2, sr/sr2, sep=\"\\n\\n\")"
   ]
  },
  {
   "cell_type": "code",
   "execution_count": 35,
   "id": "9da6b6a3-a17b-43c6-892a-127659813676",
   "metadata": {},
   "outputs": [
    {
     "name": "stdout",
     "output_type": "stream",
     "text": [
      "<bound method Series.reset_index of 2    2\n",
      "3    4\n",
      "4    6\n",
      "5    8\n",
      "6    9\n",
      "dtype: int64>\n",
      "\n",
      "0    2\n",
      "1    4\n",
      "2    6\n",
      "3    8\n",
      "4    9\n",
      "dtype: int64\n"
     ]
    }
   ],
   "source": [
    "print(sr2.reset_index,sr2.reset_index(drop=True),sep='\\n\\n')"
   ]
  },
  {
   "cell_type": "markdown",
   "id": "ab73f0f7-1b5f-4ba7-805b-6c3d7cd6f8a9",
   "metadata": {},
   "source": [
    "- (5) Series 연산 수행 전용 메서드"
   ]
  },
  {
   "cell_type": "code",
   "execution_count": 39,
   "id": "0f2b80af-91cc-432c-a6c5-5f1b62016364",
   "metadata": {},
   "outputs": [
    {
     "name": "stdout",
     "output_type": "stream",
     "text": [
      "0    10.0\n",
      "1    12.0\n",
      "2     NaN\n",
      "3    14.0\n",
      "4    16.0\n",
      "dtype: float64\n",
      "\n",
      "0    10.0\n",
      "1    12.0\n",
      "2     5.0\n",
      "3    14.0\n",
      "4    16.0\n",
      "dtype: float64\n"
     ]
    }
   ],
   "source": [
    "print(sr.add(5), sr.add(5,fill_value=0,), sep='\\n\\n')"
   ]
  },
  {
   "cell_type": "code",
   "execution_count": 40,
   "id": "8626fbd9-f9c5-4351-80e0-49dc88496bc6",
   "metadata": {},
   "outputs": [
    {
     "name": "stdout",
     "output_type": "stream",
     "text": [
      "0    0.0\n",
      "1    2.0\n",
      "2    NaN\n",
      "3    4.0\n",
      "4    6.0\n",
      "dtype: float64\n",
      "\n",
      "0    0.0\n",
      "1    2.0\n",
      "2   -5.0\n",
      "3    4.0\n",
      "4    6.0\n",
      "dtype: float64\n"
     ]
    }
   ],
   "source": [
    "print(sr.sub(5), sr.sub(5,fill_value=0,), sep='\\n\\n')"
   ]
  },
  {
   "cell_type": "code",
   "execution_count": 42,
   "id": "49e1c577-4ad6-468d-a53c-5b4048d0a888",
   "metadata": {},
   "outputs": [],
   "source": [
    "addSR=sr.add(sr2,fill_value=0)\n",
    "subSR=sr.sub(sr2,fill_value=0)\n",
    "mulSR=sr.mul(sr2,fill_value=0)\n",
    "divSR=sr.div(sr2,fill_value=0)"
   ]
  },
  {
   "cell_type": "code",
   "execution_count": 43,
   "id": "b9842764-2f38-4fc3-b8a8-19a55fc7c2ad",
   "metadata": {},
   "outputs": [
    {
     "data": {
      "text/plain": [
       "(0     5.0\n",
       " 1     7.0\n",
       " 2     2.0\n",
       " 3    13.0\n",
       " 4    17.0\n",
       " 5     8.0\n",
       " 6     9.0\n",
       " dtype: float64,\n",
       " 0    5.0\n",
       " 1    7.0\n",
       " 2   -2.0\n",
       " 3    5.0\n",
       " 4    5.0\n",
       " 5   -8.0\n",
       " 6   -9.0\n",
       " dtype: float64,\n",
       " 0     0.0\n",
       " 1     0.0\n",
       " 2     0.0\n",
       " 3    36.0\n",
       " 4    66.0\n",
       " 5     0.0\n",
       " 6     0.0\n",
       " dtype: float64,\n",
       " 0         inf\n",
       " 1         inf\n",
       " 2    0.000000\n",
       " 3    2.250000\n",
       " 4    1.833333\n",
       " 5    0.000000\n",
       " 6    0.000000\n",
       " dtype: float64)"
      ]
     },
     "execution_count": 43,
     "metadata": {},
     "output_type": "execute_result"
    }
   ],
   "source": [
    "addSR, subSR, mulSR, divSR"
   ]
  },
  {
   "cell_type": "markdown",
   "id": "a58dc725-d8c8-4c39-92ff-edb404a61677",
   "metadata": {},
   "source": [
    "- (6) DataFrame 연산 수행"
   ]
  },
  {
   "cell_type": "code",
   "execution_count": 46,
   "id": "4284353a-00cd-442c-bd97-916500487510",
   "metadata": {},
   "outputs": [],
   "source": [
    "df= pd.DataFrame([addSR, subSR, mulSR, divSR], index= ['add', 'sub', 'mul', 'div'])"
   ]
  },
  {
   "cell_type": "code",
   "execution_count": 47,
   "id": "51195b44-260d-4339-9292-787fa82e830a",
   "metadata": {},
   "outputs": [
    {
     "data": {
      "text/html": [
       "<div>\n",
       "<style scoped>\n",
       "    .dataframe tbody tr th:only-of-type {\n",
       "        vertical-align: middle;\n",
       "    }\n",
       "\n",
       "    .dataframe tbody tr th {\n",
       "        vertical-align: top;\n",
       "    }\n",
       "\n",
       "    .dataframe thead th {\n",
       "        text-align: right;\n",
       "    }\n",
       "</style>\n",
       "<table border=\"1\" class=\"dataframe\">\n",
       "  <thead>\n",
       "    <tr style=\"text-align: right;\">\n",
       "      <th></th>\n",
       "      <th>0</th>\n",
       "      <th>1</th>\n",
       "      <th>2</th>\n",
       "      <th>3</th>\n",
       "      <th>4</th>\n",
       "      <th>5</th>\n",
       "      <th>6</th>\n",
       "    </tr>\n",
       "  </thead>\n",
       "  <tbody>\n",
       "    <tr>\n",
       "      <th>add</th>\n",
       "      <td>5.0</td>\n",
       "      <td>7.0</td>\n",
       "      <td>2.0</td>\n",
       "      <td>13.00</td>\n",
       "      <td>17.000000</td>\n",
       "      <td>8.0</td>\n",
       "      <td>9.0</td>\n",
       "    </tr>\n",
       "    <tr>\n",
       "      <th>sub</th>\n",
       "      <td>5.0</td>\n",
       "      <td>7.0</td>\n",
       "      <td>-2.0</td>\n",
       "      <td>5.00</td>\n",
       "      <td>5.000000</td>\n",
       "      <td>-8.0</td>\n",
       "      <td>-9.0</td>\n",
       "    </tr>\n",
       "    <tr>\n",
       "      <th>mul</th>\n",
       "      <td>0.0</td>\n",
       "      <td>0.0</td>\n",
       "      <td>0.0</td>\n",
       "      <td>36.00</td>\n",
       "      <td>66.000000</td>\n",
       "      <td>0.0</td>\n",
       "      <td>0.0</td>\n",
       "    </tr>\n",
       "    <tr>\n",
       "      <th>div</th>\n",
       "      <td>inf</td>\n",
       "      <td>inf</td>\n",
       "      <td>0.0</td>\n",
       "      <td>2.25</td>\n",
       "      <td>1.833333</td>\n",
       "      <td>0.0</td>\n",
       "      <td>0.0</td>\n",
       "    </tr>\n",
       "  </tbody>\n",
       "</table>\n",
       "</div>"
      ],
      "text/plain": [
       "       0    1    2      3          4    5    6\n",
       "add  5.0  7.0  2.0  13.00  17.000000  8.0  9.0\n",
       "sub  5.0  7.0 -2.0   5.00   5.000000 -8.0 -9.0\n",
       "mul  0.0  0.0  0.0  36.00  66.000000  0.0  0.0\n",
       "div  inf  inf  0.0   2.25   1.833333  0.0  0.0"
      ]
     },
     "execution_count": 47,
     "metadata": {},
     "output_type": "execute_result"
    }
   ],
   "source": [
    "df"
   ]
  },
  {
   "cell_type": "markdown",
   "id": "bb5be576-69dc-4a2b-ac3e-28bd5c0dafe7",
   "metadata": {},
   "source": [
    "- DataFrame과 숫자 연산 수행"
   ]
  },
  {
   "cell_type": "code",
   "execution_count": 48,
   "id": "02203f6d-c4a9-4e59-a329-79412a23a077",
   "metadata": {},
   "outputs": [
    {
     "name": "stdout",
     "output_type": "stream",
     "text": [
      "        0     1    2      3          4     5     6\n",
      "add  10.0  12.0  7.0  18.00  22.000000  13.0  14.0\n",
      "sub  10.0  12.0  3.0  10.00  10.000000  -3.0  -4.0\n",
      "mul   5.0   5.0  5.0  41.00  71.000000   5.0   5.0\n",
      "div   inf   inf  5.0   7.25   6.833333   5.0   5.0\n",
      "\n",
      "       0    1    2      3          4     5     6\n",
      "add  0.0  2.0 -3.0   8.00  12.000000   3.0   4.0\n",
      "sub  0.0  2.0 -7.0   0.00   0.000000 -13.0 -14.0\n",
      "mul -5.0 -5.0 -5.0  31.00  61.000000  -5.0  -5.0\n",
      "div  inf  inf -5.0  -2.75  -3.166667  -5.0  -5.0\n"
     ]
    }
   ],
   "source": [
    "print(df+5, df-5, sep=\"\\n\\n\")"
   ]
  },
  {
   "cell_type": "markdown",
   "id": "86bbcb1f-0f9b-4934-b652-15f67713f103",
   "metadata": {},
   "source": [
    "- Dataframe + DataFrame 연산 수행: 동일 위치의 원소끼리 연산 수행\n"
   ]
  },
  {
   "cell_type": "code",
   "execution_count": 49,
   "id": "ae92dca8-b384-47e7-9332-279cdc3847d0",
   "metadata": {},
   "outputs": [
    {
     "data": {
      "text/html": [
       "<div>\n",
       "<style scoped>\n",
       "    .dataframe tbody tr th:only-of-type {\n",
       "        vertical-align: middle;\n",
       "    }\n",
       "\n",
       "    .dataframe tbody tr th {\n",
       "        vertical-align: top;\n",
       "    }\n",
       "\n",
       "    .dataframe thead th {\n",
       "        text-align: right;\n",
       "    }\n",
       "</style>\n",
       "<table border=\"1\" class=\"dataframe\">\n",
       "  <thead>\n",
       "    <tr style=\"text-align: right;\">\n",
       "      <th></th>\n",
       "      <th>0</th>\n",
       "      <th>1</th>\n",
       "      <th>2</th>\n",
       "      <th>3</th>\n",
       "      <th>4</th>\n",
       "      <th>5</th>\n",
       "      <th>6</th>\n",
       "    </tr>\n",
       "  </thead>\n",
       "  <tbody>\n",
       "    <tr>\n",
       "      <th>add</th>\n",
       "      <td>50.0</td>\n",
       "      <td>70.0</td>\n",
       "      <td>20.0</td>\n",
       "      <td>130.0</td>\n",
       "      <td>170.000000</td>\n",
       "      <td>80.0</td>\n",
       "      <td>90.0</td>\n",
       "    </tr>\n",
       "    <tr>\n",
       "      <th>sub</th>\n",
       "      <td>50.0</td>\n",
       "      <td>70.0</td>\n",
       "      <td>-20.0</td>\n",
       "      <td>50.0</td>\n",
       "      <td>50.000000</td>\n",
       "      <td>-80.0</td>\n",
       "      <td>-90.0</td>\n",
       "    </tr>\n",
       "    <tr>\n",
       "      <th>mul</th>\n",
       "      <td>0.0</td>\n",
       "      <td>0.0</td>\n",
       "      <td>0.0</td>\n",
       "      <td>360.0</td>\n",
       "      <td>660.000000</td>\n",
       "      <td>0.0</td>\n",
       "      <td>0.0</td>\n",
       "    </tr>\n",
       "    <tr>\n",
       "      <th>div</th>\n",
       "      <td>inf</td>\n",
       "      <td>inf</td>\n",
       "      <td>0.0</td>\n",
       "      <td>22.5</td>\n",
       "      <td>18.333333</td>\n",
       "      <td>0.0</td>\n",
       "      <td>0.0</td>\n",
       "    </tr>\n",
       "  </tbody>\n",
       "</table>\n",
       "</div>"
      ],
      "text/plain": [
       "        0     1     2      3           4     5     6\n",
       "add  50.0  70.0  20.0  130.0  170.000000  80.0  90.0\n",
       "sub  50.0  70.0 -20.0   50.0   50.000000 -80.0 -90.0\n",
       "mul   0.0   0.0   0.0  360.0  660.000000   0.0   0.0\n",
       "div   inf   inf   0.0   22.5   18.333333   0.0   0.0"
      ]
     },
     "execution_count": 49,
     "metadata": {},
     "output_type": "execute_result"
    }
   ],
   "source": [
    "df2 = df * 10\n",
    "df2"
   ]
  },
  {
   "cell_type": "code",
   "execution_count": 50,
   "id": "e60e0146-17fb-444a-ab66-a1480c20f809",
   "metadata": {},
   "outputs": [
    {
     "name": "stdout",
     "output_type": "stream",
     "text": [
      "        0     1     2       3           4     5     6\n",
      "add  55.0  77.0  22.0  143.00  187.000000  88.0  99.0\n",
      "sub  55.0  77.0 -22.0   55.00   55.000000 -88.0 -99.0\n",
      "mul   0.0   0.0   0.0  396.00  726.000000   0.0   0.0\n",
      "div   inf   inf   0.0   24.75   20.166667   0.0   0.0\n",
      "\n",
      "         0      1     2          3             4      5      6\n",
      "add  250.0  490.0  40.0   1690.000   2890.000000  640.0  810.0\n",
      "sub  250.0  490.0  40.0    250.000    250.000000  640.0  810.0\n",
      "mul    0.0    0.0   0.0  12960.000  43560.000000    0.0    0.0\n",
      "div    inf    inf   0.0     50.625     33.611111    0.0    0.0\n"
     ]
    }
   ],
   "source": [
    "print(df+df2, df*df2, sep= '\\n\\n')"
   ]
  },
  {
   "cell_type": "code",
   "execution_count": 51,
   "id": "b8eca62a-af63-4f5d-9105-34d28ed9ce9f",
   "metadata": {},
   "outputs": [
    {
     "data": {
      "text/plain": [
       "(Index(['add', 'sub', 'mul', 'div'], dtype='object'),\n",
       " Index([0, 1, 2, 3, 4, 5, 6], dtype='int64'))"
      ]
     },
     "execution_count": 51,
     "metadata": {},
     "output_type": "execute_result"
    }
   ],
   "source": [
    "df.index, df.columns"
   ]
  },
  {
   "cell_type": "code",
   "execution_count": 52,
   "id": "a58aadf2-28a6-49df-9d74-c20264ef66b2",
   "metadata": {},
   "outputs": [
    {
     "data": {
      "text/plain": [
       "(Index(['add', 'sub', 'mul', 'div'], dtype='object'),\n",
       " Index([0, 1, 2, 3, 4, 5, 6], dtype='int64'))"
      ]
     },
     "execution_count": 52,
     "metadata": {},
     "output_type": "execute_result"
    }
   ],
   "source": [
    "df2.index, df2.columns"
   ]
  },
  {
   "cell_type": "code",
   "execution_count": 53,
   "id": "a6430801-7dd4-475c-b44e-2c32d714c105",
   "metadata": {},
   "outputs": [],
   "source": [
    "df2.index=['add','minus','multiply', 'divide']"
   ]
  },
  {
   "cell_type": "code",
   "execution_count": 54,
   "id": "04877215-c3ff-4586-8acc-3f6499b4016a",
   "metadata": {},
   "outputs": [
    {
     "name": "stdout",
     "output_type": "stream",
     "text": [
      "             0     1     2      3      4     5     6\n",
      "add       55.0  77.0  22.0  143.0  187.0  88.0  99.0\n",
      "div        NaN   NaN   NaN    NaN    NaN   NaN   NaN\n",
      "divide     NaN   NaN   NaN    NaN    NaN   NaN   NaN\n",
      "minus      NaN   NaN   NaN    NaN    NaN   NaN   NaN\n",
      "mul        NaN   NaN   NaN    NaN    NaN   NaN   NaN\n",
      "multiply   NaN   NaN   NaN    NaN    NaN   NaN   NaN\n",
      "sub        NaN   NaN   NaN    NaN    NaN   NaN   NaN\n",
      "\n",
      "              0      1     2       3       4      5      6\n",
      "add       250.0  490.0  40.0  1690.0  2890.0  640.0  810.0\n",
      "div         NaN    NaN   NaN     NaN     NaN    NaN    NaN\n",
      "divide      NaN    NaN   NaN     NaN     NaN    NaN    NaN\n",
      "minus       NaN    NaN   NaN     NaN     NaN    NaN    NaN\n",
      "mul         NaN    NaN   NaN     NaN     NaN    NaN    NaN\n",
      "multiply    NaN    NaN   NaN     NaN     NaN    NaN    NaN\n",
      "sub         NaN    NaN   NaN     NaN     NaN    NaN    NaN\n"
     ]
    }
   ],
   "source": [
    "print(df+df2, df*df2, sep= '\\n\\n')"
   ]
  },
  {
   "cell_type": "markdown",
   "id": "959692f4-aecb-48b3-a0e2-df22391a41d7",
   "metadata": {},
   "source": [
    "- 연산 수행 메서드 활용: 결측치(NaN, 빈칸)에 대한 처리 수행 가능\n",
    "   * fill_value parameter에 값 지정"
   ]
  },
  {
   "cell_type": "code",
   "execution_count": 56,
   "id": "5a29a805-7fae-4968-a945-ee8c698050c6",
   "metadata": {},
   "outputs": [
    {
     "data": {
      "text/html": [
       "<div>\n",
       "<style scoped>\n",
       "    .dataframe tbody tr th:only-of-type {\n",
       "        vertical-align: middle;\n",
       "    }\n",
       "\n",
       "    .dataframe tbody tr th {\n",
       "        vertical-align: top;\n",
       "    }\n",
       "\n",
       "    .dataframe thead th {\n",
       "        text-align: right;\n",
       "    }\n",
       "</style>\n",
       "<table border=\"1\" class=\"dataframe\">\n",
       "  <thead>\n",
       "    <tr style=\"text-align: right;\">\n",
       "      <th></th>\n",
       "      <th>0</th>\n",
       "      <th>1</th>\n",
       "      <th>2</th>\n",
       "      <th>3</th>\n",
       "      <th>4</th>\n",
       "      <th>5</th>\n",
       "      <th>6</th>\n",
       "    </tr>\n",
       "  </thead>\n",
       "  <tbody>\n",
       "    <tr>\n",
       "      <th>add</th>\n",
       "      <td>55.0</td>\n",
       "      <td>77.0</td>\n",
       "      <td>22.0</td>\n",
       "      <td>143.00</td>\n",
       "      <td>187.000000</td>\n",
       "      <td>88.0</td>\n",
       "      <td>99.0</td>\n",
       "    </tr>\n",
       "    <tr>\n",
       "      <th>div</th>\n",
       "      <td>inf</td>\n",
       "      <td>inf</td>\n",
       "      <td>0.0</td>\n",
       "      <td>2.25</td>\n",
       "      <td>1.833333</td>\n",
       "      <td>0.0</td>\n",
       "      <td>0.0</td>\n",
       "    </tr>\n",
       "    <tr>\n",
       "      <th>divide</th>\n",
       "      <td>inf</td>\n",
       "      <td>inf</td>\n",
       "      <td>0.0</td>\n",
       "      <td>22.50</td>\n",
       "      <td>18.333333</td>\n",
       "      <td>0.0</td>\n",
       "      <td>0.0</td>\n",
       "    </tr>\n",
       "    <tr>\n",
       "      <th>minus</th>\n",
       "      <td>50.0</td>\n",
       "      <td>70.0</td>\n",
       "      <td>-20.0</td>\n",
       "      <td>50.00</td>\n",
       "      <td>50.000000</td>\n",
       "      <td>-80.0</td>\n",
       "      <td>-90.0</td>\n",
       "    </tr>\n",
       "    <tr>\n",
       "      <th>mul</th>\n",
       "      <td>0.0</td>\n",
       "      <td>0.0</td>\n",
       "      <td>0.0</td>\n",
       "      <td>36.00</td>\n",
       "      <td>66.000000</td>\n",
       "      <td>0.0</td>\n",
       "      <td>0.0</td>\n",
       "    </tr>\n",
       "    <tr>\n",
       "      <th>multiply</th>\n",
       "      <td>0.0</td>\n",
       "      <td>0.0</td>\n",
       "      <td>0.0</td>\n",
       "      <td>360.00</td>\n",
       "      <td>660.000000</td>\n",
       "      <td>0.0</td>\n",
       "      <td>0.0</td>\n",
       "    </tr>\n",
       "    <tr>\n",
       "      <th>sub</th>\n",
       "      <td>5.0</td>\n",
       "      <td>7.0</td>\n",
       "      <td>-2.0</td>\n",
       "      <td>5.00</td>\n",
       "      <td>5.000000</td>\n",
       "      <td>-8.0</td>\n",
       "      <td>-9.0</td>\n",
       "    </tr>\n",
       "  </tbody>\n",
       "</table>\n",
       "</div>"
      ],
      "text/plain": [
       "             0     1     2       3           4     5     6\n",
       "add       55.0  77.0  22.0  143.00  187.000000  88.0  99.0\n",
       "div        inf   inf   0.0    2.25    1.833333   0.0   0.0\n",
       "divide     inf   inf   0.0   22.50   18.333333   0.0   0.0\n",
       "minus     50.0  70.0 -20.0   50.00   50.000000 -80.0 -90.0\n",
       "mul        0.0   0.0   0.0   36.00   66.000000   0.0   0.0\n",
       "multiply   0.0   0.0   0.0  360.00  660.000000   0.0   0.0\n",
       "sub        5.0   7.0  -2.0    5.00    5.000000  -8.0  -9.0"
      ]
     },
     "execution_count": 56,
     "metadata": {},
     "output_type": "execute_result"
    }
   ],
   "source": [
    "df.add(df2,fill_value=0)"
   ]
  },
  {
   "cell_type": "code",
   "execution_count": null,
   "id": "3351ac6e-fcaf-4233-87f5-94770985087f",
   "metadata": {},
   "outputs": [],
   "source": []
  }
 ],
 "metadata": {
  "kernelspec": {
   "display_name": "Python 3 (ipykernel)",
   "language": "python",
   "name": "python3"
  },
  "language_info": {
   "codemirror_mode": {
    "name": "ipython",
    "version": 3
   },
   "file_extension": ".py",
   "mimetype": "text/x-python",
   "name": "python",
   "nbconvert_exporter": "python",
   "pygments_lexer": "ipython3",
   "version": "3.8.18"
  }
 },
 "nbformat": 4,
 "nbformat_minor": 5
}
