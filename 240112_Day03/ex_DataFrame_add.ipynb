{
 "cells": [
  {
   "cell_type": "markdown",
   "id": "519fd23f-e037-4403-b728-8412fd399692",
   "metadata": {},
   "source": [
    "## [DataFrame에 행/열 추가하기]"
   ]
  },
  {
   "cell_type": "markdown",
   "id": "53dd31f8-ff6f-40cd-9bd4-bb91e9311621",
   "metadata": {},
   "source": [
    "(1) Module Loading----------------------------------------------------------"
   ]
  },
  {
   "cell_type": "code",
   "execution_count": 2,
   "id": "9116b401-9164-4949-8db9-c788cb548546",
   "metadata": {},
   "outputs": [],
   "source": [
    "import pandas as pd"
   ]
  },
  {
   "cell_type": "markdown",
   "id": "49d8a96f-3fc0-438b-874b-52f1c8ce1003",
   "metadata": {},
   "source": [
    "(2) Preparing Data--------------------------------------------------------"
   ]
  },
  {
   "cell_type": "code",
   "execution_count": 10,
   "id": "2336aa71-eda6-43df-938e-cab6ade80998",
   "metadata": {},
   "outputs": [],
   "source": [
    "#dict 타입의 데이터 준비\n",
    "exam = {'이름':['김박복병벽','콸콸이','휴지','뢴트게늄'],\n",
    "       '국어':[98,79,99,100],\n",
    "       '미술':[100,55,11,25],\n",
    "       '과학':[77,99,44,55],\n",
    "       '수학':[88,77,99,56]}"
   ]
  },
  {
   "cell_type": "code",
   "execution_count": 11,
   "id": "46564cba-3456-4c0d-a584-f8262fd251c5",
   "metadata": {},
   "outputs": [],
   "source": [
    "examDF = pd.DataFrame(exam)"
   ]
  },
  {
   "cell_type": "markdown",
   "id": "3f2b753c-e24e-4571-8fcd-7dd4befe63fd",
   "metadata": {},
   "source": [
    "(4) 저장된 데이터 속성 확인<hr>"
   ]
  },
  {
   "cell_type": "code",
   "execution_count": 19,
   "id": "19c2d610-040e-4fc5-8cdb-d7e7827c9856",
   "metadata": {},
   "outputs": [],
   "source": [
    "def printattribute(df,dfname):\n",
    "    print(f'{dfname} attributes')\n",
    "    print(f'index\\n-->{examDF.index}')\n",
    "    print(f'columns\\n-->{examDF.columns}')\n",
    "    print(f'shape\\n-->{examDF.shape}')\n",
    "    print(f'ndim\\n-->{examDF.ndim}')"
   ]
  },
  {
   "cell_type": "code",
   "execution_count": 20,
   "id": "3b45cb2b-19e8-47c6-a0c5-0cbbafd644fc",
   "metadata": {},
   "outputs": [
    {
     "name": "stdout",
     "output_type": "stream",
     "text": [
      "examDF attributes\n",
      "index\n",
      "-->RangeIndex(start=0, stop=4, step=1)\n",
      "columns\n",
      "-->Index(['이름', '국어', '미술', '과학', '수학'], dtype='object')\n",
      "shape\n",
      "-->(4, 5)\n",
      "ndim\n",
      "-->2\n"
     ]
    }
   ],
   "source": [
    "printattribute(examDF,'examDF')"
   ]
  },
  {
   "cell_type": "markdown",
   "id": "b00e0d28-c517-4b35-b188-af7f2565527e",
   "metadata": {},
   "source": [
    "(5)DataFrame에 Column 추가<hr>\n",
    " - 방법: DF객체변수명[새로운 컬럼 이름] = 값"
   ]
  },
  {
   "cell_type": "code",
   "execution_count": 21,
   "id": "d86dc60c-3be7-4c80-b2ef-caf7a385528c",
   "metadata": {},
   "outputs": [],
   "source": [
    "index = (['이름'], ['국어'], ['미술'], ['과학'],['수학'])"
   ]
  },
  {
   "cell_type": "code",
   "execution_count": 22,
   "id": "ebc93f55-a89a-4e0a-a301-d67f9da2cf72",
   "metadata": {},
   "outputs": [],
   "source": [
    "examDF['영어']=[90,89,100,70] #행 갯수만큼 값 추가"
   ]
  },
  {
   "cell_type": "code",
   "execution_count": 23,
   "id": "44251bdc-4cab-4520-99ab-5e5056df0eb0",
   "metadata": {},
   "outputs": [
    {
     "data": {
      "text/html": [
       "<div>\n",
       "<style scoped>\n",
       "    .dataframe tbody tr th:only-of-type {\n",
       "        vertical-align: middle;\n",
       "    }\n",
       "\n",
       "    .dataframe tbody tr th {\n",
       "        vertical-align: top;\n",
       "    }\n",
       "\n",
       "    .dataframe thead th {\n",
       "        text-align: right;\n",
       "    }\n",
       "</style>\n",
       "<table border=\"1\" class=\"dataframe\">\n",
       "  <thead>\n",
       "    <tr style=\"text-align: right;\">\n",
       "      <th></th>\n",
       "      <th>이름</th>\n",
       "      <th>국어</th>\n",
       "      <th>미술</th>\n",
       "      <th>과학</th>\n",
       "      <th>수학</th>\n",
       "      <th>영어</th>\n",
       "    </tr>\n",
       "  </thead>\n",
       "  <tbody>\n",
       "    <tr>\n",
       "      <th>0</th>\n",
       "      <td>김박복병벽</td>\n",
       "      <td>98</td>\n",
       "      <td>100</td>\n",
       "      <td>77</td>\n",
       "      <td>88</td>\n",
       "      <td>90</td>\n",
       "    </tr>\n",
       "    <tr>\n",
       "      <th>1</th>\n",
       "      <td>콸콸이</td>\n",
       "      <td>79</td>\n",
       "      <td>55</td>\n",
       "      <td>99</td>\n",
       "      <td>77</td>\n",
       "      <td>89</td>\n",
       "    </tr>\n",
       "    <tr>\n",
       "      <th>2</th>\n",
       "      <td>휴지</td>\n",
       "      <td>99</td>\n",
       "      <td>11</td>\n",
       "      <td>44</td>\n",
       "      <td>99</td>\n",
       "      <td>100</td>\n",
       "    </tr>\n",
       "    <tr>\n",
       "      <th>3</th>\n",
       "      <td>뢴트게늄</td>\n",
       "      <td>100</td>\n",
       "      <td>25</td>\n",
       "      <td>55</td>\n",
       "      <td>56</td>\n",
       "      <td>70</td>\n",
       "    </tr>\n",
       "  </tbody>\n",
       "</table>\n",
       "</div>"
      ],
      "text/plain": [
       "      이름   국어   미술  과학  수학   영어\n",
       "0  김박복병벽   98  100  77  88   90\n",
       "1    콸콸이   79   55  99  77   89\n",
       "2     휴지   99   11  44  99  100\n",
       "3   뢴트게늄  100   25  55  56   70"
      ]
     },
     "execution_count": 23,
     "metadata": {},
     "output_type": "execute_result"
    }
   ],
   "source": [
    "examDF"
   ]
  },
  {
   "cell_type": "code",
   "execution_count": 30,
   "id": "39024e2b-dff6-42d7-88ec-d259afc01fef",
   "metadata": {},
   "outputs": [],
   "source": [
    "examDF['사회']=10 #컬럼에 추가할 정보를 하나만 입력하면 열 전체에 같은 값을 할당함"
   ]
  },
  {
   "cell_type": "code",
   "execution_count": 32,
   "id": "93ab3173-c921-4d8d-b21e-e50afc9d2a0b",
   "metadata": {},
   "outputs": [
    {
     "data": {
      "text/plain": [
       "Index(['이름', '국어', '미술', '과학', '수학', '영어', '사화', '사회'], dtype='object')"
      ]
     },
     "execution_count": 32,
     "metadata": {},
     "output_type": "execute_result"
    }
   ],
   "source": [
    "examDF.columns"
   ]
  },
  {
   "cell_type": "markdown",
   "id": "b928b434-7f3a-40bb-bca5-e5f843644057",
   "metadata": {},
   "source": [
    "(6) DataFrame에 행(row) 추가하기<hr>\n",
    "- 방법: DF객체변수명.loc[새로운 행 인덱스 이름]=[데이터(컬럼 수만큼)]\n",
    "- 방법: DF객체변수명.loc[새로운 행 인덱스 이름]=[데이터]\n",
    "- 방법: DF객체변수명.iloc[새로운 행 인덱스 이름]=[데이터]<얘는 안 됨: 데이터가 존재해야 인덱스가 할당되기 때문\n",
    "  "
   ]
  },
  {
   "cell_type": "code",
   "execution_count": 33,
   "id": "375ef5ee-7ba1-4ed1-97fe-888eef27af9d",
   "metadata": {},
   "outputs": [
    {
     "data": {
      "text/plain": [
       "RangeIndex(start=0, stop=4, step=1)"
      ]
     },
     "execution_count": 33,
     "metadata": {},
     "output_type": "execute_result"
    }
   ],
   "source": [
    "examDF.index"
   ]
  },
  {
   "cell_type": "code",
   "execution_count": 36,
   "id": "338a631f-1c07-4213-8074-c52462f1ce61",
   "metadata": {},
   "outputs": [],
   "source": [
    "#컬럼 수만큼의 데이터를 가진 행 추가\n",
    "examDF.loc[4] = ['Ine',1,2,3,4,5,6,7]"
   ]
  },
  {
   "cell_type": "code",
   "execution_count": 37,
   "id": "9ff3f859-d824-4c93-8079-bfa5df32a5c5",
   "metadata": {},
   "outputs": [
    {
     "data": {
      "text/html": [
       "<div>\n",
       "<style scoped>\n",
       "    .dataframe tbody tr th:only-of-type {\n",
       "        vertical-align: middle;\n",
       "    }\n",
       "\n",
       "    .dataframe tbody tr th {\n",
       "        vertical-align: top;\n",
       "    }\n",
       "\n",
       "    .dataframe thead th {\n",
       "        text-align: right;\n",
       "    }\n",
       "</style>\n",
       "<table border=\"1\" class=\"dataframe\">\n",
       "  <thead>\n",
       "    <tr style=\"text-align: right;\">\n",
       "      <th></th>\n",
       "      <th>이름</th>\n",
       "      <th>국어</th>\n",
       "      <th>미술</th>\n",
       "      <th>과학</th>\n",
       "      <th>수학</th>\n",
       "      <th>영어</th>\n",
       "      <th>사화</th>\n",
       "      <th>사회</th>\n",
       "    </tr>\n",
       "  </thead>\n",
       "  <tbody>\n",
       "    <tr>\n",
       "      <th>0</th>\n",
       "      <td>김박복병벽</td>\n",
       "      <td>98</td>\n",
       "      <td>100</td>\n",
       "      <td>10</td>\n",
       "      <td>88</td>\n",
       "      <td>90</td>\n",
       "      <td>10</td>\n",
       "      <td>10</td>\n",
       "    </tr>\n",
       "    <tr>\n",
       "      <th>1</th>\n",
       "      <td>콸콸이</td>\n",
       "      <td>79</td>\n",
       "      <td>55</td>\n",
       "      <td>10</td>\n",
       "      <td>77</td>\n",
       "      <td>89</td>\n",
       "      <td>10</td>\n",
       "      <td>10</td>\n",
       "    </tr>\n",
       "    <tr>\n",
       "      <th>2</th>\n",
       "      <td>휴지</td>\n",
       "      <td>99</td>\n",
       "      <td>11</td>\n",
       "      <td>10</td>\n",
       "      <td>99</td>\n",
       "      <td>100</td>\n",
       "      <td>10</td>\n",
       "      <td>10</td>\n",
       "    </tr>\n",
       "    <tr>\n",
       "      <th>3</th>\n",
       "      <td>뢴트게늄</td>\n",
       "      <td>100</td>\n",
       "      <td>25</td>\n",
       "      <td>10</td>\n",
       "      <td>56</td>\n",
       "      <td>70</td>\n",
       "      <td>10</td>\n",
       "      <td>10</td>\n",
       "    </tr>\n",
       "    <tr>\n",
       "      <th>4</th>\n",
       "      <td>Ine</td>\n",
       "      <td>1</td>\n",
       "      <td>2</td>\n",
       "      <td>3</td>\n",
       "      <td>4</td>\n",
       "      <td>5</td>\n",
       "      <td>6</td>\n",
       "      <td>7</td>\n",
       "    </tr>\n",
       "  </tbody>\n",
       "</table>\n",
       "</div>"
      ],
      "text/plain": [
       "      이름   국어   미술  과학  수학   영어  사화  사회\n",
       "0  김박복병벽   98  100  10  88   90  10  10\n",
       "1    콸콸이   79   55  10  77   89  10  10\n",
       "2     휴지   99   11  10  99  100  10  10\n",
       "3   뢴트게늄  100   25  10  56   70  10  10\n",
       "4    Ine    1    2   3   4    5   6   7"
      ]
     },
     "execution_count": 37,
     "metadata": {},
     "output_type": "execute_result"
    }
   ],
   "source": [
    "examDF"
   ]
  },
  {
   "cell_type": "code",
   "execution_count": 40,
   "id": "4cb8163b-582d-46a7-a8c2-034c7e5e5bd6",
   "metadata": {},
   "outputs": [],
   "source": [
    "examDF.iloc[5] = ['Lilpa',1,2,3,4,5,6,7]# <<행 추가시 iloc 사용불가: 데이터 수에 맞게 인덱스 범위가 지정되기 때문, 현재 없는 인덱스를 지정하므로 불가함 "
   ]
  },
  {
   "cell_type": "code",
   "execution_count": 41,
   "id": "34039e68-780d-4209-8d7f-8142075390fb",
   "metadata": {},
   "outputs": [
    {
     "data": {
      "text/html": [
       "<div>\n",
       "<style scoped>\n",
       "    .dataframe tbody tr th:only-of-type {\n",
       "        vertical-align: middle;\n",
       "    }\n",
       "\n",
       "    .dataframe tbody tr th {\n",
       "        vertical-align: top;\n",
       "    }\n",
       "\n",
       "    .dataframe thead th {\n",
       "        text-align: right;\n",
       "    }\n",
       "</style>\n",
       "<table border=\"1\" class=\"dataframe\">\n",
       "  <thead>\n",
       "    <tr style=\"text-align: right;\">\n",
       "      <th></th>\n",
       "      <th>이름</th>\n",
       "      <th>국어</th>\n",
       "      <th>미술</th>\n",
       "      <th>과학</th>\n",
       "      <th>수학</th>\n",
       "      <th>영어</th>\n",
       "      <th>사화</th>\n",
       "      <th>사회</th>\n",
       "    </tr>\n",
       "  </thead>\n",
       "  <tbody>\n",
       "    <tr>\n",
       "      <th>0</th>\n",
       "      <td>김박복병벽</td>\n",
       "      <td>98</td>\n",
       "      <td>100</td>\n",
       "      <td>10</td>\n",
       "      <td>88</td>\n",
       "      <td>90</td>\n",
       "      <td>10</td>\n",
       "      <td>10</td>\n",
       "    </tr>\n",
       "    <tr>\n",
       "      <th>1</th>\n",
       "      <td>콸콸이</td>\n",
       "      <td>79</td>\n",
       "      <td>55</td>\n",
       "      <td>10</td>\n",
       "      <td>77</td>\n",
       "      <td>89</td>\n",
       "      <td>10</td>\n",
       "      <td>10</td>\n",
       "    </tr>\n",
       "    <tr>\n",
       "      <th>2</th>\n",
       "      <td>휴지</td>\n",
       "      <td>99</td>\n",
       "      <td>11</td>\n",
       "      <td>10</td>\n",
       "      <td>99</td>\n",
       "      <td>100</td>\n",
       "      <td>10</td>\n",
       "      <td>10</td>\n",
       "    </tr>\n",
       "    <tr>\n",
       "      <th>3</th>\n",
       "      <td>뢴트게늄</td>\n",
       "      <td>100</td>\n",
       "      <td>25</td>\n",
       "      <td>10</td>\n",
       "      <td>56</td>\n",
       "      <td>70</td>\n",
       "      <td>10</td>\n",
       "      <td>10</td>\n",
       "    </tr>\n",
       "    <tr>\n",
       "      <th>4</th>\n",
       "      <td>Ine</td>\n",
       "      <td>1</td>\n",
       "      <td>2</td>\n",
       "      <td>3</td>\n",
       "      <td>4</td>\n",
       "      <td>5</td>\n",
       "      <td>6</td>\n",
       "      <td>7</td>\n",
       "    </tr>\n",
       "    <tr>\n",
       "      <th>5</th>\n",
       "      <td>Lilpa</td>\n",
       "      <td>1</td>\n",
       "      <td>2</td>\n",
       "      <td>3</td>\n",
       "      <td>4</td>\n",
       "      <td>5</td>\n",
       "      <td>6</td>\n",
       "      <td>7</td>\n",
       "    </tr>\n",
       "  </tbody>\n",
       "</table>\n",
       "</div>"
      ],
      "text/plain": [
       "      이름   국어   미술  과학  수학   영어  사화  사회\n",
       "0  김박복병벽   98  100  10  88   90  10  10\n",
       "1    콸콸이   79   55  10  77   89  10  10\n",
       "2     휴지   99   11  10  99  100  10  10\n",
       "3   뢴트게늄  100   25  10  56   70  10  10\n",
       "4    Ine    1    2   3   4    5   6   7\n",
       "5  Lilpa    1    2   3   4    5   6   7"
      ]
     },
     "execution_count": 41,
     "metadata": {},
     "output_type": "execute_result"
    }
   ],
   "source": [
    "examDF"
   ]
  },
  {
   "cell_type": "code",
   "execution_count": 42,
   "id": "b959f066-b93a-43e1-a08a-2a902147a50c",
   "metadata": {},
   "outputs": [
    {
     "data": {
      "text/html": [
       "<div>\n",
       "<style scoped>\n",
       "    .dataframe tbody tr th:only-of-type {\n",
       "        vertical-align: middle;\n",
       "    }\n",
       "\n",
       "    .dataframe tbody tr th {\n",
       "        vertical-align: top;\n",
       "    }\n",
       "\n",
       "    .dataframe thead th {\n",
       "        text-align: right;\n",
       "    }\n",
       "</style>\n",
       "<table border=\"1\" class=\"dataframe\">\n",
       "  <thead>\n",
       "    <tr style=\"text-align: right;\">\n",
       "      <th></th>\n",
       "      <th>이름</th>\n",
       "      <th>국어</th>\n",
       "      <th>미술</th>\n",
       "      <th>과학</th>\n",
       "      <th>수학</th>\n",
       "      <th>영어</th>\n",
       "      <th>사화</th>\n",
       "      <th>사회</th>\n",
       "    </tr>\n",
       "  </thead>\n",
       "  <tbody>\n",
       "    <tr>\n",
       "      <th>0</th>\n",
       "      <td>김박복병벽</td>\n",
       "      <td>98</td>\n",
       "      <td>100</td>\n",
       "      <td>10</td>\n",
       "      <td>88</td>\n",
       "      <td>90</td>\n",
       "      <td>10</td>\n",
       "      <td>10</td>\n",
       "    </tr>\n",
       "    <tr>\n",
       "      <th>1</th>\n",
       "      <td>콸콸이</td>\n",
       "      <td>79</td>\n",
       "      <td>55</td>\n",
       "      <td>10</td>\n",
       "      <td>77</td>\n",
       "      <td>89</td>\n",
       "      <td>10</td>\n",
       "      <td>10</td>\n",
       "    </tr>\n",
       "    <tr>\n",
       "      <th>2</th>\n",
       "      <td>휴지</td>\n",
       "      <td>99</td>\n",
       "      <td>11</td>\n",
       "      <td>10</td>\n",
       "      <td>99</td>\n",
       "      <td>100</td>\n",
       "      <td>10</td>\n",
       "      <td>10</td>\n",
       "    </tr>\n",
       "    <tr>\n",
       "      <th>3</th>\n",
       "      <td>뢴트게늄</td>\n",
       "      <td>100</td>\n",
       "      <td>25</td>\n",
       "      <td>10</td>\n",
       "      <td>56</td>\n",
       "      <td>70</td>\n",
       "      <td>10</td>\n",
       "      <td>10</td>\n",
       "    </tr>\n",
       "    <tr>\n",
       "      <th>4</th>\n",
       "      <td>Ine</td>\n",
       "      <td>1</td>\n",
       "      <td>2</td>\n",
       "      <td>3</td>\n",
       "      <td>4</td>\n",
       "      <td>5</td>\n",
       "      <td>6</td>\n",
       "      <td>7</td>\n",
       "    </tr>\n",
       "    <tr>\n",
       "      <th>5</th>\n",
       "      <td>JingBurGer</td>\n",
       "      <td>JingBurGer</td>\n",
       "      <td>JingBurGer</td>\n",
       "      <td>JingBurGer</td>\n",
       "      <td>JingBurGer</td>\n",
       "      <td>JingBurGer</td>\n",
       "      <td>JingBurGer</td>\n",
       "      <td>JingBurGer</td>\n",
       "    </tr>\n",
       "  </tbody>\n",
       "</table>\n",
       "</div>"
      ],
      "text/plain": [
       "           이름          국어          미술          과학          수학          영어  \\\n",
       "0       김박복병벽          98         100          10          88          90   \n",
       "1         콸콸이          79          55          10          77          89   \n",
       "2          휴지          99          11          10          99         100   \n",
       "3        뢴트게늄         100          25          10          56          70   \n",
       "4         Ine           1           2           3           4           5   \n",
       "5  JingBurGer  JingBurGer  JingBurGer  JingBurGer  JingBurGer  JingBurGer   \n",
       "\n",
       "           사화          사회  \n",
       "0          10          10  \n",
       "1          10          10  \n",
       "2          10          10  \n",
       "3          10          10  \n",
       "4           6           7  \n",
       "5  JingBurGer  JingBurGer  "
      ]
     },
     "execution_count": 42,
     "metadata": {},
     "output_type": "execute_result"
    }
   ],
   "source": [
    "#1개의 데이터 가진 행 추가\n",
    "examDF.loc[5] = 'JingBurGer'\n",
    "examDF"
   ]
  },
  {
   "cell_type": "code",
   "execution_count": null,
   "id": "ee1637a9-ec2c-4b68-9584-c362f49a99e6",
   "metadata": {},
   "outputs": [],
   "source": []
  }
 ],
 "metadata": {
  "kernelspec": {
   "display_name": "Python 3 (ipykernel)",
   "language": "python",
   "name": "python3"
  },
  "language_info": {
   "codemirror_mode": {
    "name": "ipython",
    "version": 3
   },
   "file_extension": ".py",
   "mimetype": "text/x-python",
   "name": "python",
   "nbconvert_exporter": "python",
   "pygments_lexer": "ipython3",
   "version": "3.8.18"
  }
 },
 "nbformat": 4,
 "nbformat_minor": 5
}
