{
 "cells": [
  {
   "cell_type": "markdown",
   "id": "2fe8f759-bfb5-49f3-81e5-170d50f11620",
   "metadata": {},
   "source": [
    "## [DataFrame 인덱스 다루기]"
   ]
  },
  {
   "cell_type": "markdown",
   "id": "09c42dd5-b2e3-4855-9401-681543bc0b43",
   "metadata": {},
   "source": [
    "- (1) 새로운 인덱스 설정: 컬럼->인덱스 설정"
   ]
  },
  {
   "cell_type": "markdown",
   "id": "20d88e6a-6125-4cbd-9c8e-0c7786fa1d17",
   "metadata": {},
   "source": [
    "(1): 모듈 로딩<hr>"
   ]
  },
  {
   "cell_type": "code",
   "execution_count": 62,
   "id": "bbe4b24c-5cc0-47e8-a84e-4a01b87c65cd",
   "metadata": {},
   "outputs": [],
   "source": [
    "import pandas as pd"
   ]
  },
  {
   "cell_type": "code",
   "execution_count": null,
   "id": "da34f099-b68b-431a-95cd-e370b6edad75",
   "metadata": {},
   "outputs": [],
   "source": []
  },
  {
   "cell_type": "markdown",
   "id": "a45c738b-f816-4344-b913-71e61fa53832",
   "metadata": {},
   "source": [
    "(2): 데이터 준비"
   ]
  },
  {
   "cell_type": "code",
   "execution_count": 63,
   "id": "63d83a5c-be30-495a-8e85-516a81588ed1",
   "metadata": {},
   "outputs": [],
   "source": [
    "#dict 타입의 데이터 준비\n",
    "import pandas as pd\n",
    "exam = {'이름' : [ '마징가', '배트맨', '홍길동','임꺽정'],\n",
    "'국어' : [ 98, 79, 99, 100],\n",
    "'미술' : [ 70, 99, 87, 80],\n",
    "'수학' : [ 77, 70, 98, 72],\n",
    "'체육' : [ 77, 93, 69, 91]}\n"
   ]
  },
  {
   "cell_type": "markdown",
   "id": "cd51e664-0457-4a00-bda1-f9a9cf66d422",
   "metadata": {},
   "source": [
    "(3) 데이터 저장"
   ]
  },
  {
   "cell_type": "code",
   "execution_count": 64,
   "id": "e3fef723-ac7b-4859-bbea-87e59801f28e",
   "metadata": {},
   "outputs": [],
   "source": [
    "examDF = pd.DataFrame(exam)"
   ]
  },
  {
   "cell_type": "markdown",
   "id": "71c3dd11-bf81-4480-bcac-4455b47fb29b",
   "metadata": {},
   "source": [
    "(4) 데이터 확인"
   ]
  },
  {
   "cell_type": "code",
   "execution_count": 65,
   "id": "46cffbd4-6583-4b48-986c-3a3594cb9fad",
   "metadata": {},
   "outputs": [
    {
     "data": {
      "text/html": [
       "<div>\n",
       "<style scoped>\n",
       "    .dataframe tbody tr th:only-of-type {\n",
       "        vertical-align: middle;\n",
       "    }\n",
       "\n",
       "    .dataframe tbody tr th {\n",
       "        vertical-align: top;\n",
       "    }\n",
       "\n",
       "    .dataframe thead th {\n",
       "        text-align: right;\n",
       "    }\n",
       "</style>\n",
       "<table border=\"1\" class=\"dataframe\">\n",
       "  <thead>\n",
       "    <tr style=\"text-align: right;\">\n",
       "      <th></th>\n",
       "      <th>이름</th>\n",
       "      <th>국어</th>\n",
       "      <th>미술</th>\n",
       "      <th>수학</th>\n",
       "      <th>체육</th>\n",
       "    </tr>\n",
       "  </thead>\n",
       "  <tbody>\n",
       "    <tr>\n",
       "      <th>0</th>\n",
       "      <td>마징가</td>\n",
       "      <td>98</td>\n",
       "      <td>70</td>\n",
       "      <td>77</td>\n",
       "      <td>77</td>\n",
       "    </tr>\n",
       "    <tr>\n",
       "      <th>1</th>\n",
       "      <td>배트맨</td>\n",
       "      <td>79</td>\n",
       "      <td>99</td>\n",
       "      <td>70</td>\n",
       "      <td>93</td>\n",
       "    </tr>\n",
       "    <tr>\n",
       "      <th>2</th>\n",
       "      <td>홍길동</td>\n",
       "      <td>99</td>\n",
       "      <td>87</td>\n",
       "      <td>98</td>\n",
       "      <td>69</td>\n",
       "    </tr>\n",
       "    <tr>\n",
       "      <th>3</th>\n",
       "      <td>임꺽정</td>\n",
       "      <td>100</td>\n",
       "      <td>80</td>\n",
       "      <td>72</td>\n",
       "      <td>91</td>\n",
       "    </tr>\n",
       "  </tbody>\n",
       "</table>\n",
       "</div>"
      ],
      "text/plain": [
       "    이름   국어  미술  수학  체육\n",
       "0  마징가   98  70  77  77\n",
       "1  배트맨   79  99  70  93\n",
       "2  홍길동   99  87  98  69\n",
       "3  임꺽정  100  80  72  91"
      ]
     },
     "execution_count": 65,
     "metadata": {},
     "output_type": "execute_result"
    }
   ],
   "source": [
    "examDF"
   ]
  },
  {
   "cell_type": "markdown",
   "id": "7e154591-9a50-4a85-87bb-faefbe15fb46",
   "metadata": {},
   "source": [
    "- 행 데이터 추가"
   ]
  },
  {
   "cell_type": "code",
   "execution_count": 66,
   "id": "6a79964f-6c38-4fdb-94f3-5fa92068f79b",
   "metadata": {},
   "outputs": [],
   "source": [
    "examDF=pd.DataFrame(exam)\n",
    "examDF.loc[4]=['마징가',98,50,60,77]\n"
   ]
  },
  {
   "cell_type": "code",
   "execution_count": 67,
   "id": "2ac8616a-253f-4fb7-b484-478f706c167d",
   "metadata": {},
   "outputs": [],
   "source": [
    "examDF.loc[5]=['마징가', 98,87,70,91]"
   ]
  },
  {
   "cell_type": "code",
   "execution_count": 68,
   "id": "50fe8332-ed33-49c6-81bd-10f49c32fba2",
   "metadata": {},
   "outputs": [
    {
     "data": {
      "text/html": [
       "<div>\n",
       "<style scoped>\n",
       "    .dataframe tbody tr th:only-of-type {\n",
       "        vertical-align: middle;\n",
       "    }\n",
       "\n",
       "    .dataframe tbody tr th {\n",
       "        vertical-align: top;\n",
       "    }\n",
       "\n",
       "    .dataframe thead th {\n",
       "        text-align: right;\n",
       "    }\n",
       "</style>\n",
       "<table border=\"1\" class=\"dataframe\">\n",
       "  <thead>\n",
       "    <tr style=\"text-align: right;\">\n",
       "      <th></th>\n",
       "      <th>이름</th>\n",
       "      <th>국어</th>\n",
       "      <th>미술</th>\n",
       "      <th>수학</th>\n",
       "      <th>체육</th>\n",
       "    </tr>\n",
       "  </thead>\n",
       "  <tbody>\n",
       "    <tr>\n",
       "      <th>0</th>\n",
       "      <td>마징가</td>\n",
       "      <td>98</td>\n",
       "      <td>70</td>\n",
       "      <td>77</td>\n",
       "      <td>77</td>\n",
       "    </tr>\n",
       "    <tr>\n",
       "      <th>1</th>\n",
       "      <td>배트맨</td>\n",
       "      <td>79</td>\n",
       "      <td>99</td>\n",
       "      <td>70</td>\n",
       "      <td>93</td>\n",
       "    </tr>\n",
       "    <tr>\n",
       "      <th>2</th>\n",
       "      <td>홍길동</td>\n",
       "      <td>99</td>\n",
       "      <td>87</td>\n",
       "      <td>98</td>\n",
       "      <td>69</td>\n",
       "    </tr>\n",
       "    <tr>\n",
       "      <th>3</th>\n",
       "      <td>임꺽정</td>\n",
       "      <td>100</td>\n",
       "      <td>80</td>\n",
       "      <td>72</td>\n",
       "      <td>91</td>\n",
       "    </tr>\n",
       "    <tr>\n",
       "      <th>4</th>\n",
       "      <td>마징가</td>\n",
       "      <td>98</td>\n",
       "      <td>50</td>\n",
       "      <td>60</td>\n",
       "      <td>77</td>\n",
       "    </tr>\n",
       "    <tr>\n",
       "      <th>5</th>\n",
       "      <td>마징가</td>\n",
       "      <td>98</td>\n",
       "      <td>87</td>\n",
       "      <td>70</td>\n",
       "      <td>91</td>\n",
       "    </tr>\n",
       "  </tbody>\n",
       "</table>\n",
       "</div>"
      ],
      "text/plain": [
       "    이름   국어  미술  수학  체육\n",
       "0  마징가   98  70  77  77\n",
       "1  배트맨   79  99  70  93\n",
       "2  홍길동   99  87  98  69\n",
       "3  임꺽정  100  80  72  91\n",
       "4  마징가   98  50  60  77\n",
       "5  마징가   98  87  70  91"
      ]
     },
     "execution_count": 68,
     "metadata": {},
     "output_type": "execute_result"
    }
   ],
   "source": [
    "examDF"
   ]
  },
  {
   "cell_type": "code",
   "execution_count": 69,
   "id": "9f23cbb1-6ec8-4bdf-921d-b4142d74028a",
   "metadata": {},
   "outputs": [
    {
     "ename": "AttributeError",
     "evalue": "'Index' object has no attribute 'loc'",
     "output_type": "error",
     "traceback": [
      "\u001b[1;31m---------------------------------------------------------------------------\u001b[0m",
      "\u001b[1;31mAttributeError\u001b[0m                            Traceback (most recent call last)",
      "Cell \u001b[1;32mIn[69], line 1\u001b[0m\n\u001b[1;32m----> 1\u001b[0m \u001b[43mexamDF1\u001b[49m\u001b[38;5;241;43m.\u001b[39;49m\u001b[43mloc\u001b[49m[(\u001b[38;5;124m'\u001b[39m\u001b[38;5;124m마징가\u001b[39m\u001b[38;5;124m'\u001b[39m,\u001b[38;5;241m98\u001b[39m,\u001b[38;5;241m77\u001b[39m)]\n",
      "\u001b[1;31mAttributeError\u001b[0m: 'Index' object has no attribute 'loc'"
     ]
    }
   ],
   "source": [
    "examDF1.loc[('마징가',98,77)]"
   ]
  },
  {
   "cell_type": "markdown",
   "id": "c7abc3c1-c4ee-4f19-a5f2-eab6cfd28d7f",
   "metadata": {},
   "source": [
    "(5) 새로운 인덱스 설정: 1. 인덱스 일부 변경\n",
    "\n",
    " - DataFrame객체.rename(index = {기존인덱스: 새 인덱스, ....},inplace) *inplace: 원본데이터 적용여부(기본: 적용안함)\n",
    " - DataFrame객체.rename(columns={기존컬럼: 새 컬럼, ...},inplace)"
   ]
  },
  {
   "cell_type": "code",
   "execution_count": null,
   "id": "dc0173e4-5077-460b-9f7f-eed656565303",
   "metadata": {},
   "outputs": [],
   "source": [
    "#행 인덱스 일부 변경\n",
    "#inplace paramenter : 원본 데이터프레임 변경 여부 결정: 기본-변경안함(False)\n",
    "examDF.rename(index = {0:'김'}, inplace = True) \n"
   ]
  },
  {
   "cell_type": "code",
   "execution_count": null,
   "id": "5adecd68-9797-406a-b99e-0b02d4b4ff64",
   "metadata": {},
   "outputs": [],
   "source": [
    "#이름, 국어, 수학 인덱스 설정\n",
    "examDF.set_index(['이름','국어','수학'])"
   ]
  },
  {
   "cell_type": "code",
   "execution_count": null,
   "id": "66cfc222-3116-4494-b8c2-c6236e6515a0",
   "metadata": {},
   "outputs": [],
   "source": [
    "#인덱스 속성 확인\n",
    "examDF.index\n"
   ]
  },
  {
   "cell_type": "code",
   "execution_count": null,
   "id": "fba9aad3-39cc-4b2e-bceb-d4fbfd9bdc58",
   "metadata": {},
   "outputs": [],
   "source": [
    "#열 이름 인덱스 일부 변경\n",
    "examDF.rename(columns={'미술':'음악'}, inplace = True)"
   ]
  },
  {
   "cell_type": "markdown",
   "id": "ed8d0b6a-672f-43ee-9d6c-ae9818b3199f",
   "metadata": {},
   "source": [
    " - 멀티인덱스의 인덱스의 일부분을 기준으로 행 선택하기: xs\n",
    " - ex) '마징가' 98 77 -> level 0 1 2 "
   ]
  },
  {
   "cell_type": "code",
   "execution_count": null,
   "id": "0b0ac147-57c1-47c6-a377-0a7e0997da5f",
   "metadata": {
    "scrolled": true
   },
   "outputs": [],
   "source": [
    "examDF.xs(11,level=2)"
   ]
  },
  {
   "cell_type": "markdown",
   "id": "a58984da-a927-45b9-8e0e-42695cad9262",
   "metadata": {},
   "source": [
    "(5) 새로운 인덱스 설정 방법: 2. 특정 컬럼 변경 - 인덱스: DF.set_index()\n",
    "        (유니크한 값을 가지고 뽑아야 함,."
   ]
  },
  {
   "cell_type": "code",
   "execution_count": null,
   "id": "1b311581-d8e0-435c-ad2e-9edffc35943f",
   "metadata": {},
   "outputs": [],
   "source": [
    "#1개 컬럼을 인덱스로 설정: inplace parameter = False->원본 적용 안 됨\n",
    "examDF2 = examDF.set_index('이름')"
   ]
  },
  {
   "cell_type": "code",
   "execution_count": null,
   "id": "1895c39b-b047-4daf-a669-2ad810bf7124",
   "metadata": {},
   "outputs": [],
   "source": [
    "examDF.loc['뢴트게늄']"
   ]
  },
  {
   "cell_type": "code",
   "execution_count": null,
   "id": "d934415f-2227-4a84-a37e-fd4f92841046",
   "metadata": {},
   "outputs": [],
   "source": [
    "#2개의 컬럼을 행 인덱스로 설정: inplace parameter = False: 원본 적용 안 됨\n",
    "examDF3 = examDF.set_index(['이름', '국어'])\n",
    "examDF3.index"
   ]
  },
  {
   "cell_type": "code",
   "execution_count": null,
   "id": "fd756430-c282-4df6-a29c-69c992f64432",
   "metadata": {},
   "outputs": [],
   "source": [
    "examDF3.loc['뢴트게늄'] #value부터 끊어서 서치는 안 됨"
   ]
  },
  {
   "cell_type": "markdown",
   "id": "4f0fcc42-5bf0-4eb4-9531-721785d1335d",
   "metadata": {},
   "source": [
    "- (5) 새로운 인덱스 설정 방법: 3."
   ]
  },
  {
   "cell_type": "code",
   "execution_count": null,
   "id": "b239f397-022a-475a-83e5-ff89ecf50ceb",
   "metadata": {},
   "outputs": [],
   "source": [
    "examDF.set_index('이름',inplace = True)"
   ]
  },
  {
   "cell_type": "code",
   "execution_count": null,
   "id": "82cde62b-627e-4b3e-80e9-be563636cc8b",
   "metadata": {},
   "outputs": [],
   "source": [
    "#현재 행 인덱스를 컬럼으로 추가시킴\n",
    "examDF.reset_index()"
   ]
  },
  {
   "cell_type": "code",
   "execution_count": null,
   "id": "5d8fec6c-21de-42d0-94f4-b0ffe942944e",
   "metadata": {},
   "outputs": [],
   "source": [
    "df2 = examDF.reset_index(drop = True) #현재 행 인덱스를 컬럼에 추가하지 않고 삭제\n",
    "df2"
   ]
  },
  {
   "cell_type": "markdown",
   "id": "e1269b71-5f8d-4aaf-84c2-b6789c959f84",
   "metadata": {},
   "source": [
    "-('마징가',98,77), ('임꺽정',100,72)행 한번에 출력하"
   ]
  },
  {
   "cell_type": "code",
   "execution_count": null,
   "id": "b7e88973-73f3-4922-af1d-a527eaa6afd7",
   "metadata": {},
   "outputs": [],
   "source": []
  },
  {
   "cell_type": "markdown",
   "id": "46e9d5ed-cbf6-4b75-90c1-853e570ec24d",
   "metadata": {},
   "source": [
    "- (5) 인덱스 재배치: 행/열 인덱스를 원하는 순서대로 재배치 + 존재하지 않는 행/열 추가\n",
    "      - DF.reindex()"
   ]
  },
  {
   "cell_type": "code",
   "execution_count": 74,
   "id": "8f405680-5983-4f30-83cb-68c6f63c6a24",
   "metadata": {},
   "outputs": [
    {
     "name": "stdout",
     "output_type": "stream",
     "text": [
      "Index([0, 1, 2, 3, 4, 5], dtype='int64')\n",
      "\n",
      "Index(['이름', '국어', '미술', '수학', '체육'], dtype='object')\n"
     ]
    }
   ],
   "source": [
    "print(examDF.index, examDF.columns, sep='\\n\\n')"
   ]
  },
  {
   "cell_type": "markdown",
   "id": "a453f369-6bcd-4708-b87c-917792f59cfa",
   "metadata": {},
   "source": [
    "- 컬럼명 순서 변경: 체육-미술-국어-수학"
   ]
  },
  {
   "cell_type": "code",
   "execution_count": 80,
   "id": "3a9b7589-38f3-4b64-a134-406913087ca0",
   "metadata": {},
   "outputs": [
    {
     "data": {
      "text/html": [
       "<div>\n",
       "<style scoped>\n",
       "    .dataframe tbody tr th:only-of-type {\n",
       "        vertical-align: middle;\n",
       "    }\n",
       "\n",
       "    .dataframe tbody tr th {\n",
       "        vertical-align: top;\n",
       "    }\n",
       "\n",
       "    .dataframe thead th {\n",
       "        text-align: right;\n",
       "    }\n",
       "</style>\n",
       "<table border=\"1\" class=\"dataframe\">\n",
       "  <thead>\n",
       "    <tr style=\"text-align: right;\">\n",
       "      <th></th>\n",
       "      <th>이름</th>\n",
       "      <th>국어</th>\n",
       "      <th>미술</th>\n",
       "      <th>수학</th>\n",
       "      <th>체육</th>\n",
       "    </tr>\n",
       "  </thead>\n",
       "  <tbody>\n",
       "    <tr>\n",
       "      <th>0</th>\n",
       "      <td>마징가</td>\n",
       "      <td>98</td>\n",
       "      <td>70</td>\n",
       "      <td>77</td>\n",
       "      <td>77</td>\n",
       "    </tr>\n",
       "    <tr>\n",
       "      <th>2</th>\n",
       "      <td>홍길동</td>\n",
       "      <td>99</td>\n",
       "      <td>87</td>\n",
       "      <td>98</td>\n",
       "      <td>69</td>\n",
       "    </tr>\n",
       "    <tr>\n",
       "      <th>4</th>\n",
       "      <td>마징가</td>\n",
       "      <td>98</td>\n",
       "      <td>50</td>\n",
       "      <td>60</td>\n",
       "      <td>77</td>\n",
       "    </tr>\n",
       "    <tr>\n",
       "      <th>1</th>\n",
       "      <td>배트맨</td>\n",
       "      <td>79</td>\n",
       "      <td>99</td>\n",
       "      <td>70</td>\n",
       "      <td>93</td>\n",
       "    </tr>\n",
       "    <tr>\n",
       "      <th>3</th>\n",
       "      <td>임꺽정</td>\n",
       "      <td>100</td>\n",
       "      <td>80</td>\n",
       "      <td>72</td>\n",
       "      <td>91</td>\n",
       "    </tr>\n",
       "    <tr>\n",
       "      <th>5</th>\n",
       "      <td>마징가</td>\n",
       "      <td>98</td>\n",
       "      <td>87</td>\n",
       "      <td>70</td>\n",
       "      <td>91</td>\n",
       "    </tr>\n",
       "  </tbody>\n",
       "</table>\n",
       "</div>"
      ],
      "text/plain": [
       "    이름   국어  미술  수학  체육\n",
       "0  마징가   98  70  77  77\n",
       "2  홍길동   99  87  98  69\n",
       "4  마징가   98  50  60  77\n",
       "1  배트맨   79  99  70  93\n",
       "3  임꺽정  100  80  72  91\n",
       "5  마징가   98  87  70  91"
      ]
     },
     "execution_count": 80,
     "metadata": {},
     "output_type": "execute_result"
    }
   ],
   "source": [
    "examDF.reindex([0,2,4,1,3,5], axis = 'index',fill_value=0)"
   ]
  },
  {
   "cell_type": "markdown",
   "id": "bb36274f-8a7f-48df-933d-ada53e982dcc",
   "metadata": {},
   "source": [
    "- 컬럼명 순서 변경-> 체육, 미술. 국어, 수학, 총합+ 행인덱스= 0,2,4,1,3,5 재배치"
   ]
  },
  {
   "cell_type": "code",
   "execution_count": 83,
   "id": "5e686bc1-542b-41b1-82d0-f5151c5fd407",
   "metadata": {},
   "outputs": [
    {
     "data": {
      "text/html": [
       "<div>\n",
       "<style scoped>\n",
       "    .dataframe tbody tr th:only-of-type {\n",
       "        vertical-align: middle;\n",
       "    }\n",
       "\n",
       "    .dataframe tbody tr th {\n",
       "        vertical-align: top;\n",
       "    }\n",
       "\n",
       "    .dataframe thead th {\n",
       "        text-align: right;\n",
       "    }\n",
       "</style>\n",
       "<table border=\"1\" class=\"dataframe\">\n",
       "  <thead>\n",
       "    <tr style=\"text-align: right;\">\n",
       "      <th></th>\n",
       "      <th>체육</th>\n",
       "      <th>미술</th>\n",
       "      <th>국어</th>\n",
       "      <th>수학</th>\n",
       "      <th>총합</th>\n",
       "    </tr>\n",
       "  </thead>\n",
       "  <tbody>\n",
       "    <tr>\n",
       "      <th>0</th>\n",
       "      <td>77</td>\n",
       "      <td>70</td>\n",
       "      <td>98</td>\n",
       "      <td>77</td>\n",
       "      <td>NaN</td>\n",
       "    </tr>\n",
       "    <tr>\n",
       "      <th>2</th>\n",
       "      <td>69</td>\n",
       "      <td>87</td>\n",
       "      <td>99</td>\n",
       "      <td>98</td>\n",
       "      <td>NaN</td>\n",
       "    </tr>\n",
       "    <tr>\n",
       "      <th>4</th>\n",
       "      <td>77</td>\n",
       "      <td>50</td>\n",
       "      <td>98</td>\n",
       "      <td>60</td>\n",
       "      <td>NaN</td>\n",
       "    </tr>\n",
       "    <tr>\n",
       "      <th>1</th>\n",
       "      <td>93</td>\n",
       "      <td>99</td>\n",
       "      <td>79</td>\n",
       "      <td>70</td>\n",
       "      <td>NaN</td>\n",
       "    </tr>\n",
       "    <tr>\n",
       "      <th>3</th>\n",
       "      <td>91</td>\n",
       "      <td>80</td>\n",
       "      <td>100</td>\n",
       "      <td>72</td>\n",
       "      <td>NaN</td>\n",
       "    </tr>\n",
       "    <tr>\n",
       "      <th>5</th>\n",
       "      <td>91</td>\n",
       "      <td>87</td>\n",
       "      <td>98</td>\n",
       "      <td>70</td>\n",
       "      <td>NaN</td>\n",
       "    </tr>\n",
       "  </tbody>\n",
       "</table>\n",
       "</div>"
      ],
      "text/plain": [
       "   체육  미술   국어  수학  총합\n",
       "0  77  70   98  77 NaN\n",
       "2  69  87   99  98 NaN\n",
       "4  77  50   98  60 NaN\n",
       "1  93  99   79  70 NaN\n",
       "3  91  80  100  72 NaN\n",
       "5  91  87   98  70 NaN"
      ]
     },
     "execution_count": 83,
     "metadata": {},
     "output_type": "execute_result"
    }
   ],
   "source": [
    "examDF.reindex(index=[0,2,4,1,3,5], columns=['체육','미술', '국어','수학','총합'])"
   ]
  },
  {
   "cell_type": "code",
   "execution_count": null,
   "id": "e83514db-cc96-4927-8908-d510768255fe",
   "metadata": {},
   "outputs": [],
   "source": []
  }
 ],
 "metadata": {
  "kernelspec": {
   "display_name": "Python 3 (ipykernel)",
   "language": "python",
   "name": "python3"
  },
  "language_info": {
   "codemirror_mode": {
    "name": "ipython",
    "version": 3
   },
   "file_extension": ".py",
   "mimetype": "text/x-python",
   "name": "python",
   "nbconvert_exporter": "python",
   "pygments_lexer": "ipython3",
   "version": "3.8.18"
  }
 },
 "nbformat": 4,
 "nbformat_minor": 5
}
