{
 "cells": [
  {
   "cell_type": "markdown",
   "id": "2fe8f759-bfb5-49f3-81e5-170d50f11620",
   "metadata": {},
   "source": [
    "## [DataFrame 인덱스 다루기]"
   ]
  },
  {
   "cell_type": "markdown",
   "id": "09c42dd5-b2e3-4855-9401-681543bc0b43",
   "metadata": {},
   "source": [
    "- (1) 새로운 인덱스 설정: 컬럼->인덱스 설정"
   ]
  },
  {
   "cell_type": "markdown",
   "id": "20d88e6a-6125-4cbd-9c8e-0c7786fa1d17",
   "metadata": {},
   "source": [
    "(1): 모듈 로딩<hr>"
   ]
  },
  {
   "cell_type": "code",
   "execution_count": 3,
   "id": "bbe4b24c-5cc0-47e8-a84e-4a01b87c65cd",
   "metadata": {},
   "outputs": [],
   "source": [
    "import pandas as pd"
   ]
  },
  {
   "cell_type": "code",
   "execution_count": null,
   "id": "da34f099-b68b-431a-95cd-e370b6edad75",
   "metadata": {},
   "outputs": [],
   "source": []
  },
  {
   "cell_type": "markdown",
   "id": "a45c738b-f816-4344-b913-71e61fa53832",
   "metadata": {},
   "source": [
    "(2): 데이터 준비"
   ]
  },
  {
   "cell_type": "code",
   "execution_count": 4,
   "id": "63d83a5c-be30-495a-8e85-516a81588ed1",
   "metadata": {},
   "outputs": [],
   "source": [
    "#dict 타입의 데이터 준비\n",
    "exam = {'이름':['김박복병벽','콸콸이','휴지','뢴트게늄'],\n",
    "       '국어':[98,79,99,100],\n",
    "       '미술':[100,55,11,25],\n",
    "       '과학':[77,99,44,55],\n",
    "       '수학':[88,77,99,56]}"
   ]
  },
  {
   "cell_type": "markdown",
   "id": "cd51e664-0457-4a00-bda1-f9a9cf66d422",
   "metadata": {},
   "source": [
    "(3) 데이터 저장"
   ]
  },
  {
   "cell_type": "code",
   "execution_count": 6,
   "id": "e3fef723-ac7b-4859-bbea-87e59801f28e",
   "metadata": {},
   "outputs": [],
   "source": [
    "examDF = pd.DataFrame(exam)"
   ]
  },
  {
   "cell_type": "markdown",
   "id": "71c3dd11-bf81-4480-bcac-4455b47fb29b",
   "metadata": {},
   "source": [
    "(4) 데이터 확인"
   ]
  },
  {
   "cell_type": "code",
   "execution_count": 7,
   "id": "46cffbd4-6583-4b48-986c-3a3594cb9fad",
   "metadata": {},
   "outputs": [
    {
     "data": {
      "text/html": [
       "<div>\n",
       "<style scoped>\n",
       "    .dataframe tbody tr th:only-of-type {\n",
       "        vertical-align: middle;\n",
       "    }\n",
       "\n",
       "    .dataframe tbody tr th {\n",
       "        vertical-align: top;\n",
       "    }\n",
       "\n",
       "    .dataframe thead th {\n",
       "        text-align: right;\n",
       "    }\n",
       "</style>\n",
       "<table border=\"1\" class=\"dataframe\">\n",
       "  <thead>\n",
       "    <tr style=\"text-align: right;\">\n",
       "      <th></th>\n",
       "      <th>이름</th>\n",
       "      <th>국어</th>\n",
       "      <th>미술</th>\n",
       "      <th>과학</th>\n",
       "      <th>수학</th>\n",
       "    </tr>\n",
       "  </thead>\n",
       "  <tbody>\n",
       "    <tr>\n",
       "      <th>0</th>\n",
       "      <td>김박복병벽</td>\n",
       "      <td>98</td>\n",
       "      <td>100</td>\n",
       "      <td>77</td>\n",
       "      <td>88</td>\n",
       "    </tr>\n",
       "    <tr>\n",
       "      <th>1</th>\n",
       "      <td>콸콸이</td>\n",
       "      <td>79</td>\n",
       "      <td>55</td>\n",
       "      <td>99</td>\n",
       "      <td>77</td>\n",
       "    </tr>\n",
       "    <tr>\n",
       "      <th>2</th>\n",
       "      <td>휴지</td>\n",
       "      <td>99</td>\n",
       "      <td>11</td>\n",
       "      <td>44</td>\n",
       "      <td>99</td>\n",
       "    </tr>\n",
       "    <tr>\n",
       "      <th>3</th>\n",
       "      <td>뢴트게늄</td>\n",
       "      <td>100</td>\n",
       "      <td>25</td>\n",
       "      <td>55</td>\n",
       "      <td>56</td>\n",
       "    </tr>\n",
       "  </tbody>\n",
       "</table>\n",
       "</div>"
      ],
      "text/plain": [
       "      이름   국어   미술  과학  수학\n",
       "0  김박복병벽   98  100  77  88\n",
       "1    콸콸이   79   55  99  77\n",
       "2     휴지   99   11  44  99\n",
       "3   뢴트게늄  100   25  55  56"
      ]
     },
     "execution_count": 7,
     "metadata": {},
     "output_type": "execute_result"
    }
   ],
   "source": [
    "examDF"
   ]
  },
  {
   "cell_type": "markdown",
   "id": "c7abc3c1-c4ee-4f19-a5f2-eab6cfd28d7f",
   "metadata": {},
   "source": [
    "(5) 새로운 인덱스 설정: 1. 인덱스 일부 변경\n",
    "\n",
    " - DataFrame객체.rename(index = {기존인덱스: 새 인덱스, ....},inplace) *inplace: 원본데이터 적용여부(기본: 적용안함)\n",
    " - DataFrame객체.rename(columns={기존컬럼: 새 컬럼, ...},inplace)"
   ]
  },
  {
   "cell_type": "code",
   "execution_count": 10,
   "id": "dc0173e4-5077-460b-9f7f-eed656565303",
   "metadata": {},
   "outputs": [],
   "source": [
    "#행 인덱스 일부 변경\n",
    "#inplace paramenter : 원본 데이터프레임 변경 여부 결정: 기본-변경안함(False)\n",
    "examDF.rename(index = {0:'김'}, inplace = True) "
   ]
  },
  {
   "cell_type": "code",
   "execution_count": 11,
   "id": "66cfc222-3116-4494-b8c2-c6236e6515a0",
   "metadata": {},
   "outputs": [
    {
     "data": {
      "text/html": [
       "<div>\n",
       "<style scoped>\n",
       "    .dataframe tbody tr th:only-of-type {\n",
       "        vertical-align: middle;\n",
       "    }\n",
       "\n",
       "    .dataframe tbody tr th {\n",
       "        vertical-align: top;\n",
       "    }\n",
       "\n",
       "    .dataframe thead th {\n",
       "        text-align: right;\n",
       "    }\n",
       "</style>\n",
       "<table border=\"1\" class=\"dataframe\">\n",
       "  <thead>\n",
       "    <tr style=\"text-align: right;\">\n",
       "      <th></th>\n",
       "      <th>이름</th>\n",
       "      <th>국어</th>\n",
       "      <th>미술</th>\n",
       "      <th>과학</th>\n",
       "      <th>수학</th>\n",
       "    </tr>\n",
       "  </thead>\n",
       "  <tbody>\n",
       "    <tr>\n",
       "      <th>김</th>\n",
       "      <td>김박복병벽</td>\n",
       "      <td>98</td>\n",
       "      <td>100</td>\n",
       "      <td>77</td>\n",
       "      <td>88</td>\n",
       "    </tr>\n",
       "    <tr>\n",
       "      <th>1</th>\n",
       "      <td>콸콸이</td>\n",
       "      <td>79</td>\n",
       "      <td>55</td>\n",
       "      <td>99</td>\n",
       "      <td>77</td>\n",
       "    </tr>\n",
       "    <tr>\n",
       "      <th>2</th>\n",
       "      <td>휴지</td>\n",
       "      <td>99</td>\n",
       "      <td>11</td>\n",
       "      <td>44</td>\n",
       "      <td>99</td>\n",
       "    </tr>\n",
       "    <tr>\n",
       "      <th>3</th>\n",
       "      <td>뢴트게늄</td>\n",
       "      <td>100</td>\n",
       "      <td>25</td>\n",
       "      <td>55</td>\n",
       "      <td>56</td>\n",
       "    </tr>\n",
       "  </tbody>\n",
       "</table>\n",
       "</div>"
      ],
      "text/plain": [
       "      이름   국어   미술  과학  수학\n",
       "김  김박복병벽   98  100  77  88\n",
       "1    콸콸이   79   55  99  77\n",
       "2     휴지   99   11  44  99\n",
       "3   뢴트게늄  100   25  55  56"
      ]
     },
     "execution_count": 11,
     "metadata": {},
     "output_type": "execute_result"
    }
   ],
   "source": [
    "examDF"
   ]
  },
  {
   "cell_type": "code",
   "execution_count": 12,
   "id": "fba9aad3-39cc-4b2e-bceb-d4fbfd9bdc58",
   "metadata": {},
   "outputs": [
    {
     "data": {
      "text/html": [
       "<div>\n",
       "<style scoped>\n",
       "    .dataframe tbody tr th:only-of-type {\n",
       "        vertical-align: middle;\n",
       "    }\n",
       "\n",
       "    .dataframe tbody tr th {\n",
       "        vertical-align: top;\n",
       "    }\n",
       "\n",
       "    .dataframe thead th {\n",
       "        text-align: right;\n",
       "    }\n",
       "</style>\n",
       "<table border=\"1\" class=\"dataframe\">\n",
       "  <thead>\n",
       "    <tr style=\"text-align: right;\">\n",
       "      <th></th>\n",
       "      <th>이름</th>\n",
       "      <th>국어</th>\n",
       "      <th>음악</th>\n",
       "      <th>과학</th>\n",
       "      <th>수학</th>\n",
       "    </tr>\n",
       "  </thead>\n",
       "  <tbody>\n",
       "    <tr>\n",
       "      <th>김</th>\n",
       "      <td>김박복병벽</td>\n",
       "      <td>98</td>\n",
       "      <td>100</td>\n",
       "      <td>77</td>\n",
       "      <td>88</td>\n",
       "    </tr>\n",
       "    <tr>\n",
       "      <th>1</th>\n",
       "      <td>콸콸이</td>\n",
       "      <td>79</td>\n",
       "      <td>55</td>\n",
       "      <td>99</td>\n",
       "      <td>77</td>\n",
       "    </tr>\n",
       "    <tr>\n",
       "      <th>2</th>\n",
       "      <td>휴지</td>\n",
       "      <td>99</td>\n",
       "      <td>11</td>\n",
       "      <td>44</td>\n",
       "      <td>99</td>\n",
       "    </tr>\n",
       "    <tr>\n",
       "      <th>3</th>\n",
       "      <td>뢴트게늄</td>\n",
       "      <td>100</td>\n",
       "      <td>25</td>\n",
       "      <td>55</td>\n",
       "      <td>56</td>\n",
       "    </tr>\n",
       "  </tbody>\n",
       "</table>\n",
       "</div>"
      ],
      "text/plain": [
       "      이름   국어   음악  과학  수학\n",
       "김  김박복병벽   98  100  77  88\n",
       "1    콸콸이   79   55  99  77\n",
       "2     휴지   99   11  44  99\n",
       "3   뢴트게늄  100   25  55  56"
      ]
     },
     "execution_count": 12,
     "metadata": {},
     "output_type": "execute_result"
    }
   ],
   "source": [
    "#열 이름 인덱스 일부 변경\n",
    "examDF.rename(columns={'미술':'음악'}, inplace = True)"
   ]
  },
  {
   "cell_type": "markdown",
   "id": "a58984da-a927-45b9-8e0e-42695cad9262",
   "metadata": {},
   "source": [
    "(5) 새로운 인덱스 설정 방법: 2. 특정 컬럼 변경 - 인덱스: DF.set_index()\n",
    "        (유니크한 값을 가지고 뽑아야 함,."
   ]
  },
  {
   "cell_type": "code",
   "execution_count": 18,
   "id": "1b311581-d8e0-435c-ad2e-9edffc35943f",
   "metadata": {},
   "outputs": [
    {
     "data": {
      "text/html": [
       "<div>\n",
       "<style scoped>\n",
       "    .dataframe tbody tr th:only-of-type {\n",
       "        vertical-align: middle;\n",
       "    }\n",
       "\n",
       "    .dataframe tbody tr th {\n",
       "        vertical-align: top;\n",
       "    }\n",
       "\n",
       "    .dataframe thead th {\n",
       "        text-align: right;\n",
       "    }\n",
       "</style>\n",
       "<table border=\"1\" class=\"dataframe\">\n",
       "  <thead>\n",
       "    <tr style=\"text-align: right;\">\n",
       "      <th></th>\n",
       "      <th>국어</th>\n",
       "      <th>미술</th>\n",
       "      <th>과학</th>\n",
       "      <th>수학</th>\n",
       "    </tr>\n",
       "    <tr>\n",
       "      <th>이름</th>\n",
       "      <th></th>\n",
       "      <th></th>\n",
       "      <th></th>\n",
       "      <th></th>\n",
       "    </tr>\n",
       "  </thead>\n",
       "  <tbody>\n",
       "    <tr>\n",
       "      <th>김박복병벽</th>\n",
       "      <td>98</td>\n",
       "      <td>100</td>\n",
       "      <td>77</td>\n",
       "      <td>88</td>\n",
       "    </tr>\n",
       "    <tr>\n",
       "      <th>콸콸이</th>\n",
       "      <td>79</td>\n",
       "      <td>55</td>\n",
       "      <td>99</td>\n",
       "      <td>77</td>\n",
       "    </tr>\n",
       "    <tr>\n",
       "      <th>휴지</th>\n",
       "      <td>99</td>\n",
       "      <td>11</td>\n",
       "      <td>44</td>\n",
       "      <td>99</td>\n",
       "    </tr>\n",
       "    <tr>\n",
       "      <th>뢴트게늄</th>\n",
       "      <td>100</td>\n",
       "      <td>25</td>\n",
       "      <td>55</td>\n",
       "      <td>56</td>\n",
       "    </tr>\n",
       "  </tbody>\n",
       "</table>\n",
       "</div>"
      ],
      "text/plain": [
       "        국어   미술  과학  수학\n",
       "이름                     \n",
       "김박복병벽   98  100  77  88\n",
       "콸콸이     79   55  99  77\n",
       "휴지      99   11  44  99\n",
       "뢴트게늄   100   25  55  56"
      ]
     },
     "execution_count": 18,
     "metadata": {},
     "output_type": "execute_result"
    }
   ],
   "source": [
    "#1개 컬럼을 인덱스로 설정: inplace parameter = False->원본 적용 안 됨\n",
    "examDF2 = examDF.set_index('이름')"
   ]
  },
  {
   "cell_type": "code",
   "execution_count": null,
   "id": "1895c39b-b047-4daf-a669-2ad810bf7124",
   "metadata": {},
   "outputs": [],
   "source": [
    "examDF.loc['뢴트게늄']"
   ]
  },
  {
   "cell_type": "code",
   "execution_count": 20,
   "id": "d934415f-2227-4a84-a37e-fd4f92841046",
   "metadata": {},
   "outputs": [
    {
     "data": {
      "text/plain": [
       "MultiIndex([('김박복병벽',  98),\n",
       "            (  '콸콸이',  79),\n",
       "            (   '휴지',  99),\n",
       "            ( '뢴트게늄', 100)],\n",
       "           names=['이름', '국어'])"
      ]
     },
     "execution_count": 20,
     "metadata": {},
     "output_type": "execute_result"
    }
   ],
   "source": [
    "#2개의 컬럼을 행 인덱스로 설정: inplace parameter = False: 원본 적용 안 됨\n",
    "examDF3 = examDF.set_index(['이름', '국어'])\n",
    "examDF3.index"
   ]
  },
  {
   "cell_type": "code",
   "execution_count": null,
   "id": "fd756430-c282-4df6-a29c-69c992f64432",
   "metadata": {},
   "outputs": [],
   "source": [
    "examDF3.loc['뢴트게늄'] #value부터 끊어서 서치는 안 됨"
   ]
  },
  {
   "cell_type": "markdown",
   "id": "4f0fcc42-5bf0-4eb4-9531-721785d1335d",
   "metadata": {},
   "source": [
    "- (5) 새로운 인덱스 설정 방법: 3."
   ]
  },
  {
   "cell_type": "code",
   "execution_count": 27,
   "id": "b239f397-022a-475a-83e5-ff89ecf50ceb",
   "metadata": {},
   "outputs": [],
   "source": [
    "examDF.set_index('이름',inplace = True)"
   ]
  },
  {
   "cell_type": "code",
   "execution_count": 28,
   "id": "82cde62b-627e-4b3e-80e9-be563636cc8b",
   "metadata": {},
   "outputs": [
    {
     "data": {
      "text/html": [
       "<div>\n",
       "<style scoped>\n",
       "    .dataframe tbody tr th:only-of-type {\n",
       "        vertical-align: middle;\n",
       "    }\n",
       "\n",
       "    .dataframe tbody tr th {\n",
       "        vertical-align: top;\n",
       "    }\n",
       "\n",
       "    .dataframe thead th {\n",
       "        text-align: right;\n",
       "    }\n",
       "</style>\n",
       "<table border=\"1\" class=\"dataframe\">\n",
       "  <thead>\n",
       "    <tr style=\"text-align: right;\">\n",
       "      <th></th>\n",
       "      <th>이름</th>\n",
       "      <th>국어</th>\n",
       "      <th>미술</th>\n",
       "      <th>과학</th>\n",
       "      <th>수학</th>\n",
       "    </tr>\n",
       "  </thead>\n",
       "  <tbody>\n",
       "    <tr>\n",
       "      <th>0</th>\n",
       "      <td>김박복병벽</td>\n",
       "      <td>98</td>\n",
       "      <td>100</td>\n",
       "      <td>77</td>\n",
       "      <td>88</td>\n",
       "    </tr>\n",
       "    <tr>\n",
       "      <th>1</th>\n",
       "      <td>콸콸이</td>\n",
       "      <td>79</td>\n",
       "      <td>55</td>\n",
       "      <td>99</td>\n",
       "      <td>77</td>\n",
       "    </tr>\n",
       "    <tr>\n",
       "      <th>2</th>\n",
       "      <td>휴지</td>\n",
       "      <td>99</td>\n",
       "      <td>11</td>\n",
       "      <td>44</td>\n",
       "      <td>99</td>\n",
       "    </tr>\n",
       "    <tr>\n",
       "      <th>3</th>\n",
       "      <td>뢴트게늄</td>\n",
       "      <td>100</td>\n",
       "      <td>25</td>\n",
       "      <td>55</td>\n",
       "      <td>56</td>\n",
       "    </tr>\n",
       "  </tbody>\n",
       "</table>\n",
       "</div>"
      ],
      "text/plain": [
       "      이름   국어   미술  과학  수학\n",
       "0  김박복병벽   98  100  77  88\n",
       "1    콸콸이   79   55  99  77\n",
       "2     휴지   99   11  44  99\n",
       "3   뢴트게늄  100   25  55  56"
      ]
     },
     "execution_count": 28,
     "metadata": {},
     "output_type": "execute_result"
    }
   ],
   "source": [
    "#현재 행 인덱스를 컬럼으로 추가시킴\n",
    "examDF.reset_index()"
   ]
  },
  {
   "cell_type": "code",
   "execution_count": 31,
   "id": "5d8fec6c-21de-42d0-94f4-b0ffe942944e",
   "metadata": {},
   "outputs": [
    {
     "data": {
      "text/html": [
       "<div>\n",
       "<style scoped>\n",
       "    .dataframe tbody tr th:only-of-type {\n",
       "        vertical-align: middle;\n",
       "    }\n",
       "\n",
       "    .dataframe tbody tr th {\n",
       "        vertical-align: top;\n",
       "    }\n",
       "\n",
       "    .dataframe thead th {\n",
       "        text-align: right;\n",
       "    }\n",
       "</style>\n",
       "<table border=\"1\" class=\"dataframe\">\n",
       "  <thead>\n",
       "    <tr style=\"text-align: right;\">\n",
       "      <th></th>\n",
       "      <th>국어</th>\n",
       "      <th>미술</th>\n",
       "      <th>과학</th>\n",
       "      <th>수학</th>\n",
       "    </tr>\n",
       "  </thead>\n",
       "  <tbody>\n",
       "    <tr>\n",
       "      <th>0</th>\n",
       "      <td>98</td>\n",
       "      <td>100</td>\n",
       "      <td>77</td>\n",
       "      <td>88</td>\n",
       "    </tr>\n",
       "    <tr>\n",
       "      <th>1</th>\n",
       "      <td>79</td>\n",
       "      <td>55</td>\n",
       "      <td>99</td>\n",
       "      <td>77</td>\n",
       "    </tr>\n",
       "    <tr>\n",
       "      <th>2</th>\n",
       "      <td>99</td>\n",
       "      <td>11</td>\n",
       "      <td>44</td>\n",
       "      <td>99</td>\n",
       "    </tr>\n",
       "    <tr>\n",
       "      <th>3</th>\n",
       "      <td>100</td>\n",
       "      <td>25</td>\n",
       "      <td>55</td>\n",
       "      <td>56</td>\n",
       "    </tr>\n",
       "  </tbody>\n",
       "</table>\n",
       "</div>"
      ],
      "text/plain": [
       "    국어   미술  과학  수학\n",
       "0   98  100  77  88\n",
       "1   79   55  99  77\n",
       "2   99   11  44  99\n",
       "3  100   25  55  56"
      ]
     },
     "execution_count": 31,
     "metadata": {},
     "output_type": "execute_result"
    }
   ],
   "source": [
    "df2 = examDF.reset_index(drop = True) #현재 행 인덱스를 컬럼에 추가하지 않고 삭제\n",
    "df2"
   ]
  },
  {
   "cell_type": "code",
   "execution_count": null,
   "id": "4b1f9d07-4f6c-4e45-b704-9386faaf7153",
   "metadata": {},
   "outputs": [],
   "source": []
  }
 ],
 "metadata": {
  "kernelspec": {
   "display_name": "Python 3 (ipykernel)",
   "language": "python",
   "name": "python3"
  },
  "language_info": {
   "codemirror_mode": {
    "name": "ipython",
    "version": 3
   },
   "file_extension": ".py",
   "mimetype": "text/x-python",
   "name": "python",
   "nbconvert_exporter": "python",
   "pygments_lexer": "ipython3",
   "version": "3.8.18"
  }
 },
 "nbformat": 4,
 "nbformat_minor": 5
}
