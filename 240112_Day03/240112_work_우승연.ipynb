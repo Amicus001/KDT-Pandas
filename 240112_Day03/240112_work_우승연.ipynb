{
 "cells": [
  {
   "cell_type": "markdown",
   "id": "7120ddaa-4c52-449d-8364-08c95dc762dd",
   "metadata": {},
   "source": [
    "### [ 2장 시리즈 객체 코딩챌린지 ] "
   ]
  },
  {
   "cell_type": "code",
   "execution_count": 1,
   "id": "48072013-c12b-457e-b2af-2fd6efef1981",
   "metadata": {},
   "outputs": [],
   "source": [
    "import pandas as pd"
   ]
  },
  {
   "cell_type": "markdown",
   "id": "fe7cfc7c-3517-4cae-b571-b2ec6aca26a8",
   "metadata": {},
   "source": [
    "(1). Data"
   ]
  },
  {
   "cell_type": "code",
   "execution_count": 2,
   "id": "2b4c8b63-8278-4578-846f-43d6e53e7aec",
   "metadata": {},
   "outputs": [],
   "source": [
    "superheroes = [\"Batman\", \"Superman\", \"Spider-Man\", \"Iron Man\", \"Captain America\", \"Wonder Woman\"]\n",
    "strength_levels = (100, 120, 90, 95, 110, 120)"
   ]
  },
  {
   "cell_type": "markdown",
   "id": "cd2e11fa-7697-4756-b67d-fb78748661e9",
   "metadata": {},
   "source": [
    "(1): superhero 리스트를 사용하여 새 시리즈 객체 값 채우기"
   ]
  },
  {
   "cell_type": "code",
   "execution_count": 6,
   "id": "fdbd7d6c-b6f6-4eb1-a23d-0a9003608674",
   "metadata": {},
   "outputs": [],
   "source": [
    "superSr = pd. Series(superheroes)"
   ]
  },
  {
   "cell_type": "markdown",
   "id": "4620a25e-b29a-4e6a-97e6-61571de39a61",
   "metadata": {},
   "source": [
    "(2) strength_levels 리스트를 사용하여 새 시리즈 객체 값 채우기"
   ]
  },
  {
   "cell_type": "code",
   "execution_count": 19,
   "id": "2c4dd7e2-dcd7-4c1e-a748-6195d4b317b1",
   "metadata": {},
   "outputs": [],
   "source": [
    "strengthSr = pd.Series(strength_levels)"
   ]
  },
  {
   "cell_type": "markdown",
   "id": "d77d02af-f771-4b94-93fb-535d50e566b5",
   "metadata": {},
   "source": [
    "(3) Superheroes를 인덱스레이블, strength_levels를 값으로 사용하여 시리즈를 생성하시오. heroes 변수에 series 할당하기/"
   ]
  },
  {
   "cell_type": "code",
   "execution_count": 23,
   "id": "2670021f-266b-4019-bad7-f43aba102bbc",
   "metadata": {},
   "outputs": [],
   "source": [
    "heroes= pd.Series(strength_levels, superheroes)"
   ]
  },
  {
   "cell_type": "code",
   "execution_count": 24,
   "id": "8cc1febf-9497-4cae-9c53-bd71b2d9d0dc",
   "metadata": {},
   "outputs": [
    {
     "data": {
      "text/plain": [
       "Batman             100\n",
       "Superman           120\n",
       "Spider-Man          90\n",
       "Iron Man            95\n",
       "Captain America    110\n",
       "Wonder Woman       120\n",
       "dtype: int64"
      ]
     },
     "execution_count": 24,
     "metadata": {},
     "output_type": "execute_result"
    }
   ],
   "source": [
    "heroes"
   ]
  },
  {
   "cell_type": "markdown",
   "id": "2b5648eb-73a5-492d-869b-039b15dd6708",
   "metadata": {},
   "source": [
    "(4) heroes series의 처음 2개 행 추출하기"
   ]
  },
  {
   "cell_type": "code",
   "execution_count": 32,
   "id": "cfee009b-28ee-40d3-ae79-834ea2464a69",
   "metadata": {},
   "outputs": [
    {
     "data": {
      "text/plain": [
       "Batman      100\n",
       "Superman    120\n",
       "dtype: int64"
      ]
     },
     "execution_count": 32,
     "metadata": {},
     "output_type": "execute_result"
    }
   ],
   "source": [
    "heroes.head(2)"
   ]
  },
  {
   "cell_type": "markdown",
   "id": "eb81b8dc-10c3-4c87-a13e-1231dc6b1fd8",
   "metadata": {},
   "source": [
    "(5) heroes series의 마지막 4개 행 추출하기"
   ]
  },
  {
   "cell_type": "code",
   "execution_count": 33,
   "id": "b51eddfd-0aa8-4a07-8416-182968414629",
   "metadata": {},
   "outputs": [
    {
     "data": {
      "text/plain": [
       "Spider-Man          90\n",
       "Iron Man            95\n",
       "Captain America    110\n",
       "Wonder Woman       120\n",
       "dtype: int64"
      ]
     },
     "execution_count": 33,
     "metadata": {},
     "output_type": "execute_result"
    }
   ],
   "source": [
    "heroes.tail(4)"
   ]
  },
  {
   "cell_type": "markdown",
   "id": "1fd7f80c-5b42-4de5-af34-d7fa5cba880a",
   "metadata": {},
   "source": [
    "(6) heroes Series에 있는 고유한 값의 개수 구하기"
   ]
  },
  {
   "cell_type": "code",
   "execution_count": 48,
   "id": "3145c027-44f7-457a-88fd-234f539112cd",
   "metadata": {},
   "outputs": [
    {
     "data": {
      "text/plain": [
       "5"
      ]
     },
     "execution_count": 48,
     "metadata": {},
     "output_type": "execute_result"
    }
   ],
   "source": [
    "heroes.nunique()"
   ]
  },
  {
   "cell_type": "markdown",
   "id": "63d66a65-89f3-4100-9b0a-9d72c16311ea",
   "metadata": {},
   "source": [
    "(7) heroes의 능력치 평균 구하기b"
   ]
  },
  {
   "cell_type": "code",
   "execution_count": 37,
   "id": "35a16a93-2534-4e8e-989a-d40591e80ab6",
   "metadata": {},
   "outputs": [
    {
     "data": {
      "text/plain": [
       "105.83333333333333"
      ]
     },
     "execution_count": 37,
     "metadata": {},
     "output_type": "execute_result"
    }
   ],
   "source": [
    "strengthSr.mean()"
   ]
  },
  {
   "cell_type": "markdown",
   "id": "f1129b06-3e7a-4b71-9e2e-5c4eb449b1b6",
   "metadata": {},
   "source": [
    "(8)최대/최소 능력치 구하기"
   ]
  },
  {
   "cell_type": "code",
   "execution_count": 41,
   "id": "ab1d7344-dadc-4f0f-a3f6-a1de6a0e0008",
   "metadata": {},
   "outputs": [
    {
     "data": {
      "text/plain": [
       "(120, 90)"
      ]
     },
     "execution_count": 41,
     "metadata": {},
     "output_type": "execute_result"
    }
   ],
   "source": [
    "maximum = strengthSr.max()\n",
    "minimum = strengthSr.min()\n",
    "maximum , minimum"
   ]
  },
  {
   "cell_type": "markdown",
   "id": "37f504bd-d718-4d16-9979-6da344d763e1",
   "metadata": {},
   "source": [
    "(9) 능력치가 2배가 되면 각 슈퍼히어로의 능력치는 얼마인지 구하기"
   ]
  },
  {
   "cell_type": "code",
   "execution_count": 57,
   "id": "ade19e99-96cc-4fbd-ad1e-e04bc8870e4e",
   "metadata": {},
   "outputs": [
    {
     "data": {
      "text/plain": [
       "[[[0    200\n",
       "   1    240\n",
       "   2    180\n",
       "   3    190\n",
       "   4    220\n",
       "   5    240\n",
       "   dtype: int64],\n",
       "  0             Batman\n",
       "  1           Superman\n",
       "  2         Spider-Man\n",
       "  3           Iron Man\n",
       "  4    Captain America\n",
       "  5       Wonder Woman\n",
       "  dtype: object]]"
      ]
     },
     "execution_count": 57,
     "metadata": {},
     "output_type": "execute_result"
    }
   ],
   "source": [
    "a = [strengthSr.mul(2)]\n",
    "multiple = [[a, superSr]]\n",
    "multiple"
   ]
  },
  {
   "cell_type": "markdown",
   "id": "0179033a-4330-4cd4-ad4a-dcecd115efe8",
   "metadata": {},
   "source": [
    "(10) heroes Series를 파이썬 딕셔너리로 변환하기"
   ]
  },
  {
   "cell_type": "code",
   "execution_count": 58,
   "id": "56d4036d-d8da-4a8b-8267-e3a1a70157fd",
   "metadata": {},
   "outputs": [
    {
     "data": {
      "text/plain": [
       "{'Batman': 100,\n",
       " 'Superman': 120,\n",
       " 'Spider-Man': 90,\n",
       " 'Iron Man': 95,\n",
       " 'Captain America': 110,\n",
       " 'Wonder Woman': 120}"
      ]
     },
     "execution_count": 58,
     "metadata": {},
     "output_type": "execute_result"
    }
   ],
   "source": [
    "dict(heroes)"
   ]
  },
  {
   "cell_type": "markdown",
   "id": "9bc7270c-7db3-444e-8cda-0861dc17e90a",
   "metadata": {},
   "source": [
    "### [4장 코딩챌린지] <hv>"
   ]
  },
  {
   "cell_type": "markdown",
   "id": "ff27520f-5aee-405c-b1d4-ddd781a5be2a",
   "metadata": {},
   "source": [
    "(1) nfl. csv 파일을 가져오려면? Birthday 열의 값을 날짜/시간으로 변환하는 효과적인 방법은?"
   ]
  },
  {
   "cell_type": "code",
   "execution_count": 70,
   "id": "73f7c055-1dea-4c44-a0ef-23b855dd1fb7",
   "metadata": {
    "scrolled": true
   },
   "outputs": [],
   "source": [
    "#nfl.csv 가져오기\n",
    "pd.read_csv(\"../DATA/nfl.csv\")\n",
    "nfl = pd.read_csv(\"../DATA/nfl.csv\")\n"
   ]
  },
  {
   "cell_type": "code",
   "execution_count": 67,
   "id": "5ff09dcc-8b70-46bb-b20c-197c97bad277",
   "metadata": {
    "scrolled": true
   },
   "outputs": [
    {
     "data": {
      "text/html": [
       "<div>\n",
       "<style scoped>\n",
       "    .dataframe tbody tr th:only-of-type {\n",
       "        vertical-align: middle;\n",
       "    }\n",
       "\n",
       "    .dataframe tbody tr th {\n",
       "        vertical-align: top;\n",
       "    }\n",
       "\n",
       "    .dataframe thead th {\n",
       "        text-align: right;\n",
       "    }\n",
       "</style>\n",
       "<table border=\"1\" class=\"dataframe\">\n",
       "  <thead>\n",
       "    <tr style=\"text-align: right;\">\n",
       "      <th></th>\n",
       "      <th>Name</th>\n",
       "      <th>Team</th>\n",
       "      <th>Position</th>\n",
       "      <th>Birthday</th>\n",
       "      <th>Salary</th>\n",
       "    </tr>\n",
       "  </thead>\n",
       "  <tbody>\n",
       "    <tr>\n",
       "      <th>0</th>\n",
       "      <td>Tremon Smith</td>\n",
       "      <td>Philadelphia Eagles</td>\n",
       "      <td>RB</td>\n",
       "      <td>1996-07-20</td>\n",
       "      <td>570000</td>\n",
       "    </tr>\n",
       "    <tr>\n",
       "      <th>1</th>\n",
       "      <td>Shawn Williams</td>\n",
       "      <td>Cincinnati Bengals</td>\n",
       "      <td>SS</td>\n",
       "      <td>1991-05-13</td>\n",
       "      <td>3500000</td>\n",
       "    </tr>\n",
       "    <tr>\n",
       "      <th>2</th>\n",
       "      <td>Adam Butler</td>\n",
       "      <td>New England Patriots</td>\n",
       "      <td>DT</td>\n",
       "      <td>1994-04-12</td>\n",
       "      <td>645000</td>\n",
       "    </tr>\n",
       "    <tr>\n",
       "      <th>3</th>\n",
       "      <td>Derek Wolfe</td>\n",
       "      <td>Denver Broncos</td>\n",
       "      <td>DE</td>\n",
       "      <td>1990-02-24</td>\n",
       "      <td>8000000</td>\n",
       "    </tr>\n",
       "    <tr>\n",
       "      <th>4</th>\n",
       "      <td>Jake Ryan</td>\n",
       "      <td>Jacksonville Jaguars</td>\n",
       "      <td>OLB</td>\n",
       "      <td>1992-02-27</td>\n",
       "      <td>1000000</td>\n",
       "    </tr>\n",
       "    <tr>\n",
       "      <th>...</th>\n",
       "      <td>...</td>\n",
       "      <td>...</td>\n",
       "      <td>...</td>\n",
       "      <td>...</td>\n",
       "      <td>...</td>\n",
       "    </tr>\n",
       "    <tr>\n",
       "      <th>1650</th>\n",
       "      <td>Bashaud Breeland</td>\n",
       "      <td>Kansas City Chiefs</td>\n",
       "      <td>CB</td>\n",
       "      <td>1992-01-30</td>\n",
       "      <td>805000</td>\n",
       "    </tr>\n",
       "    <tr>\n",
       "      <th>1651</th>\n",
       "      <td>Craig James</td>\n",
       "      <td>Philadelphia Eagles</td>\n",
       "      <td>CB</td>\n",
       "      <td>1996-04-29</td>\n",
       "      <td>570000</td>\n",
       "    </tr>\n",
       "    <tr>\n",
       "      <th>1652</th>\n",
       "      <td>Jonotthan Harrison</td>\n",
       "      <td>New York Jets</td>\n",
       "      <td>C</td>\n",
       "      <td>1991-08-25</td>\n",
       "      <td>1500000</td>\n",
       "    </tr>\n",
       "    <tr>\n",
       "      <th>1653</th>\n",
       "      <td>Chuma Edoga</td>\n",
       "      <td>New York Jets</td>\n",
       "      <td>OT</td>\n",
       "      <td>1997-05-25</td>\n",
       "      <td>495000</td>\n",
       "    </tr>\n",
       "    <tr>\n",
       "      <th>1654</th>\n",
       "      <td>Tajae Sharpe</td>\n",
       "      <td>Tennessee Titans</td>\n",
       "      <td>WR</td>\n",
       "      <td>1994-12-23</td>\n",
       "      <td>2025000</td>\n",
       "    </tr>\n",
       "  </tbody>\n",
       "</table>\n",
       "<p>1655 rows × 5 columns</p>\n",
       "</div>"
      ],
      "text/plain": [
       "                    Name                  Team Position   Birthday   Salary\n",
       "0           Tremon Smith   Philadelphia Eagles       RB 1996-07-20   570000\n",
       "1         Shawn Williams    Cincinnati Bengals       SS 1991-05-13  3500000\n",
       "2            Adam Butler  New England Patriots       DT 1994-04-12   645000\n",
       "3            Derek Wolfe        Denver Broncos       DE 1990-02-24  8000000\n",
       "4              Jake Ryan  Jacksonville Jaguars      OLB 1992-02-27  1000000\n",
       "...                  ...                   ...      ...        ...      ...\n",
       "1650    Bashaud Breeland    Kansas City Chiefs       CB 1992-01-30   805000\n",
       "1651         Craig James   Philadelphia Eagles       CB 1996-04-29   570000\n",
       "1652  Jonotthan Harrison         New York Jets        C 1991-08-25  1500000\n",
       "1653         Chuma Edoga         New York Jets       OT 1997-05-25   495000\n",
       "1654        Tajae Sharpe      Tennessee Titans       WR 1994-12-23  2025000\n",
       "\n",
       "[1655 rows x 5 columns]"
      ]
     },
     "execution_count": 67,
     "metadata": {},
     "output_type": "execute_result"
    }
   ],
   "source": [
    "#Birthday 열의 값 날짜/시간으로 변환하는 법\n",
    "pd.read_csv(\"../DATA/nfl.csv\",parse_dates = [\"Birthday\"])"
   ]
  },
  {
   "cell_type": "markdown",
   "id": "179d78a5-b15d-45c5-835e-212321e6fa2b",
   "metadata": {},
   "source": [
    "(2). 선수의 이름을 DataFrame 인덱스로 지정하는 두 가지 방법은?"
   ]
  },
  {
   "cell_type": "code",
   "execution_count": 71,
   "id": "a68bef4f-1b49-44cc-8cad-00dd4b808a0e",
   "metadata": {},
   "outputs": [],
   "source": [
    "#방법 1\n",
    "nfl = nfl.set_index(\"Name\")"
   ]
  },
  {
   "cell_type": "code",
   "execution_count": 73,
   "id": "d71122a7-5539-4bc2-94c8-3546f12bf8fe",
   "metadata": {},
   "outputs": [
    {
     "ename": "FileNotFoundError",
     "evalue": "[Errno 2] No such file or directory: 'nfl.csv'",
     "output_type": "error",
     "traceback": [
      "\u001b[1;31m---------------------------------------------------------------------------\u001b[0m",
      "\u001b[1;31mFileNotFoundError\u001b[0m                         Traceback (most recent call last)",
      "Cell \u001b[1;32mIn[73], line 2\u001b[0m\n\u001b[0;32m      1\u001b[0m \u001b[38;5;66;03m#방법 2\u001b[39;00m\n\u001b[1;32m----> 2\u001b[0m nfl \u001b[38;5;241m=\u001b[39m \u001b[43mpd\u001b[49m\u001b[38;5;241;43m.\u001b[39;49m\u001b[43mread_csv\u001b[49m\u001b[43m(\u001b[49m\u001b[38;5;124;43m\"\u001b[39;49m\u001b[38;5;124;43mnfl.csv\u001b[39;49m\u001b[38;5;124;43m\"\u001b[39;49m\u001b[43m,\u001b[49m\u001b[43m \u001b[49m\u001b[43mindex_col\u001b[49m\u001b[43m \u001b[49m\u001b[38;5;241;43m=\u001b[39;49m\u001b[43m \u001b[49m\u001b[38;5;124;43m\"\u001b[39;49m\u001b[38;5;124;43mName\u001b[39;49m\u001b[38;5;124;43m\"\u001b[39;49m\u001b[43m,\u001b[49m\u001b[43m \u001b[49m\u001b[43mparse_dates\u001b[49m\u001b[43m \u001b[49m\u001b[38;5;241;43m=\u001b[39;49m\u001b[43m \u001b[49m\u001b[43m[\u001b[49m\u001b[38;5;124;43m\"\u001b[39;49m\u001b[38;5;124;43mBirthday\u001b[39;49m\u001b[38;5;124;43m\"\u001b[39;49m\u001b[43m]\u001b[49m\u001b[43m)\u001b[49m\n",
      "File \u001b[1;32m~\\anaconda3\\envs\\My_38\\lib\\site-packages\\pandas\\io\\parsers\\readers.py:912\u001b[0m, in \u001b[0;36mread_csv\u001b[1;34m(filepath_or_buffer, sep, delimiter, header, names, index_col, usecols, dtype, engine, converters, true_values, false_values, skipinitialspace, skiprows, skipfooter, nrows, na_values, keep_default_na, na_filter, verbose, skip_blank_lines, parse_dates, infer_datetime_format, keep_date_col, date_parser, date_format, dayfirst, cache_dates, iterator, chunksize, compression, thousands, decimal, lineterminator, quotechar, quoting, doublequote, escapechar, comment, encoding, encoding_errors, dialect, on_bad_lines, delim_whitespace, low_memory, memory_map, float_precision, storage_options, dtype_backend)\u001b[0m\n\u001b[0;32m    899\u001b[0m kwds_defaults \u001b[38;5;241m=\u001b[39m _refine_defaults_read(\n\u001b[0;32m    900\u001b[0m     dialect,\n\u001b[0;32m    901\u001b[0m     delimiter,\n\u001b[1;32m   (...)\u001b[0m\n\u001b[0;32m    908\u001b[0m     dtype_backend\u001b[38;5;241m=\u001b[39mdtype_backend,\n\u001b[0;32m    909\u001b[0m )\n\u001b[0;32m    910\u001b[0m kwds\u001b[38;5;241m.\u001b[39mupdate(kwds_defaults)\n\u001b[1;32m--> 912\u001b[0m \u001b[38;5;28;01mreturn\u001b[39;00m \u001b[43m_read\u001b[49m\u001b[43m(\u001b[49m\u001b[43mfilepath_or_buffer\u001b[49m\u001b[43m,\u001b[49m\u001b[43m \u001b[49m\u001b[43mkwds\u001b[49m\u001b[43m)\u001b[49m\n",
      "File \u001b[1;32m~\\anaconda3\\envs\\My_38\\lib\\site-packages\\pandas\\io\\parsers\\readers.py:577\u001b[0m, in \u001b[0;36m_read\u001b[1;34m(filepath_or_buffer, kwds)\u001b[0m\n\u001b[0;32m    574\u001b[0m _validate_names(kwds\u001b[38;5;241m.\u001b[39mget(\u001b[38;5;124m\"\u001b[39m\u001b[38;5;124mnames\u001b[39m\u001b[38;5;124m\"\u001b[39m, \u001b[38;5;28;01mNone\u001b[39;00m))\n\u001b[0;32m    576\u001b[0m \u001b[38;5;66;03m# Create the parser.\u001b[39;00m\n\u001b[1;32m--> 577\u001b[0m parser \u001b[38;5;241m=\u001b[39m \u001b[43mTextFileReader\u001b[49m\u001b[43m(\u001b[49m\u001b[43mfilepath_or_buffer\u001b[49m\u001b[43m,\u001b[49m\u001b[43m \u001b[49m\u001b[38;5;241;43m*\u001b[39;49m\u001b[38;5;241;43m*\u001b[39;49m\u001b[43mkwds\u001b[49m\u001b[43m)\u001b[49m\n\u001b[0;32m    579\u001b[0m \u001b[38;5;28;01mif\u001b[39;00m chunksize \u001b[38;5;129;01mor\u001b[39;00m iterator:\n\u001b[0;32m    580\u001b[0m     \u001b[38;5;28;01mreturn\u001b[39;00m parser\n",
      "File \u001b[1;32m~\\anaconda3\\envs\\My_38\\lib\\site-packages\\pandas\\io\\parsers\\readers.py:1407\u001b[0m, in \u001b[0;36mTextFileReader.__init__\u001b[1;34m(self, f, engine, **kwds)\u001b[0m\n\u001b[0;32m   1404\u001b[0m     \u001b[38;5;28mself\u001b[39m\u001b[38;5;241m.\u001b[39moptions[\u001b[38;5;124m\"\u001b[39m\u001b[38;5;124mhas_index_names\u001b[39m\u001b[38;5;124m\"\u001b[39m] \u001b[38;5;241m=\u001b[39m kwds[\u001b[38;5;124m\"\u001b[39m\u001b[38;5;124mhas_index_names\u001b[39m\u001b[38;5;124m\"\u001b[39m]\n\u001b[0;32m   1406\u001b[0m \u001b[38;5;28mself\u001b[39m\u001b[38;5;241m.\u001b[39mhandles: IOHandles \u001b[38;5;241m|\u001b[39m \u001b[38;5;28;01mNone\u001b[39;00m \u001b[38;5;241m=\u001b[39m \u001b[38;5;28;01mNone\u001b[39;00m\n\u001b[1;32m-> 1407\u001b[0m \u001b[38;5;28mself\u001b[39m\u001b[38;5;241m.\u001b[39m_engine \u001b[38;5;241m=\u001b[39m \u001b[38;5;28;43mself\u001b[39;49m\u001b[38;5;241;43m.\u001b[39;49m\u001b[43m_make_engine\u001b[49m\u001b[43m(\u001b[49m\u001b[43mf\u001b[49m\u001b[43m,\u001b[49m\u001b[43m \u001b[49m\u001b[38;5;28;43mself\u001b[39;49m\u001b[38;5;241;43m.\u001b[39;49m\u001b[43mengine\u001b[49m\u001b[43m)\u001b[49m\n",
      "File \u001b[1;32m~\\anaconda3\\envs\\My_38\\lib\\site-packages\\pandas\\io\\parsers\\readers.py:1661\u001b[0m, in \u001b[0;36mTextFileReader._make_engine\u001b[1;34m(self, f, engine)\u001b[0m\n\u001b[0;32m   1659\u001b[0m     \u001b[38;5;28;01mif\u001b[39;00m \u001b[38;5;124m\"\u001b[39m\u001b[38;5;124mb\u001b[39m\u001b[38;5;124m\"\u001b[39m \u001b[38;5;129;01mnot\u001b[39;00m \u001b[38;5;129;01min\u001b[39;00m mode:\n\u001b[0;32m   1660\u001b[0m         mode \u001b[38;5;241m+\u001b[39m\u001b[38;5;241m=\u001b[39m \u001b[38;5;124m\"\u001b[39m\u001b[38;5;124mb\u001b[39m\u001b[38;5;124m\"\u001b[39m\n\u001b[1;32m-> 1661\u001b[0m \u001b[38;5;28mself\u001b[39m\u001b[38;5;241m.\u001b[39mhandles \u001b[38;5;241m=\u001b[39m \u001b[43mget_handle\u001b[49m\u001b[43m(\u001b[49m\n\u001b[0;32m   1662\u001b[0m \u001b[43m    \u001b[49m\u001b[43mf\u001b[49m\u001b[43m,\u001b[49m\n\u001b[0;32m   1663\u001b[0m \u001b[43m    \u001b[49m\u001b[43mmode\u001b[49m\u001b[43m,\u001b[49m\n\u001b[0;32m   1664\u001b[0m \u001b[43m    \u001b[49m\u001b[43mencoding\u001b[49m\u001b[38;5;241;43m=\u001b[39;49m\u001b[38;5;28;43mself\u001b[39;49m\u001b[38;5;241;43m.\u001b[39;49m\u001b[43moptions\u001b[49m\u001b[38;5;241;43m.\u001b[39;49m\u001b[43mget\u001b[49m\u001b[43m(\u001b[49m\u001b[38;5;124;43m\"\u001b[39;49m\u001b[38;5;124;43mencoding\u001b[39;49m\u001b[38;5;124;43m\"\u001b[39;49m\u001b[43m,\u001b[49m\u001b[43m \u001b[49m\u001b[38;5;28;43;01mNone\u001b[39;49;00m\u001b[43m)\u001b[49m\u001b[43m,\u001b[49m\n\u001b[0;32m   1665\u001b[0m \u001b[43m    \u001b[49m\u001b[43mcompression\u001b[49m\u001b[38;5;241;43m=\u001b[39;49m\u001b[38;5;28;43mself\u001b[39;49m\u001b[38;5;241;43m.\u001b[39;49m\u001b[43moptions\u001b[49m\u001b[38;5;241;43m.\u001b[39;49m\u001b[43mget\u001b[49m\u001b[43m(\u001b[49m\u001b[38;5;124;43m\"\u001b[39;49m\u001b[38;5;124;43mcompression\u001b[39;49m\u001b[38;5;124;43m\"\u001b[39;49m\u001b[43m,\u001b[49m\u001b[43m \u001b[49m\u001b[38;5;28;43;01mNone\u001b[39;49;00m\u001b[43m)\u001b[49m\u001b[43m,\u001b[49m\n\u001b[0;32m   1666\u001b[0m \u001b[43m    \u001b[49m\u001b[43mmemory_map\u001b[49m\u001b[38;5;241;43m=\u001b[39;49m\u001b[38;5;28;43mself\u001b[39;49m\u001b[38;5;241;43m.\u001b[39;49m\u001b[43moptions\u001b[49m\u001b[38;5;241;43m.\u001b[39;49m\u001b[43mget\u001b[49m\u001b[43m(\u001b[49m\u001b[38;5;124;43m\"\u001b[39;49m\u001b[38;5;124;43mmemory_map\u001b[39;49m\u001b[38;5;124;43m\"\u001b[39;49m\u001b[43m,\u001b[49m\u001b[43m \u001b[49m\u001b[38;5;28;43;01mFalse\u001b[39;49;00m\u001b[43m)\u001b[49m\u001b[43m,\u001b[49m\n\u001b[0;32m   1667\u001b[0m \u001b[43m    \u001b[49m\u001b[43mis_text\u001b[49m\u001b[38;5;241;43m=\u001b[39;49m\u001b[43mis_text\u001b[49m\u001b[43m,\u001b[49m\n\u001b[0;32m   1668\u001b[0m \u001b[43m    \u001b[49m\u001b[43merrors\u001b[49m\u001b[38;5;241;43m=\u001b[39;49m\u001b[38;5;28;43mself\u001b[39;49m\u001b[38;5;241;43m.\u001b[39;49m\u001b[43moptions\u001b[49m\u001b[38;5;241;43m.\u001b[39;49m\u001b[43mget\u001b[49m\u001b[43m(\u001b[49m\u001b[38;5;124;43m\"\u001b[39;49m\u001b[38;5;124;43mencoding_errors\u001b[39;49m\u001b[38;5;124;43m\"\u001b[39;49m\u001b[43m,\u001b[49m\u001b[43m \u001b[49m\u001b[38;5;124;43m\"\u001b[39;49m\u001b[38;5;124;43mstrict\u001b[39;49m\u001b[38;5;124;43m\"\u001b[39;49m\u001b[43m)\u001b[49m\u001b[43m,\u001b[49m\n\u001b[0;32m   1669\u001b[0m \u001b[43m    \u001b[49m\u001b[43mstorage_options\u001b[49m\u001b[38;5;241;43m=\u001b[39;49m\u001b[38;5;28;43mself\u001b[39;49m\u001b[38;5;241;43m.\u001b[39;49m\u001b[43moptions\u001b[49m\u001b[38;5;241;43m.\u001b[39;49m\u001b[43mget\u001b[49m\u001b[43m(\u001b[49m\u001b[38;5;124;43m\"\u001b[39;49m\u001b[38;5;124;43mstorage_options\u001b[39;49m\u001b[38;5;124;43m\"\u001b[39;49m\u001b[43m,\u001b[49m\u001b[43m \u001b[49m\u001b[38;5;28;43;01mNone\u001b[39;49;00m\u001b[43m)\u001b[49m\u001b[43m,\u001b[49m\n\u001b[0;32m   1670\u001b[0m \u001b[43m\u001b[49m\u001b[43m)\u001b[49m\n\u001b[0;32m   1671\u001b[0m \u001b[38;5;28;01massert\u001b[39;00m \u001b[38;5;28mself\u001b[39m\u001b[38;5;241m.\u001b[39mhandles \u001b[38;5;129;01mis\u001b[39;00m \u001b[38;5;129;01mnot\u001b[39;00m \u001b[38;5;28;01mNone\u001b[39;00m\n\u001b[0;32m   1672\u001b[0m f \u001b[38;5;241m=\u001b[39m \u001b[38;5;28mself\u001b[39m\u001b[38;5;241m.\u001b[39mhandles\u001b[38;5;241m.\u001b[39mhandle\n",
      "File \u001b[1;32m~\\anaconda3\\envs\\My_38\\lib\\site-packages\\pandas\\io\\common.py:859\u001b[0m, in \u001b[0;36mget_handle\u001b[1;34m(path_or_buf, mode, encoding, compression, memory_map, is_text, errors, storage_options)\u001b[0m\n\u001b[0;32m    854\u001b[0m \u001b[38;5;28;01melif\u001b[39;00m \u001b[38;5;28misinstance\u001b[39m(handle, \u001b[38;5;28mstr\u001b[39m):\n\u001b[0;32m    855\u001b[0m     \u001b[38;5;66;03m# Check whether the filename is to be opened in binary mode.\u001b[39;00m\n\u001b[0;32m    856\u001b[0m     \u001b[38;5;66;03m# Binary mode does not support 'encoding' and 'newline'.\u001b[39;00m\n\u001b[0;32m    857\u001b[0m     \u001b[38;5;28;01mif\u001b[39;00m ioargs\u001b[38;5;241m.\u001b[39mencoding \u001b[38;5;129;01mand\u001b[39;00m \u001b[38;5;124m\"\u001b[39m\u001b[38;5;124mb\u001b[39m\u001b[38;5;124m\"\u001b[39m \u001b[38;5;129;01mnot\u001b[39;00m \u001b[38;5;129;01min\u001b[39;00m ioargs\u001b[38;5;241m.\u001b[39mmode:\n\u001b[0;32m    858\u001b[0m         \u001b[38;5;66;03m# Encoding\u001b[39;00m\n\u001b[1;32m--> 859\u001b[0m         handle \u001b[38;5;241m=\u001b[39m \u001b[38;5;28;43mopen\u001b[39;49m\u001b[43m(\u001b[49m\n\u001b[0;32m    860\u001b[0m \u001b[43m            \u001b[49m\u001b[43mhandle\u001b[49m\u001b[43m,\u001b[49m\n\u001b[0;32m    861\u001b[0m \u001b[43m            \u001b[49m\u001b[43mioargs\u001b[49m\u001b[38;5;241;43m.\u001b[39;49m\u001b[43mmode\u001b[49m\u001b[43m,\u001b[49m\n\u001b[0;32m    862\u001b[0m \u001b[43m            \u001b[49m\u001b[43mencoding\u001b[49m\u001b[38;5;241;43m=\u001b[39;49m\u001b[43mioargs\u001b[49m\u001b[38;5;241;43m.\u001b[39;49m\u001b[43mencoding\u001b[49m\u001b[43m,\u001b[49m\n\u001b[0;32m    863\u001b[0m \u001b[43m            \u001b[49m\u001b[43merrors\u001b[49m\u001b[38;5;241;43m=\u001b[39;49m\u001b[43merrors\u001b[49m\u001b[43m,\u001b[49m\n\u001b[0;32m    864\u001b[0m \u001b[43m            \u001b[49m\u001b[43mnewline\u001b[49m\u001b[38;5;241;43m=\u001b[39;49m\u001b[38;5;124;43m\"\u001b[39;49m\u001b[38;5;124;43m\"\u001b[39;49m\u001b[43m,\u001b[49m\n\u001b[0;32m    865\u001b[0m \u001b[43m        \u001b[49m\u001b[43m)\u001b[49m\n\u001b[0;32m    866\u001b[0m     \u001b[38;5;28;01melse\u001b[39;00m:\n\u001b[0;32m    867\u001b[0m         \u001b[38;5;66;03m# Binary mode\u001b[39;00m\n\u001b[0;32m    868\u001b[0m         handle \u001b[38;5;241m=\u001b[39m \u001b[38;5;28mopen\u001b[39m(handle, ioargs\u001b[38;5;241m.\u001b[39mmode)\n",
      "\u001b[1;31mFileNotFoundError\u001b[0m: [Errno 2] No such file or directory: 'nfl.csv'"
     ]
    }
   ],
   "source": [
    "#방법 2\n",
    "nfl = pd.read_csv(\"nfl.csv\", index_col = \"Name\", parse_dates = [\"Birthday\"])"
   ]
  },
  {
   "cell_type": "markdown",
   "id": "8c1d8355-2c7c-4d0e-9ffb-7a5cab2a3c31",
   "metadata": {},
   "source": [
    "(3) 이 데이터셋에서 팀당 선수가 몇 명인지 계산하는 방법은?"
   ]
  },
  {
   "cell_type": "code",
   "execution_count": 74,
   "id": "08f14973-cfcd-41a2-a5f2-e15b73781fcc",
   "metadata": {},
   "outputs": [
    {
     "data": {
      "text/plain": [
       "Team\n",
       "New York Jets          58\n",
       "Kansas City Chiefs     56\n",
       "Washington Redskins    56\n",
       "New Orleans Saints     55\n",
       "San Francisco 49Ers    55\n",
       "Name: count, dtype: int64"
      ]
     },
     "execution_count": 74,
     "metadata": {},
     "output_type": "execute_result"
    }
   ],
   "source": [
    "nfl.Team.value_counts().head()"
   ]
  },
  {
   "cell_type": "markdown",
   "id": "721fcaec-7e86-4ca3-bb91-29ac9b0bba3e",
   "metadata": {},
   "source": [
    "(4) 가장 높은 연봉을 받는 선수 5명은?"
   ]
  },
  {
   "cell_type": "code",
   "execution_count": 75,
   "id": "f31e4396-28be-4290-87dd-3991147ecdc6",
   "metadata": {},
   "outputs": [
    {
     "data": {
      "text/plain": [
       "<bound method NDFrame.head of                                   Team Position    Birthday    Salary\n",
       "Name                                                                 \n",
       "Tyrone Swoopes        Seattle Seahawks       TE  11/14/1994    378000\n",
       "Holton Hill          Minnesota Vikings       CB   3/28/1997    435882\n",
       "Alex Redmond        Cincinnati Bengals        G   1/18/1995    493236\n",
       "Devin Singletary         Buffalo Bills       RB    9/3/1997    495000\n",
       "Elgton Jenkins       Green Bay Packers        G  12/26/1995    495000\n",
       "...                                ...      ...         ...       ...\n",
       "Jimmy Garoppolo    San Francisco 49Ers       QB   11/2/1991  17200000\n",
       "Derek Carr             Oakland Raiders       QB   3/28/1991  19900000\n",
       "Jameis Winston    Tampa Bay Buccaneers       QB    1/6/1994  20922000\n",
       "Marcus Mariota        Tennessee Titans       QB  10/30/1993  20922000\n",
       "Kirk Cousins         Minnesota Vikings       QB   8/19/1988  27500000\n",
       "\n",
       "[1655 rows x 4 columns]>"
      ]
     },
     "execution_count": 75,
     "metadata": {},
     "output_type": "execute_result"
    }
   ],
   "source": [
    "nfl.sort_values(\"Salary\").head"
   ]
  },
  {
   "cell_type": "markdown",
   "id": "b56bf6dc-98c1-40fe-ac52-f729b0f41fb0",
   "metadata": {},
   "source": [
    "(5) 데이터셋에서 먼저 팀을 알파벳 순서로 정렬한 다음 연봉을 내림차순으로 정렬하려면?"
   ]
  },
  {
   "cell_type": "code",
   "execution_count": 76,
   "id": "1281a91b-03ca-4b46-ac07-9a75ac8e9f25",
   "metadata": {},
   "outputs": [
    {
     "data": {
      "text/html": [
       "<div>\n",
       "<style scoped>\n",
       "    .dataframe tbody tr th:only-of-type {\n",
       "        vertical-align: middle;\n",
       "    }\n",
       "\n",
       "    .dataframe tbody tr th {\n",
       "        vertical-align: top;\n",
       "    }\n",
       "\n",
       "    .dataframe thead th {\n",
       "        text-align: right;\n",
       "    }\n",
       "</style>\n",
       "<table border=\"1\" class=\"dataframe\">\n",
       "  <thead>\n",
       "    <tr style=\"text-align: right;\">\n",
       "      <th></th>\n",
       "      <th>Team</th>\n",
       "      <th>Position</th>\n",
       "      <th>Birthday</th>\n",
       "      <th>Salary</th>\n",
       "    </tr>\n",
       "    <tr>\n",
       "      <th>Name</th>\n",
       "      <th></th>\n",
       "      <th></th>\n",
       "      <th></th>\n",
       "      <th></th>\n",
       "    </tr>\n",
       "  </thead>\n",
       "  <tbody>\n",
       "    <tr>\n",
       "      <th>Chandler Jones</th>\n",
       "      <td>Arizona Cardinals</td>\n",
       "      <td>OLB</td>\n",
       "      <td>2/27/1990</td>\n",
       "      <td>16500000</td>\n",
       "    </tr>\n",
       "    <tr>\n",
       "      <th>Patrick Peterson</th>\n",
       "      <td>Arizona Cardinals</td>\n",
       "      <td>CB</td>\n",
       "      <td>7/11/1990</td>\n",
       "      <td>11000000</td>\n",
       "    </tr>\n",
       "    <tr>\n",
       "      <th>Larry Fitzgerald</th>\n",
       "      <td>Arizona Cardinals</td>\n",
       "      <td>WR</td>\n",
       "      <td>8/31/1983</td>\n",
       "      <td>11000000</td>\n",
       "    </tr>\n",
       "    <tr>\n",
       "      <th>David Johnson</th>\n",
       "      <td>Arizona Cardinals</td>\n",
       "      <td>RB</td>\n",
       "      <td>12/16/1991</td>\n",
       "      <td>5700000</td>\n",
       "    </tr>\n",
       "    <tr>\n",
       "      <th>Justin Pugh</th>\n",
       "      <td>Arizona Cardinals</td>\n",
       "      <td>G</td>\n",
       "      <td>8/15/1990</td>\n",
       "      <td>5000000</td>\n",
       "    </tr>\n",
       "    <tr>\n",
       "      <th>...</th>\n",
       "      <td>...</td>\n",
       "      <td>...</td>\n",
       "      <td>...</td>\n",
       "      <td>...</td>\n",
       "    </tr>\n",
       "    <tr>\n",
       "      <th>Ross Pierschbacher</th>\n",
       "      <td>Washington Redskins</td>\n",
       "      <td>C</td>\n",
       "      <td>5/5/1995</td>\n",
       "      <td>495000</td>\n",
       "    </tr>\n",
       "    <tr>\n",
       "      <th>Kelvin Harmon</th>\n",
       "      <td>Washington Redskins</td>\n",
       "      <td>WR</td>\n",
       "      <td>12/15/1996</td>\n",
       "      <td>495000</td>\n",
       "    </tr>\n",
       "    <tr>\n",
       "      <th>Wes Martin</th>\n",
       "      <td>Washington Redskins</td>\n",
       "      <td>G</td>\n",
       "      <td>5/9/1996</td>\n",
       "      <td>495000</td>\n",
       "    </tr>\n",
       "    <tr>\n",
       "      <th>Jimmy Moreland</th>\n",
       "      <td>Washington Redskins</td>\n",
       "      <td>CB</td>\n",
       "      <td>8/26/1995</td>\n",
       "      <td>495000</td>\n",
       "    </tr>\n",
       "    <tr>\n",
       "      <th>Jeremy Reaves</th>\n",
       "      <td>Washington Redskins</td>\n",
       "      <td>SS</td>\n",
       "      <td>8/29/1996</td>\n",
       "      <td>495000</td>\n",
       "    </tr>\n",
       "  </tbody>\n",
       "</table>\n",
       "<p>1655 rows × 4 columns</p>\n",
       "</div>"
      ],
      "text/plain": [
       "                                   Team Position    Birthday    Salary\n",
       "Name                                                                  \n",
       "Chandler Jones        Arizona Cardinals      OLB   2/27/1990  16500000\n",
       "Patrick Peterson      Arizona Cardinals       CB   7/11/1990  11000000\n",
       "Larry Fitzgerald      Arizona Cardinals       WR   8/31/1983  11000000\n",
       "David Johnson         Arizona Cardinals       RB  12/16/1991   5700000\n",
       "Justin Pugh           Arizona Cardinals        G   8/15/1990   5000000\n",
       "...                                 ...      ...         ...       ...\n",
       "Ross Pierschbacher  Washington Redskins        C    5/5/1995    495000\n",
       "Kelvin Harmon       Washington Redskins       WR  12/15/1996    495000\n",
       "Wes Martin          Washington Redskins        G    5/9/1996    495000\n",
       "Jimmy Moreland      Washington Redskins       CB   8/26/1995    495000\n",
       "Jeremy Reaves       Washington Redskins       SS   8/29/1996    495000\n",
       "\n",
       "[1655 rows x 4 columns]"
      ]
     },
     "execution_count": 76,
     "metadata": {},
     "output_type": "execute_result"
    }
   ],
   "source": [
    "nfl.sort_values(by = [\"Team\", \"Salary\"],ascending = [True, False])"
   ]
  },
  {
   "cell_type": "markdown",
   "id": "860e5ac4-a57e-4a60-a79a-bb610c3c026c",
   "metadata": {},
   "source": [
    "(6) New York Jets 팀에서 가장 나이가 많은 선수와 그의 생일은?"
   ]
  },
  {
   "cell_type": "code",
   "execution_count": 77,
   "id": "4c67e87a-456e-4bd8-976b-d8bac5d8f375",
   "metadata": {},
   "outputs": [
    {
     "data": {
      "text/html": [
       "<div>\n",
       "<style scoped>\n",
       "    .dataframe tbody tr th:only-of-type {\n",
       "        vertical-align: middle;\n",
       "    }\n",
       "\n",
       "    .dataframe tbody tr th {\n",
       "        vertical-align: top;\n",
       "    }\n",
       "\n",
       "    .dataframe thead th {\n",
       "        text-align: right;\n",
       "    }\n",
       "</style>\n",
       "<table border=\"1\" class=\"dataframe\">\n",
       "  <thead>\n",
       "    <tr style=\"text-align: right;\">\n",
       "      <th></th>\n",
       "      <th>Name</th>\n",
       "      <th>Position</th>\n",
       "      <th>Birthday</th>\n",
       "      <th>Salary</th>\n",
       "    </tr>\n",
       "    <tr>\n",
       "      <th>Team</th>\n",
       "      <th></th>\n",
       "      <th></th>\n",
       "      <th></th>\n",
       "      <th></th>\n",
       "    </tr>\n",
       "  </thead>\n",
       "  <tbody>\n",
       "    <tr>\n",
       "      <th>Philadelphia Eagles</th>\n",
       "      <td>Tremon Smith</td>\n",
       "      <td>RB</td>\n",
       "      <td>7/20/1996</td>\n",
       "      <td>570000</td>\n",
       "    </tr>\n",
       "    <tr>\n",
       "      <th>Cincinnati Bengals</th>\n",
       "      <td>Shawn Williams</td>\n",
       "      <td>SS</td>\n",
       "      <td>5/13/1991</td>\n",
       "      <td>3500000</td>\n",
       "    </tr>\n",
       "    <tr>\n",
       "      <th>New England Patriots</th>\n",
       "      <td>Adam Butler</td>\n",
       "      <td>DT</td>\n",
       "      <td>4/12/1994</td>\n",
       "      <td>645000</td>\n",
       "    </tr>\n",
       "  </tbody>\n",
       "</table>\n",
       "</div>"
      ],
      "text/plain": [
       "                                Name Position   Birthday   Salary\n",
       "Team                                                             \n",
       "Philadelphia Eagles     Tremon Smith       RB  7/20/1996   570000\n",
       "Cincinnati Bengals    Shawn Williams       SS  5/13/1991  3500000\n",
       "New England Patriots     Adam Butler       DT  4/12/1994   645000"
      ]
     },
     "execution_count": 77,
     "metadata": {},
     "output_type": "execute_result"
    }
   ],
   "source": [
    "nfl = nfl.reset_index().set_index(keys = \"Team\")\n",
    "nfl.head(3)"
   ]
  },
  {
   "cell_type": "code",
   "execution_count": 79,
   "id": "84737a1b-d58c-4939-a557-c8c3ba8c2492",
   "metadata": {},
   "outputs": [
    {
     "data": {
      "text/html": [
       "<div>\n",
       "<style scoped>\n",
       "    .dataframe tbody tr th:only-of-type {\n",
       "        vertical-align: middle;\n",
       "    }\n",
       "\n",
       "    .dataframe tbody tr th {\n",
       "        vertical-align: top;\n",
       "    }\n",
       "\n",
       "    .dataframe thead th {\n",
       "        text-align: right;\n",
       "    }\n",
       "</style>\n",
       "<table border=\"1\" class=\"dataframe\">\n",
       "  <thead>\n",
       "    <tr style=\"text-align: right;\">\n",
       "      <th></th>\n",
       "      <th>Name</th>\n",
       "      <th>Position</th>\n",
       "      <th>Birthday</th>\n",
       "      <th>Salary</th>\n",
       "    </tr>\n",
       "    <tr>\n",
       "      <th>Team</th>\n",
       "      <th></th>\n",
       "      <th></th>\n",
       "      <th></th>\n",
       "      <th></th>\n",
       "    </tr>\n",
       "  </thead>\n",
       "  <tbody>\n",
       "    <tr>\n",
       "      <th>New York Jets</th>\n",
       "      <td>Bronson Kaufusi</td>\n",
       "      <td>DE</td>\n",
       "      <td>7/6/1991</td>\n",
       "      <td>645000</td>\n",
       "    </tr>\n",
       "    <tr>\n",
       "      <th>New York Jets</th>\n",
       "      <td>Darryl Roberts</td>\n",
       "      <td>CB</td>\n",
       "      <td>11/26/1990</td>\n",
       "      <td>1000000</td>\n",
       "    </tr>\n",
       "    <tr>\n",
       "      <th>New York Jets</th>\n",
       "      <td>Jordan Willis</td>\n",
       "      <td>DE</td>\n",
       "      <td>5/2/1995</td>\n",
       "      <td>754750</td>\n",
       "    </tr>\n",
       "    <tr>\n",
       "      <th>New York Jets</th>\n",
       "      <td>Quinnen Williams</td>\n",
       "      <td>DE</td>\n",
       "      <td>12/21/1997</td>\n",
       "      <td>495000</td>\n",
       "    </tr>\n",
       "    <tr>\n",
       "      <th>New York Jets</th>\n",
       "      <td>Sam Ficken</td>\n",
       "      <td>K</td>\n",
       "      <td>12/14/1992</td>\n",
       "      <td>495000</td>\n",
       "    </tr>\n",
       "  </tbody>\n",
       "</table>\n",
       "</div>"
      ],
      "text/plain": [
       "                           Name Position    Birthday   Salary\n",
       "Team                                                         \n",
       "New York Jets   Bronson Kaufusi       DE    7/6/1991   645000\n",
       "New York Jets    Darryl Roberts       CB  11/26/1990  1000000\n",
       "New York Jets     Jordan Willis       DE    5/2/1995   754750\n",
       "New York Jets  Quinnen Williams       DE  12/21/1997   495000\n",
       "New York Jets        Sam Ficken        K  12/14/1992   495000"
      ]
     },
     "execution_count": 79,
     "metadata": {},
     "output_type": "execute_result"
    }
   ],
   "source": [
    "nfl.loc[\"New York Jets\"].head()"
   ]
  },
  {
   "cell_type": "code",
   "execution_count": 80,
   "id": "e13cf9da-b252-4fe0-9b65-583ef07f510c",
   "metadata": {},
   "outputs": [
    {
     "data": {
      "text/html": [
       "<div>\n",
       "<style scoped>\n",
       "    .dataframe tbody tr th:only-of-type {\n",
       "        vertical-align: middle;\n",
       "    }\n",
       "\n",
       "    .dataframe tbody tr th {\n",
       "        vertical-align: top;\n",
       "    }\n",
       "\n",
       "    .dataframe thead th {\n",
       "        text-align: right;\n",
       "    }\n",
       "</style>\n",
       "<table border=\"1\" class=\"dataframe\">\n",
       "  <thead>\n",
       "    <tr style=\"text-align: right;\">\n",
       "      <th></th>\n",
       "      <th>Name</th>\n",
       "      <th>Position</th>\n",
       "      <th>Birthday</th>\n",
       "      <th>Salary</th>\n",
       "    </tr>\n",
       "    <tr>\n",
       "      <th>Team</th>\n",
       "      <th></th>\n",
       "      <th></th>\n",
       "      <th></th>\n",
       "      <th></th>\n",
       "    </tr>\n",
       "  </thead>\n",
       "  <tbody>\n",
       "    <tr>\n",
       "      <th>New York Jets</th>\n",
       "      <td>Trumaine Johnson</td>\n",
       "      <td>CB</td>\n",
       "      <td>1/1/1990</td>\n",
       "      <td>8000000</td>\n",
       "    </tr>\n",
       "  </tbody>\n",
       "</table>\n",
       "</div>"
      ],
      "text/plain": [
       "                           Name Position  Birthday   Salary\n",
       "Team                                                       \n",
       "New York Jets  Trumaine Johnson       CB  1/1/1990  8000000"
      ]
     },
     "execution_count": 80,
     "metadata": {},
     "output_type": "execute_result"
    }
   ],
   "source": [
    "nfl.loc[\"New York Jets\"].sort_values(\"Birthday\").head(1)"
   ]
  },
  {
   "cell_type": "code",
   "execution_count": null,
   "id": "cab01c75-2579-4a18-ae88-03037e7a4027",
   "metadata": {},
   "outputs": [],
   "source": []
  }
 ],
 "metadata": {
  "kernelspec": {
   "display_name": "Python 3 (ipykernel)",
   "language": "python",
   "name": "python3"
  },
  "language_info": {
   "codemirror_mode": {
    "name": "ipython",
    "version": 3
   },
   "file_extension": ".py",
   "mimetype": "text/x-python",
   "name": "python",
   "nbconvert_exporter": "python",
   "pygments_lexer": "ipython3",
   "version": "3.8.18"
  }
 },
 "nbformat": 4,
 "nbformat_minor": 5
}
