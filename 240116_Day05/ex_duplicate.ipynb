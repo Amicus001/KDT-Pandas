{
 "cells": [
  {
   "cell_type": "markdown",
   "id": "0e9ee0d2-51c7-4f14-8e18-46eb08fc2860",
   "metadata": {},
   "source": [
    "## 중복 데이터 처리\n",
    "- 중복 데이터 기준 = 행(row)\n",
    "- 행 단위로 모든 컬럼의 값이 완전히 똑같은 데이터는 중복데이터.\n",
    "- 처리: 대부분 제거"
   ]
  },
  {
   "cell_type": "markdown",
   "id": "57da432f-a668-4545-bc5c-61d96f96666e",
   "metadata": {},
   "source": [
    "(1) 모듈 로딩<hr>"
   ]
  },
  {
   "cell_type": "code",
   "execution_count": 1,
   "id": "232de0e8-6a3f-44b4-a8a4-905fe2122b29",
   "metadata": {},
   "outputs": [],
   "source": [
    "import pandas as pd"
   ]
  },
  {
   "cell_type": "markdown",
   "id": "821c0e9a-f1b4-4f5d-b8fb-e2bc7544d1a7",
   "metadata": {},
   "source": [
    "(2) 데이터 준비 <hr>"
   ]
  },
  {
   "cell_type": "code",
   "execution_count": 2,
   "id": "41d086cb-70dc-45b2-8c3c-aaeb306b7961",
   "metadata": {},
   "outputs": [],
   "source": [
    "file = '../DATA/employees.csv'"
   ]
  },
  {
   "cell_type": "markdown",
   "id": "70e7e1ab-e6ec-477d-9c8f-f9c811a6ad3e",
   "metadata": {},
   "source": [
    "(3) 데이터 저장<hr>"
   ]
  },
  {
   "cell_type": "code",
   "execution_count": 3,
   "id": "7edb2bef-b546-4133-b8b0-7d02a8e86813",
   "metadata": {},
   "outputs": [],
   "source": [
    "empDF = pd.read_csv(file)"
   ]
  },
  {
   "cell_type": "markdown",
   "id": "5b305b09-dce1-4448-ab92-03f91d2b2071",
   "metadata": {},
   "source": [
    "(4) 데이터 확인하기<hr>"
   ]
  },
  {
   "cell_type": "code",
   "execution_count": 6,
   "id": "bea9a420-f53c-4449-8960-bf4e8dcfdee5",
   "metadata": {},
   "outputs": [
    {
     "name": "stdout",
     "output_type": "stream",
     "text": [
      "<class 'pandas.core.frame.DataFrame'>\n",
      "RangeIndex: 1001 entries, 0 to 1000\n",
      "Data columns (total 6 columns):\n",
      " #   Column      Non-Null Count  Dtype  \n",
      "---  ------      --------------  -----  \n",
      " 0   First Name  933 non-null    object \n",
      " 1   Gender      854 non-null    object \n",
      " 2   Start Date  999 non-null    object \n",
      " 3   Salary      999 non-null    float64\n",
      " 4   Mgmt        933 non-null    object \n",
      " 5   Team        957 non-null    object \n",
      "dtypes: float64(1), object(5)\n",
      "memory usage: 47.0+ KB\n"
     ]
    }
   ],
   "source": [
    "empDF.info()"
   ]
  },
  {
   "cell_type": "markdown",
   "id": "8d2f7837-6885-474c-81a0-17cbd9670822",
   "metadata": {},
   "source": [
    "(5) 데이터 전처리: 중복 데이터<hr>\n",
    "- 중복 데이터 체크: duplicated() -> 중복확인 True\n",
    "- 중복 데이터 처리: drop_duplicated() -> 삭제"
   ]
  },
  {
   "cell_type": "code",
   "execution_count": 7,
   "id": "0c9ce964-872e-4c8d-a083-08f24e9c391f",
   "metadata": {},
   "outputs": [
    {
     "data": {
      "text/plain": [
       "0"
      ]
     },
     "execution_count": 7,
     "metadata": {},
     "output_type": "execute_result"
    }
   ],
   "source": [
    "#행 단위 검사: 완전히 똑같은 행이 나오면 True 반환. \n",
    "empDF.duplicated().sum()"
   ]
  },
  {
   "cell_type": "code",
   "execution_count": 12,
   "id": "531b34c0-e2a4-4393-8a4e-4d4a49cf6fdb",
   "metadata": {},
   "outputs": [
    {
     "data": {
      "text/plain": [
       "(990, 10)"
      ]
     },
     "execution_count": 12,
     "metadata": {},
     "output_type": "execute_result"
    }
   ],
   "source": [
    "#Team column\n",
    "empDF.Team.duplicated().sum(), empDF.Team.nunique()"
   ]
  },
  {
   "cell_type": "code",
   "execution_count": 15,
   "id": "6eda3716-8860-41f5-8322-560e674aca57",
   "metadata": {},
   "outputs": [
    {
     "data": {
      "text/plain": [
       "Series([], Name: Team, dtype: object)"
      ]
     },
     "execution_count": 15,
     "metadata": {},
     "output_type": "execute_result"
    }
   ],
   "source": [
    "empDF.Team.drop_duplicates(keep = False)"
   ]
  },
  {
   "cell_type": "code",
   "execution_count": null,
   "id": "a5fa1b95-1a61-4fcc-8aed-14b4b0a38a95",
   "metadata": {},
   "outputs": [],
   "source": []
  }
 ],
 "metadata": {
  "kernelspec": {
   "display_name": "Python 3 (ipykernel)",
   "language": "python",
   "name": "python3"
  },
  "language_info": {
   "codemirror_mode": {
    "name": "ipython",
    "version": 3
   },
   "file_extension": ".py",
   "mimetype": "text/x-python",
   "name": "python",
   "nbconvert_exporter": "python",
   "pygments_lexer": "ipython3",
   "version": "3.8.18"
  }
 },
 "nbformat": 4,
 "nbformat_minor": 5
}
