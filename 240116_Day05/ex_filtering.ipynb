{
 "cells": [
  {
   "cell_type": "markdown",
   "id": "0423d239-221f-4b69-a8d7-7b7b94e2c059",
   "metadata": {},
   "source": [
    "#### [데이터 필터링]\n",
    "- 원하는 데이터를 추출하기 위해 사용하는 방법\n",
    "- 원하는 데이터를 걸러냄\n",
    "- 다양한 조건검사 진행=> 비교 검사: ==, !=, >, >=, <, <="
   ]
  },
  {
   "cell_type": "markdown",
   "id": "b78e531e-7e6b-48b1-a7e8-0901e22bb250",
   "metadata": {},
   "source": [
    "(1) 모듈 로딩<hr>"
   ]
  },
  {
   "cell_type": "code",
   "execution_count": 1,
   "id": "9a5b3257-0eab-472d-a2a5-bf3246d2fe01",
   "metadata": {},
   "outputs": [],
   "source": [
    "import pandas as pd\n",
    "import numpy as np"
   ]
  },
  {
   "cell_type": "markdown",
   "id": "9b7bcd60-b61e-4f99-b5b6-08c76a6aec7d",
   "metadata": {},
   "source": [
    "(2) 데이터 준비<hr>"
   ]
  },
  {
   "cell_type": "code",
   "execution_count": 2,
   "id": "d7566fdf-abde-44fd-9574-9f2e0be20844",
   "metadata": {},
   "outputs": [],
   "source": [
    "file = \"../DATA/employees.csv\""
   ]
  },
  {
   "cell_type": "markdown",
   "id": "77f67504-b74a-41ac-8193-caddda12ffd2",
   "metadata": {},
   "source": [
    "(3) 파일 저장<hr>"
   ]
  },
  {
   "cell_type": "code",
   "execution_count": 4,
   "id": "2405e440-8cb6-4ef5-a9f4-2a3a0a4a1b19",
   "metadata": {},
   "outputs": [],
   "source": [
    "empDF = pd.read_csv(file)"
   ]
  },
  {
   "cell_type": "markdown",
   "id": "d6f21f43-c174-4e7f-93b7-d12ce8e801a1",
   "metadata": {},
   "source": [
    "(4) 데이터 확인(생략)<hr>"
   ]
  },
  {
   "cell_type": "markdown",
   "id": "400934b2-553a-4f52-8045-411120c27fc4",
   "metadata": {},
   "source": [
    "(5) 데이터 다루기.<hr>"
   ]
  },
  {
   "cell_type": "code",
   "execution_count": 5,
   "id": "88b9572a-f783-4737-aab2-5c1ea997a0ec",
   "metadata": {},
   "outputs": [
    {
     "data": {
      "text/plain": [
       "(True, True)"
      ]
     },
     "execution_count": 5,
     "metadata": {},
     "output_type": "execute_result"
    }
   ],
   "source": [
    "'Happy' == \"Happy\", \"Happy\" != \"happy\""
   ]
  },
  {
   "cell_type": "markdown",
   "id": "dc2eff16-ad5a-4a6b-99a7-2f44d6c8e501",
   "metadata": {},
   "source": [
    "- employees 데이터에서 이름이 Maria인 데이터만 추출하기"
   ]
  },
  {
   "cell_type": "code",
   "execution_count": 25,
   "id": "2a138108-1edb-43bb-b9c1-3f54c4acd7ff",
   "metadata": {},
   "outputs": [
    {
     "name": "stdout",
     "output_type": "stream",
     "text": [
      "Index(['First Name', 'Gender', 'Start Date', 'Salary', 'Mgmt', 'Team'], dtype='object')\n",
      "\n",
      "RangeIndex(start=0, stop=1001, step=1)\n"
     ]
    }
   ],
   "source": [
    "print( empDF.columns, empDF.index, sep = '\\n\\n')"
   ]
  },
  {
   "cell_type": "code",
   "execution_count": 26,
   "id": "adacec8e-0107-4fed-8f40-a636c4e08aba",
   "metadata": {},
   "outputs": [
    {
     "data": {
      "text/plain": [
       "6"
      ]
     },
     "execution_count": 26,
     "metadata": {},
     "output_type": "execute_result"
    }
   ],
   "source": [
    "(empDF['First Name'] == 'Maria').sum() #boolean 데이터로 이루어진 시리즈, True = 1, False = 0으로 계"
   ]
  },
  {
   "cell_type": "markdown",
   "id": "adec34ad-ebd3-45fa-a2c5-267414feaf67",
   "metadata": {},
   "source": [
    "- bool 값으로 구성된 데이터 = \"Boolean indexing\"(불린 인덱싱)"
   ]
  },
  {
   "cell_type": "code",
   "execution_count": 27,
   "id": "11aeeff0-cbaa-48cd-ab68-5bc3ca8f5cad",
   "metadata": {},
   "outputs": [
    {
     "data": {
      "text/plain": [
       "pandas.core.series.Series"
      ]
     },
     "execution_count": 27,
     "metadata": {},
     "output_type": "execute_result"
    }
   ],
   "source": [
    "mariaMask=(empDF['First Name'] == 'Maria')\n",
    "type(mariaMask)"
   ]
  },
  {
   "cell_type": "code",
   "execution_count": 28,
   "id": "7f2a986d-4a17-446e-a3cf-fda0a5920c42",
   "metadata": {},
   "outputs": [
    {
     "data": {
      "text/html": [
       "<div>\n",
       "<style scoped>\n",
       "    .dataframe tbody tr th:only-of-type {\n",
       "        vertical-align: middle;\n",
       "    }\n",
       "\n",
       "    .dataframe tbody tr th {\n",
       "        vertical-align: top;\n",
       "    }\n",
       "\n",
       "    .dataframe thead th {\n",
       "        text-align: right;\n",
       "    }\n",
       "</style>\n",
       "<table border=\"1\" class=\"dataframe\">\n",
       "  <thead>\n",
       "    <tr style=\"text-align: right;\">\n",
       "      <th></th>\n",
       "      <th>First Name</th>\n",
       "      <th>Gender</th>\n",
       "      <th>Start Date</th>\n",
       "      <th>Salary</th>\n",
       "      <th>Mgmt</th>\n",
       "      <th>Team</th>\n",
       "    </tr>\n",
       "  </thead>\n",
       "  <tbody>\n",
       "    <tr>\n",
       "      <th>2</th>\n",
       "      <td>Maria</td>\n",
       "      <td>Female</td>\n",
       "      <td>NaN</td>\n",
       "      <td>130590.0</td>\n",
       "      <td>False</td>\n",
       "      <td>Finance</td>\n",
       "    </tr>\n",
       "    <tr>\n",
       "      <th>198</th>\n",
       "      <td>Maria</td>\n",
       "      <td>Female</td>\n",
       "      <td>12/27/90</td>\n",
       "      <td>36067.0</td>\n",
       "      <td>True</td>\n",
       "      <td>Product</td>\n",
       "    </tr>\n",
       "    <tr>\n",
       "      <th>815</th>\n",
       "      <td>Maria</td>\n",
       "      <td>NaN</td>\n",
       "      <td>1/18/86</td>\n",
       "      <td>106562.0</td>\n",
       "      <td>False</td>\n",
       "      <td>HR</td>\n",
       "    </tr>\n",
       "    <tr>\n",
       "      <th>844</th>\n",
       "      <td>Maria</td>\n",
       "      <td>NaN</td>\n",
       "      <td>6/19/85</td>\n",
       "      <td>148857.0</td>\n",
       "      <td>False</td>\n",
       "      <td>Legal</td>\n",
       "    </tr>\n",
       "    <tr>\n",
       "      <th>936</th>\n",
       "      <td>Maria</td>\n",
       "      <td>Female</td>\n",
       "      <td>3/14/03</td>\n",
       "      <td>96250.0</td>\n",
       "      <td>False</td>\n",
       "      <td>Business Dev</td>\n",
       "    </tr>\n",
       "    <tr>\n",
       "      <th>984</th>\n",
       "      <td>Maria</td>\n",
       "      <td>Female</td>\n",
       "      <td>10/15/11</td>\n",
       "      <td>43455.0</td>\n",
       "      <td>False</td>\n",
       "      <td>Engineering</td>\n",
       "    </tr>\n",
       "  </tbody>\n",
       "</table>\n",
       "</div>"
      ],
      "text/plain": [
       "    First Name  Gender Start Date    Salary   Mgmt          Team\n",
       "2        Maria  Female        NaN  130590.0  False       Finance\n",
       "198      Maria  Female   12/27/90   36067.0   True       Product\n",
       "815      Maria     NaN    1/18/86  106562.0  False            HR\n",
       "844      Maria     NaN    6/19/85  148857.0  False         Legal\n",
       "936      Maria  Female    3/14/03   96250.0  False  Business Dev\n",
       "984      Maria  Female   10/15/11   43455.0  False   Engineering"
      ]
     },
     "execution_count": 28,
     "metadata": {},
     "output_type": "execute_result"
    }
   ],
   "source": [
    "empDF[mariaMask]"
   ]
  },
  {
   "cell_type": "markdown",
   "id": "9b5fef25-1ac8-4100-8b43-bba666421ef1",
   "metadata": {},
   "source": [
    "- employees 데이터에서 연봉이 50000 이상인 데이터의 이름 항목을 추출하시오.\n",
    "  "
   ]
  },
  {
   "cell_type": "code",
   "execution_count": 29,
   "id": "2ee76b10-98d7-4913-918e-853450514c9b",
   "metadata": {},
   "outputs": [
    {
     "data": {
      "text/plain": [
       "0       False\n",
       "1       False\n",
       "2        True\n",
       "3        True\n",
       "4        True\n",
       "        ...  \n",
       "996     False\n",
       "997     False\n",
       "998     False\n",
       "999      True\n",
       "1000    False\n",
       "Name: Salary, Length: 1001, dtype: bool"
      ]
     },
     "execution_count": 29,
     "metadata": {},
     "output_type": "execute_result"
    }
   ],
   "source": [
    "salary5man = (empDF['Salary']>=100000)\n",
    "salary5man"
   ]
  },
  {
   "cell_type": "code",
   "execution_count": 30,
   "id": "8bdb231e-eb51-4e10-90e8-2dd99262e1cc",
   "metadata": {},
   "outputs": [
    {
     "data": {
      "text/html": [
       "<div>\n",
       "<style scoped>\n",
       "    .dataframe tbody tr th:only-of-type {\n",
       "        vertical-align: middle;\n",
       "    }\n",
       "\n",
       "    .dataframe tbody tr th {\n",
       "        vertical-align: top;\n",
       "    }\n",
       "\n",
       "    .dataframe thead th {\n",
       "        text-align: right;\n",
       "    }\n",
       "</style>\n",
       "<table border=\"1\" class=\"dataframe\">\n",
       "  <thead>\n",
       "    <tr style=\"text-align: right;\">\n",
       "      <th></th>\n",
       "      <th>First Name</th>\n",
       "      <th>Gender</th>\n",
       "      <th>Start Date</th>\n",
       "      <th>Salary</th>\n",
       "      <th>Mgmt</th>\n",
       "      <th>Team</th>\n",
       "    </tr>\n",
       "  </thead>\n",
       "  <tbody>\n",
       "    <tr>\n",
       "      <th>2</th>\n",
       "      <td>Maria</td>\n",
       "      <td>Female</td>\n",
       "      <td>NaN</td>\n",
       "      <td>130590.0</td>\n",
       "      <td>False</td>\n",
       "      <td>Finance</td>\n",
       "    </tr>\n",
       "    <tr>\n",
       "      <th>3</th>\n",
       "      <td>Jerry</td>\n",
       "      <td>NaN</td>\n",
       "      <td>3/4/05</td>\n",
       "      <td>138705.0</td>\n",
       "      <td>True</td>\n",
       "      <td>Finance</td>\n",
       "    </tr>\n",
       "    <tr>\n",
       "      <th>4</th>\n",
       "      <td>Larry</td>\n",
       "      <td>Male</td>\n",
       "      <td>1/24/98</td>\n",
       "      <td>101004.0</td>\n",
       "      <td>True</td>\n",
       "      <td>IT</td>\n",
       "    </tr>\n",
       "    <tr>\n",
       "      <th>5</th>\n",
       "      <td>Dennis</td>\n",
       "      <td>Male</td>\n",
       "      <td>4/18/87</td>\n",
       "      <td>115163.0</td>\n",
       "      <td>False</td>\n",
       "      <td>Legal</td>\n",
       "    </tr>\n",
       "    <tr>\n",
       "      <th>9</th>\n",
       "      <td>Frances</td>\n",
       "      <td>Female</td>\n",
       "      <td>8/8/02</td>\n",
       "      <td>139852.0</td>\n",
       "      <td>True</td>\n",
       "      <td>Business Dev</td>\n",
       "    </tr>\n",
       "    <tr>\n",
       "      <th>...</th>\n",
       "      <td>...</td>\n",
       "      <td>...</td>\n",
       "      <td>...</td>\n",
       "      <td>...</td>\n",
       "      <td>...</td>\n",
       "      <td>...</td>\n",
       "    </tr>\n",
       "    <tr>\n",
       "      <th>990</th>\n",
       "      <td>Robin</td>\n",
       "      <td>Female</td>\n",
       "      <td>7/24/87</td>\n",
       "      <td>100765.0</td>\n",
       "      <td>True</td>\n",
       "      <td>IT</td>\n",
       "    </tr>\n",
       "    <tr>\n",
       "      <th>991</th>\n",
       "      <td>Rose</td>\n",
       "      <td>Female</td>\n",
       "      <td>8/25/02</td>\n",
       "      <td>134505.0</td>\n",
       "      <td>True</td>\n",
       "      <td>Marketing</td>\n",
       "    </tr>\n",
       "    <tr>\n",
       "      <th>992</th>\n",
       "      <td>Anthony</td>\n",
       "      <td>Male</td>\n",
       "      <td>10/16/11</td>\n",
       "      <td>112769.0</td>\n",
       "      <td>True</td>\n",
       "      <td>Finance</td>\n",
       "    </tr>\n",
       "    <tr>\n",
       "      <th>995</th>\n",
       "      <td>Henry</td>\n",
       "      <td>NaN</td>\n",
       "      <td>11/23/14</td>\n",
       "      <td>132483.0</td>\n",
       "      <td>False</td>\n",
       "      <td>Distribution</td>\n",
       "    </tr>\n",
       "    <tr>\n",
       "      <th>999</th>\n",
       "      <td>Albert</td>\n",
       "      <td>Male</td>\n",
       "      <td>5/15/12</td>\n",
       "      <td>129949.0</td>\n",
       "      <td>True</td>\n",
       "      <td>Sales</td>\n",
       "    </tr>\n",
       "  </tbody>\n",
       "</table>\n",
       "<p>409 rows × 6 columns</p>\n",
       "</div>"
      ],
      "text/plain": [
       "    First Name  Gender Start Date    Salary   Mgmt          Team\n",
       "2        Maria  Female        NaN  130590.0  False       Finance\n",
       "3        Jerry     NaN     3/4/05  138705.0   True       Finance\n",
       "4        Larry    Male    1/24/98  101004.0   True            IT\n",
       "5       Dennis    Male    4/18/87  115163.0  False         Legal\n",
       "9      Frances  Female     8/8/02  139852.0   True  Business Dev\n",
       "..         ...     ...        ...       ...    ...           ...\n",
       "990      Robin  Female    7/24/87  100765.0   True            IT\n",
       "991       Rose  Female    8/25/02  134505.0   True     Marketing\n",
       "992    Anthony    Male   10/16/11  112769.0   True       Finance\n",
       "995      Henry     NaN   11/23/14  132483.0  False  Distribution\n",
       "999     Albert    Male    5/15/12  129949.0   True         Sales\n",
       "\n",
       "[409 rows x 6 columns]"
      ]
     },
     "execution_count": 30,
     "metadata": {},
     "output_type": "execute_result"
    }
   ],
   "source": [
    "empDF[salary5man]"
   ]
  },
  {
   "cell_type": "markdown",
   "id": "5b04036e-089d-4410-ad8f-571fea1033ad",
   "metadata": {},
   "source": [
    "- employees 데이터에서 성별이 남자이고 연봉이 100000 이상인 데이터 추출하기"
   ]
  },
  {
   "cell_type": "markdown",
   "id": "47020afd-d60e-40b7-9d79-07a79c89ebde",
   "metadata": {},
   "source": [
    "- 여러 개의 조건이 True여야만 하는 조건 = and(&). "
   ]
  },
  {
   "cell_type": "code",
   "execution_count": 42,
   "id": "622bf67b-9bfe-4c44-9b2e-1adfe1b5ace0",
   "metadata": {},
   "outputs": [
    {
     "data": {
      "text/html": [
       "<div>\n",
       "<style scoped>\n",
       "    .dataframe tbody tr th:only-of-type {\n",
       "        vertical-align: middle;\n",
       "    }\n",
       "\n",
       "    .dataframe tbody tr th {\n",
       "        vertical-align: top;\n",
       "    }\n",
       "\n",
       "    .dataframe thead th {\n",
       "        text-align: right;\n",
       "    }\n",
       "</style>\n",
       "<table border=\"1\" class=\"dataframe\">\n",
       "  <thead>\n",
       "    <tr style=\"text-align: right;\">\n",
       "      <th></th>\n",
       "      <th>First Name</th>\n",
       "      <th>Gender</th>\n",
       "      <th>Start Date</th>\n",
       "      <th>Salary</th>\n",
       "      <th>Mgmt</th>\n",
       "      <th>Team</th>\n",
       "    </tr>\n",
       "  </thead>\n",
       "  <tbody>\n",
       "    <tr>\n",
       "      <th>4</th>\n",
       "      <td>Larry</td>\n",
       "      <td>Male</td>\n",
       "      <td>1/24/98</td>\n",
       "      <td>101004.0</td>\n",
       "      <td>True</td>\n",
       "      <td>IT</td>\n",
       "    </tr>\n",
       "    <tr>\n",
       "      <th>5</th>\n",
       "      <td>Dennis</td>\n",
       "      <td>Male</td>\n",
       "      <td>4/18/87</td>\n",
       "      <td>115163.0</td>\n",
       "      <td>False</td>\n",
       "      <td>Legal</td>\n",
       "    </tr>\n",
       "    <tr>\n",
       "      <th>12</th>\n",
       "      <td>Brandon</td>\n",
       "      <td>Male</td>\n",
       "      <td>12/1/80</td>\n",
       "      <td>112807.0</td>\n",
       "      <td>True</td>\n",
       "      <td>HR</td>\n",
       "    </tr>\n",
       "    <tr>\n",
       "      <th>13</th>\n",
       "      <td>Gary</td>\n",
       "      <td>Male</td>\n",
       "      <td>1/27/08</td>\n",
       "      <td>109831.0</td>\n",
       "      <td>False</td>\n",
       "      <td>Sales</td>\n",
       "    </tr>\n",
       "    <tr>\n",
       "      <th>17</th>\n",
       "      <td>Shawn</td>\n",
       "      <td>Male</td>\n",
       "      <td>12/7/86</td>\n",
       "      <td>111737.0</td>\n",
       "      <td>False</td>\n",
       "      <td>Product</td>\n",
       "    </tr>\n",
       "    <tr>\n",
       "      <th>...</th>\n",
       "      <td>...</td>\n",
       "      <td>...</td>\n",
       "      <td>...</td>\n",
       "      <td>...</td>\n",
       "      <td>...</td>\n",
       "      <td>...</td>\n",
       "    </tr>\n",
       "    <tr>\n",
       "      <th>979</th>\n",
       "      <td>Ernest</td>\n",
       "      <td>Male</td>\n",
       "      <td>7/20/13</td>\n",
       "      <td>142935.0</td>\n",
       "      <td>True</td>\n",
       "      <td>Product</td>\n",
       "    </tr>\n",
       "    <tr>\n",
       "      <th>981</th>\n",
       "      <td>James</td>\n",
       "      <td>Male</td>\n",
       "      <td>1/15/93</td>\n",
       "      <td>148985.0</td>\n",
       "      <td>False</td>\n",
       "      <td>Legal</td>\n",
       "    </tr>\n",
       "    <tr>\n",
       "      <th>983</th>\n",
       "      <td>John</td>\n",
       "      <td>Male</td>\n",
       "      <td>12/23/82</td>\n",
       "      <td>146907.0</td>\n",
       "      <td>False</td>\n",
       "      <td>Engineering</td>\n",
       "    </tr>\n",
       "    <tr>\n",
       "      <th>992</th>\n",
       "      <td>Anthony</td>\n",
       "      <td>Male</td>\n",
       "      <td>10/16/11</td>\n",
       "      <td>112769.0</td>\n",
       "      <td>True</td>\n",
       "      <td>Finance</td>\n",
       "    </tr>\n",
       "    <tr>\n",
       "      <th>999</th>\n",
       "      <td>Albert</td>\n",
       "      <td>Male</td>\n",
       "      <td>5/15/12</td>\n",
       "      <td>129949.0</td>\n",
       "      <td>True</td>\n",
       "      <td>Sales</td>\n",
       "    </tr>\n",
       "  </tbody>\n",
       "</table>\n",
       "<p>176 rows × 6 columns</p>\n",
       "</div>"
      ],
      "text/plain": [
       "    First Name Gender Start Date    Salary   Mgmt         Team\n",
       "4        Larry   Male    1/24/98  101004.0   True           IT\n",
       "5       Dennis   Male    4/18/87  115163.0  False        Legal\n",
       "12     Brandon   Male    12/1/80  112807.0   True           HR\n",
       "13        Gary   Male    1/27/08  109831.0  False        Sales\n",
       "17       Shawn   Male    12/7/86  111737.0  False      Product\n",
       "..         ...    ...        ...       ...    ...          ...\n",
       "979     Ernest   Male    7/20/13  142935.0   True      Product\n",
       "981      James   Male    1/15/93  148985.0  False        Legal\n",
       "983       John   Male   12/23/82  146907.0  False  Engineering\n",
       "992    Anthony   Male   10/16/11  112769.0   True      Finance\n",
       "999     Albert   Male    5/15/12  129949.0   True        Sales\n",
       "\n",
       "[176 rows x 6 columns]"
      ]
     },
     "execution_count": 42,
     "metadata": {},
     "output_type": "execute_result"
    }
   ],
   "source": [
    "mask = (empDF['Gender'] == 'Male') & (empDF['Salary'] >= 100000)\n",
    "empDF[mask]"
   ]
  },
  {
   "cell_type": "markdown",
   "id": "c7e4993d-718a-44c1-a2b0-0ec5953abb7d",
   "metadata": {},
   "source": [
    "- 여러개의 조건 중 한개 이상이 True면 True가 되는 조건: OR\n",
    "    - 문법: 조건1|조건2|조건3|...조건n|\n",
    "    - 연산자: |;파이프\n",
    "    - 결과 : True/False"
   ]
  },
  {
   "cell_type": "markdown",
   "id": "b05f5f34-fabe-4a43-ba1c-814853129641",
   "metadata": {},
   "source": [
    "- employees 데이터에서 입사일이 1993년 1월 1일 이전이거나 Mgmt이 없는 사람 데이터 추출하기"
   ]
  },
  {
   "cell_type": "code",
   "execution_count": 44,
   "id": "a373abb5-4447-4449-914a-0234cd7bbe92",
   "metadata": {},
   "outputs": [
    {
     "data": {
      "text/html": [
       "<div>\n",
       "<style scoped>\n",
       "    .dataframe tbody tr th:only-of-type {\n",
       "        vertical-align: middle;\n",
       "    }\n",
       "\n",
       "    .dataframe tbody tr th {\n",
       "        vertical-align: top;\n",
       "    }\n",
       "\n",
       "    .dataframe thead th {\n",
       "        text-align: right;\n",
       "    }\n",
       "</style>\n",
       "<table border=\"1\" class=\"dataframe\">\n",
       "  <thead>\n",
       "    <tr style=\"text-align: right;\">\n",
       "      <th></th>\n",
       "      <th>First Name</th>\n",
       "      <th>Gender</th>\n",
       "      <th>Start Date</th>\n",
       "      <th>Salary</th>\n",
       "      <th>Mgmt</th>\n",
       "      <th>Team</th>\n",
       "    </tr>\n",
       "  </thead>\n",
       "  <tbody>\n",
       "    <tr>\n",
       "      <th>2</th>\n",
       "      <td>Maria</td>\n",
       "      <td>Female</td>\n",
       "      <td>NaN</td>\n",
       "      <td>130590.0</td>\n",
       "      <td>False</td>\n",
       "      <td>Finance</td>\n",
       "    </tr>\n",
       "    <tr>\n",
       "      <th>5</th>\n",
       "      <td>Dennis</td>\n",
       "      <td>Male</td>\n",
       "      <td>4/18/87</td>\n",
       "      <td>115163.0</td>\n",
       "      <td>False</td>\n",
       "      <td>Legal</td>\n",
       "    </tr>\n",
       "    <tr>\n",
       "      <th>13</th>\n",
       "      <td>Gary</td>\n",
       "      <td>Male</td>\n",
       "      <td>1/27/08</td>\n",
       "      <td>109831.0</td>\n",
       "      <td>False</td>\n",
       "      <td>Sales</td>\n",
       "    </tr>\n",
       "    <tr>\n",
       "      <th>15</th>\n",
       "      <td>Lillian</td>\n",
       "      <td>Female</td>\n",
       "      <td>6/5/16</td>\n",
       "      <td>59414.0</td>\n",
       "      <td>False</td>\n",
       "      <td>Product</td>\n",
       "    </tr>\n",
       "    <tr>\n",
       "      <th>16</th>\n",
       "      <td>Jeremy</td>\n",
       "      <td>Male</td>\n",
       "      <td>9/21/10</td>\n",
       "      <td>90370.0</td>\n",
       "      <td>False</td>\n",
       "      <td>HR</td>\n",
       "    </tr>\n",
       "    <tr>\n",
       "      <th>...</th>\n",
       "      <td>...</td>\n",
       "      <td>...</td>\n",
       "      <td>...</td>\n",
       "      <td>...</td>\n",
       "      <td>...</td>\n",
       "      <td>...</td>\n",
       "    </tr>\n",
       "    <tr>\n",
       "      <th>989</th>\n",
       "      <td>Justin</td>\n",
       "      <td>NaN</td>\n",
       "      <td>2/10/91</td>\n",
       "      <td>38344.0</td>\n",
       "      <td>False</td>\n",
       "      <td>Legal</td>\n",
       "    </tr>\n",
       "    <tr>\n",
       "      <th>995</th>\n",
       "      <td>Henry</td>\n",
       "      <td>NaN</td>\n",
       "      <td>11/23/14</td>\n",
       "      <td>132483.0</td>\n",
       "      <td>False</td>\n",
       "      <td>Distribution</td>\n",
       "    </tr>\n",
       "    <tr>\n",
       "      <th>996</th>\n",
       "      <td>Phillip</td>\n",
       "      <td>Male</td>\n",
       "      <td>1/31/84</td>\n",
       "      <td>42392.0</td>\n",
       "      <td>False</td>\n",
       "      <td>Finance</td>\n",
       "    </tr>\n",
       "    <tr>\n",
       "      <th>997</th>\n",
       "      <td>Russell</td>\n",
       "      <td>Male</td>\n",
       "      <td>5/20/13</td>\n",
       "      <td>96914.0</td>\n",
       "      <td>False</td>\n",
       "      <td>Product</td>\n",
       "    </tr>\n",
       "    <tr>\n",
       "      <th>998</th>\n",
       "      <td>Larry</td>\n",
       "      <td>Male</td>\n",
       "      <td>4/20/13</td>\n",
       "      <td>60500.0</td>\n",
       "      <td>False</td>\n",
       "      <td>Business Dev</td>\n",
       "    </tr>\n",
       "  </tbody>\n",
       "</table>\n",
       "<p>466 rows × 6 columns</p>\n",
       "</div>"
      ],
      "text/plain": [
       "    First Name  Gender Start Date    Salary   Mgmt          Team\n",
       "2        Maria  Female        NaN  130590.0  False       Finance\n",
       "5       Dennis    Male    4/18/87  115163.0  False         Legal\n",
       "13        Gary    Male    1/27/08  109831.0  False         Sales\n",
       "15     Lillian  Female     6/5/16   59414.0  False       Product\n",
       "16      Jeremy    Male    9/21/10   90370.0  False            HR\n",
       "..         ...     ...        ...       ...    ...           ...\n",
       "989     Justin     NaN    2/10/91   38344.0  False         Legal\n",
       "995      Henry     NaN   11/23/14  132483.0  False  Distribution\n",
       "996    Phillip    Male    1/31/84   42392.0  False       Finance\n",
       "997    Russell    Male    5/20/13   96914.0  False       Product\n",
       "998      Larry    Male    4/20/13   60500.0  False  Business Dev\n",
       "\n",
       "[466 rows x 6 columns]"
      ]
     },
     "execution_count": 44,
     "metadata": {},
     "output_type": "execute_result"
    }
   ],
   "source": [
    "mask2 = (empDF['Start Date'] <'1/1/1993') | (empDF['Mgmt'] == False)\n",
    "empDF[mask2]"
   ]
  },
  {
   "cell_type": "code",
   "execution_count": 51,
   "id": "0746a140-2b21-4db5-9e44-1b8684a88131",
   "metadata": {},
   "outputs": [
    {
     "data": {
      "text/plain": [
       "0      1993-08-06\n",
       "1      1996-03-31\n",
       "2             NaT\n",
       "3      2005-03-04\n",
       "4      1998-01-24\n",
       "          ...    \n",
       "996    1984-01-31\n",
       "997    2013-05-20\n",
       "998    2013-04-20\n",
       "999    2012-05-15\n",
       "1000          NaT\n",
       "Name: Start Date, Length: 1001, dtype: datetime64[ns]"
      ]
     },
     "execution_count": 51,
     "metadata": {},
     "output_type": "execute_result"
    }
   ],
   "source": [
    "empDF['Start Date']=pd.to_datetime(empDF['Start Date'])\n",
    "empDF['Start Date']"
   ]
  },
  {
   "cell_type": "code",
   "execution_count": 53,
   "id": "cfe7cdcf-7014-4b60-b5b6-f6f00aa5c6fe",
   "metadata": {},
   "outputs": [
    {
     "data": {
      "text/plain": [
       "0        True\n",
       "1       False\n",
       "2       False\n",
       "3       False\n",
       "4       False\n",
       "        ...  \n",
       "996     False\n",
       "997     False\n",
       "998     False\n",
       "999      True\n",
       "1000    False\n",
       "Name: Team, Length: 1001, dtype: bool"
      ]
     },
     "execution_count": 53,
     "metadata": {},
     "output_type": "execute_result"
    }
   ],
   "source": [
    "(empDF['Team']=='Sales')|(empDF['Team']=='Legal')|(empDF['Team'] == 'Marketing')"
   ]
  },
  {
   "cell_type": "code",
   "execution_count": 56,
   "id": "03797721-acc4-4aa1-a86b-52011e9660d8",
   "metadata": {},
   "outputs": [
    {
     "data": {
      "text/plain": [
       "0        True\n",
       "1       False\n",
       "2       False\n",
       "3       False\n",
       "4       False\n",
       "        ...  \n",
       "996     False\n",
       "997     False\n",
       "998     False\n",
       "999      True\n",
       "1000    False\n",
       "Name: Team, Length: 1001, dtype: bool"
      ]
     },
     "execution_count": 56,
     "metadata": {},
     "output_type": "execute_result"
    }
   ],
   "source": [
    "empDF [\"Team\"].isin(['Sales', 'Legal', 'Marketing'])"
   ]
  },
  {
   "cell_type": "markdown",
   "id": "a08eda1e-7a95-4d17-b450-b44a0738f5aa",
   "metadata": {},
   "source": [
    "- 구간 지정 검사 불린 메서드: DF.between(low,high)"
   ]
  },
  {
   "cell_type": "code",
   "execution_count": 57,
   "id": "464ea2f4-ad1a-41b9-b8cd-5e31053fc1af",
   "metadata": {},
   "outputs": [
    {
     "data": {
      "text/plain": [
       "0       False\n",
       "1       False\n",
       "2       False\n",
       "3       False\n",
       "4       False\n",
       "        ...  \n",
       "996     False\n",
       "997     False\n",
       "998     False\n",
       "999     False\n",
       "1000    False\n",
       "Name: Salary, Length: 1001, dtype: bool"
      ]
     },
     "execution_count": 57,
     "metadata": {},
     "output_type": "execute_result"
    }
   ],
   "source": [
    "(empDF['Salary']>=80000)&(empDF['Salary']<90000)"
   ]
  },
  {
   "cell_type": "code",
   "execution_count": 58,
   "id": "3fc119ad-751d-42d6-9a28-82d0d9db7a29",
   "metadata": {},
   "outputs": [
    {
     "data": {
      "text/plain": [
       "0       False\n",
       "1       False\n",
       "2       False\n",
       "3       False\n",
       "4       False\n",
       "        ...  \n",
       "996     False\n",
       "997     False\n",
       "998     False\n",
       "999     False\n",
       "1000    False\n",
       "Name: Salary, Length: 1001, dtype: bool"
      ]
     },
     "execution_count": 58,
     "metadata": {},
     "output_type": "execute_result"
    }
   ],
   "source": [
    "empDF['Salary'].between(80000,90000)"
   ]
  },
  {
   "cell_type": "code",
   "execution_count": 59,
   "id": "5c531f6b-1c1c-4817-bdfc-fca5d6a4c888",
   "metadata": {},
   "outputs": [
    {
     "data": {
      "text/plain": [
       "0       DOUGLAS\n",
       "1        THOMAS\n",
       "2         MARIA\n",
       "3         JERRY\n",
       "4         LARRY\n",
       "         ...   \n",
       "996     PHILLIP\n",
       "997     RUSSELL\n",
       "998       LARRY\n",
       "999      ALBERT\n",
       "1000        NaN\n",
       "Name: First Name, Length: 1001, dtype: object"
      ]
     },
     "execution_count": 59,
     "metadata": {},
     "output_type": "execute_result"
    }
   ],
   "source": [
    "empDF['First Name'].str.upper() #지시자"
   ]
  },
  {
   "cell_type": "code",
   "execution_count": null,
   "id": "8becd1b2-80bc-4432-80fa-4b87e76e944b",
   "metadata": {},
   "outputs": [],
   "source": [
    "empDF ['First Name'].str.replace()"
   ]
  }
 ],
 "metadata": {
  "kernelspec": {
   "display_name": "Python 3 (ipykernel)",
   "language": "python",
   "name": "python3"
  },
  "language_info": {
   "codemirror_mode": {
    "name": "ipython",
    "version": 3
   },
   "file_extension": ".py",
   "mimetype": "text/x-python",
   "name": "python",
   "nbconvert_exporter": "python",
   "pygments_lexer": "ipython3",
   "version": "3.8.18"
  }
 },
 "nbformat": 4,
 "nbformat_minor": 5
}
