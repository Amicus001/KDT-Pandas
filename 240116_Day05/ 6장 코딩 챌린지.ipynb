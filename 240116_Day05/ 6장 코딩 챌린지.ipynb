{
 "cells": [
  {
   "cell_type": "markdown",
   "id": "99966597-e138-464c-a392-fd612f1eca64",
   "metadata": {},
   "source": [
    "#### [ 6장 코딩 챌린지 ]"
   ]
  },
  {
   "cell_type": "markdown",
   "id": "6adf21d6-b452-46c3-a099-aa533009a43f",
   "metadata": {},
   "source": [
    "(1) 판다스 불러오기"
   ]
  },
  {
   "cell_type": "code",
   "execution_count": 1,
   "id": "a26898b6-9d33-42b2-97ce-3e9320630b26",
   "metadata": {},
   "outputs": [],
   "source": [
    "import pandas as pd\n",
    "import numpy as np"
   ]
  },
  {
   "cell_type": "markdown",
   "id": "744b399d-837c-43ab-a7aa-102c5b3e453f",
   "metadata": {},
   "source": [
    "# [문제] 고객 데이터셋의 주소(Address)열에서 도로, 시, 주, 우편번호 값을 분리하고 각각 Street, City, State, Zip이라는 새로운 열에 할당한 다음\n",
    "#        기존의 Address 열 삭제하기"
   ]
  },
  {
   "cell_type": "code",
   "execution_count": 3,
   "id": "8ce24ed0-56c7-43e6-b188-69347fdb1db7",
   "metadata": {},
   "outputs": [],
   "source": [
    "customers = pd.read_csv('../DATA/customers.csv')"
   ]
  },
  {
   "cell_type": "markdown",
   "id": "c1a544b2-aa82-4fde-9b61-fe34a4a172e4",
   "metadata": {},
   "source": [
    "Address 열에서 도로, 시, 주, 우편번호 값 분리하기"
   ]
  },
  {
   "cell_type": "code",
   "execution_count": 7,
   "id": "3ce99348-3d8a-48fd-9c53-380fcf86de03",
   "metadata": {},
   "outputs": [
    {
     "data": {
      "text/plain": [
       "0       [6461 Quinn Groves, East Matthew, New Hampshir...\n",
       "1       [1360 Tracey Ports Apt. 419, Kyleport, Vermont...\n",
       "2       [19120 Fleming Manors, Prestonstad, Montana, 2...\n",
       "3          [441 Olivia Creek, Jimmymouth, Georgia, 82991]\n",
       "4       [4246 Chelsey Ford Apt. 310, Karamouth, Utah, ...\n",
       "                              ...                        \n",
       "9956    [762 Andrew Views Apt. 254, North Paul, New Me...\n",
       "9957    [44188 Day Crest Apt. 901, Lake Marcia, Maine,...\n",
       "9958    [73015 Michelle Squares, Watsonville, West Vir...\n",
       "9959       [129 Keith Greens, Haleyfurt, Oklahoma, 98916]\n",
       "9960    [355 Griffin Valley, Davidtown, New Mexico, 17...\n",
       "Name: Address, Length: 9961, dtype: object"
      ]
     },
     "execution_count": 7,
     "metadata": {},
     "output_type": "execute_result"
    }
   ],
   "source": [
    "customers['Address'].str.split(', ')"
   ]
  },
  {
   "cell_type": "markdown",
   "id": "fe46f37d-0224-4b3a-a78c-442f7a97393b",
   "metadata": {},
   "source": [
    "Address 열을 4개의 column으로 분리하기"
   ]
  },
  {
   "cell_type": "code",
   "execution_count": 9,
   "id": "29ac85fb-ec10-4c87-b0c8-974806f0eb09",
   "metadata": {},
   "outputs": [
    {
     "data": {
      "text/html": [
       "<div>\n",
       "<style scoped>\n",
       "    .dataframe tbody tr th:only-of-type {\n",
       "        vertical-align: middle;\n",
       "    }\n",
       "\n",
       "    .dataframe tbody tr th {\n",
       "        vertical-align: top;\n",
       "    }\n",
       "\n",
       "    .dataframe thead th {\n",
       "        text-align: right;\n",
       "    }\n",
       "</style>\n",
       "<table border=\"1\" class=\"dataframe\">\n",
       "  <thead>\n",
       "    <tr style=\"text-align: right;\">\n",
       "      <th></th>\n",
       "      <th>0</th>\n",
       "      <th>1</th>\n",
       "      <th>2</th>\n",
       "      <th>3</th>\n",
       "    </tr>\n",
       "  </thead>\n",
       "  <tbody>\n",
       "    <tr>\n",
       "      <th>0</th>\n",
       "      <td>6461 Quinn Groves</td>\n",
       "      <td>East Matthew</td>\n",
       "      <td>New Hampshire</td>\n",
       "      <td>16656</td>\n",
       "    </tr>\n",
       "    <tr>\n",
       "      <th>1</th>\n",
       "      <td>1360 Tracey Ports Apt. 419</td>\n",
       "      <td>Kyleport</td>\n",
       "      <td>Vermont</td>\n",
       "      <td>31924</td>\n",
       "    </tr>\n",
       "    <tr>\n",
       "      <th>2</th>\n",
       "      <td>19120 Fleming Manors</td>\n",
       "      <td>Prestonstad</td>\n",
       "      <td>Montana</td>\n",
       "      <td>23495</td>\n",
       "    </tr>\n",
       "    <tr>\n",
       "      <th>3</th>\n",
       "      <td>441 Olivia Creek</td>\n",
       "      <td>Jimmymouth</td>\n",
       "      <td>Georgia</td>\n",
       "      <td>82991</td>\n",
       "    </tr>\n",
       "    <tr>\n",
       "      <th>4</th>\n",
       "      <td>4246 Chelsey Ford Apt. 310</td>\n",
       "      <td>Karamouth</td>\n",
       "      <td>Utah</td>\n",
       "      <td>76252</td>\n",
       "    </tr>\n",
       "    <tr>\n",
       "      <th>...</th>\n",
       "      <td>...</td>\n",
       "      <td>...</td>\n",
       "      <td>...</td>\n",
       "      <td>...</td>\n",
       "    </tr>\n",
       "    <tr>\n",
       "      <th>9956</th>\n",
       "      <td>762 Andrew Views Apt. 254</td>\n",
       "      <td>North Paul</td>\n",
       "      <td>New Mexico</td>\n",
       "      <td>28889</td>\n",
       "    </tr>\n",
       "    <tr>\n",
       "      <th>9957</th>\n",
       "      <td>44188 Day Crest Apt. 901</td>\n",
       "      <td>Lake Marcia</td>\n",
       "      <td>Maine</td>\n",
       "      <td>37378</td>\n",
       "    </tr>\n",
       "    <tr>\n",
       "      <th>9958</th>\n",
       "      <td>73015 Michelle Squares</td>\n",
       "      <td>Watsonville</td>\n",
       "      <td>West Virginia</td>\n",
       "      <td>03933</td>\n",
       "    </tr>\n",
       "    <tr>\n",
       "      <th>9959</th>\n",
       "      <td>129 Keith Greens</td>\n",
       "      <td>Haleyfurt</td>\n",
       "      <td>Oklahoma</td>\n",
       "      <td>98916</td>\n",
       "    </tr>\n",
       "    <tr>\n",
       "      <th>9960</th>\n",
       "      <td>355 Griffin Valley</td>\n",
       "      <td>Davidtown</td>\n",
       "      <td>New Mexico</td>\n",
       "      <td>17581</td>\n",
       "    </tr>\n",
       "  </tbody>\n",
       "</table>\n",
       "<p>9961 rows × 4 columns</p>\n",
       "</div>"
      ],
      "text/plain": [
       "                               0             1              2      3\n",
       "0              6461 Quinn Groves  East Matthew  New Hampshire  16656\n",
       "1     1360 Tracey Ports Apt. 419      Kyleport        Vermont  31924\n",
       "2           19120 Fleming Manors   Prestonstad        Montana  23495\n",
       "3               441 Olivia Creek    Jimmymouth        Georgia  82991\n",
       "4     4246 Chelsey Ford Apt. 310     Karamouth           Utah  76252\n",
       "...                          ...           ...            ...    ...\n",
       "9956   762 Andrew Views Apt. 254    North Paul     New Mexico  28889\n",
       "9957    44188 Day Crest Apt. 901   Lake Marcia          Maine  37378\n",
       "9958      73015 Michelle Squares   Watsonville  West Virginia  03933\n",
       "9959            129 Keith Greens     Haleyfurt       Oklahoma  98916\n",
       "9960          355 Griffin Valley     Davidtown     New Mexico  17581\n",
       "\n",
       "[9961 rows x 4 columns]"
      ]
     },
     "execution_count": 9,
     "metadata": {},
     "output_type": "execute_result"
    }
   ],
   "source": [
    "customers['Address'].str.split(', ', expand = True)"
   ]
  },
  {
   "cell_type": "markdown",
   "id": "38aa1201-f354-4019-b11f-657c31def396",
   "metadata": {},
   "source": [
    "분리한 Address 열의 각 column에 이름 할당하기"
   ]
  },
  {
   "cell_type": "code",
   "execution_count": 10,
   "id": "8d6a356f-ed4d-4605-8924-8cbce794b139",
   "metadata": {},
   "outputs": [],
   "source": [
    "newColumns = ['Street', 'City', 'State', 'Zip']"
   ]
  },
  {
   "cell_type": "code",
   "execution_count": 18,
   "id": "5cc41941-64f4-4929-b28b-81520c4c27ee",
   "metadata": {},
   "outputs": [],
   "source": [
    "customers[newColumns] = customers[\"Address\"].str.split(', ', expand = True)"
   ]
  },
  {
   "cell_type": "code",
   "execution_count": 19,
   "id": "b4e377c4-11b0-470c-b15b-e8fb8d499529",
   "metadata": {},
   "outputs": [
    {
     "data": {
      "text/html": [
       "<div>\n",
       "<style scoped>\n",
       "    .dataframe tbody tr th:only-of-type {\n",
       "        vertical-align: middle;\n",
       "    }\n",
       "\n",
       "    .dataframe tbody tr th {\n",
       "        vertical-align: top;\n",
       "    }\n",
       "\n",
       "    .dataframe thead th {\n",
       "        text-align: right;\n",
       "    }\n",
       "</style>\n",
       "<table border=\"1\" class=\"dataframe\">\n",
       "  <thead>\n",
       "    <tr style=\"text-align: right;\">\n",
       "      <th></th>\n",
       "      <th>Name</th>\n",
       "      <th>Street</th>\n",
       "      <th>City</th>\n",
       "      <th>State</th>\n",
       "      <th>Zip</th>\n",
       "    </tr>\n",
       "  </thead>\n",
       "  <tbody>\n",
       "    <tr>\n",
       "      <th>0</th>\n",
       "      <td>Frank Manning</td>\n",
       "      <td>6461 Quinn Groves</td>\n",
       "      <td>East Matthew</td>\n",
       "      <td>New Hampshire</td>\n",
       "      <td>16656</td>\n",
       "    </tr>\n",
       "    <tr>\n",
       "      <th>1</th>\n",
       "      <td>Elizabeth Johnson</td>\n",
       "      <td>1360 Tracey Ports Apt. 419</td>\n",
       "      <td>Kyleport</td>\n",
       "      <td>Vermont</td>\n",
       "      <td>31924</td>\n",
       "    </tr>\n",
       "    <tr>\n",
       "      <th>2</th>\n",
       "      <td>Donald Stephens</td>\n",
       "      <td>19120 Fleming Manors</td>\n",
       "      <td>Prestonstad</td>\n",
       "      <td>Montana</td>\n",
       "      <td>23495</td>\n",
       "    </tr>\n",
       "    <tr>\n",
       "      <th>3</th>\n",
       "      <td>Michael Vincent III</td>\n",
       "      <td>441 Olivia Creek</td>\n",
       "      <td>Jimmymouth</td>\n",
       "      <td>Georgia</td>\n",
       "      <td>82991</td>\n",
       "    </tr>\n",
       "    <tr>\n",
       "      <th>4</th>\n",
       "      <td>Jasmine Zamora</td>\n",
       "      <td>4246 Chelsey Ford Apt. 310</td>\n",
       "      <td>Karamouth</td>\n",
       "      <td>Utah</td>\n",
       "      <td>76252</td>\n",
       "    </tr>\n",
       "    <tr>\n",
       "      <th>...</th>\n",
       "      <td>...</td>\n",
       "      <td>...</td>\n",
       "      <td>...</td>\n",
       "      <td>...</td>\n",
       "      <td>...</td>\n",
       "    </tr>\n",
       "    <tr>\n",
       "      <th>9956</th>\n",
       "      <td>Dana Browning</td>\n",
       "      <td>762 Andrew Views Apt. 254</td>\n",
       "      <td>North Paul</td>\n",
       "      <td>New Mexico</td>\n",
       "      <td>28889</td>\n",
       "    </tr>\n",
       "    <tr>\n",
       "      <th>9957</th>\n",
       "      <td>Amanda Anderson</td>\n",
       "      <td>44188 Day Crest Apt. 901</td>\n",
       "      <td>Lake Marcia</td>\n",
       "      <td>Maine</td>\n",
       "      <td>37378</td>\n",
       "    </tr>\n",
       "    <tr>\n",
       "      <th>9958</th>\n",
       "      <td>Eric Davis</td>\n",
       "      <td>73015 Michelle Squares</td>\n",
       "      <td>Watsonville</td>\n",
       "      <td>West Virginia</td>\n",
       "      <td>03933</td>\n",
       "    </tr>\n",
       "    <tr>\n",
       "      <th>9959</th>\n",
       "      <td>Taylor Hernandez</td>\n",
       "      <td>129 Keith Greens</td>\n",
       "      <td>Haleyfurt</td>\n",
       "      <td>Oklahoma</td>\n",
       "      <td>98916</td>\n",
       "    </tr>\n",
       "    <tr>\n",
       "      <th>9960</th>\n",
       "      <td>Sherry Nicholson</td>\n",
       "      <td>355 Griffin Valley</td>\n",
       "      <td>Davidtown</td>\n",
       "      <td>New Mexico</td>\n",
       "      <td>17581</td>\n",
       "    </tr>\n",
       "  </tbody>\n",
       "</table>\n",
       "<p>9961 rows × 5 columns</p>\n",
       "</div>"
      ],
      "text/plain": [
       "                     Name                      Street          City  \\\n",
       "0           Frank Manning           6461 Quinn Groves  East Matthew   \n",
       "1       Elizabeth Johnson  1360 Tracey Ports Apt. 419      Kyleport   \n",
       "2         Donald Stephens        19120 Fleming Manors   Prestonstad   \n",
       "3     Michael Vincent III            441 Olivia Creek    Jimmymouth   \n",
       "4          Jasmine Zamora  4246 Chelsey Ford Apt. 310     Karamouth   \n",
       "...                   ...                         ...           ...   \n",
       "9956        Dana Browning   762 Andrew Views Apt. 254    North Paul   \n",
       "9957      Amanda Anderson    44188 Day Crest Apt. 901   Lake Marcia   \n",
       "9958           Eric Davis      73015 Michelle Squares   Watsonville   \n",
       "9959     Taylor Hernandez            129 Keith Greens     Haleyfurt   \n",
       "9960     Sherry Nicholson          355 Griffin Valley     Davidtown   \n",
       "\n",
       "              State    Zip  \n",
       "0     New Hampshire  16656  \n",
       "1           Vermont  31924  \n",
       "2           Montana  23495  \n",
       "3           Georgia  82991  \n",
       "4              Utah  76252  \n",
       "...             ...    ...  \n",
       "9956     New Mexico  28889  \n",
       "9957          Maine  37378  \n",
       "9958  West Virginia  03933  \n",
       "9959       Oklahoma  98916  \n",
       "9960     New Mexico  17581  \n",
       "\n",
       "[9961 rows x 5 columns]"
      ]
     },
     "execution_count": 19,
     "metadata": {},
     "output_type": "execute_result"
    }
   ],
   "source": [
    "customers.drop(labels = ['Address'], axis = 'columns')"
   ]
  },
  {
   "cell_type": "code",
   "execution_count": null,
   "id": "2453dd52-8061-4ddd-a2b1-2c00ec4e4afe",
   "metadata": {},
   "outputs": [],
   "source": []
  }
 ],
 "metadata": {
  "kernelspec": {
   "display_name": "Python 3 (ipykernel)",
   "language": "python",
   "name": "python3"
  },
  "language_info": {
   "codemirror_mode": {
    "name": "ipython",
    "version": 3
   },
   "file_extension": ".py",
   "mimetype": "text/x-python",
   "name": "python",
   "nbconvert_exporter": "python",
   "pygments_lexer": "ipython3",
   "version": "3.8.18"
  }
 },
 "nbformat": 4,
 "nbformat_minor": 5
}
