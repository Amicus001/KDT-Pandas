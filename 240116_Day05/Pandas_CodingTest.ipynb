{
 "cells": [
  {
   "cell_type": "markdown",
   "id": "4ea0c66e-e763-4b1e-8a51-f783d73be47f",
   "metadata": {},
   "source": [
    "[문1] 아래 조건을 만족하는 Series를 생성하세요.\n",
    "1) 데이터 : 1~50 범위에서 7의 배수 정수\n",
    "2) 인덱스 : 'a~z' 범위에서 데이터 갯수 만큼의 알파벳\n",
    "3) 타  입 : 부호가 없는 1바이트 정수\n",
    "4) 이  름 : sevens\n",
    "5) 속  성 : index, values, dtype, ndim, shape, size"
   ]
  },
  {
   "cell_type": "code",
   "execution_count": 71,
   "id": "4de17faf-c756-4097-bfc0-79a85b573196",
   "metadata": {},
   "outputs": [],
   "source": [
    "import pandas as pd"
   ]
  },
  {
   "cell_type": "code",
   "execution_count": 72,
   "id": "ed3d967d-dcdb-430c-8cbc-2b29b34c5410",
   "metadata": {},
   "outputs": [],
   "source": [
    "numbers =[]\n",
    "for a in range(1,51):\n",
    "    if a%7==0:\n",
    "        numbers.append(a)"
   ]
  },
  {
   "cell_type": "code",
   "execution_count": 87,
   "id": "038beca7-5653-464c-adc4-d68653e7521e",
   "metadata": {},
   "outputs": [
    {
     "data": {
      "text/plain": [
       "a     7\n",
       "b    14\n",
       "c    21\n",
       "d    28\n",
       "e    35\n",
       "f    42\n",
       "g    49\n",
       "dtype: int64"
      ]
     },
     "execution_count": 87,
     "metadata": {},
     "output_type": "execute_result"
    }
   ],
   "source": [
    "alpha = ['a', 'b', 'c', 'd', 'e', 'f', 'g']\n",
    "sevens=pd.Series(numbers,alpha)\n",
    "sevens"
   ]
  },
  {
   "cell_type": "code",
   "execution_count": 83,
   "id": "f7059b22-eea3-470b-af6c-55b348e6fb0e",
   "metadata": {},
   "outputs": [
    {
     "name": "stdout",
     "output_type": "stream",
     "text": [
      "Index(['a', 'b', 'c', 'd', 'e', 'f', 'g'], dtype='object')\n",
      "\n",
      "[ 7 14 21 28 35 42 49]\n",
      "\n",
      "int64\n",
      "\n",
      "1\n",
      "\n",
      "(7,)\n",
      "\n",
      "7\n"
     ]
    }
   ],
   "source": [
    "print(sevens.index, sevens.values, sevens.dtype, sevens.ndim, sevens.shape, sevens.size, sep = '\\n\\n' )"
   ]
  },
  {
   "cell_type": "markdown",
   "id": "6e816108-d335-45c5-bbc0-3ceeed3c7f60",
   "metadata": {},
   "source": [
    "[문2] 아래 조건을 만족하는 데이터 객체를 생성하세요.\n",
    "1) 데이터 : knu_data.csv\n",
    "2) 인덱스 : 컬럼 중 하나를 인덱스로 설정\n",
    "3) 속성 정보 출력 \n",
    "4) 데이터 확인 정보 출력\n",
    "5) 타입과 실제 데이터 타입 일치 "
   ]
  },
  {
   "cell_type": "code",
   "execution_count": 54,
   "id": "a76e542d-311c-4eda-914e-2f89eb182df3",
   "metadata": {},
   "outputs": [
    {
     "name": "stdout",
     "output_type": "stream",
     "text": [
      "<class 'pandas.core.frame.DataFrame'>\n",
      "RangeIndex: 5 entries, 0 to 4\n",
      "Data columns (total 3 columns):\n",
      " #   Column  Non-Null Count  Dtype \n",
      "---  ------  --------------  ----- \n",
      " 0   mem_id  5 non-null      object\n",
      " 1   team    5 non-null      object\n",
      " 2   time    5 non-null      int64 \n",
      "dtypes: int64(1), object(2)\n",
      "memory usage: 248.0+ bytes\n"
     ]
    }
   ],
   "source": [
    "knudata =pd.read_csv('../DATA/knu_data.csv')\n",
    "knudata.info()"
   ]
  },
  {
   "cell_type": "code",
   "execution_count": 90,
   "id": "3ae58fb0-6a09-40c6-860d-c846ae2fdad5",
   "metadata": {},
   "outputs": [
    {
     "ename": "IndexError",
     "evalue": "only integers, slices (`:`), ellipsis (`...`), numpy.newaxis (`None`) and integer or boolean arrays are valid indices",
     "output_type": "error",
     "traceback": [
      "\u001b[1;31m---------------------------------------------------------------------------\u001b[0m",
      "\u001b[1;31mIndexError\u001b[0m                                Traceback (most recent call last)",
      "Cell \u001b[1;32mIn[90], line 1\u001b[0m\n\u001b[1;32m----> 1\u001b[0m \u001b[43mknudata\u001b[49m\u001b[38;5;241;43m.\u001b[39;49m\u001b[43mindex\u001b[49m\u001b[43m[\u001b[49m\u001b[38;5;124;43m'\u001b[39;49m\u001b[38;5;124;43mmem_id\u001b[39;49m\u001b[38;5;124;43m'\u001b[39;49m\u001b[43m]\u001b[49m\n",
      "File \u001b[1;32m~\\anaconda3\\envs\\My_38\\lib\\site-packages\\pandas\\core\\indexes\\range.py:918\u001b[0m, in \u001b[0;36mRangeIndex.__getitem__\u001b[1;34m(self, key)\u001b[0m\n\u001b[0;32m    914\u001b[0m         \u001b[38;5;28;01mraise\u001b[39;00m \u001b[38;5;167;01mIndexError\u001b[39;00m(\n\u001b[0;32m    915\u001b[0m             \u001b[38;5;124mf\u001b[39m\u001b[38;5;124m\"\u001b[39m\u001b[38;5;124mindex \u001b[39m\u001b[38;5;132;01m{\u001b[39;00mkey\u001b[38;5;132;01m}\u001b[39;00m\u001b[38;5;124m is out of bounds for axis 0 with size \u001b[39m\u001b[38;5;132;01m{\u001b[39;00m\u001b[38;5;28mlen\u001b[39m(\u001b[38;5;28mself\u001b[39m)\u001b[38;5;132;01m}\u001b[39;00m\u001b[38;5;124m\"\u001b[39m\n\u001b[0;32m    916\u001b[0m         ) \u001b[38;5;28;01mfrom\u001b[39;00m \u001b[38;5;21;01merr\u001b[39;00m\n\u001b[0;32m    917\u001b[0m \u001b[38;5;28;01melif\u001b[39;00m is_scalar(key):\n\u001b[1;32m--> 918\u001b[0m     \u001b[38;5;28;01mraise\u001b[39;00m \u001b[38;5;167;01mIndexError\u001b[39;00m(\n\u001b[0;32m    919\u001b[0m         \u001b[38;5;124m\"\u001b[39m\u001b[38;5;124monly integers, slices (`:`), \u001b[39m\u001b[38;5;124m\"\u001b[39m\n\u001b[0;32m    920\u001b[0m         \u001b[38;5;124m\"\u001b[39m\u001b[38;5;124mellipsis (`...`), numpy.newaxis (`None`) \u001b[39m\u001b[38;5;124m\"\u001b[39m\n\u001b[0;32m    921\u001b[0m         \u001b[38;5;124m\"\u001b[39m\u001b[38;5;124mand integer or boolean \u001b[39m\u001b[38;5;124m\"\u001b[39m\n\u001b[0;32m    922\u001b[0m         \u001b[38;5;124m\"\u001b[39m\u001b[38;5;124marrays are valid indices\u001b[39m\u001b[38;5;124m\"\u001b[39m\n\u001b[0;32m    923\u001b[0m     )\n\u001b[0;32m    924\u001b[0m \u001b[38;5;28;01mreturn\u001b[39;00m \u001b[38;5;28msuper\u001b[39m()\u001b[38;5;241m.\u001b[39m\u001b[38;5;21m__getitem__\u001b[39m(key)\n",
      "\u001b[1;31mIndexError\u001b[0m: only integers, slices (`:`), ellipsis (`...`), numpy.newaxis (`None`) and integer or boolean arrays are valid indices"
     ]
    }
   ],
   "source": [
    "knudata.index['mem_id']"
   ]
  },
  {
   "cell_type": "markdown",
   "id": "ed5b8afb-0d0e-4337-82a5-b74c857a5f67",
   "metadata": {},
   "source": [
    "[문3] 아래 조건을 만족하는 데이터 객체를 생성하세요.\n",
    "1) 데이터 : stats_100701.xlsx\n",
    "2) 년도별 인구가 가장 많은 지역과 가장 적은 지역 \n",
    "3) 6대 광역시에서 년도별 인구가 가장 많은 지역과 가장 적은 지역 \n",
    "4) 8도 중 7도에서 년도별 인구가 가장 많은 지역과 가장 적은 지역 "
   ]
  },
  {
   "cell_type": "code",
   "execution_count": 58,
   "id": "07f3b5e3-f715-4766-95b1-3bd99a341bfb",
   "metadata": {},
   "outputs": [],
   "source": [
    "populations= pd.read_excel('../DATA/stats_100701.xlsx')"
   ]
  },
  {
   "cell_type": "code",
   "execution_count": 64,
   "id": "70f87bd2-182d-4a9f-b184-db7e1905cf55",
   "metadata": {},
   "outputs": [
    {
     "ename": "SyntaxError",
     "evalue": "invalid syntax (3766576523.py, line 1)",
     "output_type": "error",
     "traceback": [
      "\u001b[1;36m  Cell \u001b[1;32mIn[64], line 1\u001b[1;36m\u001b[0m\n\u001b[1;33m    print(f' 2015. max{populations['Unnamed:1'].max()}, min{populations['Unnamed: 1'].str.min()}\\n\u001b[0m\n\u001b[1;37m                                    ^\u001b[0m\n\u001b[1;31mSyntaxError\u001b[0m\u001b[1;31m:\u001b[0m invalid syntax\n"
     ]
    }
   ],
   "source": [
    "print(f' 2015. max{populations['Unnamed:1'].max()}, min{populations['Unnamed: 1'].min()}\\n\n",
    "         2016. max{populations['Unnamed:2'].max()}, min{populations['Unnamed: 2'].min()}\\n\n",
    "         2017. max{populations['Unnamed:3'].max()}, min{populations['Unnamed: 3'].min()}\\n\n",
    "         2018. max{populations['Unnamed:4'].max()}, min{populations['Unnamed: 4'].min()}')"
   ]
  },
  {
   "cell_type": "markdown",
   "id": "6f694094-19ef-4c06-a0d2-2a547a29be4e",
   "metadata": {},
   "source": [
    "[문4] 아래 조건을 만족하는 데이터 객체를 생성하세요.\n",
    "1) 데이터 : stock price.xlsx\n",
    "2) 데이터 로딩 시 인덱스로 사용할 수 있는 컬럼 설정\n",
    "3) 결측치 처리 =>\n",
    "   (가) 1개라도 NaN이면 모두 제거 / price가 NaN이면 제거 / value가 10000이하면 제거\n",
    "   (나) 평균값으로 결측치 대체, 이전/이후 값으로 결측치 대체\n",
    "4) value가 1000이하 이거나 price가 90000이상인 데이터"
   ]
  },
  {
   "cell_type": "code",
   "execution_count": 86,
   "id": "fa648dd9-a90d-48cb-9080-ea3b1d3d539b",
   "metadata": {},
   "outputs": [
    {
     "ename": "TypeError",
     "evalue": "read_excel() got an unexpected keyword argument 'index'",
     "output_type": "error",
     "traceback": [
      "\u001b[1;31m---------------------------------------------------------------------------\u001b[0m",
      "\u001b[1;31mTypeError\u001b[0m                                 Traceback (most recent call last)",
      "Cell \u001b[1;32mIn[86], line 1\u001b[0m\n\u001b[1;32m----> 1\u001b[0m stock \u001b[38;5;241m=\u001b[39m \u001b[43mpd\u001b[49m\u001b[38;5;241;43m.\u001b[39;49m\u001b[43mread_excel\u001b[49m\u001b[43m(\u001b[49m\u001b[38;5;124;43m'\u001b[39;49m\u001b[38;5;124;43m../DATA/stock price.xlsx\u001b[39;49m\u001b[38;5;124;43m'\u001b[39;49m\u001b[43m,\u001b[49m\u001b[43m  \u001b[49m\u001b[43mindex\u001b[49m\u001b[43m \u001b[49m\u001b[38;5;241;43m=\u001b[39;49m\u001b[43m \u001b[49m\u001b[38;5;124;43m'\u001b[39;49m\u001b[38;5;124;43mstock_name\u001b[39;49m\u001b[38;5;124;43m'\u001b[39;49m\u001b[43m)\u001b[49m\n\u001b[0;32m      2\u001b[0m stock\n",
      "\u001b[1;31mTypeError\u001b[0m: read_excel() got an unexpected keyword argument 'index'"
     ]
    }
   ],
   "source": [
    "stock = pd.read_excel('../DATA/stock price.xlsx',  index = 'stock_name')\n",
    "stock"
   ]
  },
  {
   "cell_type": "code",
   "execution_count": null,
   "id": "a91524eb-e063-4fc2-9bb7-c39443d9ecdd",
   "metadata": {},
   "outputs": [],
   "source": []
  },
  {
   "cell_type": "code",
   "execution_count": null,
   "id": "dd69ae0e-a269-4457-8fc0-af8d0be3b4f5",
   "metadata": {},
   "outputs": [],
   "source": []
  }
 ],
 "metadata": {
  "kernelspec": {
   "display_name": "Python 3 (ipykernel)",
   "language": "python",
   "name": "python3"
  },
  "language_info": {
   "codemirror_mode": {
    "name": "ipython",
    "version": 3
   },
   "file_extension": ".py",
   "mimetype": "text/x-python",
   "name": "python",
   "nbconvert_exporter": "python",
   "pygments_lexer": "ipython3",
   "version": "3.8.18"
  }
 },
 "nbformat": 4,
 "nbformat_minor": 5
}
