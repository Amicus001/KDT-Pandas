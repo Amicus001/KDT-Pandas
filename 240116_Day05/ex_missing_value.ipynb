{
 "cells": [
  {
   "cell_type": "markdown",
   "id": "08539772-3f9c-4f09-8f33-fe972336ce4e",
   "metadata": {},
   "source": [
    "## [결측치 missing value 처리하기]\n",
    "- 데이터 미입력 또는 데이터 저장 과정에서 지워지거나 깨지는 등 손상된 데이터\n",
    "- 주로 빈칸\n",
    "- NaN(Not a Number), NaT(Not a Text)\n",
    "- Numpy 모듈 NaN/math 모듈 nan 사용"
   ]
  },
  {
   "cell_type": "markdown",
   "id": "1131e53b-dc42-4e23-aa2d-b1f103b68e48",
   "metadata": {},
   "source": [
    "(1) 모듈 로딩하기<hr>"
   ]
  },
  {
   "cell_type": "code",
   "execution_count": 1,
   "id": "e05bfbbe-7df7-4eb1-9c82-503ad76d5a05",
   "metadata": {},
   "outputs": [],
   "source": [
    "import pandas as pd"
   ]
  },
  {
   "cell_type": "markdown",
   "id": "853f1c85-36a2-4c4e-b19a-4d74200b85c8",
   "metadata": {},
   "source": [
    "(2) 데이터 준비"
   ]
  },
  {
   "cell_type": "code",
   "execution_count": 2,
   "id": "73144cb9-8401-4be2-9f2e-2ace5980cb3f",
   "metadata": {},
   "outputs": [],
   "source": [
    "file = '../DATA/employees.csv'"
   ]
  },
  {
   "cell_type": "markdown",
   "id": "dfc38906-3f50-4952-a66e-c42f0a0c1898",
   "metadata": {},
   "source": [
    "(3) 저장: csv -> DF"
   ]
  },
  {
   "cell_type": "code",
   "execution_count": 4,
   "id": "3b9694a6-2868-48da-b0a6-e353304c5888",
   "metadata": {},
   "outputs": [],
   "source": [
    "#구분자 = 쉼표, 헤더(첫번째 줄) : 컬럼명.\n",
    "empDF = pd.read_csv(file)"
   ]
  },
  {
   "cell_type": "markdown",
   "id": "32c55440-03e0-45e4-934c-577b9614f609",
   "metadata": {},
   "source": [
    "(4) 데이터 확인"
   ]
  },
  {
   "cell_type": "code",
   "execution_count": 6,
   "id": "2ce984bc-a3a2-4dd4-bd4d-8ce005052cf0",
   "metadata": {},
   "outputs": [
    {
     "name": "stdout",
     "output_type": "stream",
     "text": [
      "<class 'pandas.core.frame.DataFrame'>\n",
      "RangeIndex: 1001 entries, 0 to 1000\n",
      "Data columns (total 6 columns):\n",
      " #   Column      Non-Null Count  Dtype  \n",
      "---  ------      --------------  -----  \n",
      " 0   First Name  933 non-null    object \n",
      " 1   Gender      854 non-null    object \n",
      " 2   Start Date  999 non-null    object \n",
      " 3   Salary      999 non-null    float64\n",
      " 4   Mgmt        933 non-null    object \n",
      " 5   Team        957 non-null    object \n",
      "dtypes: float64(1), object(5)\n",
      "memory usage: 47.0+ KB\n"
     ]
    }
   ],
   "source": [
    "#데이터의 전반적 요약 정리 -> 컬럼별 결측치 여부 확인/처리,  컬럼별 데이터 타입과 실제 데이터 타입 비교하여 다른 경우 형변환. \n",
    "\n",
    "empDF.info()"
   ]
  },
  {
   "cell_type": "markdown",
   "id": "10145d2a-64ad-4d1f-abfd-b5b4dfe060c8",
   "metadata": {},
   "source": [
    "- 데이터의 컬럼별 분포 확인하기:describe() 컬럼별 기술 통계값"
   ]
  },
  {
   "cell_type": "code",
   "execution_count": 8,
   "id": "56a51977-f135-492a-8ca6-62f1718de3d2",
   "metadata": {},
   "outputs": [
    {
     "data": {
      "text/html": [
       "<div>\n",
       "<style scoped>\n",
       "    .dataframe tbody tr th:only-of-type {\n",
       "        vertical-align: middle;\n",
       "    }\n",
       "\n",
       "    .dataframe tbody tr th {\n",
       "        vertical-align: top;\n",
       "    }\n",
       "\n",
       "    .dataframe thead th {\n",
       "        text-align: right;\n",
       "    }\n",
       "</style>\n",
       "<table border=\"1\" class=\"dataframe\">\n",
       "  <thead>\n",
       "    <tr style=\"text-align: right;\">\n",
       "      <th></th>\n",
       "      <th>Salary</th>\n",
       "    </tr>\n",
       "  </thead>\n",
       "  <tbody>\n",
       "    <tr>\n",
       "      <th>count</th>\n",
       "      <td>999.000000</td>\n",
       "    </tr>\n",
       "    <tr>\n",
       "      <th>mean</th>\n",
       "      <td>90655.528529</td>\n",
       "    </tr>\n",
       "    <tr>\n",
       "      <th>std</th>\n",
       "      <td>32939.511615</td>\n",
       "    </tr>\n",
       "    <tr>\n",
       "      <th>min</th>\n",
       "      <td>35013.000000</td>\n",
       "    </tr>\n",
       "    <tr>\n",
       "      <th>25%</th>\n",
       "      <td>62560.000000</td>\n",
       "    </tr>\n",
       "    <tr>\n",
       "      <th>50%</th>\n",
       "      <td>90427.000000</td>\n",
       "    </tr>\n",
       "    <tr>\n",
       "      <th>75%</th>\n",
       "      <td>118744.500000</td>\n",
       "    </tr>\n",
       "    <tr>\n",
       "      <th>max</th>\n",
       "      <td>149908.000000</td>\n",
       "    </tr>\n",
       "  </tbody>\n",
       "</table>\n",
       "</div>"
      ],
      "text/plain": [
       "              Salary\n",
       "count     999.000000\n",
       "mean    90655.528529\n",
       "std     32939.511615\n",
       "min     35013.000000\n",
       "25%     62560.000000\n",
       "50%     90427.000000\n",
       "75%    118744.500000\n",
       "max    149908.000000"
      ]
     },
     "execution_count": 8,
     "metadata": {},
     "output_type": "execute_result"
    }
   ],
   "source": [
    "empDF.describe()"
   ]
  },
  {
   "cell_type": "code",
   "execution_count": 15,
   "id": "3adaa030-9de7-4f2e-8b9c-537e12032ecd",
   "metadata": {},
   "outputs": [
    {
     "name": "stdout",
     "output_type": "stream",
     "text": [
      "     Salary\n",
      "0   86676.0\n",
      "1   91462.0\n",
      "2  121160.0\n",
      "3  145988.0\n",
      "4  147183.0\n",
      "\n",
      "Salary    90427.0\n",
      "dtype: float64\n",
      "\n",
      "Salary    90655.528529\n",
      "dtype: float64\n"
     ]
    }
   ],
   "source": [
    "#최빈값: mode(), 중앙값: median()\n",
    "\n",
    "print(empDF.mode(numeric_only = True), empDF.median(numeric_only = True),empDF.mean(numeric_only = True),sep = '\\n\\n')"
   ]
  },
  {
   "cell_type": "markdown",
   "id": "8618fa30-60b4-4790-98f2-a77dfa719f32",
   "metadata": {},
   "source": [
    "(5) 데이터전처리(preprocessing) : 결측치 처리"
   ]
  },
  {
   "cell_type": "markdown",
   "id": "b122af98-4f11-4ae4-b035-15929ae64c2a",
   "metadata": {},
   "source": [
    "- 결측치 확인: isna(), isnull(): 원소 단위로 검사후 결측치인 경우 True 반환\n",
    "- "
   ]
  },
  {
   "cell_type": "code",
   "execution_count": 21,
   "id": "f9d0e6b3-cf0c-4edb-ba08-fd6cca9790ff",
   "metadata": {},
   "outputs": [
    {
     "data": {
      "text/plain": [
       "Index(['First Name', 'Gender', 'Start Date', 'Salary', 'Mgmt', 'Team'], dtype='object')"
      ]
     },
     "execution_count": 21,
     "metadata": {},
     "output_type": "execute_result"
    }
   ],
   "source": [
    "empDF.columns"
   ]
  },
  {
   "cell_type": "code",
   "execution_count": 23,
   "id": "bdc90232-c8ce-4b52-9e3d-7dc63139f902",
   "metadata": {},
   "outputs": [
    {
     "name": "stdout",
     "output_type": "stream",
     "text": [
      "First Name     68\n",
      "Gender        147\n",
      "Start Date      2\n",
      "Salary          2\n",
      "Mgmt           68\n",
      "Team           44\n",
      "dtype: int64\n",
      "\n",
      "First Name     68\n",
      "Gender        147\n",
      "Start Date      2\n",
      "Salary          2\n",
      "Mgmt           68\n",
      "Team           44\n",
      "dtype: int64\n"
     ]
    }
   ],
   "source": [
    "print(empDF.isna().sum(), empDF.isnull().sum(), sep= '\\n\\n')"
   ]
  },
  {
   "cell_type": "markdown",
   "id": "f86a7dec-4c53-4811-85e4-d47808d73277",
   "metadata": {},
   "source": [
    "- 결측치 확인 2: notna(), notnull(): 결측치가 아니면 True 반환-> 정상치 몇 개인지 확인 가능"
   ]
  },
  {
   "cell_type": "code",
   "execution_count": 25,
   "id": "c9e2b395-cfc5-40a6-a2ca-6ffd01224f39",
   "metadata": {},
   "outputs": [
    {
     "name": "stdout",
     "output_type": "stream",
     "text": [
      "   First Name  Gender  Start Date  Salary  Mgmt   Team\n",
      "0        True    True        True   False  True   True\n",
      "1        True    True        True    True  True  False\n",
      "2        True    True       False    True  True   True\n",
      "3        True   False        True    True  True   True\n",
      "4        True    True        True    True  True   True\n",
      "\n",
      "   First Name  Gender  Start Date  Salary  Mgmt   Team\n",
      "0        True    True        True   False  True   True\n",
      "1        True    True        True    True  True  False\n",
      "2        True    True       False    True  True   True\n",
      "3        True   False        True    True  True   True\n",
      "4        True    True        True    True  True   True\n"
     ]
    }
   ],
   "source": [
    "print(empDF.notna().head(), empDF.notnull().head(), sep = '\\n\\n')"
   ]
  },
  {
   "cell_type": "markdown",
   "id": "ce0b3c96-2040-4b5d-ad22-9db3435bfc61",
   "metadata": {},
   "source": [
    "- 결측치 처리: 1. 삭제- dropna()"
   ]
  },
  {
   "cell_type": "code",
   "execution_count": 26,
   "id": "345528e0-a11b-45fb-9ee7-a4303bd5749a",
   "metadata": {},
   "outputs": [
    {
     "name": "stdout",
     "output_type": "stream",
     "text": [
      "(1001, 6) (761, 6)\n"
     ]
    }
   ],
   "source": [
    "#모든 행에 1개의 값이라도 NaN이면 삭제함. \n",
    "empDF2 = empDF.dropna()\n",
    "\n",
    "print(empDF.shape, empDF2.shape)"
   ]
  },
  {
   "cell_type": "code",
   "execution_count": 30,
   "id": "671738f1-9deb-4314-b2b7-20490dccadf6",
   "metadata": {},
   "outputs": [],
   "source": [
    "empDF3 = empDF.dropna(how = 'all') #how=all:행에 모든 데이터(값)가 Na이면 삭제함. \n",
    "\n",
    "#특정 컬럼의 na만 체크하여 삭제하는 방법\n",
    "#성별에 따른 연 분석= NA면 분석 불가능한 컬럼을 지정함.\n",
    "empDF4 = empDF.dropna(subset = ['Gender', 'Salary'])"
   ]
  },
  {
   "cell_type": "code",
   "execution_count": 36,
   "id": "0df4809e-35cf-410b-b575-94d4019d5ce5",
   "metadata": {},
   "outputs": [
    {
     "name": "stdout",
     "output_type": "stream",
     "text": [
      "(761, 0) Index([], dtype='object')\n"
     ]
    }
   ],
   "source": [
    "#컬럼별 정상 데이터(na가 아닌 데이터)의 갯수를 지정 후 해당 갯수만큼 정상 데이터가 없는 컬럼을 삭제함. \n",
    "\n",
    "empDF5 = empDF.dropna(thresh =900 , axis = 'columns') # na가 아닌 데이터가 900개 미만인 컬럼인 'Gender' 삭제\n",
    "print(empDF5.shape, empDF5.columns)"
   ]
  },
  {
   "cell_type": "markdown",
   "id": "989af6ba-1af3-49f3-817d-70ba4578c0f6",
   "metadata": {},
   "source": [
    "- 결측치 처리 = 대체: fillna()"
   ]
  },
  {
   "cell_type": "code",
   "execution_count": 38,
   "id": "5441eadd-4e8c-46e3-a320-2b9b13bddb88",
   "metadata": {},
   "outputs": [
    {
     "data": {
      "text/html": [
       "<div>\n",
       "<style scoped>\n",
       "    .dataframe tbody tr th:only-of-type {\n",
       "        vertical-align: middle;\n",
       "    }\n",
       "\n",
       "    .dataframe tbody tr th {\n",
       "        vertical-align: top;\n",
       "    }\n",
       "\n",
       "    .dataframe thead th {\n",
       "        text-align: right;\n",
       "    }\n",
       "</style>\n",
       "<table border=\"1\" class=\"dataframe\">\n",
       "  <thead>\n",
       "    <tr style=\"text-align: right;\">\n",
       "      <th></th>\n",
       "      <th>First Name</th>\n",
       "      <th>Gender</th>\n",
       "      <th>Start Date</th>\n",
       "      <th>Salary</th>\n",
       "      <th>Mgmt</th>\n",
       "      <th>Team</th>\n",
       "    </tr>\n",
       "  </thead>\n",
       "  <tbody>\n",
       "    <tr>\n",
       "      <th>count</th>\n",
       "      <td>761</td>\n",
       "      <td>761</td>\n",
       "      <td>761</td>\n",
       "      <td>761.0</td>\n",
       "      <td>761</td>\n",
       "      <td>761</td>\n",
       "    </tr>\n",
       "    <tr>\n",
       "      <th>unique</th>\n",
       "      <td>199</td>\n",
       "      <td>2</td>\n",
       "      <td>745</td>\n",
       "      <td>NaN</td>\n",
       "      <td>2</td>\n",
       "      <td>10</td>\n",
       "    </tr>\n",
       "    <tr>\n",
       "      <th>top</th>\n",
       "      <td>Marilyn</td>\n",
       "      <td>Female</td>\n",
       "      <td>5/12/09</td>\n",
       "      <td>NaN</td>\n",
       "      <td>False</td>\n",
       "      <td>Business Dev</td>\n",
       "    </tr>\n",
       "    <tr>\n",
       "      <th>freq</th>\n",
       "      <td>10</td>\n",
       "      <td>392</td>\n",
       "      <td>2</td>\n",
       "      <td>NaN</td>\n",
       "      <td>382</td>\n",
       "      <td>88</td>\n",
       "    </tr>\n",
       "  </tbody>\n",
       "</table>\n",
       "</div>"
      ],
      "text/plain": [
       "       First Name  Gender Start Date  Salary   Mgmt          Team\n",
       "count         761     761        761   761.0    761           761\n",
       "unique        199       2        745     NaN      2            10\n",
       "top       Marilyn  Female    5/12/09     NaN  False  Business Dev\n",
       "freq           10     392          2     NaN    382            88"
      ]
     },
     "execution_count": 38,
     "metadata": {},
     "output_type": "execute_result"
    }
   ],
   "source": [
    "#Gender 컬럼의 결측값을 뭘로 채울까?\n",
    "empDF.describe(include = 'all').head(4)"
   ]
  },
  {
   "cell_type": "code",
   "execution_count": 42,
   "id": "9b6c8c8e-cc69-40e4-9911-9de4600d7594",
   "metadata": {},
   "outputs": [
    {
     "data": {
      "text/plain": [
       "0"
      ]
     },
     "execution_count": 42,
     "metadata": {},
     "output_type": "execute_result"
    }
   ],
   "source": [
    "# column의 최빈값으로 na 채우기\n",
    "empDF.Gender.mode()[0]\n",
    "genSR = empDF.Gender.fillna(empDF.Gender.mode()[0])\n",
    "genSR. isna(). sum()"
   ]
  },
  {
   "cell_type": "code",
   "execution_count": 43,
   "id": "634e67d1-ff98-4863-a21e-3882948e66a6",
   "metadata": {},
   "outputs": [
    {
     "data": {
      "text/plain": [
       "4        Male\n",
       "5        Male\n",
       "6      Female\n",
       "8      Female\n",
       "9      Female\n",
       "        ...  \n",
       "994      Male\n",
       "996      Male\n",
       "997      Male\n",
       "998      Male\n",
       "999      Male\n",
       "Name: Gender, Length: 761, dtype: object"
      ]
     },
     "execution_count": 43,
     "metadata": {},
     "output_type": "execute_result"
    }
   ],
   "source": [
    "# ->na값 이전과 이후 값으로 채우기:\n",
    "#method parameter에 ffill(이전값)\n",
    "empDF.Gender.fillna(method='ffill')"
   ]
  },
  {
   "cell_type": "code",
   "execution_count": 44,
   "id": "155a0239-7484-4597-b39c-b51f3c9f3875",
   "metadata": {},
   "outputs": [
    {
     "data": {
      "text/plain": [
       "4        Male\n",
       "5        Male\n",
       "6      Female\n",
       "8      Female\n",
       "9      Female\n",
       "        ...  \n",
       "994      Male\n",
       "996      Male\n",
       "997      Male\n",
       "998      Male\n",
       "999      Male\n",
       "Name: Gender, Length: 761, dtype: object"
      ]
     },
     "execution_count": 44,
     "metadata": {},
     "output_type": "execute_result"
    }
   ],
   "source": [
    "#method parameter에 bfill(이후값)\n",
    "empDF.Gender.fillna(method='bfill')"
   ]
  },
  {
   "cell_type": "code",
   "execution_count": 51,
   "id": "ba8b5686-feed-4896-9547-8c7702eb3e10",
   "metadata": {},
   "outputs": [
    {
     "data": {
      "text/html": [
       "<div>\n",
       "<style scoped>\n",
       "    .dataframe tbody tr th:only-of-type {\n",
       "        vertical-align: middle;\n",
       "    }\n",
       "\n",
       "    .dataframe tbody tr th {\n",
       "        vertical-align: top;\n",
       "    }\n",
       "\n",
       "    .dataframe thead th {\n",
       "        text-align: right;\n",
       "    }\n",
       "</style>\n",
       "<table border=\"1\" class=\"dataframe\">\n",
       "  <thead>\n",
       "    <tr style=\"text-align: right;\">\n",
       "      <th></th>\n",
       "      <th>A</th>\n",
       "      <th>B</th>\n",
       "      <th>C</th>\n",
       "      <th>D</th>\n",
       "    </tr>\n",
       "  </thead>\n",
       "  <tbody>\n",
       "    <tr>\n",
       "      <th>0</th>\n",
       "      <td>NaN</td>\n",
       "      <td>2.0</td>\n",
       "      <td>NaN</td>\n",
       "      <td>0.0</td>\n",
       "    </tr>\n",
       "    <tr>\n",
       "      <th>1</th>\n",
       "      <td>3.0</td>\n",
       "      <td>4.0</td>\n",
       "      <td>NaN</td>\n",
       "      <td>1.0</td>\n",
       "    </tr>\n",
       "    <tr>\n",
       "      <th>2</th>\n",
       "      <td>NaN</td>\n",
       "      <td>NaN</td>\n",
       "      <td>NaN</td>\n",
       "      <td>NaN</td>\n",
       "    </tr>\n",
       "    <tr>\n",
       "      <th>3</th>\n",
       "      <td>NaN</td>\n",
       "      <td>3.0</td>\n",
       "      <td>NaN</td>\n",
       "      <td>4.0</td>\n",
       "    </tr>\n",
       "  </tbody>\n",
       "</table>\n",
       "</div>"
      ],
      "text/plain": [
       "     A    B   C    D\n",
       "0  NaN  2.0 NaN  0.0\n",
       "1  3.0  4.0 NaN  1.0\n",
       "2  NaN  NaN NaN  NaN\n",
       "3  NaN  3.0 NaN  4.0"
      ]
     },
     "execution_count": 51,
     "metadata": {},
     "output_type": "execute_result"
    }
   ],
   "source": [
    "import numpy as np\n",
    "\n",
    "df = pd.DataFrame([[np.nan, 2, np.nan, 0],\n",
    "                   [3, 4, np.nan, 1],\n",
    "                   [np.nan, np.nan, np.nan, np.nan],\n",
    "                   [np.nan, 3, np.nan, 4]],\n",
    "                   columns=list(\"ABCD\"))\n",
    "df"
   ]
  },
  {
   "cell_type": "code",
   "execution_count": 54,
   "id": "22627a9c-c2d9-4eec-bce4-17fc032d63ba",
   "metadata": {},
   "outputs": [
    {
     "data": {
      "text/plain": [
       "0    3.0\n",
       "1    3.0\n",
       "2    NaN\n",
       "3    NaN\n",
       "Name: A, dtype: float64"
      ]
     },
     "execution_count": 54,
     "metadata": {},
     "output_type": "execute_result"
    }
   ],
   "source": [
    "df.A.fillna(method='bfill')"
   ]
  },
  {
   "cell_type": "code",
   "execution_count": 55,
   "id": "b4354d46-73c1-4bb7-a567-955fdf6b0698",
   "metadata": {},
   "outputs": [
    {
     "data": {
      "text/plain": [
       "0    0.000000\n",
       "1    1.000000\n",
       "2    1.666667\n",
       "3    4.000000\n",
       "Name: D, dtype: float64"
      ]
     },
     "execution_count": 55,
     "metadata": {},
     "output_type": "execute_result"
    }
   ],
   "source": [
    "#B컬럼/D컬럼 평균으로 결측치 대체\n",
    "df.B.fillna(df.B.mean())\n",
    "df.D.fillna(df.D.mean())"
   ]
  },
  {
   "cell_type": "code",
   "execution_count": null,
   "id": "e5f13517-8cbe-4f0b-8e7e-2d9f102bace9",
   "metadata": {},
   "outputs": [],
   "source": []
  }
 ],
 "metadata": {
  "kernelspec": {
   "display_name": "Python 3 (ipykernel)",
   "language": "python",
   "name": "python3"
  },
  "language_info": {
   "codemirror_mode": {
    "name": "ipython",
    "version": 3
   },
   "file_extension": ".py",
   "mimetype": "text/x-python",
   "name": "python",
   "nbconvert_exporter": "python",
   "pygments_lexer": "ipython3",
   "version": "3.8.18"
  }
 },
 "nbformat": 4,
 "nbformat_minor": 5
}
