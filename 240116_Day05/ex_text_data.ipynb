{
 "cells": [
  {
   "cell_type": "markdown",
   "id": "1eb4660b-e77d-40f7-93dc-493d1842bb6d",
   "metadata": {},
   "source": [
    "## Text data 처리하기"
   ]
  },
  {
   "cell_type": "markdown",
   "id": "0633d4c7-654e-455a-a11c-f31e29499c22",
   "metadata": {},
   "source": [
    "- 다양한 형태의 텍스트 데이터를 처리하기 위한 방법\n",
    "- Series에 str 속성을 활용-> str 전용 메서드 사용 가능\n",
    "- 방법= Series객체.str메서드()"
   ]
  },
  {
   "cell_type": "markdown",
   "id": "aeb66cd4-005d-47cb-8d63-d12c4e63407c",
   "metadata": {},
   "source": [
    "## - 문자열 관련 메서드 살펴보기\n",
    "(1) 공백 제거 관련 메서드: strip(), lsrtip(), rstrip()"
   ]
  },
  {
   "cell_type": "code",
   "execution_count": 2,
   "id": "2516650e-6af2-45cb-94d7-d7068d91d4c0",
   "metadata": {},
   "outputs": [
    {
     "data": {
      "text/plain": [
       "21"
      ]
     },
     "execution_count": 2,
     "metadata": {},
     "output_type": "execute_result"
    }
   ],
   "source": [
    "msg = \"   I wannagohome     \"\n",
    "len(msg)"
   ]
  },
  {
   "cell_type": "code",
   "execution_count": 3,
   "id": "1cd0dd46-824b-4bdc-bd0f-192f4a93a132",
   "metadata": {},
   "outputs": [],
   "source": [
    "msg1, msg2, msg3 = msg.strip(), msg.lstrip(), msg.rstrip()"
   ]
  },
  {
   "cell_type": "code",
   "execution_count": 4,
   "id": "8764d968-cf5f-44cf-9110-fa3d5506a6f3",
   "metadata": {},
   "outputs": [
    {
     "data": {
      "text/plain": [
       "(13, 18, 16)"
      ]
     },
     "execution_count": 4,
     "metadata": {},
     "output_type": "execute_result"
    }
   ],
   "source": [
    "len(msg1), len(msg2), len(msg3)"
   ]
  },
  {
   "cell_type": "markdown",
   "id": "71997d48-ae4f-4c75-acbf-adc2775e4376",
   "metadata": {},
   "source": [
    "(1) 모듈 로딩<hr>"
   ]
  },
  {
   "cell_type": "code",
   "execution_count": 5,
   "id": "2d21f9fe-af60-433b-9749-616479d69eea",
   "metadata": {},
   "outputs": [],
   "source": [
    "import pandas as pd"
   ]
  },
  {
   "cell_type": "markdown",
   "id": "7b35bab1-8f45-4230-8365-082fdc1498c3",
   "metadata": {},
   "source": [
    "(2) 데이터 준비<hr>"
   ]
  },
  {
   "cell_type": "code",
   "execution_count": 6,
   "id": "0f02cb5b-f0af-4884-9b4f-638e185f0747",
   "metadata": {},
   "outputs": [],
   "source": [
    "file = \"../DATA/chicago_food_inspections.csv\""
   ]
  },
  {
   "cell_type": "markdown",
   "id": "7b3613b2-f098-4744-a683-1f3b83706874",
   "metadata": {},
   "source": [
    "(3) 데이터 저장 <hr>"
   ]
  },
  {
   "cell_type": "code",
   "execution_count": 7,
   "id": "7b5969c6-f52e-4865-87cb-7d29f11efb6c",
   "metadata": {},
   "outputs": [],
   "source": [
    "chicagoDF = pd.read_csv(file)"
   ]
  },
  {
   "cell_type": "markdown",
   "id": "42f244c0-3206-4bab-95af-fbdb3c586c61",
   "metadata": {},
   "source": [
    "(4) 데이터 확인 <hr>"
   ]
  },
  {
   "cell_type": "code",
   "execution_count": 8,
   "id": "ef4eaf6b-e74c-4aac-b03c-4e079d8a46c4",
   "metadata": {},
   "outputs": [
    {
     "name": "stdout",
     "output_type": "stream",
     "text": [
      "<class 'pandas.core.frame.DataFrame'>\n",
      "RangeIndex: 153810 entries, 0 to 153809\n",
      "Data columns (total 2 columns):\n",
      " #   Column  Non-Null Count   Dtype \n",
      "---  ------  --------------   ----- \n",
      " 0   Name    153810 non-null  object\n",
      " 1   Risk    153744 non-null  object\n",
      "dtypes: object(2)\n",
      "memory usage: 2.3+ MB\n"
     ]
    }
   ],
   "source": [
    "chicagoDF.info()"
   ]
  },
  {
   "cell_type": "code",
   "execution_count": null,
   "id": "f96c835f-50dd-4eb6-96f9-b5c87f02afc0",
   "metadata": {},
   "outputs": [],
   "source": [
    "chicagoDF.head()"
   ]
  },
  {
   "cell_type": "markdown",
   "id": "f9e952f2-8654-4465-bcb8-f7803fb5f1a0",
   "metadata": {},
   "source": [
    "[문제] Name 컬럼에서 공백 제거하기"
   ]
  },
  {
   "cell_type": "code",
   "execution_count": 13,
   "id": "fd1aa2b7-1740-41fd-a55c-0ab4c519f91e",
   "metadata": {},
   "outputs": [],
   "source": [
    "chicagoDF['Name'] = chicagoDF['Name'].str.strip()"
   ]
  },
  {
   "cell_type": "markdown",
   "id": "82d3db2b-c3b4-428e-8ae2-9313a9f465ba",
   "metadata": {},
   "source": [
    "[문제2] Risk 컬럼에서 문자열 나누기: Risk 숫자-> Risk   /   숫자 "
   ]
  },
  {
   "cell_type": "code",
   "execution_count": 14,
   "id": "5b2d3999-7e8c-46bd-9e42-10127ac3694c",
   "metadata": {},
   "outputs": [
    {
     "data": {
      "text/plain": [
       "(4,\n",
       " array(['Risk 1 (High)', 'Risk 2 (Medium)', 'Risk 3 (Low)', 'All', nan],\n",
       "       dtype=object))"
      ]
     },
     "execution_count": 14,
     "metadata": {},
     "output_type": "execute_result"
    }
   ],
   "source": [
    "chicagoDF['Risk'].nunique(), chicagoDF['Risk'].unique()"
   ]
  },
  {
   "cell_type": "code",
   "execution_count": 15,
   "id": "87d0708c-4bd4-4c19-a8d5-52cf3c6ecf25",
   "metadata": {},
   "outputs": [
    {
     "data": {
      "text/plain": [
       "(66,\n",
       " Name     0\n",
       " Risk    66\n",
       " dtype: int64)"
      ]
     },
     "execution_count": 15,
     "metadata": {},
     "output_type": "execute_result"
    }
   ],
   "source": [
    "chicagoDF['Risk'].isna().sum() , chicagoDF.isna().sum()"
   ]
  },
  {
   "cell_type": "code",
   "execution_count": 16,
   "id": "397e0221-e53f-445a-a3b0-259ca32f82fb",
   "metadata": {},
   "outputs": [],
   "source": [
    "# 기본값 = 행 방향, 행 내게 한 개라도 결측값 존재시 삭제"
   ]
  },
  {
   "cell_type": "code",
   "execution_count": 17,
   "id": "c4b37b47-de77-4d0a-830e-a85768f1868a",
   "metadata": {},
   "outputs": [
    {
     "data": {
      "text/plain": [
       "(153744, 2)"
      ]
     },
     "execution_count": 17,
     "metadata": {},
     "output_type": "execute_result"
    }
   ],
   "source": [
    "chicagoDF.dropna().shape"
   ]
  },
  {
   "cell_type": "code",
   "execution_count": 18,
   "id": "8feff0da-5f69-4f9d-b481-8bf8d4238bbc",
   "metadata": {},
   "outputs": [
    {
     "data": {
      "text/html": [
       "<div>\n",
       "<style scoped>\n",
       "    .dataframe tbody tr th:only-of-type {\n",
       "        vertical-align: middle;\n",
       "    }\n",
       "\n",
       "    .dataframe tbody tr th {\n",
       "        vertical-align: top;\n",
       "    }\n",
       "\n",
       "    .dataframe thead th {\n",
       "        text-align: right;\n",
       "    }\n",
       "</style>\n",
       "<table border=\"1\" class=\"dataframe\">\n",
       "  <thead>\n",
       "    <tr style=\"text-align: right;\">\n",
       "      <th></th>\n",
       "      <th>Name</th>\n",
       "      <th>Risk</th>\n",
       "    </tr>\n",
       "  </thead>\n",
       "  <tbody>\n",
       "    <tr>\n",
       "      <th>0</th>\n",
       "      <td>MARRIOT MARQUIS CHICAGO</td>\n",
       "      <td>Risk 1 (High)</td>\n",
       "    </tr>\n",
       "    <tr>\n",
       "      <th>1</th>\n",
       "      <td>JETS PIZZA</td>\n",
       "      <td>Risk 2 (Medium)</td>\n",
       "    </tr>\n",
       "    <tr>\n",
       "      <th>2</th>\n",
       "      <td>ROOM 1520</td>\n",
       "      <td>Risk 3 (Low)</td>\n",
       "    </tr>\n",
       "    <tr>\n",
       "      <th>3</th>\n",
       "      <td>MARRIOT MARQUIS CHICAGO</td>\n",
       "      <td>Risk 1 (High)</td>\n",
       "    </tr>\n",
       "    <tr>\n",
       "      <th>4</th>\n",
       "      <td>CHARTWELLS</td>\n",
       "      <td>Risk 1 (High)</td>\n",
       "    </tr>\n",
       "    <tr>\n",
       "      <th>...</th>\n",
       "      <td>...</td>\n",
       "      <td>...</td>\n",
       "    </tr>\n",
       "    <tr>\n",
       "      <th>153805</th>\n",
       "      <td>WOLCOTT'S</td>\n",
       "      <td>Risk 1 (High)</td>\n",
       "    </tr>\n",
       "    <tr>\n",
       "      <th>153806</th>\n",
       "      <td>DUNKIN DONUTS/BASKIN-ROBBINS</td>\n",
       "      <td>Risk 2 (Medium)</td>\n",
       "    </tr>\n",
       "    <tr>\n",
       "      <th>153807</th>\n",
       "      <td>Cafe 608</td>\n",
       "      <td>Risk 1 (High)</td>\n",
       "    </tr>\n",
       "    <tr>\n",
       "      <th>153808</th>\n",
       "      <td>mr.daniel's</td>\n",
       "      <td>Risk 1 (High)</td>\n",
       "    </tr>\n",
       "    <tr>\n",
       "      <th>153809</th>\n",
       "      <td>TEMPO CAFE</td>\n",
       "      <td>Risk 1 (High)</td>\n",
       "    </tr>\n",
       "  </tbody>\n",
       "</table>\n",
       "<p>153744 rows × 2 columns</p>\n",
       "</div>"
      ],
      "text/plain": [
       "                                Name             Risk\n",
       "0            MARRIOT MARQUIS CHICAGO    Risk 1 (High)\n",
       "1                         JETS PIZZA  Risk 2 (Medium)\n",
       "2                          ROOM 1520     Risk 3 (Low)\n",
       "3            MARRIOT MARQUIS CHICAGO    Risk 1 (High)\n",
       "4                         CHARTWELLS    Risk 1 (High)\n",
       "...                              ...              ...\n",
       "153805                     WOLCOTT'S    Risk 1 (High)\n",
       "153806  DUNKIN DONUTS/BASKIN-ROBBINS  Risk 2 (Medium)\n",
       "153807                      Cafe 608    Risk 1 (High)\n",
       "153808                   mr.daniel's    Risk 1 (High)\n",
       "153809                    TEMPO CAFE    Risk 1 (High)\n",
       "\n",
       "[153744 rows x 2 columns]"
      ]
     },
     "execution_count": 18,
     "metadata": {},
     "output_type": "execute_result"
    }
   ],
   "source": [
    "#risk 컬럼이 NANㅋ인 형 삭제: subset parameter\n",
    "chicagoDF.dropna(subset = ['Risk'])"
   ]
  },
  {
   "cell_type": "code",
   "execution_count": 19,
   "id": "4ff0384a-eccb-4865-a88e-af5fccdc4bea",
   "metadata": {},
   "outputs": [],
   "source": [
    "#원소의 데이터값이 'all' => 'Risk 4(extreme)' 변경"
   ]
  },
  {
   "cell_type": "code",
   "execution_count": 20,
   "id": "7d489226-21e7-4404-a5d9-6aecdcd242ab",
   "metadata": {},
   "outputs": [
    {
     "data": {
      "text/plain": [
       "0           Risk 1 (High)\n",
       "1         Risk 2 (Medium)\n",
       "2            Risk 3 (Low)\n",
       "3           Risk 1 (High)\n",
       "4           Risk 1 (High)\n",
       "               ...       \n",
       "153805      Risk 1 (High)\n",
       "153806    Risk 2 (Medium)\n",
       "153807      Risk 1 (High)\n",
       "153808      Risk 1 (High)\n",
       "153809      Risk 1 (High)\n",
       "Name: Risk, Length: 153810, dtype: object"
      ]
     },
     "execution_count": 20,
     "metadata": {},
     "output_type": "execute_result"
    }
   ],
   "source": [
    "chicagoDF['Risk'].replace('all', 'Risk 4(Extreme)')"
   ]
  },
  {
   "cell_type": "code",
   "execution_count": 21,
   "id": "95874908-9c9b-4340-8e9e-cc2343618df7",
   "metadata": {},
   "outputs": [
    {
     "data": {
      "text/plain": [
       "0         1\n",
       "1         2\n",
       "2         3\n",
       "3         1\n",
       "4         1\n",
       "         ..\n",
       "153805    1\n",
       "153806    2\n",
       "153807    1\n",
       "153808    1\n",
       "153809    1\n",
       "Name: Risk, Length: 153810, dtype: object"
      ]
     },
     "execution_count": 21,
     "metadata": {},
     "output_type": "execute_result"
    }
   ],
   "source": [
    "chicagoDF['Risk'].str.slice(5,6)"
   ]
  },
  {
   "cell_type": "code",
   "execution_count": 22,
   "id": "d48d5f1b-942a-4aa8-ad19-47fbe11d0cf8",
   "metadata": {},
   "outputs": [
    {
     "data": {
      "text/plain": [
       "0           HIGH\n",
       "1         MEDIUM\n",
       "2            LOW\n",
       "3           HIGH\n",
       "4           HIGH\n",
       "           ...  \n",
       "153805      HIGH\n",
       "153806    MEDIUM\n",
       "153807      HIGH\n",
       "153808      HIGH\n",
       "153809      HIGH\n",
       "Name: Risk, Length: 153810, dtype: object"
      ]
     },
     "execution_count": 22,
     "metadata": {},
     "output_type": "execute_result"
    }
   ],
   "source": [
    "chicagoDF['Risk'].str.slice(8,-1).str.upper()"
   ]
  },
  {
   "cell_type": "code",
   "execution_count": null,
   "id": "5a5acf23-31bb-42bb-b65b-6f40c3af884d",
   "metadata": {},
   "outputs": [],
   "source": []
  }
 ],
 "metadata": {
  "kernelspec": {
   "display_name": "Python 3 (ipykernel)",
   "language": "python",
   "name": "python3"
  },
  "language_info": {
   "codemirror_mode": {
    "name": "ipython",
    "version": 3
   },
   "file_extension": ".py",
   "mimetype": "text/x-python",
   "name": "python",
   "nbconvert_exporter": "python",
   "pygments_lexer": "ipython3",
   "version": "3.8.18"
  }
 },
 "nbformat": 4,
 "nbformat_minor": 5
}
