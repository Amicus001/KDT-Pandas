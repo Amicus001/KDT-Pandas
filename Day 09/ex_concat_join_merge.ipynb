{
 "cells": [
  {
   "cell_type": "markdown",
   "id": "521677ab-204f-40f8-a33a-5d896e1a09b0",
   "metadata": {},
   "source": [
    "## 데이터 병합/연결/조인\n",
    "\n",
    "- 여러 개의Series/DataFrame 객체에 데이터들을 합치는 방법.\n",
    "- "
   ]
  },
  {
   "cell_type": "markdown",
   "id": "37dbba28-9226-4d44-bc27-cf570c8704a6",
   "metadata": {},
   "source": [
    "(1) 모듈 로딩\n",
    "<hr>"
   ]
  },
  {
   "cell_type": "code",
   "execution_count": 3,
   "id": "232411c6-c2e2-43f2-b7e7-24922edf4846",
   "metadata": {},
   "outputs": [],
   "source": [
    "import pandas as pd"
   ]
  },
  {
   "cell_type": "markdown",
   "id": "ddd74af3-5fab-485d-9c10-673f72f7c766",
   "metadata": {},
   "source": [
    "(2) 데이터 준비<hr>"
   ]
  },
  {
   "cell_type": "code",
   "execution_count": 4,
   "id": "bfb03b00-7d14-4e82-8195-deab5faf417b",
   "metadata": {},
   "outputs": [],
   "source": [
    "datas = {'Name' : ['홍 길동', '이 나영', '마 징가', '베 토벤'], \n",
    "         'age': [10, 21, 73, 89],\n",
    "         'reg_date' : ['2000/01/13', '2020/11/05', '1999/04/13', '1997/12/21']}\n",
    "\n",
    "datas2 = [['홍 길동', '이 나영', '마 징가', '베 토벤'], \n",
    "         [10, 21, 73, 89],\n",
    "         ['2000/01/13', '2020/11/05', '1999/04/13', '1997/12/21']]"
   ]
  },
  {
   "cell_type": "markdown",
   "id": "562b1174-05d9-4a11-990d-bbcd55f149d8",
   "metadata": {},
   "source": [
    "(3) 데이터 저장<hr> "
   ]
  },
  {
   "cell_type": "code",
   "execution_count": 5,
   "id": "4590a013-e91f-4682-9468-3342d9ebcafa",
   "metadata": {},
   "outputs": [
    {
     "data": {
      "text/html": [
       "<div>\n",
       "<style scoped>\n",
       "    .dataframe tbody tr th:only-of-type {\n",
       "        vertical-align: middle;\n",
       "    }\n",
       "\n",
       "    .dataframe tbody tr th {\n",
       "        vertical-align: top;\n",
       "    }\n",
       "\n",
       "    .dataframe thead th {\n",
       "        text-align: right;\n",
       "    }\n",
       "</style>\n",
       "<table border=\"1\" class=\"dataframe\">\n",
       "  <thead>\n",
       "    <tr style=\"text-align: right;\">\n",
       "      <th></th>\n",
       "      <th>Name</th>\n",
       "      <th>age</th>\n",
       "      <th>reg_date</th>\n",
       "    </tr>\n",
       "  </thead>\n",
       "  <tbody>\n",
       "    <tr>\n",
       "      <th>0</th>\n",
       "      <td>홍 길동</td>\n",
       "      <td>10</td>\n",
       "      <td>2000/01/13</td>\n",
       "    </tr>\n",
       "    <tr>\n",
       "      <th>1</th>\n",
       "      <td>이 나영</td>\n",
       "      <td>21</td>\n",
       "      <td>2020/11/05</td>\n",
       "    </tr>\n",
       "    <tr>\n",
       "      <th>2</th>\n",
       "      <td>마 징가</td>\n",
       "      <td>73</td>\n",
       "      <td>1999/04/13</td>\n",
       "    </tr>\n",
       "    <tr>\n",
       "      <th>3</th>\n",
       "      <td>베 토벤</td>\n",
       "      <td>89</td>\n",
       "      <td>1997/12/21</td>\n",
       "    </tr>\n",
       "  </tbody>\n",
       "</table>\n",
       "</div>"
      ],
      "text/plain": [
       "   Name  age    reg_date\n",
       "0  홍 길동   10  2000/01/13\n",
       "1  이 나영   21  2020/11/05\n",
       "2  마 징가   73  1999/04/13\n",
       "3  베 토벤   89  1997/12/21"
      ]
     },
     "execution_count": 5,
     "metadata": {},
     "output_type": "execute_result"
    }
   ],
   "source": [
    "#Dict->DataFrame\n",
    "df1=pd.DataFrame(datas)\n",
    "df1"
   ]
  },
  {
   "cell_type": "code",
   "execution_count": 6,
   "id": "f8239979-6a8f-40d7-bedb-d13b4e840c85",
   "metadata": {},
   "outputs": [
    {
     "data": {
      "text/html": [
       "<div>\n",
       "<style scoped>\n",
       "    .dataframe tbody tr th:only-of-type {\n",
       "        vertical-align: middle;\n",
       "    }\n",
       "\n",
       "    .dataframe tbody tr th {\n",
       "        vertical-align: top;\n",
       "    }\n",
       "\n",
       "    .dataframe thead th {\n",
       "        text-align: right;\n",
       "    }\n",
       "</style>\n",
       "<table border=\"1\" class=\"dataframe\">\n",
       "  <thead>\n",
       "    <tr style=\"text-align: right;\">\n",
       "      <th></th>\n",
       "      <th>0</th>\n",
       "      <th>1</th>\n",
       "      <th>2</th>\n",
       "      <th>3</th>\n",
       "    </tr>\n",
       "  </thead>\n",
       "  <tbody>\n",
       "    <tr>\n",
       "      <th>0</th>\n",
       "      <td>홍 길동</td>\n",
       "      <td>이 나영</td>\n",
       "      <td>마 징가</td>\n",
       "      <td>베 토벤</td>\n",
       "    </tr>\n",
       "    <tr>\n",
       "      <th>1</th>\n",
       "      <td>10</td>\n",
       "      <td>21</td>\n",
       "      <td>73</td>\n",
       "      <td>89</td>\n",
       "    </tr>\n",
       "    <tr>\n",
       "      <th>2</th>\n",
       "      <td>2000/01/13</td>\n",
       "      <td>2020/11/05</td>\n",
       "      <td>1999/04/13</td>\n",
       "      <td>1997/12/21</td>\n",
       "    </tr>\n",
       "  </tbody>\n",
       "</table>\n",
       "</div>"
      ],
      "text/plain": [
       "            0           1           2           3\n",
       "0        홍 길동        이 나영        마 징가        베 토벤\n",
       "1          10          21          73          89\n",
       "2  2000/01/13  2020/11/05  1999/04/13  1997/12/21"
      ]
     },
     "execution_count": 6,
     "metadata": {},
     "output_type": "execute_result"
    }
   ],
   "source": [
    "#List->DataFrame\n",
    "df2 = pd.DataFrame(datas2)\n",
    "df2"
   ]
  },
  {
   "cell_type": "markdown",
   "id": "9803ae53-75f5-4aad-bcb1-fa480bee8b46",
   "metadata": {},
   "source": [
    "(4) 데이터 정보 확인"
   ]
  },
  {
   "cell_type": "code",
   "execution_count": 7,
   "id": "8c17ffc6-1be8-480e-b54a-7d94b47f3740",
   "metadata": {},
   "outputs": [
    {
     "name": "stdout",
     "output_type": "stream",
     "text": [
      "<class 'pandas.core.frame.DataFrame'>\n",
      "RangeIndex: 3 entries, 0 to 2\n",
      "Data columns (total 4 columns):\n",
      " #   Column  Non-Null Count  Dtype \n",
      "---  ------  --------------  ----- \n",
      " 0   0       3 non-null      object\n",
      " 1   1       3 non-null      object\n",
      " 2   2       3 non-null      object\n",
      " 3   3       3 non-null      object\n",
      "dtypes: object(4)\n",
      "memory usage: 224.0+ bytes\n"
     ]
    }
   ],
   "source": [
    "#데이터의 전체 기본정보: info()\n",
    "df2.info()"
   ]
  },
  {
   "cell_type": "markdown",
   "id": "9f3ae6d4-2939-46d2-8ba5-9c5e48725d95",
   "metadata": {},
   "source": [
    "(5) 데이터 전처리<hr>\n",
    "- 5-1. 행<->열 치환"
   ]
  },
  {
   "cell_type": "code",
   "execution_count": 8,
   "id": "e85f803d-526a-42ee-a38e-38df39867bbf",
   "metadata": {},
   "outputs": [
    {
     "name": "stdout",
     "output_type": "stream",
     "text": [
      "<class 'pandas.core.frame.DataFrame'>\n",
      "RangeIndex: 4 entries, 0 to 3\n",
      "Data columns (total 3 columns):\n",
      " #   Column  Non-Null Count  Dtype \n",
      "---  ------  --------------  ----- \n",
      " 0   0       4 non-null      object\n",
      " 1   1       4 non-null      object\n",
      " 2   2       4 non-null      object\n",
      "dtypes: object(3)\n",
      "memory usage: 224.0+ bytes\n"
     ]
    }
   ],
   "source": [
    "#df1.T\n",
    "df2 = df2.transpose()\n",
    "df2.info()"
   ]
  },
  {
   "cell_type": "markdown",
   "id": "70f5862c-63cb-4750-912e-649e14cdc54d",
   "metadata": {},
   "source": [
    "- 5-2. 실제 데이터와 타입 확인 후 형변환하기"
   ]
  },
  {
   "cell_type": "code",
   "execution_count": 9,
   "id": "76a10326-f083-47dd-a3cb-afb09ca12cda",
   "metadata": {},
   "outputs": [
    {
     "data": {
      "text/html": [
       "<div>\n",
       "<style scoped>\n",
       "    .dataframe tbody tr th:only-of-type {\n",
       "        vertical-align: middle;\n",
       "    }\n",
       "\n",
       "    .dataframe tbody tr th {\n",
       "        vertical-align: top;\n",
       "    }\n",
       "\n",
       "    .dataframe thead th {\n",
       "        text-align: right;\n",
       "    }\n",
       "</style>\n",
       "<table border=\"1\" class=\"dataframe\">\n",
       "  <thead>\n",
       "    <tr style=\"text-align: right;\">\n",
       "      <th></th>\n",
       "      <th>0</th>\n",
       "      <th>1</th>\n",
       "      <th>2</th>\n",
       "    </tr>\n",
       "  </thead>\n",
       "  <tbody>\n",
       "    <tr>\n",
       "      <th>0</th>\n",
       "      <td>홍 길동</td>\n",
       "      <td>10</td>\n",
       "      <td>2000/01/13</td>\n",
       "    </tr>\n",
       "    <tr>\n",
       "      <th>1</th>\n",
       "      <td>이 나영</td>\n",
       "      <td>21</td>\n",
       "      <td>2020/11/05</td>\n",
       "    </tr>\n",
       "    <tr>\n",
       "      <th>2</th>\n",
       "      <td>마 징가</td>\n",
       "      <td>73</td>\n",
       "      <td>1999/04/13</td>\n",
       "    </tr>\n",
       "    <tr>\n",
       "      <th>3</th>\n",
       "      <td>베 토벤</td>\n",
       "      <td>89</td>\n",
       "      <td>1997/12/21</td>\n",
       "    </tr>\n",
       "  </tbody>\n",
       "</table>\n",
       "</div>"
      ],
      "text/plain": [
       "      0   1           2\n",
       "0  홍 길동  10  2000/01/13\n",
       "1  이 나영  21  2020/11/05\n",
       "2  마 징가  73  1999/04/13\n",
       "3  베 토벤  89  1997/12/21"
      ]
     },
     "execution_count": 9,
     "metadata": {},
     "output_type": "execute_result"
    }
   ],
   "source": [
    "df2.head()"
   ]
  },
  {
   "cell_type": "code",
   "execution_count": 10,
   "id": "82e28d0e-1148-43aa-8645-b01cf74c7035",
   "metadata": {},
   "outputs": [],
   "source": [
    "# 1번 컬럼 : object => 정수\n",
    "df2[1] = df2[1].astype('uint8') # uint ----> 부호가 붙어있지 않은 숫자. # 64면 8바이트"
   ]
  },
  {
   "cell_type": "code",
   "execution_count": 11,
   "id": "29b2482c-ec9f-44d0-b060-ab64dbaf7dbc",
   "metadata": {},
   "outputs": [
    {
     "data": {
      "text/plain": [
       "Name        object\n",
       "age          int64\n",
       "reg_date    object\n",
       "dtype: object"
      ]
     },
     "execution_count": 11,
     "metadata": {},
     "output_type": "execute_result"
    }
   ],
   "source": [
    "df1.dtypes"
   ]
  },
  {
   "cell_type": "code",
   "execution_count": 12,
   "id": "00877e72-05e3-4e81-816e-c55acc9c3517",
   "metadata": {},
   "outputs": [
    {
     "data": {
      "text/plain": [
       "Name        object\n",
       "age          int64\n",
       "reg_date    object\n",
       "dtype: object"
      ]
     },
     "execution_count": 12,
     "metadata": {},
     "output_type": "execute_result"
    }
   ],
   "source": [
    "#2번 컬럼: object->datetime64[ns]\n",
    "df2[2]=df2[2].astype('datetime64[ns]')\n",
    "df1.dtypes"
   ]
  },
  {
   "cell_type": "markdown",
   "id": "9af37cb6-f07a-417f-85ce-d86504e30fd3",
   "metadata": {},
   "source": [
    "- 5-3: 0번 컬럼의 이름을 성, 이름으로 분리하기"
   ]
  },
  {
   "cell_type": "code",
   "execution_count": 13,
   "id": "54542641-4392-4f5c-b536-75ca5513a9f2",
   "metadata": {},
   "outputs": [],
   "source": [
    "#0번 컬럼 추출하기: Series\n",
    "nameSR = df2[0]\n",
    "#nameSR,nameSR[1]"
   ]
  },
  {
   "cell_type": "code",
   "execution_count": 14,
   "id": "616f7e73-7720-4c7c-9fa2-323002edfc36",
   "metadata": {},
   "outputs": [],
   "source": [
    "#' 이 나영 ' 데이터 추출-> 성/이름으로 분리하기\n",
    "#nameSR[1].split() #str"
   ]
  },
  {
   "cell_type": "code",
   "execution_count": 15,
   "id": "b45e3073-2848-474c-8db2-542d2e0f7752",
   "metadata": {},
   "outputs": [],
   "source": [
    "# for idx in range(nameSR.shape[0]):\n",
    "#     nameSR[idx] = nameSR[idx].split()"
   ]
  },
  {
   "cell_type": "code",
   "execution_count": 16,
   "id": "cf0e85a3-41f3-4bd4-a9e5-e562132313c6",
   "metadata": {},
   "outputs": [],
   "source": [
    "namesDF = nameSR.str.split(expand=True)"
   ]
  },
  {
   "cell_type": "code",
   "execution_count": 17,
   "id": "f36ea494-4d7d-4194-a041-4859acc90819",
   "metadata": {},
   "outputs": [
    {
     "data": {
      "text/plain": [
       "(   Name  age    reg_date\n",
       " 0  홍 길동   10  2000/01/13\n",
       " 1  이 나영   21  2020/11/05\n",
       " 2  마 징가   73  1999/04/13\n",
       " 3  베 토벤   89  1997/12/21,\n",
       "    0   1\n",
       " 0  홍  길동\n",
       " 1  이  나영\n",
       " 2  마  징가\n",
       " 3  베  토벤)"
      ]
     },
     "execution_count": 17,
     "metadata": {},
     "output_type": "execute_result"
    }
   ],
   "source": [
    "df1,namesDF"
   ]
  },
  {
   "cell_type": "markdown",
   "id": "851d3ea0-2ac5-41ec-bb2d-8d5ac3295af9",
   "metadata": {},
   "source": [
    "- 5-4. 두 개의 데이터프레임을 컬럼 방향으로 연결하기"
   ]
  },
  {
   "cell_type": "code",
   "execution_count": 18,
   "id": "40e01efd-946e-4d5b-8a30-548c81005b11",
   "metadata": {},
   "outputs": [
    {
     "data": {
      "text/html": [
       "<div>\n",
       "<style scoped>\n",
       "    .dataframe tbody tr th:only-of-type {\n",
       "        vertical-align: middle;\n",
       "    }\n",
       "\n",
       "    .dataframe tbody tr th {\n",
       "        vertical-align: top;\n",
       "    }\n",
       "\n",
       "    .dataframe thead th {\n",
       "        text-align: right;\n",
       "    }\n",
       "</style>\n",
       "<table border=\"1\" class=\"dataframe\">\n",
       "  <thead>\n",
       "    <tr style=\"text-align: right;\">\n",
       "      <th></th>\n",
       "      <th>0</th>\n",
       "      <th>1</th>\n",
       "      <th>2</th>\n",
       "      <th>3</th>\n",
       "      <th>4</th>\n",
       "    </tr>\n",
       "  </thead>\n",
       "  <tbody>\n",
       "    <tr>\n",
       "      <th>0</th>\n",
       "      <td>홍 길동</td>\n",
       "      <td>10</td>\n",
       "      <td>2000/01/13</td>\n",
       "      <td>홍</td>\n",
       "      <td>길동</td>\n",
       "    </tr>\n",
       "    <tr>\n",
       "      <th>1</th>\n",
       "      <td>이 나영</td>\n",
       "      <td>21</td>\n",
       "      <td>2020/11/05</td>\n",
       "      <td>이</td>\n",
       "      <td>나영</td>\n",
       "    </tr>\n",
       "    <tr>\n",
       "      <th>2</th>\n",
       "      <td>마 징가</td>\n",
       "      <td>73</td>\n",
       "      <td>1999/04/13</td>\n",
       "      <td>마</td>\n",
       "      <td>징가</td>\n",
       "    </tr>\n",
       "    <tr>\n",
       "      <th>3</th>\n",
       "      <td>베 토벤</td>\n",
       "      <td>89</td>\n",
       "      <td>1997/12/21</td>\n",
       "      <td>베</td>\n",
       "      <td>토벤</td>\n",
       "    </tr>\n",
       "  </tbody>\n",
       "</table>\n",
       "</div>"
      ],
      "text/plain": [
       "      0   1           2  3   4\n",
       "0  홍 길동  10  2000/01/13  홍  길동\n",
       "1  이 나영  21  2020/11/05  이  나영\n",
       "2  마 징가  73  1999/04/13  마  징가\n",
       "3  베 토벤  89  1997/12/21  베  토벤"
      ]
     },
     "execution_count": 18,
     "metadata": {},
     "output_type": "execute_result"
    }
   ],
   "source": [
    "pd.concat([df1, namesDF], axis ='columns', ignore_index = True )"
   ]
  },
  {
   "cell_type": "markdown",
   "id": "a202f684-e43e-4563-94b4-8a1efd47bce7",
   "metadata": {},
   "source": [
    "- 5-5. 두 개의 데이터프레임을 행(row)방향 데이터 연결하기"
   ]
  },
  {
   "cell_type": "code",
   "execution_count": 19,
   "id": "9493eec6-6147-496f-b67a-ecabef4537fc",
   "metadata": {},
   "outputs": [
    {
     "data": {
      "text/html": [
       "<div>\n",
       "<style scoped>\n",
       "    .dataframe tbody tr th:only-of-type {\n",
       "        vertical-align: middle;\n",
       "    }\n",
       "\n",
       "    .dataframe tbody tr th {\n",
       "        vertical-align: top;\n",
       "    }\n",
       "\n",
       "    .dataframe thead th {\n",
       "        text-align: right;\n",
       "    }\n",
       "</style>\n",
       "<table border=\"1\" class=\"dataframe\">\n",
       "  <thead>\n",
       "    <tr style=\"text-align: right;\">\n",
       "      <th></th>\n",
       "      <th>0</th>\n",
       "      <th>1</th>\n",
       "      <th>2</th>\n",
       "    </tr>\n",
       "  </thead>\n",
       "  <tbody>\n",
       "    <tr>\n",
       "      <th>0</th>\n",
       "      <td>홍 길동</td>\n",
       "      <td>10</td>\n",
       "      <td>2000-01-13</td>\n",
       "    </tr>\n",
       "    <tr>\n",
       "      <th>1</th>\n",
       "      <td>이 나영</td>\n",
       "      <td>21</td>\n",
       "      <td>2020-11-05</td>\n",
       "    </tr>\n",
       "    <tr>\n",
       "      <th>2</th>\n",
       "      <td>마 징가</td>\n",
       "      <td>73</td>\n",
       "      <td>1999-04-13</td>\n",
       "    </tr>\n",
       "    <tr>\n",
       "      <th>3</th>\n",
       "      <td>베 토벤</td>\n",
       "      <td>89</td>\n",
       "      <td>1997-12-21</td>\n",
       "    </tr>\n",
       "    <tr>\n",
       "      <th>0</th>\n",
       "      <td>홍</td>\n",
       "      <td>길동</td>\n",
       "      <td>NaT</td>\n",
       "    </tr>\n",
       "    <tr>\n",
       "      <th>1</th>\n",
       "      <td>이</td>\n",
       "      <td>나영</td>\n",
       "      <td>NaT</td>\n",
       "    </tr>\n",
       "    <tr>\n",
       "      <th>2</th>\n",
       "      <td>마</td>\n",
       "      <td>징가</td>\n",
       "      <td>NaT</td>\n",
       "    </tr>\n",
       "    <tr>\n",
       "      <th>3</th>\n",
       "      <td>베</td>\n",
       "      <td>토벤</td>\n",
       "      <td>NaT</td>\n",
       "    </tr>\n",
       "  </tbody>\n",
       "</table>\n",
       "</div>"
      ],
      "text/plain": [
       "      0   1          2\n",
       "0  홍 길동  10 2000-01-13\n",
       "1  이 나영  21 2020-11-05\n",
       "2  마 징가  73 1999-04-13\n",
       "3  베 토벤  89 1997-12-21\n",
       "0     홍  길동        NaT\n",
       "1     이  나영        NaT\n",
       "2     마  징가        NaT\n",
       "3     베  토벤        NaT"
      ]
     },
     "execution_count": 19,
     "metadata": {},
     "output_type": "execute_result"
    }
   ],
   "source": [
    "#여러 개의 DF, SR 연결시 모든 컬럼명/행 인덱스를 연결시키는 방식: outer\n",
    "pd.concat([df2,namesDF])"
   ]
  },
  {
   "cell_type": "code",
   "execution_count": 20,
   "id": "1e707e66-06bb-4328-b84c-4cb439d4627b",
   "metadata": {},
   "outputs": [
    {
     "data": {
      "text/html": [
       "<div>\n",
       "<style scoped>\n",
       "    .dataframe tbody tr th:only-of-type {\n",
       "        vertical-align: middle;\n",
       "    }\n",
       "\n",
       "    .dataframe tbody tr th {\n",
       "        vertical-align: top;\n",
       "    }\n",
       "\n",
       "    .dataframe thead th {\n",
       "        text-align: right;\n",
       "    }\n",
       "</style>\n",
       "<table border=\"1\" class=\"dataframe\">\n",
       "  <thead>\n",
       "    <tr style=\"text-align: right;\">\n",
       "      <th></th>\n",
       "      <th>0</th>\n",
       "      <th>1</th>\n",
       "    </tr>\n",
       "  </thead>\n",
       "  <tbody>\n",
       "    <tr>\n",
       "      <th>0</th>\n",
       "      <td>홍 길동</td>\n",
       "      <td>10</td>\n",
       "    </tr>\n",
       "    <tr>\n",
       "      <th>1</th>\n",
       "      <td>이 나영</td>\n",
       "      <td>21</td>\n",
       "    </tr>\n",
       "    <tr>\n",
       "      <th>2</th>\n",
       "      <td>마 징가</td>\n",
       "      <td>73</td>\n",
       "    </tr>\n",
       "    <tr>\n",
       "      <th>3</th>\n",
       "      <td>베 토벤</td>\n",
       "      <td>89</td>\n",
       "    </tr>\n",
       "    <tr>\n",
       "      <th>0</th>\n",
       "      <td>홍</td>\n",
       "      <td>길동</td>\n",
       "    </tr>\n",
       "    <tr>\n",
       "      <th>1</th>\n",
       "      <td>이</td>\n",
       "      <td>나영</td>\n",
       "    </tr>\n",
       "    <tr>\n",
       "      <th>2</th>\n",
       "      <td>마</td>\n",
       "      <td>징가</td>\n",
       "    </tr>\n",
       "    <tr>\n",
       "      <th>3</th>\n",
       "      <td>베</td>\n",
       "      <td>토벤</td>\n",
       "    </tr>\n",
       "  </tbody>\n",
       "</table>\n",
       "</div>"
      ],
      "text/plain": [
       "      0   1\n",
       "0  홍 길동  10\n",
       "1  이 나영  21\n",
       "2  마 징가  73\n",
       "3  베 토벤  89\n",
       "0     홍  길동\n",
       "1     이  나영\n",
       "2     마  징가\n",
       "3     베  토벤"
      ]
     },
     "execution_count": 20,
     "metadata": {},
     "output_type": "execute_result"
    }
   ],
   "source": [
    "#여러 개의 DF, SR 연결시 동일 컬럼명/행 인덱스만 연결시키는 방식: inner\n",
    "pd.concat([df2,namesDF],join = 'inner')"
   ]
  },
  {
   "cell_type": "code",
   "execution_count": 21,
   "id": "35e9c38e-51b5-4d49-9bd7-fe64930e7ffd",
   "metadata": {},
   "outputs": [],
   "source": [
    "f1 = pd.read_excel('../DATA/stock price.xlsx')\n",
    "f2 = pd.read_excel('../Data/stock valuation.xlsx')"
   ]
  },
  {
   "cell_type": "markdown",
   "id": "d6770623-e23d-406c-8031-205f12a2467a",
   "metadata": {},
   "source": [
    "- merge"
   ]
  },
  {
   "cell_type": "code",
   "execution_count": null,
   "id": "816a36c8-3714-4a5a-ab80-9f0ddbf0b788",
   "metadata": {},
   "outputs": [],
   "source": [
    "pd.merge"
   ]
  }
 ],
 "metadata": {
  "kernelspec": {
   "display_name": "Python 3 (ipykernel)",
   "language": "python",
   "name": "python3"
  },
  "language_info": {
   "codemirror_mode": {
    "name": "ipython",
    "version": 3
   },
   "file_extension": ".py",
   "mimetype": "text/x-python",
   "name": "python",
   "nbconvert_exporter": "python",
   "pygments_lexer": "ipython3",
   "version": "3.8.18"
  }
 },
 "nbformat": 4,
 "nbformat_minor": 5
}
