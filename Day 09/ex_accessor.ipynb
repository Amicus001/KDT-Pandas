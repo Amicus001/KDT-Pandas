{
 "cells": [
  {
   "cell_type": "markdown",
   "id": "521677ab-204f-40f8-a33a-5d896e1a09b0",
   "metadata": {},
   "source": [
    "## 접근자 Accessor\n",
    "\n",
    "- Series/DataFrame의 데이터가 날짜/시간, 문자열(Object), 범주형(Category)등의 경우 데이터 타입과 관련된 전용의 함수들을 사용할 수 있도록 해주는 속성\n",
    "- Series.str.문자열처리관련함수명()\n",
    "- Series.dt.날짜시간처리관련속성명"
   ]
  },
  {
   "cell_type": "markdown",
   "id": "37dbba28-9226-4d44-bc27-cf570c8704a6",
   "metadata": {},
   "source": [
    "(1) 모듈 로딩\n",
    "<hr>"
   ]
  },
  {
   "cell_type": "code",
   "execution_count": 101,
   "id": "232411c6-c2e2-43f2-b7e7-24922edf4846",
   "metadata": {},
   "outputs": [],
   "source": [
    "import pandas as pd"
   ]
  },
  {
   "cell_type": "markdown",
   "id": "ddd74af3-5fab-485d-9c10-673f72f7c766",
   "metadata": {},
   "source": [
    "(2) 데이터 준비<hr>"
   ]
  },
  {
   "cell_type": "code",
   "execution_count": 102,
   "id": "bfb03b00-7d14-4e82-8195-deab5faf417b",
   "metadata": {},
   "outputs": [],
   "source": [
    "datas = {'Name' : ['홍 길동', '이 나영', '마 징가', '베 토벤'], \n",
    "         'age': [10, 21, 73, 89],\n",
    "         'reg_date' : ['2000/01/13', '2020/11/05', '1999/04/13', '1997/12/21']}\n",
    "\n",
    "datas2 = [['홍 길동', '이 나영', '마 징가', '베 토벤'], \n",
    "         [10, 21, 73, 89],\n",
    "         ['2000/01/13', '2020/11/05', '1999/04/13', '1997/12/21']]"
   ]
  },
  {
   "cell_type": "markdown",
   "id": "562b1174-05d9-4a11-990d-bbcd55f149d8",
   "metadata": {},
   "source": [
    "(3) 데이터 저장<hr> "
   ]
  },
  {
   "cell_type": "code",
   "execution_count": 103,
   "id": "4590a013-e91f-4682-9468-3342d9ebcafa",
   "metadata": {},
   "outputs": [
    {
     "data": {
      "text/html": [
       "<div>\n",
       "<style scoped>\n",
       "    .dataframe tbody tr th:only-of-type {\n",
       "        vertical-align: middle;\n",
       "    }\n",
       "\n",
       "    .dataframe tbody tr th {\n",
       "        vertical-align: top;\n",
       "    }\n",
       "\n",
       "    .dataframe thead th {\n",
       "        text-align: right;\n",
       "    }\n",
       "</style>\n",
       "<table border=\"1\" class=\"dataframe\">\n",
       "  <thead>\n",
       "    <tr style=\"text-align: right;\">\n",
       "      <th></th>\n",
       "      <th>Name</th>\n",
       "      <th>age</th>\n",
       "      <th>reg_date</th>\n",
       "    </tr>\n",
       "  </thead>\n",
       "  <tbody>\n",
       "    <tr>\n",
       "      <th>0</th>\n",
       "      <td>홍 길동</td>\n",
       "      <td>10</td>\n",
       "      <td>2000/01/13</td>\n",
       "    </tr>\n",
       "    <tr>\n",
       "      <th>1</th>\n",
       "      <td>이 나영</td>\n",
       "      <td>21</td>\n",
       "      <td>2020/11/05</td>\n",
       "    </tr>\n",
       "    <tr>\n",
       "      <th>2</th>\n",
       "      <td>마 징가</td>\n",
       "      <td>73</td>\n",
       "      <td>1999/04/13</td>\n",
       "    </tr>\n",
       "    <tr>\n",
       "      <th>3</th>\n",
       "      <td>베 토벤</td>\n",
       "      <td>89</td>\n",
       "      <td>1997/12/21</td>\n",
       "    </tr>\n",
       "  </tbody>\n",
       "</table>\n",
       "</div>"
      ],
      "text/plain": [
       "   Name  age    reg_date\n",
       "0  홍 길동   10  2000/01/13\n",
       "1  이 나영   21  2020/11/05\n",
       "2  마 징가   73  1999/04/13\n",
       "3  베 토벤   89  1997/12/21"
      ]
     },
     "execution_count": 103,
     "metadata": {},
     "output_type": "execute_result"
    }
   ],
   "source": [
    "#Dict->DataFrame\n",
    "df1=pd.DataFrame(datas)\n",
    "df1"
   ]
  },
  {
   "cell_type": "code",
   "execution_count": 104,
   "id": "f8239979-6a8f-40d7-bedb-d13b4e840c85",
   "metadata": {},
   "outputs": [
    {
     "data": {
      "text/html": [
       "<div>\n",
       "<style scoped>\n",
       "    .dataframe tbody tr th:only-of-type {\n",
       "        vertical-align: middle;\n",
       "    }\n",
       "\n",
       "    .dataframe tbody tr th {\n",
       "        vertical-align: top;\n",
       "    }\n",
       "\n",
       "    .dataframe thead th {\n",
       "        text-align: right;\n",
       "    }\n",
       "</style>\n",
       "<table border=\"1\" class=\"dataframe\">\n",
       "  <thead>\n",
       "    <tr style=\"text-align: right;\">\n",
       "      <th></th>\n",
       "      <th>0</th>\n",
       "      <th>1</th>\n",
       "      <th>2</th>\n",
       "      <th>3</th>\n",
       "    </tr>\n",
       "  </thead>\n",
       "  <tbody>\n",
       "    <tr>\n",
       "      <th>0</th>\n",
       "      <td>홍 길동</td>\n",
       "      <td>이 나영</td>\n",
       "      <td>마 징가</td>\n",
       "      <td>베 토벤</td>\n",
       "    </tr>\n",
       "    <tr>\n",
       "      <th>1</th>\n",
       "      <td>10</td>\n",
       "      <td>21</td>\n",
       "      <td>73</td>\n",
       "      <td>89</td>\n",
       "    </tr>\n",
       "    <tr>\n",
       "      <th>2</th>\n",
       "      <td>2000/01/13</td>\n",
       "      <td>2020/11/05</td>\n",
       "      <td>1999/04/13</td>\n",
       "      <td>1997/12/21</td>\n",
       "    </tr>\n",
       "  </tbody>\n",
       "</table>\n",
       "</div>"
      ],
      "text/plain": [
       "            0           1           2           3\n",
       "0        홍 길동        이 나영        마 징가        베 토벤\n",
       "1          10          21          73          89\n",
       "2  2000/01/13  2020/11/05  1999/04/13  1997/12/21"
      ]
     },
     "execution_count": 104,
     "metadata": {},
     "output_type": "execute_result"
    }
   ],
   "source": [
    "#List->DataFrame\n",
    "df2 = pd.DataFrame(datas2)\n",
    "df2"
   ]
  },
  {
   "cell_type": "markdown",
   "id": "9803ae53-75f5-4aad-bcb1-fa480bee8b46",
   "metadata": {},
   "source": [
    "(4) 데이터 정보 확인"
   ]
  },
  {
   "cell_type": "code",
   "execution_count": 105,
   "id": "8c17ffc6-1be8-480e-b54a-7d94b47f3740",
   "metadata": {},
   "outputs": [
    {
     "name": "stdout",
     "output_type": "stream",
     "text": [
      "<class 'pandas.core.frame.DataFrame'>\n",
      "RangeIndex: 3 entries, 0 to 2\n",
      "Data columns (total 4 columns):\n",
      " #   Column  Non-Null Count  Dtype \n",
      "---  ------  --------------  ----- \n",
      " 0   0       3 non-null      object\n",
      " 1   1       3 non-null      object\n",
      " 2   2       3 non-null      object\n",
      " 3   3       3 non-null      object\n",
      "dtypes: object(4)\n",
      "memory usage: 224.0+ bytes\n"
     ]
    }
   ],
   "source": [
    "#데이터의 전체 기본정보: info()\n",
    "df2.info()"
   ]
  },
  {
   "cell_type": "markdown",
   "id": "9f3ae6d4-2939-46d2-8ba5-9c5e48725d95",
   "metadata": {},
   "source": [
    "(5) 데이터 전처리<hr>\n",
    "- 5-1. 행<->열 치환"
   ]
  },
  {
   "cell_type": "code",
   "execution_count": 106,
   "id": "e85f803d-526a-42ee-a38e-38df39867bbf",
   "metadata": {},
   "outputs": [
    {
     "name": "stdout",
     "output_type": "stream",
     "text": [
      "<class 'pandas.core.frame.DataFrame'>\n",
      "RangeIndex: 4 entries, 0 to 3\n",
      "Data columns (total 3 columns):\n",
      " #   Column  Non-Null Count  Dtype \n",
      "---  ------  --------------  ----- \n",
      " 0   0       4 non-null      object\n",
      " 1   1       4 non-null      object\n",
      " 2   2       4 non-null      object\n",
      "dtypes: object(3)\n",
      "memory usage: 224.0+ bytes\n"
     ]
    }
   ],
   "source": [
    "#df1.T\n",
    "df2 = df2.transpose()\n",
    "df2.info()"
   ]
  },
  {
   "cell_type": "markdown",
   "id": "70f5862c-63cb-4750-912e-649e14cdc54d",
   "metadata": {},
   "source": [
    "- 5-2. 실제 데이터와 타입 확인 후 형변환하기"
   ]
  },
  {
   "cell_type": "code",
   "execution_count": 107,
   "id": "76a10326-f083-47dd-a3cb-afb09ca12cda",
   "metadata": {},
   "outputs": [
    {
     "data": {
      "text/html": [
       "<div>\n",
       "<style scoped>\n",
       "    .dataframe tbody tr th:only-of-type {\n",
       "        vertical-align: middle;\n",
       "    }\n",
       "\n",
       "    .dataframe tbody tr th {\n",
       "        vertical-align: top;\n",
       "    }\n",
       "\n",
       "    .dataframe thead th {\n",
       "        text-align: right;\n",
       "    }\n",
       "</style>\n",
       "<table border=\"1\" class=\"dataframe\">\n",
       "  <thead>\n",
       "    <tr style=\"text-align: right;\">\n",
       "      <th></th>\n",
       "      <th>0</th>\n",
       "      <th>1</th>\n",
       "      <th>2</th>\n",
       "    </tr>\n",
       "  </thead>\n",
       "  <tbody>\n",
       "    <tr>\n",
       "      <th>0</th>\n",
       "      <td>홍 길동</td>\n",
       "      <td>10</td>\n",
       "      <td>2000/01/13</td>\n",
       "    </tr>\n",
       "    <tr>\n",
       "      <th>1</th>\n",
       "      <td>이 나영</td>\n",
       "      <td>21</td>\n",
       "      <td>2020/11/05</td>\n",
       "    </tr>\n",
       "    <tr>\n",
       "      <th>2</th>\n",
       "      <td>마 징가</td>\n",
       "      <td>73</td>\n",
       "      <td>1999/04/13</td>\n",
       "    </tr>\n",
       "    <tr>\n",
       "      <th>3</th>\n",
       "      <td>베 토벤</td>\n",
       "      <td>89</td>\n",
       "      <td>1997/12/21</td>\n",
       "    </tr>\n",
       "  </tbody>\n",
       "</table>\n",
       "</div>"
      ],
      "text/plain": [
       "      0   1           2\n",
       "0  홍 길동  10  2000/01/13\n",
       "1  이 나영  21  2020/11/05\n",
       "2  마 징가  73  1999/04/13\n",
       "3  베 토벤  89  1997/12/21"
      ]
     },
     "execution_count": 107,
     "metadata": {},
     "output_type": "execute_result"
    }
   ],
   "source": [
    "df2.head()"
   ]
  },
  {
   "cell_type": "code",
   "execution_count": 108,
   "id": "82e28d0e-1148-43aa-8645-b01cf74c7035",
   "metadata": {},
   "outputs": [],
   "source": [
    "# 1번 컬럼 : object => 정수\n",
    "df2[1] = df2[1].astype('uint8') # uint ----> 부호가 붙어있지 않은 숫자. # 64면 8바이트"
   ]
  },
  {
   "cell_type": "code",
   "execution_count": 109,
   "id": "29b2482c-ec9f-44d0-b060-ab64dbaf7dbc",
   "metadata": {},
   "outputs": [
    {
     "data": {
      "text/plain": [
       "Name        object\n",
       "age          int64\n",
       "reg_date    object\n",
       "dtype: object"
      ]
     },
     "execution_count": 109,
     "metadata": {},
     "output_type": "execute_result"
    }
   ],
   "source": [
    "df1.dtypes"
   ]
  },
  {
   "cell_type": "code",
   "execution_count": 110,
   "id": "00877e72-05e3-4e81-816e-c55acc9c3517",
   "metadata": {},
   "outputs": [
    {
     "data": {
      "text/plain": [
       "Name        object\n",
       "age          int64\n",
       "reg_date    object\n",
       "dtype: object"
      ]
     },
     "execution_count": 110,
     "metadata": {},
     "output_type": "execute_result"
    }
   ],
   "source": [
    "#2번 컬럼: object->datetime64[ns]\n",
    "df2[2]=df2[2].astype('datetime64[ns]')\n",
    "df1.dtypes"
   ]
  },
  {
   "cell_type": "markdown",
   "id": "9af37cb6-f07a-417f-85ce-d86504e30fd3",
   "metadata": {},
   "source": [
    "- 5-3: 0번 컬럼의 이름을 성, 이름으로 분리하기"
   ]
  },
  {
   "cell_type": "code",
   "execution_count": 111,
   "id": "54542641-4392-4f5c-b536-75ca5513a9f2",
   "metadata": {},
   "outputs": [],
   "source": [
    "#0번 컬럼 추출하기: Series\n",
    "nameSR = df2[0]\n",
    "#nameSR,nameSR[1]"
   ]
  },
  {
   "cell_type": "code",
   "execution_count": 112,
   "id": "616f7e73-7720-4c7c-9fa2-323002edfc36",
   "metadata": {},
   "outputs": [],
   "source": [
    "#' 이 나영 ' 데이터 추출-> 성/이름으로 분리하기\n",
    "#nameSR[1].split() #str"
   ]
  },
  {
   "cell_type": "code",
   "execution_count": 113,
   "id": "b45e3073-2848-474c-8db2-542d2e0f7752",
   "metadata": {},
   "outputs": [],
   "source": [
    "# for idx in range(nameSR.shape[0]):\n",
    "#     nameSR[idx] = nameSR[idx].split()"
   ]
  },
  {
   "cell_type": "code",
   "execution_count": 114,
   "id": "cf0e85a3-41f3-4bd4-a9e5-e562132313c6",
   "metadata": {},
   "outputs": [],
   "source": [
    "namesDF = nameSR.str.split(expand=True)"
   ]
  },
  {
   "cell_type": "code",
   "execution_count": 115,
   "id": "f36ea494-4d7d-4194-a041-4859acc90819",
   "metadata": {},
   "outputs": [
    {
     "data": {
      "text/plain": [
       "(   Name  age    reg_date\n",
       " 0  홍 길동   10  2000/01/13\n",
       " 1  이 나영   21  2020/11/05\n",
       " 2  마 징가   73  1999/04/13\n",
       " 3  베 토벤   89  1997/12/21,\n",
       "    0   1\n",
       " 0  홍  길동\n",
       " 1  이  나영\n",
       " 2  마  징가\n",
       " 3  베  토벤)"
      ]
     },
     "execution_count": 115,
     "metadata": {},
     "output_type": "execute_result"
    }
   ],
   "source": [
    "df1,namesDF"
   ]
  },
  {
   "cell_type": "markdown",
   "id": "851d3ea0-2ac5-41ec-bb2d-8d5ac3295af9",
   "metadata": {},
   "source": [
    "- 5-4. 두 개의 데이터프레임을 컬럼 방향으로 연결하기"
   ]
  },
  {
   "cell_type": "code",
   "execution_count": 116,
   "id": "40e01efd-946e-4d5b-8a30-548c81005b11",
   "metadata": {},
   "outputs": [
    {
     "data": {
      "text/html": [
       "<div>\n",
       "<style scoped>\n",
       "    .dataframe tbody tr th:only-of-type {\n",
       "        vertical-align: middle;\n",
       "    }\n",
       "\n",
       "    .dataframe tbody tr th {\n",
       "        vertical-align: top;\n",
       "    }\n",
       "\n",
       "    .dataframe thead th {\n",
       "        text-align: right;\n",
       "    }\n",
       "</style>\n",
       "<table border=\"1\" class=\"dataframe\">\n",
       "  <thead>\n",
       "    <tr style=\"text-align: right;\">\n",
       "      <th></th>\n",
       "      <th>0</th>\n",
       "      <th>1</th>\n",
       "      <th>2</th>\n",
       "      <th>3</th>\n",
       "      <th>4</th>\n",
       "    </tr>\n",
       "  </thead>\n",
       "  <tbody>\n",
       "    <tr>\n",
       "      <th>0</th>\n",
       "      <td>홍 길동</td>\n",
       "      <td>10</td>\n",
       "      <td>2000/01/13</td>\n",
       "      <td>홍</td>\n",
       "      <td>길동</td>\n",
       "    </tr>\n",
       "    <tr>\n",
       "      <th>1</th>\n",
       "      <td>이 나영</td>\n",
       "      <td>21</td>\n",
       "      <td>2020/11/05</td>\n",
       "      <td>이</td>\n",
       "      <td>나영</td>\n",
       "    </tr>\n",
       "    <tr>\n",
       "      <th>2</th>\n",
       "      <td>마 징가</td>\n",
       "      <td>73</td>\n",
       "      <td>1999/04/13</td>\n",
       "      <td>마</td>\n",
       "      <td>징가</td>\n",
       "    </tr>\n",
       "    <tr>\n",
       "      <th>3</th>\n",
       "      <td>베 토벤</td>\n",
       "      <td>89</td>\n",
       "      <td>1997/12/21</td>\n",
       "      <td>베</td>\n",
       "      <td>토벤</td>\n",
       "    </tr>\n",
       "  </tbody>\n",
       "</table>\n",
       "</div>"
      ],
      "text/plain": [
       "      0   1           2  3   4\n",
       "0  홍 길동  10  2000/01/13  홍  길동\n",
       "1  이 나영  21  2020/11/05  이  나영\n",
       "2  마 징가  73  1999/04/13  마  징가\n",
       "3  베 토벤  89  1997/12/21  베  토벤"
      ]
     },
     "execution_count": 116,
     "metadata": {},
     "output_type": "execute_result"
    }
   ],
   "source": [
    "pd.concat([df1, namesDF], axis ='columns', ignore_index = True )"
   ]
  },
  {
   "cell_type": "markdown",
   "id": "970990dc-ab7a-4d7e-b883-b0fd979c31aa",
   "metadata": {},
   "source": [
    "- 5-5. 2번 컬럼에서 연, 월, 일 분리하기."
   ]
  },
  {
   "cell_type": "code",
   "execution_count": 118,
   "id": "f2bcf1f8-a696-4a60-a5de-4c02866e1ec6",
   "metadata": {},
   "outputs": [
    {
     "data": {
      "text/plain": [
       "0   2000-01-13\n",
       "1   2020-11-05\n",
       "2   1999-04-13\n",
       "3   1997-12-21\n",
       "Name: 2, dtype: datetime64[ns]"
      ]
     },
     "execution_count": 118,
     "metadata": {},
     "output_type": "execute_result"
    }
   ],
   "source": [
    "df2[2]"
   ]
  },
  {
   "cell_type": "code",
   "execution_count": 121,
   "id": "bef502af-134b-4c37-9e4a-8de65a5a3007",
   "metadata": {},
   "outputs": [],
   "source": [
    "yearSR = df2[2].dt.year"
   ]
  },
  {
   "cell_type": "code",
   "execution_count": 122,
   "id": "34d593eb-fdcd-45e3-9c51-07c6d124c08a",
   "metadata": {},
   "outputs": [],
   "source": [
    "monthSR = df2[2].dt.month"
   ]
  },
  {
   "cell_type": "code",
   "execution_count": 123,
   "id": "62045d2d-d75d-48a8-b449-bcaebe4c44f3",
   "metadata": {},
   "outputs": [],
   "source": [
    "daySR = df2[2].dt.day"
   ]
  },
  {
   "cell_type": "code",
   "execution_count": 124,
   "id": "c7b2362c-145b-4594-81b5-02eb38868ef7",
   "metadata": {},
   "outputs": [
    {
     "data": {
      "text/html": [
       "<div>\n",
       "<style scoped>\n",
       "    .dataframe tbody tr th:only-of-type {\n",
       "        vertical-align: middle;\n",
       "    }\n",
       "\n",
       "    .dataframe tbody tr th {\n",
       "        vertical-align: top;\n",
       "    }\n",
       "\n",
       "    .dataframe thead th {\n",
       "        text-align: right;\n",
       "    }\n",
       "</style>\n",
       "<table border=\"1\" class=\"dataframe\">\n",
       "  <thead>\n",
       "    <tr style=\"text-align: right;\">\n",
       "      <th></th>\n",
       "      <th>0</th>\n",
       "      <th>1</th>\n",
       "      <th>2</th>\n",
       "      <th>3</th>\n",
       "    </tr>\n",
       "  </thead>\n",
       "  <tbody>\n",
       "    <tr>\n",
       "      <th>0</th>\n",
       "      <td>홍 길동</td>\n",
       "      <td>10</td>\n",
       "      <td>2000/01/13</td>\n",
       "      <td>2000</td>\n",
       "    </tr>\n",
       "    <tr>\n",
       "      <th>1</th>\n",
       "      <td>이 나영</td>\n",
       "      <td>21</td>\n",
       "      <td>2020/11/05</td>\n",
       "      <td>2020</td>\n",
       "    </tr>\n",
       "    <tr>\n",
       "      <th>2</th>\n",
       "      <td>마 징가</td>\n",
       "      <td>73</td>\n",
       "      <td>1999/04/13</td>\n",
       "      <td>1999</td>\n",
       "    </tr>\n",
       "    <tr>\n",
       "      <th>3</th>\n",
       "      <td>베 토벤</td>\n",
       "      <td>89</td>\n",
       "      <td>1997/12/21</td>\n",
       "      <td>1997</td>\n",
       "    </tr>\n",
       "  </tbody>\n",
       "</table>\n",
       "</div>"
      ],
      "text/plain": [
       "      0   1           2     3\n",
       "0  홍 길동  10  2000/01/13  2000\n",
       "1  이 나영  21  2020/11/05  2020\n",
       "2  마 징가  73  1999/04/13  1999\n",
       "3  베 토벤  89  1997/12/21  1997"
      ]
     },
     "execution_count": 124,
     "metadata": {},
     "output_type": "execute_result"
    }
   ],
   "source": [
    "pd.concat([df1,yearSR],axis = 1,ignore_index=True)"
   ]
  },
  {
   "cell_type": "markdown",
   "id": "395b960c-4e76-464b-a2e0-e36ac339fe6d",
   "metadata": {},
   "source": [
    "- 5-6. 현 데이터프레임을 파일로 저장하기:pandas.to_어쩌구('파일경로+파일명')\n"
   ]
  },
  {
   "cell_type": "code",
   "execution_count": 125,
   "id": "032710d0-60ed-4e85-9272-18b66264c2fe",
   "metadata": {},
   "outputs": [],
   "source": [
    "#CSV-> 데이터와 데이터의 구분자\n",
    "filename = './backup.csv' #'backup.csv\n"
   ]
  },
  {
   "cell_type": "code",
   "execution_count": 138,
   "id": "4de7e820-d192-4782-99e0-f5670ca6f43d",
   "metadata": {},
   "outputs": [],
   "source": [
    "df2.to_csv(filename, sep = ' ', header = False, index = False)"
   ]
  },
  {
   "cell_type": "code",
   "execution_count": 141,
   "id": "d759a223-e687-4d6b-9d95-94ed3e7ecc12",
   "metadata": {},
   "outputs": [
    {
     "data": {
      "text/html": [
       "<div>\n",
       "<style scoped>\n",
       "    .dataframe tbody tr th:only-of-type {\n",
       "        vertical-align: middle;\n",
       "    }\n",
       "\n",
       "    .dataframe tbody tr th {\n",
       "        vertical-align: top;\n",
       "    }\n",
       "\n",
       "    .dataframe thead th {\n",
       "        text-align: right;\n",
       "    }\n",
       "</style>\n",
       "<table border=\"1\" class=\"dataframe\">\n",
       "  <thead>\n",
       "    <tr style=\"text-align: right;\">\n",
       "      <th></th>\n",
       "      <th>0</th>\n",
       "      <th>1</th>\n",
       "      <th>2</th>\n",
       "    </tr>\n",
       "  </thead>\n",
       "  <tbody>\n",
       "    <tr>\n",
       "      <th>0</th>\n",
       "      <td>홍 길동</td>\n",
       "      <td>10</td>\n",
       "      <td>2000-01-13</td>\n",
       "    </tr>\n",
       "    <tr>\n",
       "      <th>1</th>\n",
       "      <td>이 나영</td>\n",
       "      <td>21</td>\n",
       "      <td>2020-11-05</td>\n",
       "    </tr>\n",
       "    <tr>\n",
       "      <th>2</th>\n",
       "      <td>마 징가</td>\n",
       "      <td>73</td>\n",
       "      <td>1999-04-13</td>\n",
       "    </tr>\n",
       "    <tr>\n",
       "      <th>3</th>\n",
       "      <td>베 토벤</td>\n",
       "      <td>89</td>\n",
       "      <td>1997-12-21</td>\n",
       "    </tr>\n",
       "  </tbody>\n",
       "</table>\n",
       "</div>"
      ],
      "text/plain": [
       "      0   1           2\n",
       "0  홍 길동  10  2000-01-13\n",
       "1  이 나영  21  2020-11-05\n",
       "2  마 징가  73  1999-04-13\n",
       "3  베 토벤  89  1997-12-21"
      ]
     },
     "execution_count": 141,
     "metadata": {},
     "output_type": "execute_result"
    }
   ],
   "source": [
    "pd.read_csv(filename, header = None, sep = \" \")"
   ]
  },
  {
   "cell_type": "code",
   "execution_count": 143,
   "id": "f378b2f0-4dd8-4b0b-9f13-0f9614b67831",
   "metadata": {},
   "outputs": [],
   "source": [
    "#df2.append(namesDF)"
   ]
  },
  {
   "cell_type": "markdown",
   "id": "e10cdd92-f523-46a7-bfa6-c2a873468dc9",
   "metadata": {},
   "source": [
    "### 병합 2.merge\n",
    "<hr>\n",
    "- 두 개의 DF에서 특정 컬럼을 기준으로 데이터를 합치는 것\n",
    "- DF 두 개를 합치는 기준이 되는 컬럼을 지정해야 함\n",
    "- 지정된 컬럼명이 없다면 동일한 컬럼명을 기준으로 합쳐짐\n",
    "<hr>"
   ]
  },
  {
   "cell_type": "markdown",
   "id": "1e4b3e6f-b8d3-4c45-ae95-ffd9550e28a7",
   "metadata": {},
   "source": [
    "- 2-1. 데이터 준비"
   ]
  },
  {
   "cell_type": "code",
   "execution_count": null,
   "id": "76ce1156-04cb-45af-a3d6-7cba42d8091a",
   "metadata": {},
   "outputs": [],
   "source": [
    "f1 = '../"
   ]
  }
 ],
 "metadata": {
  "kernelspec": {
   "display_name": "Python 3 (ipykernel)",
   "language": "python",
   "name": "python3"
  },
  "language_info": {
   "codemirror_mode": {
    "name": "ipython",
    "version": 3
   },
   "file_extension": ".py",
   "mimetype": "text/x-python",
   "name": "python",
   "nbconvert_exporter": "python",
   "pygments_lexer": "ipython3",
   "version": "3.8.18"
  }
 },
 "nbformat": 4,
 "nbformat_minor": 5
}
