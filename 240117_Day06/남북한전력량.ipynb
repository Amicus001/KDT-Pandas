{
 "cells": [
  {
   "cell_type": "markdown",
   "id": "ed104142-9550-49a9-9d7c-ea856d9b6d67",
   "metadata": {},
   "source": [
    "남북한전력량.xlsx 파일 시각화/분석\n"
   ]
  }
 ],
 "metadata": {
  "kernelspec": {
   "display_name": "Python 3 (ipykernel)",
   "language": "python",
   "name": "python3"
  },
  "language_info": {
   "codemirror_mode": {
    "name": "ipython",
    "version": 3
   },
   "file_extension": ".py",
   "mimetype": "text/x-python",
   "name": "python",
   "nbconvert_exporter": "python",
   "pygments_lexer": "ipython3",
   "version": "3.8.18"
  }
 },
 "nbformat": 4,
 "nbformat_minor": 5
}
