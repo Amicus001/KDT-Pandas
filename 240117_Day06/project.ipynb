{
 "cells": [
  {
   "cell_type": "code",
   "execution_count": 2,
   "id": "277c29f2-1a48-4522-90b7-930a96e51c2c",
   "metadata": {},
   "outputs": [],
   "source": [
    "import pandas as pd\n",
    "import matplotlib.pyplot as plt\n",
    "import numpy as np"
   ]
  },
  {
   "cell_type": "code",
   "execution_count": 3,
   "id": "dde78382-0247-449e-9d7e-fffba071b155",
   "metadata": {},
   "outputs": [],
   "source": [
    "adult_number= pd.read_csv('../DATA/성인_사이버폭력_목격_경험_유형_수_20240119171016.csv', header = 2)\n",
    "adult_situation = pd.read_csv('../DATA/성인_사이버폭력_목격_경험_여부_및_목격_상황_20240119171111.csv')\n",
    "adult_multiplereply = pd.read_csv('../DATA/성인_사이버폭력_목격_경험_복수응답__20240119171036.csv')\n",
    "\n",
    "student_number = pd.read_csv('../DATA/학생_사이버폭력_목격_경험_유형_수_20240119171445.csv')\n",
    "student_situation = pd.read_csv('../DATA/학생_사이버폭력_목격_여부_및_목격_상황_20240119171208.csv')\n",
    "student_experience = pd.read_csv('../DATA/학생_사이버폭력_목격_경험_20240119171311.csv')"
   ]
  },
  {
   "cell_type": "code",
   "execution_count": 4,
   "id": "6904d187-4eed-4e01-9277-46b3766272f0",
   "metadata": {},
   "outputs": [
    {
     "name": "stdout",
     "output_type": "stream",
     "text": [
      "<class 'pandas.core.frame.DataFrame'>\n",
      "RangeIndex: 51 entries, 0 to 50\n",
      "Data columns (total 7 columns):\n",
      " #   Column  Non-Null Count  Dtype  \n",
      "---  ------  --------------  -----  \n",
      " 0   전체      51 non-null     object \n",
      " 1   소계      51 non-null     object \n",
      " 2   67.20   51 non-null     float64\n",
      " 3   29.60   51 non-null     float64\n",
      " 4   2.70    51 non-null     float64\n",
      " 5   0.50    51 non-null     float64\n",
      " 6   1.49    51 non-null     float64\n",
      "dtypes: float64(5), object(2)\n",
      "memory usage: 2.9+ KB\n",
      "<class 'pandas.core.frame.DataFrame'>\n",
      "RangeIndex: 54 entries, 0 to 53\n",
      "Data columns (total 7 columns):\n",
      " #   Column  Non-Null Count  Dtype \n",
      "---  ------  --------------  ----- \n",
      " 0   특성별(1)  54 non-null     object\n",
      " 1   특성별(2)  54 non-null     object\n",
      " 2   2022    54 non-null     object\n",
      " 3   2022.1  54 non-null     object\n",
      " 4   2022.2  54 non-null     object\n",
      " 5   2022.3  54 non-null     object\n",
      " 6   2022.4  54 non-null     object\n",
      "dtypes: object(7)\n",
      "memory usage: 3.1+ KB\n",
      "<class 'pandas.core.frame.DataFrame'>\n",
      "RangeIndex: 53 entries, 0 to 52\n",
      "Data columns (total 10 columns):\n",
      " #   Column  Non-Null Count  Dtype \n",
      "---  ------  --------------  ----- \n",
      " 0   특성별(1)  53 non-null     object\n",
      " 1   특성별(2)  53 non-null     object\n",
      " 2   2022    53 non-null     object\n",
      " 3   2022.1  53 non-null     object\n",
      " 4   2022.2  53 non-null     object\n",
      " 5   2022.3  53 non-null     object\n",
      " 6   2022.4  53 non-null     object\n",
      " 7   2022.5  53 non-null     object\n",
      " 8   2022.6  53 non-null     object\n",
      " 9   2022.7  53 non-null     object\n",
      "dtypes: object(10)\n",
      "memory usage: 4.3+ KB\n"
     ]
    }
   ],
   "source": [
    "adult_number.info()\n",
    "adult_situation.info()\n",
    "adult_multiplereply.info()"
   ]
  },
  {
   "cell_type": "code",
   "execution_count": 5,
   "id": "36d99112-42a2-4682-bce3-9a6dc0dcb909",
   "metadata": {},
   "outputs": [],
   "source": [
    "adult_number = adult_number.iloc[44:48]\n",
    "adult_situation = adult_situation.iloc[44:48]"
   ]
  },
  {
   "cell_type": "code",
   "execution_count": 6,
   "id": "8f78c9e4-de8c-4b99-a307-813cfccab42e",
   "metadata": {},
   "outputs": [
    {
     "data": {
      "text/html": [
       "<div>\n",
       "<style scoped>\n",
       "    .dataframe tbody tr th:only-of-type {\n",
       "        vertical-align: middle;\n",
       "    }\n",
       "\n",
       "    .dataframe tbody tr th {\n",
       "        vertical-align: top;\n",
       "    }\n",
       "\n",
       "    .dataframe thead th {\n",
       "        text-align: right;\n",
       "    }\n",
       "</style>\n",
       "<table border=\"1\" class=\"dataframe\">\n",
       "  <thead>\n",
       "    <tr style=\"text-align: right;\">\n",
       "      <th></th>\n",
       "      <th>전체</th>\n",
       "      <th>소계</th>\n",
       "      <th>67.20</th>\n",
       "      <th>29.60</th>\n",
       "      <th>2.70</th>\n",
       "      <th>0.50</th>\n",
       "      <th>1.49</th>\n",
       "    </tr>\n",
       "  </thead>\n",
       "  <tbody>\n",
       "    <tr>\n",
       "      <th>44</th>\n",
       "      <td>인터넷 이용시간별</td>\n",
       "      <td>1시간 미만</td>\n",
       "      <td>66.9</td>\n",
       "      <td>27.2</td>\n",
       "      <td>5.9</td>\n",
       "      <td>0.0</td>\n",
       "      <td>1.56</td>\n",
       "    </tr>\n",
       "    <tr>\n",
       "      <th>45</th>\n",
       "      <td>인터넷 이용시간별</td>\n",
       "      <td>1~2시간 미만</td>\n",
       "      <td>57.8</td>\n",
       "      <td>41.0</td>\n",
       "      <td>0.0</td>\n",
       "      <td>1.2</td>\n",
       "      <td>1.51</td>\n",
       "    </tr>\n",
       "    <tr>\n",
       "      <th>46</th>\n",
       "      <td>인터넷 이용시간별</td>\n",
       "      <td>2~3시간 미만</td>\n",
       "      <td>70.4</td>\n",
       "      <td>26.4</td>\n",
       "      <td>3.2</td>\n",
       "      <td>0.0</td>\n",
       "      <td>1.41</td>\n",
       "    </tr>\n",
       "    <tr>\n",
       "      <th>47</th>\n",
       "      <td>인터넷 이용시간별</td>\n",
       "      <td>3~5시간 미만</td>\n",
       "      <td>57.5</td>\n",
       "      <td>37.3</td>\n",
       "      <td>3.8</td>\n",
       "      <td>1.3</td>\n",
       "      <td>1.71</td>\n",
       "    </tr>\n",
       "  </tbody>\n",
       "</table>\n",
       "</div>"
      ],
      "text/plain": [
       "           전체        소계  67.20  29.60  2.70  0.50  1.49\n",
       "44  인터넷 이용시간별    1시간 미만   66.9   27.2   5.9   0.0  1.56\n",
       "45  인터넷 이용시간별  1~2시간 미만   57.8   41.0   0.0   1.2  1.51\n",
       "46  인터넷 이용시간별  2~3시간 미만   70.4   26.4   3.2   0.0  1.41\n",
       "47  인터넷 이용시간별  3~5시간 미만   57.5   37.3   3.8   1.3  1.71"
      ]
     },
     "execution_count": 6,
     "metadata": {},
     "output_type": "execute_result"
    }
   ],
   "source": [
    "#안 쓸 데이터 날리기\n",
    "adult_number.drop(index=adult_number.index[39:44])"
   ]
  },
  {
   "cell_type": "code",
   "execution_count": 7,
   "id": "51d6bf26-5631-456f-b6db-8c0447a3f67f",
   "metadata": {},
   "outputs": [],
   "source": [
    "#데이터 object -> float"
   ]
  },
  {
   "cell_type": "code",
   "execution_count": null,
   "id": "c25be25a-3b13-426d-a9d7-6dc88f165979",
   "metadata": {},
   "outputs": [],
   "source": []
  }
 ],
 "metadata": {
  "kernelspec": {
   "display_name": "Python 3 (ipykernel)",
   "language": "python",
   "name": "python3"
  },
  "language_info": {
   "codemirror_mode": {
    "name": "ipython",
    "version": 3
   },
   "file_extension": ".py",
   "mimetype": "text/x-python",
   "name": "python",
   "nbconvert_exporter": "python",
   "pygments_lexer": "ipython3",
   "version": "3.8.18"
  }
 },
 "nbformat": 4,
 "nbformat_minor": 5
}
