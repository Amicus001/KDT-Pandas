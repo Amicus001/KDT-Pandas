{
 "cells": [
  {
   "cell_type": "markdown",
   "id": "98e602fe-ae09-48bd-bd3d-59cbc1d345d3",
   "metadata": {},
   "source": [
    "## [데이터파일 읽고 분석하기]"
   ]
  },
  {
   "cell_type": "markdown",
   "id": "9566a90e-20e7-4ce7-99e3-7913c4327e70",
   "metadata": {},
   "source": [
    "- (1) 모듈 로딩"
   ]
  },
  {
   "cell_type": "code",
   "execution_count": 91,
   "id": "701202da-34df-4d38-9aa3-dc63b2834f02",
   "metadata": {},
   "outputs": [],
   "source": [
    "import pandas as pd"
   ]
  },
  {
   "cell_type": "markdown",
   "id": "daf3d162-538d-4e8d-b86e-cb764ba3263e",
   "metadata": {},
   "source": [
    "- (2) 데이터 준비"
   ]
  },
  {
   "cell_type": "code",
   "execution_count": 92,
   "id": "a9c1929b-7d45-4058-a4af-92e6d57d0112",
   "metadata": {},
   "outputs": [],
   "source": [
    "file = '../DATA/auto-mpg.csv'"
   ]
  },
  {
   "cell_type": "markdown",
   "id": "944a8248-6ec2-4548-bd65-766d27e0c3ba",
   "metadata": {},
   "source": [
    "- (3) 데이터 저장\n"
   ]
  },
  {
   "cell_type": "code",
   "execution_count": 93,
   "id": "19b1c50a-3818-45e1-aacc-c17251bfb33f",
   "metadata": {},
   "outputs": [],
   "source": [
    "mpgDF = pd.read_csv(file, header = None, sep = '\\s+') #정규표현식 = '\\s+ : whitespace(공백자), 공백문자 1개 이상으로 된 문자가 구분자. "
   ]
  },
  {
   "cell_type": "code",
   "execution_count": 94,
   "id": "af3553bb-3551-434b-849b-c9fdaa210965",
   "metadata": {},
   "outputs": [
    {
     "data": {
      "text/plain": [
       "<bound method DataFrame.info of         0  1      2      3       4     5   6  7                          8\n",
       "0    18.0  8  307.0  130.0  3504.0  12.0  70  1  chevrolet chevelle malibu\n",
       "1    15.0  8  350.0  165.0  3693.0  11.5  70  1          buick skylark 320\n",
       "2    18.0  8  318.0  150.0  3436.0  11.0  70  1         plymouth satellite\n",
       "3    16.0  8  304.0  150.0  3433.0  12.0  70  1              amc rebel sst\n",
       "4    17.0  8  302.0  140.0  3449.0  10.5  70  1                ford torino\n",
       "..    ... ..    ...    ...     ...   ...  .. ..                        ...\n",
       "393  27.0  4  140.0  86.00  2790.0  15.6  82  1            ford mustang gl\n",
       "394  44.0  4   97.0  52.00  2130.0  24.6  82  2                  vw pickup\n",
       "395  32.0  4  135.0  84.00  2295.0  11.6  82  1              dodge rampage\n",
       "396  28.0  4  120.0  79.00  2625.0  18.6  82  1                ford ranger\n",
       "397  31.0  4  119.0  82.00  2720.0  19.4  82  1                 chevy s-10\n",
       "\n",
       "[398 rows x 9 columns]>"
      ]
     },
     "execution_count": 94,
     "metadata": {},
     "output_type": "execute_result"
    }
   ],
   "source": [
    "mpgDF.info #전체 데이터 요약정보"
   ]
  },
  {
   "cell_type": "code",
   "execution_count": 95,
   "id": "ceeef6d9-ec50-4891-a128-87fd4b586a66",
   "metadata": {},
   "outputs": [],
   "source": [
    "# 데이터 확인: 3번 컬럼 타입과 실제 데이터가 다름. "
   ]
  },
  {
   "cell_type": "code",
   "execution_count": 96,
   "id": "a4396e6c-e196-4af3-89fe-215a5041dc6a",
   "metadata": {
    "scrolled": true
   },
   "outputs": [
    {
     "data": {
      "text/plain": [
       "<bound method NDFrame.head of         0  1      2      3       4     5   6  7                          8\n",
       "0    18.0  8  307.0  130.0  3504.0  12.0  70  1  chevrolet chevelle malibu\n",
       "1    15.0  8  350.0  165.0  3693.0  11.5  70  1          buick skylark 320\n",
       "2    18.0  8  318.0  150.0  3436.0  11.0  70  1         plymouth satellite\n",
       "3    16.0  8  304.0  150.0  3433.0  12.0  70  1              amc rebel sst\n",
       "4    17.0  8  302.0  140.0  3449.0  10.5  70  1                ford torino\n",
       "..    ... ..    ...    ...     ...   ...  .. ..                        ...\n",
       "393  27.0  4  140.0  86.00  2790.0  15.6  82  1            ford mustang gl\n",
       "394  44.0  4   97.0  52.00  2130.0  24.6  82  2                  vw pickup\n",
       "395  32.0  4  135.0  84.00  2295.0  11.6  82  1              dodge rampage\n",
       "396  28.0  4  120.0  79.00  2625.0  18.6  82  1                ford ranger\n",
       "397  31.0  4  119.0  82.00  2720.0  19.4  82  1                 chevy s-10\n",
       "\n",
       "[398 rows x 9 columns]>"
      ]
     },
     "execution_count": 96,
     "metadata": {},
     "output_type": "execute_result"
    }
   ],
   "source": [
    "mpgDF.head"
   ]
  },
  {
   "cell_type": "markdown",
   "id": "ace776f9-2c53-4e33-8594-5601e6108cb3",
   "metadata": {},
   "source": [
    "- 컬럼별 데이터 수 확인 = DF.count"
   ]
  },
  {
   "cell_type": "code",
   "execution_count": 97,
   "id": "263fe161-fee1-440e-885f-b1a1ff5736e7",
   "metadata": {},
   "outputs": [
    {
     "data": {
      "text/plain": [
       "0    398\n",
       "1    398\n",
       "2    398\n",
       "3    398\n",
       "4    398\n",
       "5    398\n",
       "6    398\n",
       "7    398\n",
       "8    398\n",
       "dtype: int64"
      ]
     },
     "execution_count": 97,
     "metadata": {},
     "output_type": "execute_result"
    }
   ],
   "source": [
    "mpgDF.count()"
   ]
  },
  {
   "cell_type": "markdown",
   "id": "061f6ff8-82a9-42c0-b917-a57a45a3cc8d",
   "metadata": {},
   "source": [
    "- 컬럼별 데이터 종류 갯수 확인= DF.value_counts()"
   ]
  },
  {
   "cell_type": "code",
   "execution_count": 98,
   "id": "9b58dba7-9763-4d2f-93bf-663e7ee3b11d",
   "metadata": {},
   "outputs": [
    {
     "data": {
      "text/plain": [
       "3\n",
       "150.0    22\n",
       "90.00    20\n",
       "88.00    19\n",
       "110.0    18\n",
       "100.0    17\n",
       "         ..\n",
       "61.00     1\n",
       "93.00     1\n",
       "148.0     1\n",
       "152.0     1\n",
       "82.00     1\n",
       "Name: count, Length: 94, dtype: int64"
      ]
     },
     "execution_count": 98,
     "metadata": {},
     "output_type": "execute_result"
    }
   ],
   "source": [
    "mpgDF[3].value_counts()"
   ]
  },
  {
   "cell_type": "code",
   "execution_count": 99,
   "id": "d719c6be-b8a9-4715-b8d6-776af1e652c3",
   "metadata": {},
   "outputs": [
    {
     "data": {
      "text/plain": [
       "0     1  2      3      4       5     6   7  8                                   \n",
       "9.0   8  304.0  193.0  4732.0  18.5  70  1  hi 1200d                                1\n",
       "27.0  4  151.0  90.00  2950.0  17.3  82  1  chevrolet camaro                        1\n",
       "         140.0  86.00  2790.0  15.6  82  1  ford mustang gl                         1\n",
       "         112.0  88.00  2640.0  18.6  82  1  chevrolet cavalier wagon                1\n",
       "         101.0  83.00  2202.0  15.3  76  2  renault 12tl                            1\n",
       "                                                                                   ..\n",
       "18.6  6  225.0  110.0  3620.0  18.7  78  1  dodge aspen                             1\n",
       "18.5  8  360.0  150.0  3940.0  13.0  79  1  chrysler lebaron town @ country (sw)    1\n",
       "      6  250.0  98.00  3525.0  19.0  77  1  ford granada                            1\n",
       "                110.0  3645.0  16.2  76  1  pontiac ventura sj                      1\n",
       "46.6  4  86.0   65.00  2110.0  17.9  80  3  mazda glc                               1\n",
       "Name: count, Length: 398, dtype: int64"
      ]
     },
     "execution_count": 99,
     "metadata": {},
     "output_type": "execute_result"
    }
   ],
   "source": [
    "mpgDF.value_counts()"
   ]
  },
  {
   "cell_type": "code",
   "execution_count": 100,
   "id": "906ecdc7-54a2-4f95-b0bd-383450ecb483",
   "metadata": {},
   "outputs": [
    {
     "name": "stdout",
     "output_type": "stream",
     "text": [
      "컬럼명 0,\n",
      " =======> \n",
      "  0\n",
      "13.0    20\n",
      "14.0    19\n",
      "18.0    17\n",
      "15.0    16\n",
      "26.0    14\n",
      "        ..\n",
      "31.9     1\n",
      "16.9     1\n",
      "18.2     1\n",
      "22.3     1\n",
      "44.0     1\n",
      "Name: count, Length: 129, dtype: int64\n",
      "컬럼명 1,\n",
      " =======> \n",
      "  1\n",
      "4    204\n",
      "8    103\n",
      "6     84\n",
      "3      4\n",
      "5      3\n",
      "Name: count, dtype: int64\n",
      "컬럼명 2,\n",
      " =======> \n",
      "  2\n",
      "97.0     21\n",
      "98.0     18\n",
      "350.0    18\n",
      "318.0    17\n",
      "250.0    17\n",
      "         ..\n",
      "104.0     1\n",
      "110.0     1\n",
      "130.0     1\n",
      "111.0     1\n",
      "144.0     1\n",
      "Name: count, Length: 82, dtype: int64\n",
      "컬럼명 3,\n",
      " =======> \n",
      "  3\n",
      "150.0    22\n",
      "90.00    20\n",
      "88.00    19\n",
      "110.0    18\n",
      "100.0    17\n",
      "         ..\n",
      "61.00     1\n",
      "93.00     1\n",
      "148.0     1\n",
      "152.0     1\n",
      "82.00     1\n",
      "Name: count, Length: 94, dtype: int64\n",
      "컬럼명 4,\n",
      " =======> \n",
      "  4\n",
      "1985.0    4\n",
      "2130.0    4\n",
      "2125.0    3\n",
      "2945.0    3\n",
      "2265.0    3\n",
      "         ..\n",
      "2875.0    1\n",
      "3102.0    1\n",
      "3664.0    1\n",
      "2807.0    1\n",
      "2625.0    1\n",
      "Name: count, Length: 351, dtype: int64\n",
      "컬럼명 5,\n",
      " =======> \n",
      "  5\n",
      "14.5    23\n",
      "15.5    21\n",
      "14.0    16\n",
      "16.0    16\n",
      "13.5    15\n",
      "        ..\n",
      "11.1     1\n",
      "12.1     1\n",
      "21.9     1\n",
      "22.1     1\n",
      "11.6     1\n",
      "Name: count, Length: 95, dtype: int64\n",
      "컬럼명 6,\n",
      " =======> \n",
      "  6\n",
      "73    40\n",
      "78    36\n",
      "76    34\n",
      "82    31\n",
      "75    30\n",
      "70    29\n",
      "79    29\n",
      "80    29\n",
      "81    29\n",
      "71    28\n",
      "72    28\n",
      "77    28\n",
      "74    27\n",
      "Name: count, dtype: int64\n",
      "컬럼명 7,\n",
      " =======> \n",
      "  7\n",
      "1    249\n",
      "3     79\n",
      "2     70\n",
      "Name: count, dtype: int64\n",
      "컬럼명 8,\n",
      " =======> \n",
      "  8\n",
      "ford pinto             6\n",
      "toyota corolla         5\n",
      "amc matador            5\n",
      "ford maverick          5\n",
      "chevrolet chevette     4\n",
      "                      ..\n",
      "chevrolet monza 2+2    1\n",
      "ford mustang ii        1\n",
      "pontiac astro          1\n",
      "amc pacer              1\n",
      "chevy s-10             1\n",
      "Name: count, Length: 305, dtype: int64\n"
     ]
    }
   ],
   "source": [
    "for col in mpgDF.columns:\n",
    "    print (f'컬럼명 {col},\\n =======> \\n  {mpgDF[col].value_counts()}')\n",
    "    "
   ]
  },
  {
   "cell_type": "markdown",
   "id": "c9e5c0dc-9a5c-441d-837e-53c3b2c8ddd5",
   "metadata": {},
   "source": [
    "- 컬럼별 고유값 확인\n"
   ]
  },
  {
   "cell_type": "code",
   "execution_count": 101,
   "id": "52bb0530-3baf-4f3f-931b-46812c59e648",
   "metadata": {},
   "outputs": [
    {
     "name": "stdout",
     "output_type": "stream",
     "text": [
      "컬럼명 0,\n",
      " =======> \n",
      "  [18.  15.  16.  17.  14.  24.  22.  21.  27.  26.  25.  10.  11.   9.\n",
      " 28.  19.  12.  13.  23.  30.  31.  35.  20.  29.  32.  33.  17.5 15.5\n",
      " 14.5 22.5 24.5 18.5 29.5 26.5 16.5 31.5 36.  25.5 33.5 20.5 30.5 21.5\n",
      " 43.1 36.1 32.8 39.4 19.9 19.4 20.2 19.2 25.1 20.6 20.8 18.6 18.1 17.7\n",
      " 27.5 27.2 30.9 21.1 23.2 23.8 23.9 20.3 21.6 16.2 19.8 22.3 17.6 18.2\n",
      " 16.9 31.9 34.1 35.7 27.4 25.4 34.2 34.5 31.8 37.3 28.4 28.8 26.8 41.5\n",
      " 38.1 32.1 37.2 26.4 24.3 19.1 34.3 29.8 31.3 37.  32.2 46.6 27.9 40.8\n",
      " 44.3 43.4 36.4 44.6 40.9 33.8 32.7 23.7 23.6 32.4 26.6 25.8 23.5 39.1\n",
      " 39.  35.1 32.3 37.7 34.7 34.4 29.9 33.7 32.9 31.6 28.1 30.7 24.2 22.4\n",
      " 34.  38.  44. ]\n",
      "컬럼명 1,\n",
      " =======> \n",
      "  [8 4 6 3 5]\n",
      "컬럼명 2,\n",
      " =======> \n",
      "  [307.  350.  318.  304.  302.  429.  454.  440.  455.  390.  383.  340.\n",
      " 400.  113.  198.  199.  200.   97.  110.  107.  104.  121.  360.  140.\n",
      "  98.  232.  225.  250.  351.  258.  122.  116.   79.   88.   71.   72.\n",
      "  91.   97.5  70.  120.   96.  108.  155.   68.  114.  156.   76.   83.\n",
      "  90.  231.  262.  134.  119.  171.  115.  101.  305.   85.  130.  168.\n",
      " 111.  260.  151.  146.   80.   78.  105.  131.  163.   89.  267.   86.\n",
      " 183.  141.  173.  135.   81.  100.  145.  112.  181.  144. ]\n",
      "컬럼명 3,\n",
      " =======> \n",
      "  ['130.0' '165.0' '150.0' '140.0' '198.0' '220.0' '215.0' '225.0' '190.0'\n",
      " '170.0' '160.0' '95.00' '97.00' '85.00' '88.00' '46.00' '87.00' '90.00'\n",
      " '113.0' '200.0' '210.0' '193.0' '?' '100.0' '105.0' '175.0' '153.0'\n",
      " '180.0' '110.0' '72.00' '86.00' '70.00' '76.00' '65.00' '69.00' '60.00'\n",
      " '80.00' '54.00' '208.0' '155.0' '112.0' '92.00' '145.0' '137.0' '158.0'\n",
      " '167.0' '94.00' '107.0' '230.0' '49.00' '75.00' '91.00' '122.0' '67.00'\n",
      " '83.00' '78.00' '52.00' '61.00' '93.00' '148.0' '129.0' '96.00' '71.00'\n",
      " '98.00' '115.0' '53.00' '81.00' '79.00' '120.0' '152.0' '102.0' '108.0'\n",
      " '68.00' '58.00' '149.0' '89.00' '63.00' '48.00' '66.00' '139.0' '103.0'\n",
      " '125.0' '133.0' '138.0' '135.0' '142.0' '77.00' '62.00' '132.0' '84.00'\n",
      " '64.00' '74.00' '116.0' '82.00']\n",
      "컬럼명 4,\n",
      " =======> \n",
      "  [3504. 3693. 3436. 3433. 3449. 4341. 4354. 4312. 4425. 3850. 3563. 3609.\n",
      " 3761. 3086. 2372. 2833. 2774. 2587. 2130. 1835. 2672. 2430. 2375. 2234.\n",
      " 2648. 4615. 4376. 4382. 4732. 2264. 2228. 2046. 2634. 3439. 3329. 3302.\n",
      " 3288. 4209. 4464. 4154. 4096. 4955. 4746. 5140. 2962. 2408. 3282. 3139.\n",
      " 2220. 2123. 2074. 2065. 1773. 1613. 1834. 1955. 2278. 2126. 2254. 2226.\n",
      " 4274. 4385. 4135. 4129. 3672. 4633. 4502. 4456. 4422. 2330. 3892. 4098.\n",
      " 4294. 4077. 2933. 2511. 2979. 2189. 2395. 2288. 2506. 2164. 2100. 4100.\n",
      " 3988. 4042. 3777. 4952. 4363. 4237. 4735. 4951. 3821. 3121. 3278. 2945.\n",
      " 3021. 2904. 1950. 4997. 4906. 4654. 4499. 2789. 2279. 2401. 2379. 2124.\n",
      " 2310. 2472. 2265. 4082. 4278. 1867. 2158. 2582. 2868. 3399. 2660. 2807.\n",
      " 3664. 3102. 2875. 2901. 3336. 2451. 1836. 2542. 3781. 3632. 3613. 4141.\n",
      " 4699. 4457. 4638. 4257. 2219. 1963. 2300. 1649. 2003. 2125. 2108. 2246.\n",
      " 2489. 2391. 2000. 3264. 3459. 3432. 3158. 4668. 4440. 4498. 4657. 3907.\n",
      " 3897. 3730. 3785. 3039. 3221. 3169. 2171. 2639. 2914. 2592. 2702. 2223.\n",
      " 2545. 2984. 1937. 3211. 2694. 2957. 2671. 1795. 2464. 2572. 2255. 2202.\n",
      " 4215. 4190. 3962. 3233. 3353. 3012. 3085. 2035. 3651. 3574. 3645. 3193.\n",
      " 1825. 1990. 2155. 2565. 3150. 3940. 3270. 2930. 3820. 4380. 4055. 3870.\n",
      " 3755. 2045. 1945. 3880. 4060. 4140. 4295. 3520. 3425. 3630. 3525. 4220.\n",
      " 4165. 4325. 4335. 1940. 2740. 2755. 2051. 2075. 1985. 2190. 2815. 2600.\n",
      " 2720. 1800. 2070. 3365. 3735. 3570. 3535. 3155. 2965. 3430. 3210. 3380.\n",
      " 3070. 3620. 3410. 3445. 3205. 4080. 2560. 2230. 2515. 2745. 2855. 2405.\n",
      " 2830. 3140. 2795. 2135. 3245. 2990. 2890. 3265. 3360. 3840. 3725. 3955.\n",
      " 3830. 4360. 4054. 3605. 1925. 1975. 1915. 2670. 3530. 3900. 3190. 3420.\n",
      " 2200. 2150. 2020. 2595. 2700. 2556. 2144. 1968. 2120. 2019. 2678. 2870.\n",
      " 3003. 3381. 2188. 2711. 2434. 2110. 2800. 2085. 2335. 2950. 3250. 1850.\n",
      " 2145. 1845. 2910. 2420. 2500. 2905. 2290. 2490. 2635. 2620. 2725. 2385.\n",
      " 1755. 1875. 1760. 2050. 2215. 2380. 2320. 2210. 2350. 2615. 3230. 3160.\n",
      " 2900. 3415. 3060. 3465. 2605. 2640. 2575. 2525. 2735. 2865. 3035. 1980.\n",
      " 2025. 1970. 2160. 2205. 2245. 1965. 1995. 3015. 2585. 2835. 2665. 2370.\n",
      " 2790. 2295. 2625.]\n",
      "컬럼명 5,\n",
      " =======> \n",
      "  [12.  11.5 11.  10.5 10.   9.   8.5  8.   9.5 15.  15.5 16.  14.5 20.5\n",
      " 17.5 12.5 14.  13.5 18.5 19.  13.  19.5 18.  17.  23.5 16.5 21.  16.9\n",
      " 14.9 17.7 15.3 13.9 12.8 15.4 17.6 22.2 22.1 14.2 17.4 16.2 17.8 12.2\n",
      " 16.4 13.6 15.7 13.2 21.9 16.7 12.1 14.8 18.6 16.8 13.7 11.1 11.4 18.2\n",
      " 15.8 15.9 14.1 21.5 14.4 19.4 19.2 17.2 18.7 15.1 13.4 11.2 14.7 16.6\n",
      " 17.3 15.2 14.3 20.1 24.8 11.3 12.9 18.8 18.1 17.9 21.7 23.7 19.9 21.8\n",
      " 13.8 12.6 16.1 20.7 18.3 20.4 19.6 17.1 15.6 24.6 11.6]\n",
      "컬럼명 6,\n",
      " =======> \n",
      "  [70 71 72 73 74 75 76 77 78 79 80 81 82]\n",
      "컬럼명 7,\n",
      " =======> \n",
      "  [1 3 2]\n",
      "컬럼명 8,\n",
      " =======> \n",
      "  ['chevrolet chevelle malibu' 'buick skylark 320' 'plymouth satellite'\n",
      " 'amc rebel sst' 'ford torino' 'ford galaxie 500' 'chevrolet impala'\n",
      " 'plymouth fury iii' 'pontiac catalina' 'amc ambassador dpl'\n",
      " 'dodge challenger se' \"plymouth 'cuda 340\" 'chevrolet monte carlo'\n",
      " 'buick estate wagon (sw)' 'toyota corona mark ii' 'plymouth duster'\n",
      " 'amc hornet' 'ford maverick' 'datsun pl510'\n",
      " 'volkswagen 1131 deluxe sedan' 'peugeot 504' 'audi 100 ls' 'saab 99e'\n",
      " 'bmw 2002' 'amc gremlin' 'ford f250' 'chevy c20' 'dodge d200' 'hi 1200d'\n",
      " 'chevrolet vega 2300' 'toyota corona' 'ford pinto'\n",
      " 'plymouth satellite custom' 'ford torino 500' 'amc matador'\n",
      " 'pontiac catalina brougham' 'dodge monaco (sw)'\n",
      " 'ford country squire (sw)' 'pontiac safari (sw)'\n",
      " 'amc hornet sportabout (sw)' 'chevrolet vega (sw)' 'pontiac firebird'\n",
      " 'ford mustang' 'mercury capri 2000' 'opel 1900' 'peugeot 304' 'fiat 124b'\n",
      " 'toyota corolla 1200' 'datsun 1200' 'volkswagen model 111'\n",
      " 'plymouth cricket' 'toyota corona hardtop' 'dodge colt hardtop'\n",
      " 'volkswagen type 3' 'chevrolet vega' 'ford pinto runabout'\n",
      " 'amc ambassador sst' 'mercury marquis' 'buick lesabre custom'\n",
      " 'oldsmobile delta 88 royale' 'chrysler newport royal' 'mazda rx2 coupe'\n",
      " 'amc matador (sw)' 'chevrolet chevelle concours (sw)'\n",
      " 'ford gran torino (sw)' 'plymouth satellite custom (sw)'\n",
      " 'volvo 145e (sw)' 'volkswagen 411 (sw)' 'peugeot 504 (sw)'\n",
      " 'renault 12 (sw)' 'ford pinto (sw)' 'datsun 510 (sw)'\n",
      " 'toyouta corona mark ii (sw)' 'dodge colt (sw)'\n",
      " 'toyota corolla 1600 (sw)' 'buick century 350' 'chevrolet malibu'\n",
      " 'ford gran torino' 'dodge coronet custom' 'mercury marquis brougham'\n",
      " 'chevrolet caprice classic' 'ford ltd' 'plymouth fury gran sedan'\n",
      " 'chrysler new yorker brougham' 'buick electra 225 custom'\n",
      " 'amc ambassador brougham' 'plymouth valiant' 'chevrolet nova custom'\n",
      " 'volkswagen super beetle' 'ford country' 'plymouth custom suburb'\n",
      " 'oldsmobile vista cruiser' 'toyota carina' 'datsun 610' 'maxda rx3'\n",
      " 'mercury capri v6' 'fiat 124 sport coupe' 'chevrolet monte carlo s'\n",
      " 'pontiac grand prix' 'fiat 128' 'opel manta' 'audi 100ls' 'volvo 144ea'\n",
      " 'dodge dart custom' 'saab 99le' 'toyota mark ii' 'oldsmobile omega'\n",
      " 'chevrolet nova' 'datsun b210' 'chevrolet chevelle malibu classic'\n",
      " 'plymouth satellite sebring' 'buick century luxus (sw)'\n",
      " 'dodge coronet custom (sw)' 'audi fox' 'volkswagen dasher' 'datsun 710'\n",
      " 'dodge colt' 'fiat 124 tc' 'honda civic' 'subaru' 'fiat x1.9'\n",
      " 'plymouth valiant custom' 'mercury monarch' 'chevrolet bel air'\n",
      " 'plymouth grand fury' 'buick century' 'chevroelt chevelle malibu'\n",
      " 'plymouth fury' 'buick skyhawk' 'chevrolet monza 2+2' 'ford mustang ii'\n",
      " 'toyota corolla' 'pontiac astro' 'volkswagen rabbit' 'amc pacer'\n",
      " 'volvo 244dl' 'honda civic cvcc' 'fiat 131' 'capri ii' 'renault 12tl'\n",
      " 'dodge coronet brougham' 'chevrolet chevette' 'chevrolet woody'\n",
      " 'vw rabbit' 'dodge aspen se' 'ford granada ghia' 'pontiac ventura sj'\n",
      " 'amc pacer d/l' 'datsun b-210' 'volvo 245' 'plymouth volare premier v8'\n",
      " 'mercedes-benz 280s' 'cadillac seville' 'chevy c10' 'ford f108'\n",
      " 'dodge d100' 'honda accord cvcc' 'buick opel isuzu deluxe'\n",
      " 'renault 5 gtl' 'plymouth arrow gs' 'datsun f-10 hatchback'\n",
      " 'oldsmobile cutlass supreme' 'dodge monaco brougham'\n",
      " 'mercury cougar brougham' 'chevrolet concours' 'buick skylark'\n",
      " 'plymouth volare custom' 'ford granada' 'pontiac grand prix lj'\n",
      " 'chevrolet monte carlo landau' 'chrysler cordoba' 'ford thunderbird'\n",
      " 'volkswagen rabbit custom' 'pontiac sunbird coupe'\n",
      " 'toyota corolla liftback' 'ford mustang ii 2+2' 'dodge colt m/m'\n",
      " 'subaru dl' 'datsun 810' 'bmw 320i' 'mazda rx-4'\n",
      " 'volkswagen rabbit custom diesel' 'ford fiesta' 'mazda glc deluxe'\n",
      " 'datsun b210 gx' 'oldsmobile cutlass salon brougham' 'dodge diplomat'\n",
      " 'mercury monarch ghia' 'pontiac phoenix lj' 'ford fairmont (auto)'\n",
      " 'ford fairmont (man)' 'plymouth volare' 'amc concord'\n",
      " 'buick century special' 'mercury zephyr' 'dodge aspen' 'amc concord d/l'\n",
      " 'buick regal sport coupe (turbo)' 'ford futura' 'dodge magnum xe'\n",
      " 'datsun 510' 'dodge omni' 'toyota celica gt liftback' 'plymouth sapporo'\n",
      " 'oldsmobile starfire sx' 'datsun 200-sx' 'audi 5000' 'volvo 264gl'\n",
      " 'saab 99gle' 'peugeot 604sl' 'volkswagen scirocco' 'honda accord lx'\n",
      " 'pontiac lemans v6' 'mercury zephyr 6' 'ford fairmont 4'\n",
      " 'amc concord dl 6' 'dodge aspen 6' 'ford ltd landau'\n",
      " 'mercury grand marquis' 'dodge st. regis' 'chevrolet malibu classic (sw)'\n",
      " 'chrysler lebaron town @ country (sw)' 'vw rabbit custom'\n",
      " 'maxda glc deluxe' 'dodge colt hatchback custom' 'amc spirit dl'\n",
      " 'mercedes benz 300d' 'cadillac eldorado' 'plymouth horizon'\n",
      " 'plymouth horizon tc3' 'datsun 210' 'fiat strada custom'\n",
      " 'buick skylark limited' 'chevrolet citation' 'oldsmobile omega brougham'\n",
      " 'pontiac phoenix' 'toyota corolla tercel' 'datsun 310' 'ford fairmont'\n",
      " 'audi 4000' 'toyota corona liftback' 'mazda 626' 'datsun 510 hatchback'\n",
      " 'mazda glc' 'vw rabbit c (diesel)' 'vw dasher (diesel)'\n",
      " 'audi 5000s (diesel)' 'mercedes-benz 240d' 'honda civic 1500 gl'\n",
      " 'renault lecar deluxe' 'vokswagen rabbit' 'datsun 280-zx' 'mazda rx-7 gs'\n",
      " 'triumph tr7 coupe' 'ford mustang cobra' 'honda accord'\n",
      " 'plymouth reliant' 'dodge aries wagon (sw)' 'toyota starlet'\n",
      " 'plymouth champ' 'honda civic 1300' 'datsun 210 mpg' 'toyota tercel'\n",
      " 'mazda glc 4' 'plymouth horizon 4' 'ford escort 4w' 'ford escort 2h'\n",
      " 'volkswagen jetta' 'renault 18i' 'honda prelude' 'datsun 200sx'\n",
      " 'peugeot 505s turbo diesel' 'volvo diesel' 'toyota cressida'\n",
      " 'datsun 810 maxima' 'oldsmobile cutlass ls' 'ford granada gl'\n",
      " 'chrysler lebaron salon' 'chevrolet cavalier' 'chevrolet cavalier wagon'\n",
      " 'chevrolet cavalier 2-door' 'pontiac j2000 se hatchback' 'dodge aries se'\n",
      " 'ford fairmont futura' 'amc concord dl' 'volkswagen rabbit l'\n",
      " 'mazda glc custom l' 'mazda glc custom' 'plymouth horizon miser'\n",
      " 'mercury lynx l' 'nissan stanza xe' 'honda civic (auto)' 'datsun 310 gx'\n",
      " 'buick century limited' 'oldsmobile cutlass ciera (diesel)'\n",
      " 'chrysler lebaron medallion' 'ford granada l' 'toyota celica gt'\n",
      " 'dodge charger 2.2' 'chevrolet camaro' 'ford mustang gl' 'vw pickup'\n",
      " 'dodge rampage' 'ford ranger' 'chevy s-10']\n"
     ]
    }
   ],
   "source": [
    "for col in mpgDF.columns:\n",
    "    print (f'컬럼명 {col},\\n =======> \\n  {mpgDF[col].unique()}')"
   ]
  },
  {
   "cell_type": "markdown",
   "id": "7503a71b-b42b-412b-9961-316789c8db02",
   "metadata": {},
   "source": [
    "- 수치 데이터의 통계값 확인하기 = describe()"
   ]
  },
  {
   "cell_type": "code",
   "execution_count": 102,
   "id": "a7dae144-05c9-4d89-b2cd-54db59d95d46",
   "metadata": {},
   "outputs": [
    {
     "data": {
      "text/html": [
       "<div>\n",
       "<style scoped>\n",
       "    .dataframe tbody tr th:only-of-type {\n",
       "        vertical-align: middle;\n",
       "    }\n",
       "\n",
       "    .dataframe tbody tr th {\n",
       "        vertical-align: top;\n",
       "    }\n",
       "\n",
       "    .dataframe thead th {\n",
       "        text-align: right;\n",
       "    }\n",
       "</style>\n",
       "<table border=\"1\" class=\"dataframe\">\n",
       "  <thead>\n",
       "    <tr style=\"text-align: right;\">\n",
       "      <th></th>\n",
       "      <th>0</th>\n",
       "      <th>1</th>\n",
       "      <th>2</th>\n",
       "      <th>4</th>\n",
       "      <th>5</th>\n",
       "      <th>6</th>\n",
       "      <th>7</th>\n",
       "    </tr>\n",
       "  </thead>\n",
       "  <tbody>\n",
       "    <tr>\n",
       "      <th>count</th>\n",
       "      <td>398.000000</td>\n",
       "      <td>398.000000</td>\n",
       "      <td>398.000000</td>\n",
       "      <td>398.000000</td>\n",
       "      <td>398.000000</td>\n",
       "      <td>398.000000</td>\n",
       "      <td>398.000000</td>\n",
       "    </tr>\n",
       "    <tr>\n",
       "      <th>mean</th>\n",
       "      <td>23.514573</td>\n",
       "      <td>5.454774</td>\n",
       "      <td>193.425879</td>\n",
       "      <td>2970.424623</td>\n",
       "      <td>15.568090</td>\n",
       "      <td>76.010050</td>\n",
       "      <td>1.572864</td>\n",
       "    </tr>\n",
       "    <tr>\n",
       "      <th>std</th>\n",
       "      <td>7.815984</td>\n",
       "      <td>1.701004</td>\n",
       "      <td>104.269838</td>\n",
       "      <td>846.841774</td>\n",
       "      <td>2.757689</td>\n",
       "      <td>3.697627</td>\n",
       "      <td>0.802055</td>\n",
       "    </tr>\n",
       "    <tr>\n",
       "      <th>min</th>\n",
       "      <td>9.000000</td>\n",
       "      <td>3.000000</td>\n",
       "      <td>68.000000</td>\n",
       "      <td>1613.000000</td>\n",
       "      <td>8.000000</td>\n",
       "      <td>70.000000</td>\n",
       "      <td>1.000000</td>\n",
       "    </tr>\n",
       "    <tr>\n",
       "      <th>25%</th>\n",
       "      <td>17.500000</td>\n",
       "      <td>4.000000</td>\n",
       "      <td>104.250000</td>\n",
       "      <td>2223.750000</td>\n",
       "      <td>13.825000</td>\n",
       "      <td>73.000000</td>\n",
       "      <td>1.000000</td>\n",
       "    </tr>\n",
       "    <tr>\n",
       "      <th>50%</th>\n",
       "      <td>23.000000</td>\n",
       "      <td>4.000000</td>\n",
       "      <td>148.500000</td>\n",
       "      <td>2803.500000</td>\n",
       "      <td>15.500000</td>\n",
       "      <td>76.000000</td>\n",
       "      <td>1.000000</td>\n",
       "    </tr>\n",
       "    <tr>\n",
       "      <th>75%</th>\n",
       "      <td>29.000000</td>\n",
       "      <td>8.000000</td>\n",
       "      <td>262.000000</td>\n",
       "      <td>3608.000000</td>\n",
       "      <td>17.175000</td>\n",
       "      <td>79.000000</td>\n",
       "      <td>2.000000</td>\n",
       "    </tr>\n",
       "    <tr>\n",
       "      <th>max</th>\n",
       "      <td>46.600000</td>\n",
       "      <td>8.000000</td>\n",
       "      <td>455.000000</td>\n",
       "      <td>5140.000000</td>\n",
       "      <td>24.800000</td>\n",
       "      <td>82.000000</td>\n",
       "      <td>3.000000</td>\n",
       "    </tr>\n",
       "  </tbody>\n",
       "</table>\n",
       "</div>"
      ],
      "text/plain": [
       "                0           1           2            4           5  \\\n",
       "count  398.000000  398.000000  398.000000   398.000000  398.000000   \n",
       "mean    23.514573    5.454774  193.425879  2970.424623   15.568090   \n",
       "std      7.815984    1.701004  104.269838   846.841774    2.757689   \n",
       "min      9.000000    3.000000   68.000000  1613.000000    8.000000   \n",
       "25%     17.500000    4.000000  104.250000  2223.750000   13.825000   \n",
       "50%     23.000000    4.000000  148.500000  2803.500000   15.500000   \n",
       "75%     29.000000    8.000000  262.000000  3608.000000   17.175000   \n",
       "max     46.600000    8.000000  455.000000  5140.000000   24.800000   \n",
       "\n",
       "                6           7  \n",
       "count  398.000000  398.000000  \n",
       "mean    76.010050    1.572864  \n",
       "std      3.697627    0.802055  \n",
       "min     70.000000    1.000000  \n",
       "25%     73.000000    1.000000  \n",
       "50%     76.000000    1.000000  \n",
       "75%     79.000000    2.000000  \n",
       "max     82.000000    3.000000  "
      ]
     },
     "execution_count": 102,
     "metadata": {},
     "output_type": "execute_result"
    }
   ],
   "source": [
    "mpgDF.describe()"
   ]
  },
  {
   "cell_type": "markdown",
   "id": "81de86ee-93ca-46a2-a532-966e525eb5c9",
   "metadata": {},
   "source": [
    "- 최빈값 계산 메서드 mode()"
   ]
  },
  {
   "cell_type": "code",
   "execution_count": 103,
   "id": "95439e78-c441-4696-89ee-a15198d6126d",
   "metadata": {},
   "outputs": [
    {
     "data": {
      "text/html": [
       "<div>\n",
       "<style scoped>\n",
       "    .dataframe tbody tr th:only-of-type {\n",
       "        vertical-align: middle;\n",
       "    }\n",
       "\n",
       "    .dataframe tbody tr th {\n",
       "        vertical-align: top;\n",
       "    }\n",
       "\n",
       "    .dataframe thead th {\n",
       "        text-align: right;\n",
       "    }\n",
       "</style>\n",
       "<table border=\"1\" class=\"dataframe\">\n",
       "  <thead>\n",
       "    <tr style=\"text-align: right;\">\n",
       "      <th></th>\n",
       "      <th>0</th>\n",
       "      <th>1</th>\n",
       "      <th>2</th>\n",
       "      <th>4</th>\n",
       "      <th>5</th>\n",
       "      <th>6</th>\n",
       "      <th>7</th>\n",
       "    </tr>\n",
       "  </thead>\n",
       "  <tbody>\n",
       "    <tr>\n",
       "      <th>0</th>\n",
       "      <td>13.0</td>\n",
       "      <td>4.0</td>\n",
       "      <td>97.0</td>\n",
       "      <td>1985.0</td>\n",
       "      <td>14.5</td>\n",
       "      <td>73.0</td>\n",
       "      <td>1.0</td>\n",
       "    </tr>\n",
       "    <tr>\n",
       "      <th>1</th>\n",
       "      <td>NaN</td>\n",
       "      <td>NaN</td>\n",
       "      <td>NaN</td>\n",
       "      <td>2130.0</td>\n",
       "      <td>NaN</td>\n",
       "      <td>NaN</td>\n",
       "      <td>NaN</td>\n",
       "    </tr>\n",
       "  </tbody>\n",
       "</table>\n",
       "</div>"
      ],
      "text/plain": [
       "      0    1     2       4     5     6    7\n",
       "0  13.0  4.0  97.0  1985.0  14.5  73.0  1.0\n",
       "1   NaN  NaN   NaN  2130.0   NaN   NaN  NaN"
      ]
     },
     "execution_count": 103,
     "metadata": {},
     "output_type": "execute_result"
    }
   ],
   "source": [
    "mpgDF.mode(numeric_only = True)"
   ]
  },
  {
   "cell_type": "markdown",
   "id": "aafa5517-060c-42b0-9948-4eb45316b9a5",
   "metadata": {},
   "source": [
    "- 중앙값 계산 메서드 => median()"
   ]
  },
  {
   "cell_type": "code",
   "execution_count": 104,
   "id": "16dd3cad-9b7a-49b1-a686-b0cd9722a20e",
   "metadata": {},
   "outputs": [
    {
     "data": {
      "text/plain": [
       "0      23.0\n",
       "1       4.0\n",
       "2     148.5\n",
       "4    2803.5\n",
       "5      15.5\n",
       "6      76.0\n",
       "7       1.0\n",
       "dtype: float64"
      ]
     },
     "execution_count": 104,
     "metadata": {},
     "output_type": "execute_result"
    }
   ],
   "source": [
    "mpgDF.median(numeric_only = True)"
   ]
  },
  {
   "cell_type": "code",
   "execution_count": 105,
   "id": "52c49ad2-76d4-400e-82b4-2b849edd0d66",
   "metadata": {},
   "outputs": [
    {
     "name": "stdout",
     "output_type": "stream",
     "text": [
      "0      46.6\n",
      "1       8.0\n",
      "2     455.0\n",
      "4    5140.0\n",
      "5      24.8\n",
      "6      82.0\n",
      "7       3.0\n",
      "dtype: float64\n",
      "0       9.0\n",
      "1       3.0\n",
      "2      68.0\n",
      "4    1613.0\n",
      "5       8.0\n",
      "6      70.0\n",
      "7       1.0\n",
      "dtype: float64\n"
     ]
    }
   ],
   "source": [
    "print(mpgDF.max(numeric_only=True), mpgDF.min(numeric_only = True), sep= '\\n')"
   ]
  },
  {
   "cell_type": "markdown",
   "id": "82796c2d-f791-4b5c-af16-a9961692f4b3",
   "metadata": {},
   "source": [
    "- 컬럼과 컬럼 사이의 관계를 수치화하는 메서드: corr()"
   ]
  },
  {
   "cell_type": "code",
   "execution_count": 106,
   "id": "c06f0913-8029-426b-886f-f17caffd6289",
   "metadata": {},
   "outputs": [],
   "source": [
    "mpgDF.columns=[\"mpg\", \"cylinders\", \"displacement\", \"horsepower\", \"weight\", \"acceleration\", \",model year\", \"origin\", \"car name\"]"
   ]
  },
  {
   "cell_type": "code",
   "execution_count": 107,
   "id": "1deec6c0-2157-4961-896f-6e0b2c020dee",
   "metadata": {},
   "outputs": [
    {
     "data": {
      "text/html": [
       "<div>\n",
       "<style scoped>\n",
       "    .dataframe tbody tr th:only-of-type {\n",
       "        vertical-align: middle;\n",
       "    }\n",
       "\n",
       "    .dataframe tbody tr th {\n",
       "        vertical-align: top;\n",
       "    }\n",
       "\n",
       "    .dataframe thead th {\n",
       "        text-align: right;\n",
       "    }\n",
       "</style>\n",
       "<table border=\"1\" class=\"dataframe\">\n",
       "  <thead>\n",
       "    <tr style=\"text-align: right;\">\n",
       "      <th></th>\n",
       "      <th>mpg</th>\n",
       "      <th>cylinders</th>\n",
       "      <th>displacement</th>\n",
       "      <th>weight</th>\n",
       "      <th>acceleration</th>\n",
       "      <th>,model year</th>\n",
       "      <th>origin</th>\n",
       "    </tr>\n",
       "  </thead>\n",
       "  <tbody>\n",
       "    <tr>\n",
       "      <th>mpg</th>\n",
       "      <td>1.000000</td>\n",
       "      <td>-0.775396</td>\n",
       "      <td>-0.804203</td>\n",
       "      <td>-0.831741</td>\n",
       "      <td>0.420289</td>\n",
       "      <td>0.579267</td>\n",
       "      <td>0.563450</td>\n",
       "    </tr>\n",
       "    <tr>\n",
       "      <th>cylinders</th>\n",
       "      <td>-0.775396</td>\n",
       "      <td>1.000000</td>\n",
       "      <td>0.950721</td>\n",
       "      <td>0.896017</td>\n",
       "      <td>-0.505419</td>\n",
       "      <td>-0.348746</td>\n",
       "      <td>-0.562543</td>\n",
       "    </tr>\n",
       "    <tr>\n",
       "      <th>displacement</th>\n",
       "      <td>-0.804203</td>\n",
       "      <td>0.950721</td>\n",
       "      <td>1.000000</td>\n",
       "      <td>0.932824</td>\n",
       "      <td>-0.543684</td>\n",
       "      <td>-0.370164</td>\n",
       "      <td>-0.609409</td>\n",
       "    </tr>\n",
       "    <tr>\n",
       "      <th>weight</th>\n",
       "      <td>-0.831741</td>\n",
       "      <td>0.896017</td>\n",
       "      <td>0.932824</td>\n",
       "      <td>1.000000</td>\n",
       "      <td>-0.417457</td>\n",
       "      <td>-0.306564</td>\n",
       "      <td>-0.581024</td>\n",
       "    </tr>\n",
       "    <tr>\n",
       "      <th>acceleration</th>\n",
       "      <td>0.420289</td>\n",
       "      <td>-0.505419</td>\n",
       "      <td>-0.543684</td>\n",
       "      <td>-0.417457</td>\n",
       "      <td>1.000000</td>\n",
       "      <td>0.288137</td>\n",
       "      <td>0.205873</td>\n",
       "    </tr>\n",
       "    <tr>\n",
       "      <th>,model year</th>\n",
       "      <td>0.579267</td>\n",
       "      <td>-0.348746</td>\n",
       "      <td>-0.370164</td>\n",
       "      <td>-0.306564</td>\n",
       "      <td>0.288137</td>\n",
       "      <td>1.000000</td>\n",
       "      <td>0.180662</td>\n",
       "    </tr>\n",
       "    <tr>\n",
       "      <th>origin</th>\n",
       "      <td>0.563450</td>\n",
       "      <td>-0.562543</td>\n",
       "      <td>-0.609409</td>\n",
       "      <td>-0.581024</td>\n",
       "      <td>0.205873</td>\n",
       "      <td>0.180662</td>\n",
       "      <td>1.000000</td>\n",
       "    </tr>\n",
       "  </tbody>\n",
       "</table>\n",
       "</div>"
      ],
      "text/plain": [
       "                   mpg  cylinders  displacement    weight  acceleration  \\\n",
       "mpg           1.000000  -0.775396     -0.804203 -0.831741      0.420289   \n",
       "cylinders    -0.775396   1.000000      0.950721  0.896017     -0.505419   \n",
       "displacement -0.804203   0.950721      1.000000  0.932824     -0.543684   \n",
       "weight       -0.831741   0.896017      0.932824  1.000000     -0.417457   \n",
       "acceleration  0.420289  -0.505419     -0.543684 -0.417457      1.000000   \n",
       ",model year   0.579267  -0.348746     -0.370164 -0.306564      0.288137   \n",
       "origin        0.563450  -0.562543     -0.609409 -0.581024      0.205873   \n",
       "\n",
       "              ,model year    origin  \n",
       "mpg              0.579267  0.563450  \n",
       "cylinders       -0.348746 -0.562543  \n",
       "displacement    -0.370164 -0.609409  \n",
       "weight          -0.306564 -0.581024  \n",
       "acceleration     0.288137  0.205873  \n",
       ",model year      1.000000  0.180662  \n",
       "origin           0.180662  1.000000  "
      ]
     },
     "execution_count": 107,
     "metadata": {},
     "output_type": "execute_result"
    }
   ],
   "source": [
    "mpgDF.corr(numeric_only=True)"
   ]
  },
  {
   "cell_type": "markdown",
   "id": "ef5af8c1-a61c-4f41-a2bb-a9a7dddfdc02",
   "metadata": {},
   "source": [
    "- 컬럼명 지정하기"
   ]
  },
  {
   "cell_type": "code",
   "execution_count": 108,
   "id": "1a80b8f7-6ec6-4d67-b2f0-3998122a091b",
   "metadata": {},
   "outputs": [],
   "source": [
    "mpgDF.columns=[\"mpg\", \"cylinders\", \"displacement\", \"horsepower\", \"weight\", \"acceleration\", \",model year\", \"origin\", \"car name\"]"
   ]
  },
  {
   "cell_type": "markdown",
   "id": "13de8ec8-5254-4fee-8414-97ead609dbfd",
   "metadata": {},
   "source": [
    "- 데이터 타입과 실제 데이터가 다른 컬럼 -> 타입캐스팅 메서드 astype()"
   ]
  },
  {
   "cell_type": "code",
   "execution_count": 109,
   "id": "96af24e3-31b3-4fd1-b899-3b64ced6d130",
   "metadata": {},
   "outputs": [],
   "source": [
    "# '?'를 우짤것인가"
   ]
  },
  {
   "cell_type": "code",
   "execution_count": 110,
   "id": "b6629fd7-f14c-45be-b472-7d42a4f2a911",
   "metadata": {},
   "outputs": [
    {
     "data": {
      "text/plain": [
       "6"
      ]
     },
     "execution_count": 110,
     "metadata": {},
     "output_type": "execute_result"
    }
   ],
   "source": [
    "mpgDF.horsepower.value_counts()['?']"
   ]
  },
  {
   "cell_type": "code",
   "execution_count": 111,
   "id": "434aa5d7-bee0-4b10-bc0d-bdfe35f09129",
   "metadata": {},
   "outputs": [],
   "source": [
    "horseSR=mpgDF.horsepower.copy()"
   ]
  },
  {
   "cell_type": "code",
   "execution_count": 112,
   "id": "3a41fd73-29c6-484c-91ed-701213bfdee9",
   "metadata": {},
   "outputs": [
    {
     "name": "stdout",
     "output_type": "stream",
     "text": [
      "?\n",
      "0.0\n",
      "?\n",
      "0.0\n",
      "?\n",
      "0.0\n",
      "?\n",
      "0.0\n",
      "?\n",
      "0.0\n",
      "?\n",
      "0.0\n"
     ]
    }
   ],
   "source": [
    "for idx, horse in enumerate( horseSR ):\n",
    "    if horse == '?':\n",
    "        print(horse)\n",
    "        horseSR[idx] = '0.0'\n",
    "        print(horseSR[idx])"
   ]
  },
  {
   "cell_type": "code",
   "execution_count": 113,
   "id": "21fece41-c625-4a35-b93b-d43f0613bfe9",
   "metadata": {},
   "outputs": [],
   "source": [
    "horseSR= mpgDF.horsepower"
   ]
  },
  {
   "cell_type": "code",
   "execution_count": 114,
   "id": "9889ef51-148b-4463-9dde-0ef54ab3810c",
   "metadata": {},
   "outputs": [
    {
     "name": "stdout",
     "output_type": "stream",
     "text": [
      "<class 'pandas.core.series.Series'>\n",
      "RangeIndex: 398 entries, 0 to 397\n",
      "Series name: horsepower\n",
      "Non-Null Count  Dtype \n",
      "--------------  ----- \n",
      "398 non-null    object\n",
      "dtypes: object(1)\n",
      "memory usage: 3.2+ KB\n"
     ]
    }
   ],
   "source": [
    "mpgDF.horsepower.info()"
   ]
  },
  {
   "cell_type": "code",
   "execution_count": 115,
   "id": "0394382b-74f6-46ca-a1b3-6788e8d706d5",
   "metadata": {},
   "outputs": [
    {
     "name": "stdout",
     "output_type": "stream",
     "text": [
      "<class 'pandas.core.frame.DataFrame'>\n",
      "RangeIndex: 398 entries, 0 to 397\n",
      "Data columns (total 9 columns):\n",
      " #   Column        Non-Null Count  Dtype  \n",
      "---  ------        --------------  -----  \n",
      " 0   mpg           398 non-null    float64\n",
      " 1   cylinders     398 non-null    int64  \n",
      " 2   displacement  398 non-null    float64\n",
      " 3   horsepower    398 non-null    object \n",
      " 4   weight        398 non-null    float64\n",
      " 5   acceleration  398 non-null    float64\n",
      " 6   ,model year   398 non-null    int64  \n",
      " 7   origin        398 non-null    int64  \n",
      " 8   car name      398 non-null    object \n",
      "dtypes: float64(4), int64(3), object(2)\n",
      "memory usage: 28.1+ KB\n"
     ]
    }
   ],
   "source": [
    "mpgDF.info()"
   ]
  },
  {
   "cell_type": "markdown",
   "id": "670941dd-d5ac-4437-8248-cc900e027644",
   "metadata": {},
   "source": [
    "- 모든 컬럼과 mpg연비의 관계 비교"
   ]
  },
  {
   "cell_type": "code",
   "execution_count": 116,
   "id": "3fd565cd-b472-4a48-bd8e-9478cc7ba495",
   "metadata": {},
   "outputs": [
    {
     "data": {
      "text/plain": [
       "mpg             1.000000\n",
       "cylinders      -0.775396\n",
       "displacement   -0.804203\n",
       "weight         -0.831741\n",
       "acceleration    0.420289\n",
       ",model year     0.579267\n",
       "origin          0.563450\n",
       "Name: mpg, dtype: float64"
      ]
     },
     "execution_count": 116,
     "metadata": {},
     "output_type": "execute_result"
    }
   ],
   "source": [
    "mpgDF.corr(numeric_only=True).mpg"
   ]
  },
  {
   "cell_type": "code",
   "execution_count": 117,
   "id": "89bfba9b-eafd-4405-90c2-efff7babd838",
   "metadata": {},
   "outputs": [
    {
     "data": {
      "text/plain": [
       "weight         -0.831741\n",
       "displacement   -0.804203\n",
       "cylinders      -0.775396\n",
       "acceleration    0.420289\n",
       "origin          0.563450\n",
       ",model year     0.579267\n",
       "mpg             1.000000\n",
       "Name: mpg, dtype: float64"
      ]
     },
     "execution_count": 117,
     "metadata": {},
     "output_type": "execute_result"
    }
   ],
   "source": [
    "mpgDF.corr(numeric_only=True).mpg.sort_values()"
   ]
  },
  {
   "cell_type": "markdown",
   "id": "09656ff2-cee4-4dec-a8b4-8e8a97d5981d",
   "metadata": {},
   "source": [
    "- origin 컬럼의 타입을 int64-> category 변환"
   ]
  },
  {
   "cell_type": "code",
   "execution_count": 118,
   "id": "25c41ef3-5f21-4440-89ac-8c3e5e15ae74",
   "metadata": {},
   "outputs": [],
   "source": [
    "mpgDF.origin= mpgDF.origin.astype('category')"
   ]
  },
  {
   "cell_type": "code",
   "execution_count": 119,
   "id": "cc205861-77d2-4fce-b069-663c41364ebc",
   "metadata": {},
   "outputs": [
    {
     "name": "stdout",
     "output_type": "stream",
     "text": [
      "<class 'pandas.core.frame.DataFrame'>\n",
      "RangeIndex: 398 entries, 0 to 397\n",
      "Data columns (total 9 columns):\n",
      " #   Column        Non-Null Count  Dtype   \n",
      "---  ------        --------------  -----   \n",
      " 0   mpg           398 non-null    float64 \n",
      " 1   cylinders     398 non-null    int64   \n",
      " 2   displacement  398 non-null    float64 \n",
      " 3   horsepower    398 non-null    object  \n",
      " 4   weight        398 non-null    float64 \n",
      " 5   acceleration  398 non-null    float64 \n",
      " 6   ,model year   398 non-null    int64   \n",
      " 7   origin        398 non-null    category\n",
      " 8   car name      398 non-null    object  \n",
      "dtypes: category(1), float64(4), int64(2), object(2)\n",
      "memory usage: 25.5+ KB\n"
     ]
    }
   ],
   "source": [
    "mpgDF.info()"
   ]
  },
  {
   "cell_type": "markdown",
   "id": "7d335be5-2fb7-487f-85d4-afbd2c30a8bd",
   "metadata": {},
   "source": [
    "## [데이터 원소값 변경/ 타입 변경] < 한꺼번에 진행하기 <hr>"
   ]
  },
  {
   "cell_type": "markdown",
   "id": "0ee0e67f-e19b-487e-92b7-6edfed4ee222",
   "metadata": {},
   "source": [
    "#데이터 읽어와서 바로 컬럼명 지정하기"
   ]
  },
  {
   "cell_type": "code",
   "execution_count": 122,
   "id": "d15e449a-95c4-4356-8821-e460d850060c",
   "metadata": {},
   "outputs": [
    {
     "name": "stdout",
     "output_type": "stream",
     "text": [
      "<class 'pandas.core.frame.DataFrame'>\n",
      "RangeIndex: 398 entries, 0 to 397\n",
      "Data columns (total 9 columns):\n",
      " #   Column        Non-Null Count  Dtype  \n",
      "---  ------        --------------  -----  \n",
      " 0   mpg           398 non-null    float64\n",
      " 1   cylinders     398 non-null    int64  \n",
      " 2   displacement  398 non-null    float64\n",
      " 3   horsepower    398 non-null    object \n",
      " 4   weight        398 non-null    float64\n",
      " 5   acceleration  398 non-null    float64\n",
      " 6   model year    398 non-null    int64  \n",
      " 7   origin        398 non-null    int64  \n",
      " 8   car name      398 non-null    object \n",
      "dtypes: float64(4), int64(3), object(2)\n",
      "memory usage: 28.1+ KB\n"
     ]
    }
   ],
   "source": [
    "mpgDF2=pd.read_csv(file,\n",
    "                    header=None,\n",
    "                    sep='\\s+',\n",
    "                    names=['mpg','cylinders','displacement','horsepower','weight','acceleration','model year','origin','car name'])\n",
    "\n",
    "mpgDF2.info()# 원소값 '?' 변경해주는 메서드 => replace(old, new)\n"
   ]
  },
  {
   "cell_type": "code",
   "execution_count": 123,
   "id": "43438989-04a0-4bc8-a2a4-f4cb029c50db",
   "metadata": {},
   "outputs": [],
   "source": [
    "mpgDF2.horsepower.replace('?', '0.0', inplace=True)"
   ]
  },
  {
   "cell_type": "code",
   "execution_count": 124,
   "id": "db01f4de-aec7-4db9-9078-ebf7ea9de84f",
   "metadata": {},
   "outputs": [],
   "source": [
    "mpgDF2.origin.replace({1: 'USA',2: 'EU', 3: 'JPN'}, inplace=True)"
   ]
  },
  {
   "cell_type": "code",
   "execution_count": 127,
   "id": "989f8541-c7f1-46df-97a7-0bee0e24ca42",
   "metadata": {},
   "outputs": [],
   "source": [
    "#origin column의 1- USA, 2- EUROPE, 3-JPN\n"
   ]
  },
  {
   "cell_type": "code",
   "execution_count": 128,
   "id": "c12d7715-ad28-419b-98c5-6a671bdae5f8",
   "metadata": {},
   "outputs": [
    {
     "data": {
      "text/plain": [
       "origin\n",
       "USA    249\n",
       "JPN     79\n",
       "EU      70\n",
       "Name: count, dtype: int64"
      ]
     },
     "execution_count": 128,
     "metadata": {},
     "output_type": "execute_result"
    }
   ],
   "source": [
    "# origin 컬럼의 값의 종류별 갯수 확인 => value_counts() / unique()\n",
    "mpgDF2.origin.value_counts()"
   ]
  },
  {
   "cell_type": "code",
   "execution_count": 129,
   "id": "d4905737-b9e5-4a5d-9d11-67accc714ad4",
   "metadata": {},
   "outputs": [
    {
     "data": {
      "text/plain": [
       "array(['USA', 'JPN', 'EU'], dtype=object)"
      ]
     },
     "execution_count": 129,
     "metadata": {},
     "output_type": "execute_result"
    }
   ],
   "source": [
    "mpgDF2.origin.unique()"
   ]
  },
  {
   "cell_type": "markdown",
   "id": "dc6debbe-ccc2-4552-ba2a-a981320500f7",
   "metadata": {},
   "source": [
    "- horsepower과 origin 컬럼의 데이터타입 변경"
   ]
  },
  {
   "cell_type": "code",
   "execution_count": 130,
   "id": "a4646290-7b49-438f-96ae-1bb103d060ea",
   "metadata": {},
   "outputs": [],
   "source": [
    "mpgDF.horsepower=mpgDF2.horsepower.astype('float64')"
   ]
  },
  {
   "cell_type": "code",
   "execution_count": 131,
   "id": "125c9448-1988-4859-af19-a6ba070f6e50",
   "metadata": {},
   "outputs": [],
   "source": [
    "mpgDF.origin=mpgDF2.origin.astype('category')"
   ]
  },
  {
   "cell_type": "markdown",
   "id": "5a5dc10e-b211-4e26-9f36-59c841198744",
   "metadata": {},
   "source": [
    "## [DataType 변환 방법 2]"
   ]
  },
  {
   "cell_type": "code",
   "execution_count": 132,
   "id": "cdc8d2f6-3e99-4b32-b1e2-cfdaaa3afce2",
   "metadata": {},
   "outputs": [],
   "source": [
    "file2 = '../DATA/employees.csv'"
   ]
  },
  {
   "cell_type": "code",
   "execution_count": 136,
   "id": "9ccd47c2-12fe-4f34-b71c-009dfd55d21d",
   "metadata": {},
   "outputs": [
    {
     "name": "stdout",
     "output_type": "stream",
     "text": [
      "<class 'pandas.core.frame.DataFrame'>\n",
      "RangeIndex: 1001 entries, 0 to 1000\n",
      "Data columns (total 6 columns):\n",
      " #   Column      Non-Null Count  Dtype         \n",
      "---  ------      --------------  -----         \n",
      " 0   First Name  933 non-null    object        \n",
      " 1   Gender      854 non-null    object        \n",
      " 2   Start Date  999 non-null    datetime64[ns]\n",
      " 3   Salary      999 non-null    float64       \n",
      " 4   Mgmt        933 non-null    object        \n",
      " 5   Team        957 non-null    object        \n",
      "dtypes: datetime64[ns](1), float64(1), object(4)\n",
      "memory usage: 47.0+ KB\n"
     ]
    },
    {
     "name": "stderr",
     "output_type": "stream",
     "text": [
      "C:\\Users\\kdp\\AppData\\Local\\Temp\\ipykernel_9604\\2320487458.py:1: UserWarning: Could not infer format, so each element will be parsed individually, falling back to `dateutil`. To ensure parsing is consistent and as-expected, please specify a format.\n",
      "  empDF=pd.read_csv(file2, parse_dates = ['Start Date'])\n"
     ]
    }
   ],
   "source": [
    "empDF=pd.read_csv(file2, parse_dates = ['Start Date'])\n",
    "empDF.info()"
   ]
  },
  {
   "cell_type": "markdown",
   "id": "c8ef51e6-6100-4055-8f41-ca0db5b39229",
   "metadata": {},
   "source": [
    "- 데이터와 타입이 다른 경우 형변환 처리하기(astype()method)\n",
    "    - 해당 컬럼에 빈칸 또는 이상한 값 존재 여부 체크하여 처리하기\n",
    "    - ->형변환하기\" "
   ]
  },
  {
   "cell_type": "code",
   "execution_count": 137,
   "id": "95425e76-2867-4b58-8fd0-35b8ebfc705c",
   "metadata": {},
   "outputs": [
    {
     "data": {
      "text/plain": [
       "0        True\n",
       "1        True\n",
       "2       False\n",
       "3        True\n",
       "4        True\n",
       "        ...  \n",
       "996     False\n",
       "997     False\n",
       "998     False\n",
       "999      True\n",
       "1000     True\n",
       "Name: Mgmt, Length: 1001, dtype: bool"
      ]
     },
     "execution_count": 137,
     "metadata": {},
     "output_type": "execute_result"
    }
   ],
   "source": [
    "empDF.mgmt = empDF.Mgmt.astype('bool')"
   ]
  },
  {
   "cell_type": "markdown",
   "id": "d2f8b94a-f2f1-4cee-a9a4-b7553e8bacad",
   "metadata": {},
   "source": [
    "## [결측치(missing value) 처리하기]\n",
    " - 결측치 체크 -> isna(), isnull()\n",
    " - 결측치 처리 -> dropna(): 삭제\n",
    "                 fillna(): 대체하기"
   ]
  },
  {
   "cell_type": "code",
   "execution_count": 139,
   "id": "023a5437-f1fa-4861-b450-92ee2f4d669f",
   "metadata": {},
   "outputs": [
    {
     "data": {
      "text/html": [
       "<div>\n",
       "<style scoped>\n",
       "    .dataframe tbody tr th:only-of-type {\n",
       "        vertical-align: middle;\n",
       "    }\n",
       "\n",
       "    .dataframe tbody tr th {\n",
       "        vertical-align: top;\n",
       "    }\n",
       "\n",
       "    .dataframe thead th {\n",
       "        text-align: right;\n",
       "    }\n",
       "</style>\n",
       "<table border=\"1\" class=\"dataframe\">\n",
       "  <thead>\n",
       "    <tr style=\"text-align: right;\">\n",
       "      <th></th>\n",
       "      <th>First Name</th>\n",
       "      <th>Gender</th>\n",
       "      <th>Start Date</th>\n",
       "      <th>Salary</th>\n",
       "      <th>Mgmt</th>\n",
       "      <th>Team</th>\n",
       "    </tr>\n",
       "  </thead>\n",
       "  <tbody>\n",
       "    <tr>\n",
       "      <th>0</th>\n",
       "      <td>False</td>\n",
       "      <td>False</td>\n",
       "      <td>False</td>\n",
       "      <td>True</td>\n",
       "      <td>False</td>\n",
       "      <td>False</td>\n",
       "    </tr>\n",
       "    <tr>\n",
       "      <th>1</th>\n",
       "      <td>False</td>\n",
       "      <td>False</td>\n",
       "      <td>False</td>\n",
       "      <td>False</td>\n",
       "      <td>False</td>\n",
       "      <td>True</td>\n",
       "    </tr>\n",
       "    <tr>\n",
       "      <th>2</th>\n",
       "      <td>False</td>\n",
       "      <td>False</td>\n",
       "      <td>True</td>\n",
       "      <td>False</td>\n",
       "      <td>False</td>\n",
       "      <td>False</td>\n",
       "    </tr>\n",
       "    <tr>\n",
       "      <th>3</th>\n",
       "      <td>False</td>\n",
       "      <td>True</td>\n",
       "      <td>False</td>\n",
       "      <td>False</td>\n",
       "      <td>False</td>\n",
       "      <td>False</td>\n",
       "    </tr>\n",
       "    <tr>\n",
       "      <th>4</th>\n",
       "      <td>False</td>\n",
       "      <td>False</td>\n",
       "      <td>False</td>\n",
       "      <td>False</td>\n",
       "      <td>False</td>\n",
       "      <td>False</td>\n",
       "    </tr>\n",
       "    <tr>\n",
       "      <th>...</th>\n",
       "      <td>...</td>\n",
       "      <td>...</td>\n",
       "      <td>...</td>\n",
       "      <td>...</td>\n",
       "      <td>...</td>\n",
       "      <td>...</td>\n",
       "    </tr>\n",
       "    <tr>\n",
       "      <th>996</th>\n",
       "      <td>False</td>\n",
       "      <td>False</td>\n",
       "      <td>False</td>\n",
       "      <td>False</td>\n",
       "      <td>False</td>\n",
       "      <td>False</td>\n",
       "    </tr>\n",
       "    <tr>\n",
       "      <th>997</th>\n",
       "      <td>False</td>\n",
       "      <td>False</td>\n",
       "      <td>False</td>\n",
       "      <td>False</td>\n",
       "      <td>False</td>\n",
       "      <td>False</td>\n",
       "    </tr>\n",
       "    <tr>\n",
       "      <th>998</th>\n",
       "      <td>False</td>\n",
       "      <td>False</td>\n",
       "      <td>False</td>\n",
       "      <td>False</td>\n",
       "      <td>False</td>\n",
       "      <td>False</td>\n",
       "    </tr>\n",
       "    <tr>\n",
       "      <th>999</th>\n",
       "      <td>False</td>\n",
       "      <td>False</td>\n",
       "      <td>False</td>\n",
       "      <td>False</td>\n",
       "      <td>False</td>\n",
       "      <td>False</td>\n",
       "    </tr>\n",
       "    <tr>\n",
       "      <th>1000</th>\n",
       "      <td>True</td>\n",
       "      <td>True</td>\n",
       "      <td>True</td>\n",
       "      <td>True</td>\n",
       "      <td>True</td>\n",
       "      <td>True</td>\n",
       "    </tr>\n",
       "  </tbody>\n",
       "</table>\n",
       "<p>1001 rows × 6 columns</p>\n",
       "</div>"
      ],
      "text/plain": [
       "      First Name  Gender  Start Date  Salary   Mgmt   Team\n",
       "0          False   False       False    True  False  False\n",
       "1          False   False       False   False  False   True\n",
       "2          False   False        True   False  False  False\n",
       "3          False    True       False   False  False  False\n",
       "4          False   False       False   False  False  False\n",
       "...          ...     ...         ...     ...    ...    ...\n",
       "996        False   False       False   False  False  False\n",
       "997        False   False       False   False  False  False\n",
       "998        False   False       False   False  False  False\n",
       "999        False   False       False   False  False  False\n",
       "1000        True    True        True    True   True   True\n",
       "\n",
       "[1001 rows x 6 columns]"
      ]
     },
     "execution_count": 139,
     "metadata": {},
     "output_type": "execute_result"
    }
   ],
   "source": [
    "empDF.isna()"
   ]
  },
  {
   "cell_type": "code",
   "execution_count": 140,
   "id": "2398091a-29da-44e9-b40c-8caa4f644241",
   "metadata": {},
   "outputs": [
    {
     "data": {
      "text/plain": [
       "First Name     68\n",
       "Gender        147\n",
       "Start Date      2\n",
       "Salary          2\n",
       "Mgmt           68\n",
       "Team           44\n",
       "dtype: int64"
      ]
     },
     "execution_count": 140,
     "metadata": {},
     "output_type": "execute_result"
    }
   ],
   "source": [
    "empDF.isnull().sum()"
   ]
  },
  {
   "cell_type": "code",
   "execution_count": 141,
   "id": "9eee0091-8820-4643-b623-4f793fb02883",
   "metadata": {},
   "outputs": [
    {
     "data": {
      "text/plain": [
       "First Name     68\n",
       "Gender        147\n",
       "Start Date      2\n",
       "Salary          2\n",
       "Mgmt           68\n",
       "Team           44\n",
       "dtype: int64"
      ]
     },
     "execution_count": 141,
     "metadata": {},
     "output_type": "execute_result"
    }
   ],
   "source": [
    "empDF.isna().sum()"
   ]
  },
  {
   "cell_type": "markdown",
   "id": "11a2d166-36eb-4b5a-9cb4-41c300c32fb9",
   "metadata": {},
   "source": [
    "- 결측치 처리 1: 삭제"
   ]
  },
  {
   "cell_type": "markdown",
   "id": "b803db12-7711-416f-b1a3-1344eaaa4362",
   "metadata": {},
   "source": [
    "- DF.drop() : 삭제\n",
    "- 행/컬럼 삭제시 사용"
   ]
  },
  {
   "cell_type": "code",
   "execution_count": 145,
   "id": "3b08055f-69db-4ba8-91f3-677dff370f27",
   "metadata": {
    "scrolled": true
   },
   "outputs": [
    {
     "name": "stdout",
     "output_type": "stream",
     "text": [
      "RangeIndex(start=0, stop=1001, step=1)\n",
      "\n",
      "Index(['First Name', 'Gender', 'Start Date', 'Salary', 'Mgmt', 'Team'], dtype='object')\n"
     ]
    }
   ],
   "source": [
    "print(empDF.index, empDF.columns, sep= '\\n\\n')"
   ]
  },
  {
   "cell_type": "code",
   "execution_count": 147,
   "id": "f12b55d4-fc40-4a6a-8dd3-3e4a4671b886",
   "metadata": {},
   "outputs": [
    {
     "data": {
      "text/html": [
       "<div>\n",
       "<style scoped>\n",
       "    .dataframe tbody tr th:only-of-type {\n",
       "        vertical-align: middle;\n",
       "    }\n",
       "\n",
       "    .dataframe tbody tr th {\n",
       "        vertical-align: top;\n",
       "    }\n",
       "\n",
       "    .dataframe thead th {\n",
       "        text-align: right;\n",
       "    }\n",
       "</style>\n",
       "<table border=\"1\" class=\"dataframe\">\n",
       "  <thead>\n",
       "    <tr style=\"text-align: right;\">\n",
       "      <th></th>\n",
       "      <th>First Name</th>\n",
       "      <th>Gender</th>\n",
       "      <th>Start Date</th>\n",
       "      <th>Salary</th>\n",
       "      <th>Mgmt</th>\n",
       "      <th>Team</th>\n",
       "    </tr>\n",
       "  </thead>\n",
       "  <tbody>\n",
       "    <tr>\n",
       "      <th>1</th>\n",
       "      <td>Thomas</td>\n",
       "      <td>Male</td>\n",
       "      <td>1996-03-31</td>\n",
       "      <td>61933.0</td>\n",
       "      <td>True</td>\n",
       "      <td>NaN</td>\n",
       "    </tr>\n",
       "    <tr>\n",
       "      <th>2</th>\n",
       "      <td>Maria</td>\n",
       "      <td>Female</td>\n",
       "      <td>NaT</td>\n",
       "      <td>130590.0</td>\n",
       "      <td>False</td>\n",
       "      <td>Finance</td>\n",
       "    </tr>\n",
       "    <tr>\n",
       "      <th>3</th>\n",
       "      <td>Jerry</td>\n",
       "      <td>NaN</td>\n",
       "      <td>2005-03-04</td>\n",
       "      <td>138705.0</td>\n",
       "      <td>True</td>\n",
       "      <td>Finance</td>\n",
       "    </tr>\n",
       "    <tr>\n",
       "      <th>4</th>\n",
       "      <td>Larry</td>\n",
       "      <td>Male</td>\n",
       "      <td>1998-01-24</td>\n",
       "      <td>101004.0</td>\n",
       "      <td>True</td>\n",
       "      <td>IT</td>\n",
       "    </tr>\n",
       "    <tr>\n",
       "      <th>6</th>\n",
       "      <td>Ruby</td>\n",
       "      <td>Female</td>\n",
       "      <td>1987-08-17</td>\n",
       "      <td>65476.0</td>\n",
       "      <td>True</td>\n",
       "      <td>Product</td>\n",
       "    </tr>\n",
       "    <tr>\n",
       "      <th>...</th>\n",
       "      <td>...</td>\n",
       "      <td>...</td>\n",
       "      <td>...</td>\n",
       "      <td>...</td>\n",
       "      <td>...</td>\n",
       "      <td>...</td>\n",
       "    </tr>\n",
       "    <tr>\n",
       "      <th>996</th>\n",
       "      <td>Phillip</td>\n",
       "      <td>Male</td>\n",
       "      <td>1984-01-31</td>\n",
       "      <td>42392.0</td>\n",
       "      <td>False</td>\n",
       "      <td>Finance</td>\n",
       "    </tr>\n",
       "    <tr>\n",
       "      <th>997</th>\n",
       "      <td>Russell</td>\n",
       "      <td>Male</td>\n",
       "      <td>2013-05-20</td>\n",
       "      <td>96914.0</td>\n",
       "      <td>False</td>\n",
       "      <td>Product</td>\n",
       "    </tr>\n",
       "    <tr>\n",
       "      <th>998</th>\n",
       "      <td>Larry</td>\n",
       "      <td>Male</td>\n",
       "      <td>2013-04-20</td>\n",
       "      <td>60500.0</td>\n",
       "      <td>False</td>\n",
       "      <td>Business Dev</td>\n",
       "    </tr>\n",
       "    <tr>\n",
       "      <th>999</th>\n",
       "      <td>Albert</td>\n",
       "      <td>Male</td>\n",
       "      <td>2012-05-15</td>\n",
       "      <td>129949.0</td>\n",
       "      <td>True</td>\n",
       "      <td>Sales</td>\n",
       "    </tr>\n",
       "    <tr>\n",
       "      <th>1000</th>\n",
       "      <td>NaN</td>\n",
       "      <td>NaN</td>\n",
       "      <td>NaT</td>\n",
       "      <td>NaN</td>\n",
       "      <td>NaN</td>\n",
       "      <td>NaN</td>\n",
       "    </tr>\n",
       "  </tbody>\n",
       "</table>\n",
       "<p>999 rows × 6 columns</p>\n",
       "</div>"
      ],
      "text/plain": [
       "     First Name  Gender Start Date    Salary   Mgmt          Team\n",
       "1        Thomas    Male 1996-03-31   61933.0   True           NaN\n",
       "2         Maria  Female        NaT  130590.0  False       Finance\n",
       "3         Jerry     NaN 2005-03-04  138705.0   True       Finance\n",
       "4         Larry    Male 1998-01-24  101004.0   True            IT\n",
       "6          Ruby  Female 1987-08-17   65476.0   True       Product\n",
       "...         ...     ...        ...       ...    ...           ...\n",
       "996     Phillip    Male 1984-01-31   42392.0  False       Finance\n",
       "997     Russell    Male 2013-05-20   96914.0  False       Product\n",
       "998       Larry    Male 2013-04-20   60500.0  False  Business Dev\n",
       "999      Albert    Male 2012-05-15  129949.0   True         Sales\n",
       "1000        NaN     NaN        NaT       NaN    NaN           NaN\n",
       "\n",
       "[999 rows x 6 columns]"
      ]
     },
     "execution_count": 147,
     "metadata": {},
     "output_type": "execute_result"
    }
   ],
   "source": [
    "empDF.drop([0,5]) #inplace parameter 존재-> 원본 삭제 x"
   ]
  },
  {
   "cell_type": "code",
   "execution_count": 150,
   "id": "c9107e3c-15a3-4268-9ec7-18a05673b3fa",
   "metadata": {},
   "outputs": [
    {
     "name": "stderr",
     "output_type": "stream",
     "text": [
      "<>:2: SyntaxWarning: list indices must be integers or slices, not str; perhaps you missed a comma?\n",
      "<>:2: SyntaxWarning: list indices must be integers or slices, not str; perhaps you missed a comma?\n",
      "C:\\Users\\kdp\\AppData\\Local\\Temp\\ipykernel_9604\\236026349.py:2: SyntaxWarning: list indices must be integers or slices, not str; perhaps you missed a comma?\n",
      "  empDF.drop(['Gender']['Team'], axis = 'columns')\n",
      "C:\\Users\\kdp\\AppData\\Local\\Temp\\ipykernel_9604\\236026349.py:2: SyntaxWarning: list indices must be integers or slices, not str; perhaps you missed a comma?\n",
      "  empDF.drop(['Gender']['Team'], axis = 'columns')\n",
      "C:\\Users\\kdp\\AppData\\Local\\Temp\\ipykernel_9604\\236026349.py:2: SyntaxWarning: list indices must be integers or slices, not str; perhaps you missed a comma?\n",
      "  empDF.drop(['Gender']['Team'], axis = 'columns')\n"
     ]
    },
    {
     "ename": "TypeError",
     "evalue": "list indices must be integers or slices, not str",
     "output_type": "error",
     "traceback": [
      "\u001b[1;31m---------------------------------------------------------------------------\u001b[0m",
      "\u001b[1;31mTypeError\u001b[0m                                 Traceback (most recent call last)",
      "Cell \u001b[1;32mIn[150], line 2\u001b[0m\n\u001b[0;32m      1\u001b[0m \u001b[38;5;66;03m#gender, team column 삭제\u001b[39;00m\n\u001b[1;32m----> 2\u001b[0m empDF\u001b[38;5;241m.\u001b[39mdrop(\u001b[43m[\u001b[49m\u001b[38;5;124;43m'\u001b[39;49m\u001b[38;5;124;43mGender\u001b[39;49m\u001b[38;5;124;43m'\u001b[39;49m\u001b[43m]\u001b[49m\u001b[43m[\u001b[49m\u001b[38;5;124;43m'\u001b[39;49m\u001b[38;5;124;43mTeam\u001b[39;49m\u001b[38;5;124;43m'\u001b[39;49m\u001b[43m]\u001b[49m, axis \u001b[38;5;241m=\u001b[39m \u001b[38;5;124m'\u001b[39m\u001b[38;5;124mcolumns\u001b[39m\u001b[38;5;124m'\u001b[39m)\n",
      "\u001b[1;31mTypeError\u001b[0m: list indices must be integers or slices, not str"
     ]
    }
   ],
   "source": [
    "#gender, team column 삭제\n",
    "empDF.drop(['Gender']['Team'], axis = 'columns')"
   ]
  },
  {
   "cell_type": "markdown",
   "id": "14366677-11f7-42ec-8db6-dda6fc1696b7",
   "metadata": {},
   "source": [
    "- DF.dropna(): na(빈칸) 삭제"
   ]
  },
  {
   "cell_type": "code",
   "execution_count": 154,
   "id": "0892d86d-4f1d-4242-aaec-cd95ecbe5b2d",
   "metadata": {},
   "outputs": [],
   "source": [
    "empDF2 = empDF.dropna()"
   ]
  },
  {
   "cell_type": "code",
   "execution_count": 156,
   "id": "911f8711-9374-4f23-bdee-24128a97910d",
   "metadata": {},
   "outputs": [
    {
     "name": "stdout",
     "output_type": "stream",
     "text": [
      "<class 'pandas.core.frame.DataFrame'>\n",
      "Index: 761 entries, 4 to 999\n",
      "Data columns (total 6 columns):\n",
      " #   Column      Non-Null Count  Dtype         \n",
      "---  ------      --------------  -----         \n",
      " 0   First Name  761 non-null    object        \n",
      " 1   Gender      761 non-null    object        \n",
      " 2   Start Date  761 non-null    datetime64[ns]\n",
      " 3   Salary      761 non-null    float64       \n",
      " 4   Mgmt        761 non-null    object        \n",
      " 5   Team        761 non-null    object        \n",
      "dtypes: datetime64[ns](1), float64(1), object(4)\n",
      "memory usage: 41.6+ KB\n"
     ]
    }
   ],
   "source": [
    "empDF2.info()"
   ]
  },
  {
   "cell_type": "markdown",
   "id": "a7bb7bb4-81c1-4899-8c30-be6f52bb0260",
   "metadata": {},
   "source": [
    "- how parameter"
   ]
  },
  {
   "cell_type": "code",
   "execution_count": null,
   "id": "00177910-bef5-4b05-b0fd-61ee3f82b363",
   "metadata": {},
   "outputs": [],
   "source": []
  }
 ],
 "metadata": {
  "kernelspec": {
   "display_name": "Python 3 (ipykernel)",
   "language": "python",
   "name": "python3"
  },
  "language_info": {
   "codemirror_mode": {
    "name": "ipython",
    "version": 3
   },
   "file_extension": ".py",
   "mimetype": "text/x-python",
   "name": "python",
   "nbconvert_exporter": "python",
   "pygments_lexer": "ipython3",
   "version": "3.8.18"
  }
 },
 "nbformat": 4,
 "nbformat_minor": 5
}
