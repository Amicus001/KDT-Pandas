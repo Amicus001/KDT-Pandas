{
 "cells": [
  {
   "cell_type": "markdown",
   "id": "072fe200-e46b-41fb-afdb-f09f9792c296",
   "metadata": {},
   "source": [
    "## [HTML을 DataFrame으로 저장하기]"
   ]
  },
  {
   "cell_type": "markdown",
   "id": "2f4a0242-a70e-4f3a-ae40-c3a3d680393d",
   "metadata": {},
   "source": [
    "(1) 모듈 로딩<hr>"
   ]
  },
  {
   "cell_type": "code",
   "execution_count": 3,
   "id": "9d69d2b0-ce75-49f8-9cf1-863cfebe5c17",
   "metadata": {},
   "outputs": [],
   "source": [
    "import pandas as pd"
   ]
  },
  {
   "cell_type": "markdown",
   "id": "01460022-be94-43cf-9d3f-f5d903a68762",
   "metadata": {},
   "source": [
    "(2) 데이터 준비 <hr>"
   ]
  },
  {
   "cell_type": "code",
   "execution_count": 4,
   "id": "54ab987c-0a92-458d-a587-a0d0a7599e71",
   "metadata": {},
   "outputs": [],
   "source": [
    "file = '../DATA/test.html'"
   ]
  },
  {
   "cell_type": "markdown",
   "id": "1f0a6f6f-8b38-4366-884c-f155efad794c",
   "metadata": {},
   "source": [
    "(3) HTML-> DataFrame으로 저장"
   ]
  },
  {
   "cell_type": "code",
   "execution_count": 5,
   "id": "86b1e1ea-1b23-4fee-914f-6f7ce52b58b5",
   "metadata": {},
   "outputs": [],
   "source": [
    "testDF =pd.read_html(file)"
   ]
  },
  {
   "cell_type": "code",
   "execution_count": 6,
   "id": "d7c1f8c0-844a-4c92-98ae-1b3ab9a2f9e3",
   "metadata": {},
   "outputs": [],
   "source": [
    "import lxml"
   ]
  },
  {
   "cell_type": "code",
   "execution_count": 7,
   "id": "f01b92c9-b2cd-45de-8a33-ddf4c76e9175",
   "metadata": {},
   "outputs": [
    {
     "data": {
      "text/plain": [
       "list"
      ]
     },
     "execution_count": 7,
     "metadata": {},
     "output_type": "execute_result"
    }
   ],
   "source": [
    "type(testDF)"
   ]
  },
  {
   "cell_type": "code",
   "execution_count": null,
   "id": "53fd7aae-b035-401b-840a-1d2f908ec9f4",
   "metadata": {},
   "outputs": [],
   "source": []
  }
 ],
 "metadata": {
  "kernelspec": {
   "display_name": "Python 3 (ipykernel)",
   "language": "python",
   "name": "python3"
  },
  "language_info": {
   "codemirror_mode": {
    "name": "ipython",
    "version": 3
   },
   "file_extension": ".py",
   "mimetype": "text/x-python",
   "name": "python",
   "nbconvert_exporter": "python",
   "pygments_lexer": "ipython3",
   "version": "3.8.18"
  }
 },
 "nbformat": 4,
 "nbformat_minor": 5
}
