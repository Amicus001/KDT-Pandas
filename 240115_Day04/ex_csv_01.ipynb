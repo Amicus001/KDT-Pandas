{
 "cells": [
  {
   "cell_type": "markdown",
   "id": "7f81426b-a09b-414b-8b70-c09a15ee7201",
   "metadata": {},
   "source": [
    "## [CSV 데이터파일 다루기]"
   ]
  },
  {
   "cell_type": "markdown",
   "id": "d142b3f3-f601-4b91-a14c-988543fe3da8",
   "metadata": {},
   "source": [
    "(1) 모듈 로딩<hr>"
   ]
  },
  {
   "cell_type": "code",
   "execution_count": 43,
   "id": "6acfa119-15b1-4a5e-80f4-4c29fb25d8a0",
   "metadata": {},
   "outputs": [],
   "source": [
    "import pandas as pd"
   ]
  },
  {
   "cell_type": "markdown",
   "id": "cac9e11c-a42b-4e43-b802-3f55e8b7ed1e",
   "metadata": {},
   "source": [
    "(2) 데이터 준비<hr>"
   ]
  },
  {
   "cell_type": "markdown",
   "id": "4a2873d7-553e-449f-bee7-7d5ed4977a05",
   "metadata": {},
   "source": [
    "- 파일이름 = 경로 + 파일명\n",
    "- 경로 = 2가지 종류\n",
    "  * 절대경로 : 드라이브부터 파일까지의 전체 경로(ex: C:\\Users\\data\\a.txt)\n",
    "  * 상대경로 : 현재 파일을 기준으로 경로 설정'\n",
    "      * ./ : 현재 위치(ex: ./a.txt) <- 현재 파일과 동일한 폴더/위치에 존재\n",
    "      * ../ : 한 단계 위로 의미(ex: ../data/b.csv ) <- 현재 파일이 존재하는 폴더 밖에 존재하는 파일"
   ]
  },
  {
   "cell_type": "code",
   "execution_count": 44,
   "id": "313b2c29-bcc8-4223-847f-e48e7f5e0712",
   "metadata": {},
   "outputs": [],
   "source": [
    "file= './test.csv' # = (file ='test.txt')"
   ]
  },
  {
   "cell_type": "code",
   "execution_count": 45,
   "id": "974f3cdd-8ea1-4a25-8c0b-fb2291a5ab4c",
   "metadata": {},
   "outputs": [],
   "source": [
    "file2 = '../DATA/movies.csv'"
   ]
  },
  {
   "cell_type": "markdown",
   "id": "491c7377-3053-4bee-823c-c7edf556137b",
   "metadata": {},
   "source": [
    "(3) 데이터 저장 : CSV -> DataFrame<hr>"
   ]
  },
  {
   "cell_type": "code",
   "execution_count": 46,
   "id": "3bb4ffb4-82be-493e-86f3-202a36d90c87",
   "metadata": {},
   "outputs": [],
   "source": [
    "movieDF = pd.read_csv(file2)"
   ]
  },
  {
   "cell_type": "markdown",
   "id": "4de04140-97f7-4ad1-a180-fe59d052cd56",
   "metadata": {},
   "source": [
    "(4) 데이터 확인<hr>\n",
    "\n"
   ]
  },
  {
   "cell_type": "code",
   "execution_count": 47,
   "id": "f3ec2bd2-7730-4484-8885-4622aec6b85c",
   "metadata": {},
   "outputs": [
    {
     "name": "stdout",
     "output_type": "stream",
     "text": [
      "<class 'pandas.core.frame.DataFrame'>\n",
      "RangeIndex: 782 entries, 0 to 781\n",
      "Data columns (total 5 columns):\n",
      " #   Column  Non-Null Count  Dtype \n",
      "---  ------  --------------  ----- \n",
      " 0   Rank    782 non-null    int64 \n",
      " 1   Title   782 non-null    object\n",
      " 2   Studio  782 non-null    object\n",
      " 3   Gross   782 non-null    object\n",
      " 4   Year    782 non-null    int64 \n",
      "dtypes: int64(2), object(3)\n",
      "memory usage: 30.7+ KB\n"
     ]
    }
   ],
   "source": [
    "#전체적인 데이터 정보 확인 : info() method\n",
    "movieDF.info()"
   ]
  },
  {
   "cell_type": "code",
   "execution_count": 48,
   "id": "ffe8f4c5-47e4-4555-a399-8433c3e2ea1a",
   "metadata": {},
   "outputs": [
    {
     "data": {
      "text/plain": [
       "<bound method NDFrame.tail of      Rank                         Title           Studio       Gross  Year\n",
       "0       1             Avengers: Endgame      Buena Vista  $2,796.30   2019\n",
       "1       2                        Avatar              Fox  $2,789.70   2009\n",
       "2       3                       Titanic        Paramount  $2,187.50   1997\n",
       "3       4  Star Wars: The Force Awakens      Buena Vista  $2,068.20   2015\n",
       "4       5        Avengers: Infinity War      Buena Vista  $2,048.40   2018\n",
       "..    ...                           ...              ...         ...   ...\n",
       "777   778                     Yogi Bear  Warner Brothers    $201.60   2010\n",
       "778   779           Garfield: The Movie              Fox    $200.80   2004\n",
       "779   780                   Cats & Dogs  Warner Brothers    $200.70   2001\n",
       "780   781      The Hunt for Red October        Paramount    $200.50   1990\n",
       "781   782                      Valkyrie              MGM    $200.30   2008\n",
       "\n",
       "[782 rows x 5 columns]>"
      ]
     },
     "execution_count": 48,
     "metadata": {},
     "output_type": "execute_result"
    }
   ],
   "source": [
    "# 실제 저장된 데이터 확인: head(), tail()\n",
    "movieDF.head\n",
    "movieDF.tail"
   ]
  },
  {
   "cell_type": "markdown",
   "id": "c4afb7d6-4202-4a78-aaa9-3c76f2f441af",
   "metadata": {},
   "source": [
    "(5)read_csv 파일 매개변수 살펴보기<hr>"
   ]
  },
  {
   "cell_type": "markdown",
   "id": "ab0398df-39f3-4b02-bdbb-91a013654121",
   "metadata": {},
   "source": [
    "- header parameter : DataFrame의 컬럼명 설정.\n",
    "    * 기본값: CSV파일의 첫 번째 줄의 데이터를 컬럼명으로 설정.\n",
    "    * None 설정시 csv라인이 컬럼명이 아님 의미 =>컬럼명 미지정.\n",
    "    * 번호 지정시 해당하는 행번호의 데이터가 헤더가 됨. (그 이전 행 데이터는 사라짐)"
   ]
  },
  {
   "cell_type": "code",
   "execution_count": 49,
   "id": "b3c94509-c571-4784-b6ea-91b6de90f8ee",
   "metadata": {},
   "outputs": [
    {
     "data": {
      "text/html": [
       "<div>\n",
       "<style scoped>\n",
       "    .dataframe tbody tr th:only-of-type {\n",
       "        vertical-align: middle;\n",
       "    }\n",
       "\n",
       "    .dataframe tbody tr th {\n",
       "        vertical-align: top;\n",
       "    }\n",
       "\n",
       "    .dataframe thead th {\n",
       "        text-align: right;\n",
       "    }\n",
       "</style>\n",
       "<table border=\"1\" class=\"dataframe\">\n",
       "  <thead>\n",
       "    <tr style=\"text-align: right;\">\n",
       "      <th></th>\n",
       "      <th>0</th>\n",
       "      <th>1</th>\n",
       "      <th>2</th>\n",
       "      <th>3</th>\n",
       "      <th>4</th>\n",
       "    </tr>\n",
       "  </thead>\n",
       "  <tbody>\n",
       "    <tr>\n",
       "      <th>0</th>\n",
       "      <td>Rank</td>\n",
       "      <td>Title</td>\n",
       "      <td>Studio</td>\n",
       "      <td>Gross</td>\n",
       "      <td>Year</td>\n",
       "    </tr>\n",
       "    <tr>\n",
       "      <th>1</th>\n",
       "      <td>1</td>\n",
       "      <td>Avengers: Endgame</td>\n",
       "      <td>Buena Vista</td>\n",
       "      <td>$2,796.30</td>\n",
       "      <td>2019</td>\n",
       "    </tr>\n",
       "    <tr>\n",
       "      <th>2</th>\n",
       "      <td>2</td>\n",
       "      <td>Avatar</td>\n",
       "      <td>Fox</td>\n",
       "      <td>$2,789.70</td>\n",
       "      <td>2009</td>\n",
       "    </tr>\n",
       "    <tr>\n",
       "      <th>3</th>\n",
       "      <td>3</td>\n",
       "      <td>Titanic</td>\n",
       "      <td>Paramount</td>\n",
       "      <td>$2,187.50</td>\n",
       "      <td>1997</td>\n",
       "    </tr>\n",
       "    <tr>\n",
       "      <th>4</th>\n",
       "      <td>4</td>\n",
       "      <td>Star Wars: The Force Awakens</td>\n",
       "      <td>Buena Vista</td>\n",
       "      <td>$2,068.20</td>\n",
       "      <td>2015</td>\n",
       "    </tr>\n",
       "    <tr>\n",
       "      <th>...</th>\n",
       "      <td>...</td>\n",
       "      <td>...</td>\n",
       "      <td>...</td>\n",
       "      <td>...</td>\n",
       "      <td>...</td>\n",
       "    </tr>\n",
       "    <tr>\n",
       "      <th>778</th>\n",
       "      <td>778</td>\n",
       "      <td>Yogi Bear</td>\n",
       "      <td>Warner Brothers</td>\n",
       "      <td>$201.60</td>\n",
       "      <td>2010</td>\n",
       "    </tr>\n",
       "    <tr>\n",
       "      <th>779</th>\n",
       "      <td>779</td>\n",
       "      <td>Garfield: The Movie</td>\n",
       "      <td>Fox</td>\n",
       "      <td>$200.80</td>\n",
       "      <td>2004</td>\n",
       "    </tr>\n",
       "    <tr>\n",
       "      <th>780</th>\n",
       "      <td>780</td>\n",
       "      <td>Cats &amp; Dogs</td>\n",
       "      <td>Warner Brothers</td>\n",
       "      <td>$200.70</td>\n",
       "      <td>2001</td>\n",
       "    </tr>\n",
       "    <tr>\n",
       "      <th>781</th>\n",
       "      <td>781</td>\n",
       "      <td>The Hunt for Red October</td>\n",
       "      <td>Paramount</td>\n",
       "      <td>$200.50</td>\n",
       "      <td>1990</td>\n",
       "    </tr>\n",
       "    <tr>\n",
       "      <th>782</th>\n",
       "      <td>782</td>\n",
       "      <td>Valkyrie</td>\n",
       "      <td>MGM</td>\n",
       "      <td>$200.30</td>\n",
       "      <td>2008</td>\n",
       "    </tr>\n",
       "  </tbody>\n",
       "</table>\n",
       "<p>783 rows × 5 columns</p>\n",
       "</div>"
      ],
      "text/plain": [
       "        0                             1                2           3     4\n",
       "0    Rank                         Title           Studio       Gross  Year\n",
       "1       1             Avengers: Endgame      Buena Vista  $2,796.30   2019\n",
       "2       2                        Avatar              Fox  $2,789.70   2009\n",
       "3       3                       Titanic        Paramount  $2,187.50   1997\n",
       "4       4  Star Wars: The Force Awakens      Buena Vista  $2,068.20   2015\n",
       "..    ...                           ...              ...         ...   ...\n",
       "778   778                     Yogi Bear  Warner Brothers    $201.60   2010\n",
       "779   779           Garfield: The Movie              Fox    $200.80   2004\n",
       "780   780                   Cats & Dogs  Warner Brothers    $200.70   2001\n",
       "781   781      The Hunt for Red October        Paramount    $200.50   1990\n",
       "782   782                      Valkyrie              MGM    $200.30   2008\n",
       "\n",
       "[783 rows x 5 columns]"
      ]
     },
     "execution_count": 49,
     "metadata": {},
     "output_type": "execute_result"
    }
   ],
   "source": [
    "pd.read_csv(file2, header = None) #맨 윗줄을 column명으로 쓰지 않고 데이터로 가지고 오기."
   ]
  },
  {
   "cell_type": "markdown",
   "id": "68c20f39-326d-4f10-97ad-51b6e865bbea",
   "metadata": {},
   "source": [
    "- index_col parameter: 컬럼 중 행 인덱스로 설정(set_index와 같은 역할 수행)"
   ]
  },
  {
   "cell_type": "code",
   "execution_count": 51,
   "id": "d7d0259a-c17c-4b28-9cbb-f532f36831ee",
   "metadata": {},
   "outputs": [
    {
     "data": {
      "text/html": [
       "<div>\n",
       "<style scoped>\n",
       "    .dataframe tbody tr th:only-of-type {\n",
       "        vertical-align: middle;\n",
       "    }\n",
       "\n",
       "    .dataframe tbody tr th {\n",
       "        vertical-align: top;\n",
       "    }\n",
       "\n",
       "    .dataframe thead th {\n",
       "        text-align: right;\n",
       "    }\n",
       "</style>\n",
       "<table border=\"1\" class=\"dataframe\">\n",
       "  <thead>\n",
       "    <tr style=\"text-align: right;\">\n",
       "      <th></th>\n",
       "      <th>Title</th>\n",
       "      <th>Studio</th>\n",
       "      <th>Gross</th>\n",
       "      <th>Year</th>\n",
       "    </tr>\n",
       "    <tr>\n",
       "      <th>Rank</th>\n",
       "      <th></th>\n",
       "      <th></th>\n",
       "      <th></th>\n",
       "      <th></th>\n",
       "    </tr>\n",
       "  </thead>\n",
       "  <tbody>\n",
       "    <tr>\n",
       "      <th>1</th>\n",
       "      <td>Avengers: Endgame</td>\n",
       "      <td>Buena Vista</td>\n",
       "      <td>$2,796.30</td>\n",
       "      <td>2019</td>\n",
       "    </tr>\n",
       "    <tr>\n",
       "      <th>2</th>\n",
       "      <td>Avatar</td>\n",
       "      <td>Fox</td>\n",
       "      <td>$2,789.70</td>\n",
       "      <td>2009</td>\n",
       "    </tr>\n",
       "    <tr>\n",
       "      <th>3</th>\n",
       "      <td>Titanic</td>\n",
       "      <td>Paramount</td>\n",
       "      <td>$2,187.50</td>\n",
       "      <td>1997</td>\n",
       "    </tr>\n",
       "    <tr>\n",
       "      <th>4</th>\n",
       "      <td>Star Wars: The Force Awakens</td>\n",
       "      <td>Buena Vista</td>\n",
       "      <td>$2,068.20</td>\n",
       "      <td>2015</td>\n",
       "    </tr>\n",
       "    <tr>\n",
       "      <th>5</th>\n",
       "      <td>Avengers: Infinity War</td>\n",
       "      <td>Buena Vista</td>\n",
       "      <td>$2,048.40</td>\n",
       "      <td>2018</td>\n",
       "    </tr>\n",
       "    <tr>\n",
       "      <th>...</th>\n",
       "      <td>...</td>\n",
       "      <td>...</td>\n",
       "      <td>...</td>\n",
       "      <td>...</td>\n",
       "    </tr>\n",
       "    <tr>\n",
       "      <th>778</th>\n",
       "      <td>Yogi Bear</td>\n",
       "      <td>Warner Brothers</td>\n",
       "      <td>$201.60</td>\n",
       "      <td>2010</td>\n",
       "    </tr>\n",
       "    <tr>\n",
       "      <th>779</th>\n",
       "      <td>Garfield: The Movie</td>\n",
       "      <td>Fox</td>\n",
       "      <td>$200.80</td>\n",
       "      <td>2004</td>\n",
       "    </tr>\n",
       "    <tr>\n",
       "      <th>780</th>\n",
       "      <td>Cats &amp; Dogs</td>\n",
       "      <td>Warner Brothers</td>\n",
       "      <td>$200.70</td>\n",
       "      <td>2001</td>\n",
       "    </tr>\n",
       "    <tr>\n",
       "      <th>781</th>\n",
       "      <td>The Hunt for Red October</td>\n",
       "      <td>Paramount</td>\n",
       "      <td>$200.50</td>\n",
       "      <td>1990</td>\n",
       "    </tr>\n",
       "    <tr>\n",
       "      <th>782</th>\n",
       "      <td>Valkyrie</td>\n",
       "      <td>MGM</td>\n",
       "      <td>$200.30</td>\n",
       "      <td>2008</td>\n",
       "    </tr>\n",
       "  </tbody>\n",
       "</table>\n",
       "<p>782 rows × 4 columns</p>\n",
       "</div>"
      ],
      "text/plain": [
       "                             Title           Studio       Gross  Year\n",
       "Rank                                                                 \n",
       "1                Avengers: Endgame      Buena Vista  $2,796.30   2019\n",
       "2                           Avatar              Fox  $2,789.70   2009\n",
       "3                          Titanic        Paramount  $2,187.50   1997\n",
       "4     Star Wars: The Force Awakens      Buena Vista  $2,068.20   2015\n",
       "5           Avengers: Infinity War      Buena Vista  $2,048.40   2018\n",
       "...                            ...              ...         ...   ...\n",
       "778                      Yogi Bear  Warner Brothers    $201.60   2010\n",
       "779            Garfield: The Movie              Fox    $200.80   2004\n",
       "780                    Cats & Dogs  Warner Brothers    $200.70   2001\n",
       "781       The Hunt for Red October        Paramount    $200.50   1990\n",
       "782                       Valkyrie              MGM    $200.30   2008\n",
       "\n",
       "[782 rows x 4 columns]"
      ]
     },
     "execution_count": 51,
     "metadata": {},
     "output_type": "execute_result"
    }
   ],
   "source": [
    "pd.read_csv(file2, index_col = ['Rank','Title'] ) #multi - index\n",
    "pd.read_csv(file2, index_col = 'Rank') #single - index"
   ]
  },
  {
   "cell_type": "markdown",
   "id": "1fafad30-50b8-47d1-8cec-e34ed0925c36",
   "metadata": {},
   "source": [
    "- sep / delimiter : CSV파일에서 데이터구분자 설정\n",
    "  * 기본값 : ','"
   ]
  },
  {
   "cell_type": "code",
   "execution_count": 52,
   "id": "ab058981-7641-4803-8c3b-211fdf681701",
   "metadata": {},
   "outputs": [
    {
     "data": {
      "text/html": [
       "<div>\n",
       "<style scoped>\n",
       "    .dataframe tbody tr th:only-of-type {\n",
       "        vertical-align: middle;\n",
       "    }\n",
       "\n",
       "    .dataframe tbody tr th {\n",
       "        vertical-align: top;\n",
       "    }\n",
       "\n",
       "    .dataframe thead th {\n",
       "        text-align: right;\n",
       "    }\n",
       "</style>\n",
       "<table border=\"1\" class=\"dataframe\">\n",
       "  <thead>\n",
       "    <tr style=\"text-align: right;\">\n",
       "      <th></th>\n",
       "      <th>0</th>\n",
       "      <th>1</th>\n",
       "      <th>2</th>\n",
       "      <th>3</th>\n",
       "    </tr>\n",
       "  </thead>\n",
       "  <tbody>\n",
       "    <tr>\n",
       "      <th>0</th>\n",
       "      <td>10</td>\n",
       "      <td>20</td>\n",
       "      <td>30</td>\n",
       "      <td>40</td>\n",
       "    </tr>\n",
       "    <tr>\n",
       "      <th>1</th>\n",
       "      <td>1</td>\n",
       "      <td>2</td>\n",
       "      <td>3</td>\n",
       "      <td>4</td>\n",
       "    </tr>\n",
       "    <tr>\n",
       "      <th>2</th>\n",
       "      <td>11</td>\n",
       "      <td>22</td>\n",
       "      <td>33</td>\n",
       "      <td>44</td>\n",
       "    </tr>\n",
       "  </tbody>\n",
       "</table>\n",
       "</div>"
      ],
      "text/plain": [
       "    0   1   2   3\n",
       "0  10  20  30  40\n",
       "1   1   2   3   4\n",
       "2  11  22  33  44"
      ]
     },
     "execution_count": 52,
     "metadata": {},
     "output_type": "execute_result"
    }
   ],
   "source": [
    "pd.read_csv(file, header = None, sep = ';') "
   ]
  },
  {
   "cell_type": "markdown",
   "id": "77882a81-699b-4612-9d64-a45e13c8c100",
   "metadata": {},
   "source": [
    "- skiprows parameter: csv파일에서 읽어들이지 않을 행 갯수 지정(앞부분)"
   ]
  },
  {
   "cell_type": "code",
   "execution_count": 58,
   "id": "17f95fee-d7de-4371-9c2a-02d9b55aaf6e",
   "metadata": {},
   "outputs": [
    {
     "data": {
      "text/html": [
       "<div>\n",
       "<style scoped>\n",
       "    .dataframe tbody tr th:only-of-type {\n",
       "        vertical-align: middle;\n",
       "    }\n",
       "\n",
       "    .dataframe tbody tr th {\n",
       "        vertical-align: top;\n",
       "    }\n",
       "\n",
       "    .dataframe thead th {\n",
       "        text-align: right;\n",
       "    }\n",
       "</style>\n",
       "<table border=\"1\" class=\"dataframe\">\n",
       "  <thead>\n",
       "    <tr style=\"text-align: right;\">\n",
       "      <th></th>\n",
       "      <th>0</th>\n",
       "      <th>1</th>\n",
       "      <th>2</th>\n",
       "      <th>3</th>\n",
       "    </tr>\n",
       "  </thead>\n",
       "  <tbody>\n",
       "    <tr>\n",
       "      <th>0</th>\n",
       "      <td>10</td>\n",
       "      <td>20</td>\n",
       "      <td>30</td>\n",
       "      <td>40</td>\n",
       "    </tr>\n",
       "    <tr>\n",
       "      <th>1</th>\n",
       "      <td>1</td>\n",
       "      <td>2</td>\n",
       "      <td>3</td>\n",
       "      <td>4</td>\n",
       "    </tr>\n",
       "    <tr>\n",
       "      <th>2</th>\n",
       "      <td>11</td>\n",
       "      <td>22</td>\n",
       "      <td>33</td>\n",
       "      <td>44</td>\n",
       "    </tr>\n",
       "  </tbody>\n",
       "</table>\n",
       "</div>"
      ],
      "text/plain": [
       "    0   1   2   3\n",
       "0  10  20  30  40\n",
       "1   1   2   3   4\n",
       "2  11  22  33  44"
      ]
     },
     "execution_count": 58,
     "metadata": {},
     "output_type": "execute_result"
    }
   ],
   "source": [
    "pd.read_csv(file, sep = ';', skiprows = 2, header = None) "
   ]
  },
  {
   "cell_type": "markdown",
   "id": "818f404c-7cf1-4c95-9745-c4750ab93519",
   "metadata": {},
   "source": [
    "- skipfooter = 맨 밑에 줄을 등호 뒤에 오는 숫자만큼 출력 안 해주기(뒷부분)"
   ]
  },
  {
   "cell_type": "code",
   "execution_count": 61,
   "id": "2e8b6fff-ef71-4fdd-b777-1186c9fcef72",
   "metadata": {},
   "outputs": [
    {
     "data": {
      "text/html": [
       "<div>\n",
       "<style scoped>\n",
       "    .dataframe tbody tr th:only-of-type {\n",
       "        vertical-align: middle;\n",
       "    }\n",
       "\n",
       "    .dataframe tbody tr th {\n",
       "        vertical-align: top;\n",
       "    }\n",
       "\n",
       "    .dataframe thead th {\n",
       "        text-align: right;\n",
       "    }\n",
       "</style>\n",
       "<table border=\"1\" class=\"dataframe\">\n",
       "  <thead>\n",
       "    <tr style=\"text-align: right;\">\n",
       "      <th></th>\n",
       "      <th>0</th>\n",
       "      <th>1</th>\n",
       "      <th>2</th>\n",
       "      <th>3</th>\n",
       "    </tr>\n",
       "  </thead>\n",
       "  <tbody>\n",
       "    <tr>\n",
       "      <th>0</th>\n",
       "      <td>10</td>\n",
       "      <td>20</td>\n",
       "      <td>30</td>\n",
       "      <td>40</td>\n",
       "    </tr>\n",
       "    <tr>\n",
       "      <th>1</th>\n",
       "      <td>1</td>\n",
       "      <td>2</td>\n",
       "      <td>3</td>\n",
       "      <td>4</td>\n",
       "    </tr>\n",
       "  </tbody>\n",
       "</table>\n",
       "</div>"
      ],
      "text/plain": [
       "    0   1   2   3\n",
       "0  10  20  30  40\n",
       "1   1   2   3   4"
      ]
     },
     "execution_count": 61,
     "metadata": {},
     "output_type": "execute_result"
    }
   ],
   "source": [
    "pd.read_csv(file, sep = ';', skiprows = 2, header = None, skipfooter = 1, engine = 'python') #판다스 엔진에서는 스킵푸터를 지원하지 않으므로 다른 엔진으로 지정해줘야 "
   ]
  },
  {
   "cell_type": "markdown",
   "id": "81ff8e65-d0e4-44ff-a3e6-61e768d60b16",
   "metadata": {},
   "source": [
    " - usecols : 컬럼에서 특정 컬럼만 선택하여 로딩하기\n",
    "   * usecols = [0, 2, ...]\n",
    "   * usecols = [columnName1,columnName2, ...]"
   ]
  },
  {
   "cell_type": "code",
   "execution_count": 65,
   "id": "540624b9-3d4a-4995-a264-775cd4a038d8",
   "metadata": {},
   "outputs": [
    {
     "data": {
      "text/html": [
       "<div>\n",
       "<style scoped>\n",
       "    .dataframe tbody tr th:only-of-type {\n",
       "        vertical-align: middle;\n",
       "    }\n",
       "\n",
       "    .dataframe tbody tr th {\n",
       "        vertical-align: top;\n",
       "    }\n",
       "\n",
       "    .dataframe thead th {\n",
       "        text-align: right;\n",
       "    }\n",
       "</style>\n",
       "<table border=\"1\" class=\"dataframe\">\n",
       "  <thead>\n",
       "    <tr style=\"text-align: right;\">\n",
       "      <th></th>\n",
       "      <th>0</th>\n",
       "      <th>2</th>\n",
       "    </tr>\n",
       "  </thead>\n",
       "  <tbody>\n",
       "    <tr>\n",
       "      <th>0</th>\n",
       "      <td>10</td>\n",
       "      <td>30</td>\n",
       "    </tr>\n",
       "    <tr>\n",
       "      <th>1</th>\n",
       "      <td>1</td>\n",
       "      <td>3</td>\n",
       "    </tr>\n",
       "    <tr>\n",
       "      <th>2</th>\n",
       "      <td>11</td>\n",
       "      <td>33</td>\n",
       "    </tr>\n",
       "  </tbody>\n",
       "</table>\n",
       "</div>"
      ],
      "text/plain": [
       "    0   2\n",
       "0  10  30\n",
       "1   1   3\n",
       "2  11  33"
      ]
     },
     "execution_count": 65,
     "metadata": {},
     "output_type": "execute_result"
    }
   ],
   "source": [
    "pd.read_csv(file, sep = ';' ,skiprows = 3, header = None, usecols = [0,2])"
   ]
  },
  {
   "cell_type": "code",
   "execution_count": null,
   "id": "f0c705ea-15ec-4016-b9d6-171554b831b5",
   "metadata": {},
   "outputs": [],
   "source": []
  }
 ],
 "metadata": {
  "kernelspec": {
   "display_name": "Python 3 (ipykernel)",
   "language": "python",
   "name": "python3"
  },
  "language_info": {
   "codemirror_mode": {
    "name": "ipython",
    "version": 3
   },
   "file_extension": ".py",
   "mimetype": "text/x-python",
   "name": "python",
   "nbconvert_exporter": "python",
   "pygments_lexer": "ipython3",
   "version": "3.8.18"
  }
 },
 "nbformat": 4,
 "nbformat_minor": 5
}
