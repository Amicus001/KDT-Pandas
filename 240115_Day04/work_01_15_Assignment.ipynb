{
 "cells": [
  {
   "cell_type": "code",
   "execution_count": 1,
   "id": "b273ff14-7e12-4000-bc60-e4ed450f81f4",
   "metadata": {},
   "outputs": [],
   "source": [
    "import pandas as pd"
   ]
  },
  {
   "cell_type": "code",
   "execution_count": 2,
   "id": "29843fa7-a978-4d6d-a82d-daa524eb70a3",
   "metadata": {},
   "outputs": [],
   "source": [
    "file = \"../DATA/남북한발전전력량.xlsx\""
   ]
  },
  {
   "cell_type": "code",
   "execution_count": 7,
   "id": "92440d1a-2e03-407c-b50f-92c75971b943",
   "metadata": {},
   "outputs": [],
   "source": [
    "southNorth = pd.read_excel(file)"
   ]
  },
  {
   "cell_type": "code",
   "execution_count": 14,
   "id": "e4d2166d-f8f7-448e-a6fa-516e30be1cb3",
   "metadata": {},
   "outputs": [],
   "source": [
    "southNorth['총합'] = 'data'"
   ]
  },
  {
   "cell_type": "code",
   "execution_count": null,
   "id": "ff9b3377-9007-4b76-9705-47ecdfbb83d6",
   "metadata": {},
   "outputs": [],
   "source": [
    "south"
   ]
  }
 ],
 "metadata": {
  "kernelspec": {
   "display_name": "Python 3 (ipykernel)",
   "language": "python",
   "name": "python3"
  },
  "language_info": {
   "codemirror_mode": {
    "name": "ipython",
    "version": 3
   },
   "file_extension": ".py",
   "mimetype": "text/x-python",
   "name": "python",
   "nbconvert_exporter": "python",
   "pygments_lexer": "ipython3",
   "version": "3.8.18"
  }
 },
 "nbformat": 4,
 "nbformat_minor": 5
}
